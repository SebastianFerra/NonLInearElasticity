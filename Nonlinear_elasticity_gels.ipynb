{
 "cells": [
  {
   "cell_type": "markdown",
   "metadata": {},
   "source": [
    "# Free swelling using geometry"
   ]
  },
  {
   "cell_type": "code",
   "execution_count": 104,
   "metadata": {},
   "outputs": [],
   "source": [
    "import numpy as np\n",
    "import matplotlib.pyplot as plt\n",
    "\n",
    "from ngsolve import *\n",
    "from netgen.csg import *\n",
    "from ngsolve.webgui import Draw"
   ]
  },
  {
   "cell_type": "code",
   "execution_count": 105,
   "metadata": {},
   "outputs": [
    {
     "data": {
      "application/vnd.jupyter.widget-view+json": {
       "model_id": "3d7bb91576e14e35b8997b8f965c09e9",
       "version_major": 2,
       "version_minor": 0
      },
      "text/plain": [
       "WebGuiWidget(layout=Layout(height='500px', width='100%'), value={'gui_settings': {}, 'ngsolve_version': '6.2.2…"
      ]
     },
     "metadata": {},
     "output_type": "display_data"
    },
    {
     "name": "stdout",
     "output_type": "stream",
     "text": [
      "('left', 'bot', 'default', 'default', 'back', 'default')\n"
     ]
    }
   ],
   "source": [
    "# Geometry of 1/8 \n",
    "L = 90\n",
    "d = 23.5\n",
    "L3 = 3.0\n",
    "\n",
    "left  = Plane (Pnt(0,0,0), Vec(-1,0,0) ).bc('left')\n",
    "right = Plane (Pnt(0.5*L,0,0), Vec( 1,0,0) )\n",
    "bot = Plane (Pnt(0,0,0), Vec(0,-1,0) ).bc('bot')\n",
    "top  = Plane (Pnt(0,0.5*d,0), Vec(0, 1,0) )\n",
    "back   = Plane (Pnt(0,0,0), Vec(0,0,-1) ).bc('back')\n",
    "front   = Plane (Pnt(0,0,0.5*L3), Vec(0,0, 1) )\n",
    "\n",
    "brick = left * right * front * back * bot * top\n",
    "\n",
    "geo = CSGeometry()\n",
    "geo.Add (brick)\n",
    "mesh = Mesh(geo.GenerateMesh(maxh=1))\n",
    "Draw(mesh)\n",
    "print(mesh.GetBoundaries())"
   ]
  },
  {
   "cell_type": "markdown",
   "metadata": {},
   "source": [
    "# Parameters"
   ]
  },
  {
   "cell_type": "code",
   "execution_count": 106,
   "metadata": {},
   "outputs": [
    {
     "name": "stdout",
     "output_type": "stream",
     "text": [
      "gamma target: 0.001145522071527073\n",
      "shear modulus target: 0.15647831497059816\n",
      "lo que tiene que crecer: 11.515\n",
      "desplazamineto esperados: [22.05    5.7575  0.735 ]\n"
     ]
    }
   ],
   "source": [
    "global phi0\n",
    "#phi0 = 0.2035 # or 0.3\n",
    "phi0 = 0.3\n",
    "\n",
    "global chi \n",
    "chi = 0.45\n",
    "\n",
    "global entropic_unit\n",
    "entropic_unit=136.6   #This is (k_B * T)/(V_m), measured in Megapascals\n",
    "\n",
    "global G    #It is the shear modulus. Will be defined in the next script (next jupy cell).\n",
    "\n",
    "phi = lambda J: phi0/J\n",
    "dH = lambda J: (1-1/1000) * phi(J) + np.log(1-phi(J)) + chi * phi(J)**2\n",
    "\n",
    "#gammafun = lambda lamb: -dH(lamb)/lamb # bonded\n",
    "gammafun = lambda lamb: -dH(lamb**3)*lamb\n",
    "\n",
    "lambda_target = 1.49\n",
    "gamma_target = gammafun(lambda_target)\n",
    "G_target = gamma_target*entropic_unit\n",
    "print(\"gamma target:\", gamma_target)\n",
    "print(\"shear modulus target:\", G_target)\n",
    "\n",
    "print(\"lo que tiene que crecer:\", d*(lambda_target-1))\n",
    "G=G_target\n",
    "print( \"desplazamineto esperados:\", (lambda_target-1)/2*np.array([L,d,L3]) )\n",
    "#v = np.linspace(1,2,100)\n",
    "#plt.plot(v,gammafun(v)*entropic_unit)"
   ]
  },
  {
   "cell_type": "code",
   "execution_count": 107,
   "metadata": {},
   "outputs": [
    {
     "name": "stdout",
     "output_type": "stream",
     "text": [
      "0.001145522071527073\n"
     ]
    }
   ],
   "source": [
    "def F(u):\n",
    "    return Id(mesh.dim) + Grad(u)\n",
    "\n",
    "global gamma\n",
    "gamma = G/entropic_unit\n",
    "print(gamma)\n",
    "\n",
    "def Gels (F):\n",
    "    J = Det(F)\n",
    "    phi = phi0/J\n",
    "    H = (J - phi0)*log(1-phi)  + phi0 * chi*(1-phi) + phi0/1000*log(phi)\n",
    "    C = F.trans * F\n",
    "    return 0.5*gamma*(Trace(C)) + H"
   ]
  },
  {
   "cell_type": "code",
   "execution_count": 108,
   "metadata": {},
   "outputs": [],
   "source": [
    "# Finite element space with slipp boundary conditions on back|bot|left\n",
    "V = VectorH1(mesh, order=2, dirichletx = 'left', dirichlety='bot', dirichletz='back')\n",
    "\n",
    "# Construction of bilinear form\n",
    "u  = V.TrialFunction()\n",
    "I = Id(mesh.dim)\n",
    "F = I + Grad(u)\n",
    "a = BilinearForm(V)\n",
    "\n",
    "# hydrogel model\n",
    "a += Variation(  Gels (F).Compile() * dx)"
   ]
  },
  {
   "cell_type": "code",
   "execution_count": 156,
   "metadata": {},
   "outputs": [],
   "source": [
    "def Norm(vec):\n",
    "    return sqrt(abs(InnerProduct(vec,vec)))\n",
    "\n",
    "def backward_sub(U,x):\n",
    "    n = U.shape[0]\n",
    "    x = np.zeros(n)\n",
    "    for i in range(n-1,-1,-1):\n",
    "        x[i] = (U[i,-1] - np.dot(U[i,:-1],x))/U[i,i]\n",
    "    return x\n",
    "def SolveNonlinearMinProblem(a,gfu,tol=1e-08,maxits=250, m = 5, scenes=None):\n",
    "    res = gfu.vec.CreateVector()\n",
    "    du  = gfu.vec.CreateVector()\n",
    "    g = [res.FV().NumPy()[:]] # initialize with 0 \n",
    "    ### first iteration by hand\n",
    "    a.Apply (gfu.vec, res)\n",
    "    a.AssembleLinearization (gfu.vec)\n",
    "    inv = a.mat.Inverse(V.FreeDofs())\n",
    "    # x =x - D^-1 F * F\n",
    "    du.data = 0.5*inv * res\n",
    "\n",
    "    # gfu starts at 0!!\n",
    "\n",
    "    # check if need to transpose\n",
    "    x = np.array([gfu.vec.FV().NumPy()[:], -du.FV().NumPy()[:]]).T\n",
    "    print(x.shape)\n",
    "    # vector of residuals\n",
    "    g.append(res.FV().NumPy()[:])\n",
    "    g = np.array(g).T\n",
    "    # matrix of increments\n",
    "    G_k = np.array([g[:,1]-g[:,0]]).T\n",
    "    \n",
    "    \n",
    "    X_k = np.array([x[1]-x[0]])\n",
    "\n",
    "    k = 2\n",
    "    \n",
    "    while k < maxits:\n",
    "        m_k = min(k,m)\n",
    "        Q , R = np.linalg.qr(G_k)\n",
    "\n",
    "        # compute gamma\n",
    "        if R.shape[1] ==1:\n",
    "\n",
    "            print(G_k)\n",
    "            print(R)\n",
    "            gamma_k = Q.T@g[:,k-1] / R[0,0]\n",
    "\n",
    "        elif Q.shape[1] == 1:\n",
    "\n",
    "            gamma_k = backward_sub(R,Q[0,0] * g[k-1])\n",
    "        \n",
    "        # compute next iteration\n",
    "        print (\"Newton iteration {:3}\".format(k),end=\", \")\n",
    "        print (\"energy = {:16}\".format(a.Energy(gfu.vec)),end=\"\")\n",
    "        #solve linearized problem:\n",
    "        a.Apply (gfu.vec, res)\n",
    "        a.AssembleLinearization (gfu.vec)\n",
    "        inv = a.mat.Inverse(V.FreeDofs())\n",
    "        alpha = 5e-1\n",
    "        du.data = alpha * inv * res\n",
    "        if gamma_k.shape[0] == 1:\n",
    "            iter = x[k-1] + g[-1] - (X_k + G_k)*gamma_k\n",
    "            x = np.c_[x,iter[0]]\n",
    "        else:\n",
    "            iter = x[k-1] + g[-1] - (X_k + G_k)@gamma_k\n",
    "            x = np.c_[x,iter[0]]\n",
    "\n",
    "        g = np.c_[g, res.FV().NumPy()[:]]\n",
    "        print(g.shape)\n",
    "        print(G_k.shape)\n",
    "        G_k =np.c_[G_k, g[:,-1] - g[:,-2]]\n",
    "        X_k = np.c_[X_k, x[:,k] - x[:,k-1]]\n",
    "\n",
    "        #update iteration<\n",
    "        gfu.vec.FV().NumPy()[:] = x[k]\n",
    "        n = len(X_k)\n",
    "        if n> m_k:\n",
    "            X_k = X_k[-m_k:]\n",
    "            G_k = G_k[-m_k:]\n",
    "        k+=1\n",
    "        #stopping criteria\n",
    "        stopcritval = sqrt(abs(InnerProduct(du,res)))\n",
    "        print (\"<A u\",k,\", A u\",k,\">_{-1}^0.5 = \", stopcritval)\n",
    "        if stopcritval < tol:\n",
    "            break\n",
    "    return gfu"
   ]
  },
  {
   "cell_type": "code",
   "execution_count": 157,
   "metadata": {},
   "outputs": [
    {
     "name": "stdout",
     "output_type": "stream",
     "text": [
      "(22503, 2)\n",
      "[[0.]\n",
      " [0.]\n",
      " [0.]\n",
      " ...\n",
      " [0.]\n",
      " [0.]\n",
      " [0.]]\n",
      "[[0.]]\n",
      "Newton iteration   2, energy = -121.99481492764417"
     ]
    },
    {
     "name": "stderr",
     "output_type": "stream",
     "text": [
      "C:\\Users\\sfsta\\AppData\\Local\\Temp\\ipykernel_23240\\2618068739.py:45: RuntimeWarning: divide by zero encountered in divide\n",
      "  gamma_k = Q.T@g[:,k-1] / R[0,0]\n",
      "C:\\Users\\sfsta\\AppData\\Local\\Temp\\ipykernel_23240\\2618068739.py:61: RuntimeWarning: invalid value encountered in multiply\n",
      "  iter = x[k-1] + g[-1] - (X_k + G_k)*gamma_k\n"
     ]
    },
    {
     "ename": "ValueError",
     "evalue": "all the input array dimensions except for the concatenation axis must match exactly, but along dimension 0, the array at index 0 has size 22503 and the array at index 1 has size 2",
     "output_type": "error",
     "traceback": [
      "\u001b[1;31m---------------------------------------------------------------------------\u001b[0m",
      "\u001b[1;31mValueError\u001b[0m                                Traceback (most recent call last)",
      "Cell \u001b[1;32mIn[157], line 20\u001b[0m\n\u001b[0;32m     16\u001b[0m du \u001b[38;5;241m=\u001b[39m gfu\u001b[38;5;241m.\u001b[39mvec\u001b[38;5;241m.\u001b[39mCreateVector()\n\u001b[0;32m     18\u001b[0m \u001b[38;5;66;03m# scenes = [scene, scene0, scene1, scene2]\u001b[39;00m\n\u001b[0;32m     19\u001b[0m \u001b[38;5;66;03m# scenes = [scene]\u001b[39;00m\n\u001b[1;32m---> 20\u001b[0m gfu \u001b[38;5;241m=\u001b[39m \u001b[43mSolveNonlinearMinProblem\u001b[49m\u001b[43m(\u001b[49m\u001b[43ma\u001b[49m\u001b[43m,\u001b[49m\u001b[43mgfu\u001b[49m\u001b[43m,\u001b[49m\u001b[43m \u001b[49m\u001b[43mscenes\u001b[49m\u001b[38;5;241;43m=\u001b[39;49m\u001b[43mscenes\u001b[49m\u001b[43m,\u001b[49m\u001b[43m \u001b[49m\u001b[43mmaxits\u001b[49m\u001b[38;5;241;43m=\u001b[39;49m\u001b[38;5;241;43m10\u001b[39;49m\u001b[43m)\u001b[49m\n",
      "Cell \u001b[1;32mIn[156], line 62\u001b[0m, in \u001b[0;36mSolveNonlinearMinProblem\u001b[1;34m(a, gfu, tol, maxits, m, scenes)\u001b[0m\n\u001b[0;32m     60\u001b[0m \u001b[38;5;28;01mif\u001b[39;00m gamma_k\u001b[38;5;241m.\u001b[39mshape[\u001b[38;5;241m0\u001b[39m] \u001b[38;5;241m==\u001b[39m \u001b[38;5;241m1\u001b[39m:\n\u001b[0;32m     61\u001b[0m     \u001b[38;5;28miter\u001b[39m \u001b[38;5;241m=\u001b[39m x[k\u001b[38;5;241m-\u001b[39m\u001b[38;5;241m1\u001b[39m] \u001b[38;5;241m+\u001b[39m g[\u001b[38;5;241m-\u001b[39m\u001b[38;5;241m1\u001b[39m] \u001b[38;5;241m-\u001b[39m (X_k \u001b[38;5;241m+\u001b[39m G_k)\u001b[38;5;241m*\u001b[39mgamma_k\n\u001b[1;32m---> 62\u001b[0m     x \u001b[38;5;241m=\u001b[39m \u001b[43mnp\u001b[49m\u001b[38;5;241;43m.\u001b[39;49m\u001b[43mc_\u001b[49m\u001b[43m[\u001b[49m\u001b[43mx\u001b[49m\u001b[43m,\u001b[49m\u001b[38;5;28;43miter\u001b[39;49m\u001b[43m[\u001b[49m\u001b[38;5;241;43m0\u001b[39;49m\u001b[43m]\u001b[49m\u001b[43m]\u001b[49m\n\u001b[0;32m     63\u001b[0m \u001b[38;5;28;01melse\u001b[39;00m:\n\u001b[0;32m     64\u001b[0m     \u001b[38;5;28miter\u001b[39m \u001b[38;5;241m=\u001b[39m x[k\u001b[38;5;241m-\u001b[39m\u001b[38;5;241m1\u001b[39m] \u001b[38;5;241m+\u001b[39m g[\u001b[38;5;241m-\u001b[39m\u001b[38;5;241m1\u001b[39m] \u001b[38;5;241m-\u001b[39m (X_k \u001b[38;5;241m+\u001b[39m G_k)\u001b[38;5;129m@gamma_k\u001b[39m\n",
      "File \u001b[1;32m~\\AppData\\Roaming\\Python\\Python310\\site-packages\\numpy\\lib\\index_tricks.py:418\u001b[0m, in \u001b[0;36mAxisConcatenator.__getitem__\u001b[1;34m(self, key)\u001b[0m\n\u001b[0;32m    414\u001b[0m     \u001b[38;5;66;03m# concatenate could do cast, but that can be overriden:\u001b[39;00m\n\u001b[0;32m    415\u001b[0m     objs \u001b[38;5;241m=\u001b[39m [array(obj, copy\u001b[38;5;241m=\u001b[39m\u001b[38;5;28;01mFalse\u001b[39;00m, subok\u001b[38;5;241m=\u001b[39m\u001b[38;5;28;01mTrue\u001b[39;00m,\n\u001b[0;32m    416\u001b[0m                   ndmin\u001b[38;5;241m=\u001b[39mndmin, dtype\u001b[38;5;241m=\u001b[39mfinal_dtype) \u001b[38;5;28;01mfor\u001b[39;00m obj \u001b[38;5;129;01min\u001b[39;00m objs]\n\u001b[1;32m--> 418\u001b[0m res \u001b[38;5;241m=\u001b[39m \u001b[38;5;28;43mself\u001b[39;49m\u001b[38;5;241;43m.\u001b[39;49m\u001b[43mconcatenate\u001b[49m\u001b[43m(\u001b[49m\u001b[38;5;28;43mtuple\u001b[39;49m\u001b[43m(\u001b[49m\u001b[43mobjs\u001b[49m\u001b[43m)\u001b[49m\u001b[43m,\u001b[49m\u001b[43m \u001b[49m\u001b[43maxis\u001b[49m\u001b[38;5;241;43m=\u001b[39;49m\u001b[43maxis\u001b[49m\u001b[43m)\u001b[49m\n\u001b[0;32m    420\u001b[0m \u001b[38;5;28;01mif\u001b[39;00m matrix:\n\u001b[0;32m    421\u001b[0m     oldndim \u001b[38;5;241m=\u001b[39m res\u001b[38;5;241m.\u001b[39mndim\n",
      "\u001b[1;31mValueError\u001b[0m: all the input array dimensions except for the concatenation axis must match exactly, but along dimension 0, the array at index 0 has size 22503 and the array at index 1 has size 2"
     ]
    }
   ],
   "source": [
    "# Solve\n",
    "\n",
    "gfu = GridFunction(V)\n",
    "gfu.vec[:] = 0\n",
    "\n",
    "# scene = Draw (gfu, mesh, \"u\", deformation=True)\n",
    "\n",
    "# scene0 = Draw (gfu.components[0], mesh, \"u\", deformation=True)\n",
    "# scene1 = Draw (gfu.components[1], mesh, \"u\", deformation=True)\n",
    "\n",
    "# scene2 = Draw (gfu.components[2], mesh, \"u\", deformation=True)\n",
    "\n",
    "# SetVisualization (deformation=True)\n",
    "\n",
    "res = gfu.vec.CreateVector()\n",
    "du = gfu.vec.CreateVector()\n",
    "\n",
    "# scenes = [scene, scene0, scene1, scene2]\n",
    "# scenes = [scene]\n",
    "gfu = SolveNonlinearMinProblem(a,gfu, scenes=scenes, maxits=10)"
   ]
  },
  {
   "cell_type": "code",
   "execution_count": null,
   "metadata": {},
   "outputs": [
    {
     "data": {
      "application/vnd.jupyter.widget-view+json": {
       "model_id": "c370dbb5bad34213b6904966f9b95903",
       "version_major": 2,
       "version_minor": 0
      },
      "text/plain": [
       "WebGuiWidget(layout=Layout(height='500px', width='100%'), value={'gui_settings': {}, 'ngsolve_version': '6.2.2…"
      ]
     },
     "metadata": {},
     "output_type": "display_data"
    },
    {
     "data": {
      "text/plain": [
       "BaseWebGuiScene"
      ]
     },
     "execution_count": 46,
     "metadata": {},
     "output_type": "execute_result"
    }
   ],
   "source": [
    "Draw (gfu, mesh, \"u\", deformation=True)"
   ]
  },
  {
   "cell_type": "code",
   "execution_count": null,
   "metadata": {},
   "outputs": [
    {
     "ename": "ModuleNotFoundError",
     "evalue": "No module named 'RUN_Gel_free_swelling'",
     "output_type": "error",
     "traceback": [
      "\u001b[1;31m---------------------------------------------------------------------------\u001b[0m",
      "\u001b[1;31mModuleNotFoundError\u001b[0m                       Traceback (most recent call last)",
      "Cell \u001b[1;32mIn[47], line 1\u001b[0m\n\u001b[1;32m----> 1\u001b[0m \u001b[38;5;28;01mfrom\u001b[39;00m \u001b[38;5;21;01mRUN_Gel_free_swelling\u001b[39;00m \u001b[38;5;28;01mimport\u001b[39;00m gel_free_swelling, Solve_gel_free_swelling\n\u001b[0;32m      2\u001b[0m GEL \u001b[38;5;241m=\u001b[39m gel_free_swelling()\n\u001b[0;32m      3\u001b[0m GEL\u001b[38;5;241m.\u001b[39mgeometry()\n",
      "\u001b[1;31mModuleNotFoundError\u001b[0m: No module named 'RUN_Gel_free_swelling'"
     ]
    }
   ],
   "source": [
    "from RUN_Gel_free_swelling import gel_free_swelling, Solve_gel_free_swelling\n",
    "GEL = gel_free_swelling()\n",
    "GEL.geometry()\n",
    "\n",
    "modelling = Solve_gel_free_swelling(GEL)\n",
    "modelling.Solve()\n",
    "Draw(modelling.gfu)"
   ]
  }
 ],
 "metadata": {
  "hide_input": false,
  "interpreter": {
   "hash": "e51f2c4ff3136256e33bf4519c50b38d40865c48a21fffea67573bae2ea1b8ed"
  },
  "kernelspec": {
   "display_name": "Python 3",
   "language": "python",
   "name": "python3"
  },
  "language_info": {
   "codemirror_mode": {
    "name": "ipython",
    "version": 3
   },
   "file_extension": ".py",
   "mimetype": "text/x-python",
   "name": "python",
   "nbconvert_exporter": "python",
   "pygments_lexer": "ipython3",
   "version": "3.10.11"
  },
  "toc": {
   "base_numbering": 1,
   "nav_menu": {},
   "number_sections": true,
   "sideBar": true,
   "skip_h1_title": false,
   "title_cell": "Table of Contents",
   "title_sidebar": "Contents",
   "toc_cell": false,
   "toc_position": {},
   "toc_section_display": true,
   "toc_window_display": false
  }
 },
 "nbformat": 4,
 "nbformat_minor": 2
}
