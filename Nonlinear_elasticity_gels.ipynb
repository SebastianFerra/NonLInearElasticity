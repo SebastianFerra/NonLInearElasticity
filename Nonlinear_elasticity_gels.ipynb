{
 "cells": [
  {
   "cell_type": "markdown",
   "metadata": {},
   "source": [
    "# Free swelling using geometry"
   ]
  },
  {
   "cell_type": "code",
   "execution_count": 1,
   "metadata": {},
   "outputs": [],
   "source": [
    "import numpy as np\n",
    "import matplotlib.pyplot as plt\n",
    "\n",
    "from ngsolve import *\n",
    "from netgen.csg import *\n",
    "from ngsolve.webgui import Draw"
   ]
  },
  {
   "cell_type": "code",
   "execution_count": 2,
   "metadata": {},
   "outputs": [
    {
     "data": {
      "application/vnd.jupyter.widget-view+json": {
       "model_id": "9b41d858e85340638af472abd2e93c96",
       "version_major": 2,
       "version_minor": 0
      },
      "text/plain": [
       "WebGuiWidget(layout=Layout(height='500px', width='100%'), value={'gui_settings': {}, 'ngsolve_version': '6.2.2…"
      ]
     },
     "metadata": {},
     "output_type": "display_data"
    },
    {
     "name": "stdout",
     "output_type": "stream",
     "text": [
      "('left', 'bot', 'default', 'default', 'back', 'default')\n"
     ]
    }
   ],
   "source": [
    "# Geometry of 1/8 \n",
    "L = 90\n",
    "d = 23.5\n",
    "L3 = 3.0\n",
    "\n",
    "left  = Plane (Pnt(0,0,0), Vec(-1,0,0) ).bc('left')\n",
    "right = Plane (Pnt(0.5*L,0,0), Vec( 1,0,0) )\n",
    "bot = Plane (Pnt(0,0,0), Vec(0,-1,0) ).bc('bot')\n",
    "top  = Plane (Pnt(0,0.5*d,0), Vec(0, 1,0) )\n",
    "back   = Plane (Pnt(0,0,0), Vec(0,0,-1) ).bc('back')\n",
    "front   = Plane (Pnt(0,0,0.5*L3), Vec(0,0, 1) )\n",
    "\n",
    "brick = left * right * front * back * bot * top\n",
    "\n",
    "geo = CSGeometry()\n",
    "geo.Add (brick)\n",
    "mesh = Mesh(geo.GenerateMesh(maxh=1))\n",
    "Draw(mesh)\n",
    "print(mesh.GetBoundaries())"
   ]
  },
  {
   "cell_type": "markdown",
   "metadata": {},
   "source": [
    "# Parameters"
   ]
  },
  {
   "cell_type": "code",
   "execution_count": 3,
   "metadata": {},
   "outputs": [
    {
     "name": "stdout",
     "output_type": "stream",
     "text": [
      "gamma target: 0.001145522071527073\n",
      "shear modulus target: 0.15647831497059816\n",
      "lo que tiene que crecer: 11.515\n",
      "desplazamineto esperados: [22.05    5.7575  0.735 ]\n"
     ]
    }
   ],
   "source": [
    "global phi0\n",
    "#phi0 = 0.2035 # or 0.3\n",
    "phi0 = 0.3\n",
    "\n",
    "global chi \n",
    "chi = 0.45\n",
    "\n",
    "global entropic_unit\n",
    "entropic_unit=136.6   #This is (k_B * T)/(V_m), measured in Megapascals\n",
    "\n",
    "global G    #It is the shear modulus. Will be defined in the next script (next jupy cell).\n",
    "\n",
    "phi = lambda J: phi0/J\n",
    "dH = lambda J: (1-1/1000) * phi(J) + np.log(1-phi(J)) + chi * phi(J)**2\n",
    "\n",
    "#gammafun = lambda lamb: -dH(lamb)/lamb # bonded\n",
    "gammafun = lambda lamb: -dH(lamb**3)*lamb\n",
    "\n",
    "lambda_target = 1.49\n",
    "gamma_target = gammafun(lambda_target)\n",
    "G_target = gamma_target*entropic_unit\n",
    "print(\"gamma target:\", gamma_target)\n",
    "print(\"shear modulus target:\", G_target)\n",
    "\n",
    "print(\"lo que tiene que crecer:\", d*(lambda_target-1))\n",
    "G=G_target\n",
    "print( \"desplazamineto esperados:\", (lambda_target-1)/2*np.array([L,d,L3]) )\n",
    "#v = np.linspace(1,2,100)\n",
    "#plt.plot(v,gammafun(v)*entropic_unit)"
   ]
  },
  {
   "cell_type": "code",
   "execution_count": 4,
   "metadata": {},
   "outputs": [
    {
     "name": "stdout",
     "output_type": "stream",
     "text": [
      "0.001145522071527073\n"
     ]
    }
   ],
   "source": [
    "def F(u):\n",
    "    return Id(mesh.dim) + Grad(u)\n",
    "\n",
    "global gamma\n",
    "gamma = G/entropic_unit\n",
    "print(gamma)\n",
    "\n",
    "def Gels (F):\n",
    "    J = Det(F)\n",
    "    phi = phi0/J\n",
    "    H = (J - phi0)*log(1-phi)  + phi0 * chi*(1-phi) + phi0/1000*log(phi)\n",
    "    C = F.trans * F\n",
    "    return 0.5*gamma*(Trace(C)) + H"
   ]
  },
  {
   "cell_type": "code",
   "execution_count": 5,
   "metadata": {},
   "outputs": [],
   "source": [
    "# Finite element space with slipp boundary conditions on back|bot|left\n",
    "V = VectorH1(mesh, order=2, dirichletx = 'left', dirichlety='bot', dirichletz='back')\n",
    "\n",
    "# Construction of bilinear form\n",
    "u  = V.TrialFunction()\n",
    "I = Id(mesh.dim)\n",
    "F = I + Grad(u)\n",
    "a = BilinearForm(V)\n",
    "\n",
    "# hydrogel model\n",
    "a += Variation(  Gels (F).Compile() * dx)"
   ]
  },
  {
   "cell_type": "code",
   "execution_count": 6,
   "metadata": {},
   "outputs": [],
   "source": [
    "def Norm(vec):\n",
    "    return sqrt(abs(InnerProduct(vec,vec)))\n",
    "def SolveNonlinearMinProblem(a,gfu,tol=1e-08,maxits=250, scenes=None):\n",
    "    res = gfu.vec.CreateVector()\n",
    "    du  = gfu.vec.CreateVector()\n",
    "\n",
    "    for it in range(maxits):\n",
    "        print (\"Newton iteration {:3}\".format(it),end=\", \")\n",
    "        print (\"energy = {:16}\".format(a.Energy(gfu.vec)),end=\"\")\n",
    "        print()\n",
    "        print(Norm(gfu.vec))\n",
    "        print()\n",
    "        #solve linearized problem:\n",
    "        a.Apply (gfu.vec, res)\n",
    "        a.AssembleLinearization (gfu.vec)\n",
    "        inv = a.mat.Inverse(V.FreeDofs())\n",
    "        alpha = 5e-1\n",
    "        du.data = alpha * inv * res\n",
    "\n",
    "        #update iteration\n",
    "        gfu.vec.data -= du\n",
    "        print()\n",
    "        print(Norm(du),Norm(res),Norm(gfu.vec))\n",
    "        print()\n",
    "        #stopping criteria\n",
    "        stopcritval = sqrt(abs(InnerProduct(du,res)))\n",
    "        print (\"<A u\",it,\", A u\",it,\">_{-1}^0.5 = \", stopcritval)\n",
    "        if stopcritval < tol:\n",
    "            break\n",
    "        for sc in scenes:\n",
    "            sc.Redraw()"
   ]
  },
  {
   "cell_type": "code",
   "execution_count": 7,
   "metadata": {},
   "outputs": [
    {
     "data": {
      "application/vnd.jupyter.widget-view+json": {
       "model_id": "79b45fe9a50e4caeba3eb20083703089",
       "version_major": 2,
       "version_minor": 0
      },
      "text/plain": [
       "WebGuiWidget(layout=Layout(height='500px', width='100%'), value={'gui_settings': {}, 'ngsolve_version': '6.2.2…"
      ]
     },
     "metadata": {},
     "output_type": "display_data"
    },
    {
     "name": "stdout",
     "output_type": "stream",
     "text": [
      "Newton iteration   0, energy = -121.99481492764417\n",
      "0.0\n",
      "\n",
      "\n",
      "67.22436292999946 0.493757023569472 67.22436292999946\n",
      "\n",
      "<A u 0 , A u 0 >_{-1}^0.5 =  1.581255529712499\n"
     ]
    }
   ],
   "source": [
    "# Solve\n",
    "\n",
    "gfu = GridFunction(V)\n",
    "gfu.vec[:] = 0\n",
    "\n",
    "scene = Draw (gfu, mesh, \"u\", deformation=True)\n",
    "\n",
    "# scene0 = Draw (gfu.components[0], mesh, \"u\", deformation=True)\n",
    "# scene1 = Draw (gfu.components[1], mesh, \"u\", deformation=True)\n",
    "\n",
    "# scene2 = Draw (gfu.components[2], mesh, \"u\", deformation=True)\n",
    "\n",
    "SetVisualization (deformation=True)\n",
    "\n",
    "res = gfu.vec.CreateVector()\n",
    "du = gfu.vec.CreateVector()\n",
    "\n",
    "# scenes = [scene, scene0, scene1, scene2]\n",
    "scenes = [scene]\n",
    "SolveNonlinearMinProblem(a,gfu, scenes=scenes, maxits=1)"
   ]
  },
  {
   "cell_type": "code",
   "execution_count": 8,
   "metadata": {},
   "outputs": [
    {
     "data": {
      "text/plain": [
       "'result_free_swelling_sub3'"
      ]
     },
     "execution_count": 8,
     "metadata": {},
     "output_type": "execute_result"
    }
   ],
   "source": [
    "# VTKOutput object\n",
    "vtk = VTKOutput(ma=mesh,\n",
    "                coefs=[gfu],\n",
    "                names = [\"displacement\"],\n",
    "                filename=\"result_free_swelling_sub3\",\n",
    "                subdivision=3)\n",
    "# Exporting the results:\n",
    "vtk.Do()"
   ]
  },
  {
   "cell_type": "code",
   "execution_count": 9,
   "metadata": {},
   "outputs": [
    {
     "ename": "ModuleNotFoundError",
     "evalue": "No module named 'RUN_Gel_free_swelling'",
     "output_type": "error",
     "traceback": [
      "\u001b[1;31m---------------------------------------------------------------------------\u001b[0m",
      "\u001b[1;31mModuleNotFoundError\u001b[0m                       Traceback (most recent call last)",
      "Cell \u001b[1;32mIn[9], line 1\u001b[0m\n\u001b[1;32m----> 1\u001b[0m \u001b[38;5;28;01mfrom\u001b[39;00m \u001b[38;5;21;01mRUN_Gel_free_swelling\u001b[39;00m \u001b[38;5;28;01mimport\u001b[39;00m gel_free_swelling, Solve_gel_free_swelling\n\u001b[0;32m      2\u001b[0m GEL \u001b[38;5;241m=\u001b[39m gel_free_swelling()\n\u001b[0;32m      3\u001b[0m GEL\u001b[38;5;241m.\u001b[39mgeometry()\n",
      "\u001b[1;31mModuleNotFoundError\u001b[0m: No module named 'RUN_Gel_free_swelling'"
     ]
    }
   ],
   "source": [
    "from RUN_Gel_free_swelling import gel_free_swelling, Solve_gel_free_swelling\n",
    "GEL = gel_free_swelling()\n",
    "GEL.geometry()\n",
    "\n",
    "modelling = Solve_gel_free_swelling(GEL)\n",
    "modelling.Solve()\n",
    "Draw(modelling.gfu)"
   ]
  }
 ],
 "metadata": {
  "hide_input": false,
  "interpreter": {
   "hash": "e51f2c4ff3136256e33bf4519c50b38d40865c48a21fffea67573bae2ea1b8ed"
  },
  "kernelspec": {
   "display_name": "Python 3",
   "language": "python",
   "name": "python3"
  },
  "language_info": {
   "codemirror_mode": {
    "name": "ipython",
    "version": 3
   },
   "file_extension": ".py",
   "mimetype": "text/x-python",
   "name": "python",
   "nbconvert_exporter": "python",
   "pygments_lexer": "ipython3",
   "version": "3.10.11"
  },
  "toc": {
   "base_numbering": 1,
   "nav_menu": {},
   "number_sections": true,
   "sideBar": true,
   "skip_h1_title": false,
   "title_cell": "Table of Contents",
   "title_sidebar": "Contents",
   "toc_cell": false,
   "toc_position": {},
   "toc_section_display": true,
   "toc_window_display": false
  }
 },
 "nbformat": 4,
 "nbformat_minor": 2
}
