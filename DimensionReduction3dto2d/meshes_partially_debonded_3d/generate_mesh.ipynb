{
 "cells": [
  {
   "cell_type": "code",
   "execution_count": 9,
   "metadata": {},
   "outputs": [
    {
     "data": {
      "application/vnd.jupyter.widget-view+json": {
       "model_id": "a50041d6a0634d799ba621062a48a742",
       "version_major": 2,
       "version_minor": 0
      },
      "text/plain": [
       "WebGuiWidget(layout=Layout(height='500px', width='100%'), value={'gui_settings': {}, 'ngsolve_version': '6.2.2…"
      ]
     },
     "metadata": {},
     "output_type": "display_data"
    },
    {
     "name": "stdout",
     "output_type": "stream",
     "text": [
      "nDoF = 508089\n"
     ]
    }
   ],
   "source": [
    "from ngsolve import *\n",
    "import numpy as np\n",
    "import scipy.optimize\n",
    "import datetime\n",
    "import sys\n",
    "\n",
    "from netgen.csg import *\n",
    "from netgen.meshing import MeshingParameters, meshsize\n",
    "from ngsolve.webgui import Draw\n",
    "import matplotlib.pyplot as plt\n",
    "import scipy.optimize\n",
    "\n",
    "class gel_3D:\n",
    "    def __init__(self, folder_name_suffix, length=90.0, thickness=3.0, width =23.5, delta=0.9):\n",
    "        self.phi0 = 0.2\n",
    "        self.entropic_unit = 136.6  # measured in MPa\n",
    "        self.G = 0.13               # measured in MPa\n",
    "        self.gamma = self.G/self.entropic_unit # 0.0009516837481698391 self.compute_gamma( lamb =1.4874):\n",
    "        self.lambda_target = 1.99  # 0.13 = Gfun(1.99)\n",
    "        self.chi =  0.348 # compute_chi(phi0=0.2035, gamma =0.0009516837481698391, J=J_iso)\n",
    "        self.density =  1.23 # measured in [g/mL]\n",
    "\n",
    "        self.L = length      # measured in mm\n",
    "        self.d = thickness    # measured in mm\n",
    "        self.w = width # measured in mm\n",
    "        self.delta = delta   # dimensionless\n",
    "        \n",
    "        self.filename_suffix = \"_d={:.2f}_delta={:.3f}\".format(self.d, self.delta)\n",
    "        self.folder_name_suffix = folder_name_suffix; \n",
    "\n",
    "        self.geometry_bonded()\n",
    "\n",
    "    def geometry_bonded(self):\n",
    "        left  = Plane (Pnt(-0.5*self.L,0,0), Vec(-1,0,0) )\n",
    "        right = Plane (Pnt(0.5*self.L,0,0), Vec( 1,0,0) )\n",
    "        bot   = Plane (Pnt(0,0,0), Vec(0,-1,0) ).bc('bottom')\n",
    "        top   = Plane (Pnt(0,self.d,0), Vec(0,1,0) )\n",
    "        back  = Plane (Pnt(0,0,-0.5*self.w), Vec(0,0, -1) )\n",
    "        front = Plane (Pnt(0,0,0.5*self.w), Vec(0,0,1) )\n",
    "\n",
    "        brick = left * right * front * back * bot * top\n",
    "\n",
    "        self.geo = CSGeometry()\n",
    "        self.geo.Add (brick)\n",
    "\n",
    "### MAIN ###\n",
    "\n",
    "L = 90.0; d=3.00; w=23.5; delta=1.0;\n",
    "maxh = 0.65\n",
    "order = 2\n",
    "\n",
    "folder_name_suffix = str(int(d)) + '_' + str(int(d%1*100)).zfill(2)\n",
    "\n",
    "gel = gel_3D(folder_name_suffix = folder_name_suffix, \\\n",
    "    length=L, thickness=d,width=w, delta=delta)\n",
    "\n",
    "mesh = Mesh(gel.geo.GenerateMesh(maxh=maxh))\n",
    "\n",
    "mesh_filename = 'meshes' + folder_name_suffix + '/mesh9'\n",
    "mesh.ngmesh.Save(mesh_filename)\n",
    "\n",
    "Draw(mesh)\n",
    "\n",
    "fes = VectorH1(mesh, order=2, dirichlet=\"bottom\")\n",
    "print('nDoF = {}'.format(fes.ndof))\n"
   ]
  }
 ],
 "metadata": {
  "kernelspec": {
   "display_name": "Python 3 (ipykernel)",
   "language": "python",
   "name": "python3"
  },
  "language_info": {
   "codemirror_mode": {
    "name": "ipython",
    "version": 3
   },
   "file_extension": ".py",
   "mimetype": "text/x-python",
   "name": "python",
   "nbconvert_exporter": "python",
   "pygments_lexer": "ipython3",
   "version": "3.12.4"
  }
 },
 "nbformat": 4,
 "nbformat_minor": 4
}
