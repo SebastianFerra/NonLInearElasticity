{
 "cells": [
  {
   "cell_type": "code",
   "execution_count": 9,
   "metadata": {},
   "outputs": [],
   "source": [
    "from ngsolve import *\n",
    "from netgen.geom2d import SplineGeometry\n",
    "\n",
    "from netgen.occ import *\n",
    "import netgen.meshing as ngm\n",
    "import numpy as np\n",
    "from ngsolve.webgui import *\n",
    "from netgen.geom2d import unit_square\n",
    "\n",
    "def innerL2(gfu,mesh):\n",
    "    return Integrate(InnerProduct(gfu,gfu),mesh)\n",
    "def L2error(gfu,exact,mesh):\n",
    "    return sqrt(innerL2(gfu-exact,mesh))\n",
    "\n"
   ]
  },
  {
   "cell_type": "code",
   "execution_count": 10,
   "metadata": {},
   "outputs": [
    {
     "name": "stdout",
     "output_type": "stream",
     "text": [
      "Iteration of proximal galerkin:  1\n",
      "Starting newton iteration\n",
      "Exited newton iteration\n"
     ]
    },
    {
     "data": {
      "application/vnd.jupyter.widget-view+json": {
       "model_id": "4340a9c9c70546d2bb60ccaa17b16d33",
       "version_major": 2,
       "version_minor": 0
      },
      "text/plain": [
       "WebGuiWidget(layout=Layout(height='500px', width='100%'), value={'gui_settings': {}, 'ngsolve_version': '6.2.2…"
      ]
     },
     "metadata": {},
     "output_type": "display_data"
    },
    {
     "data": {
      "application/vnd.jupyter.widget-view+json": {
       "model_id": "ae9a42e3baab42499827a05fe3b0dcbf",
       "version_major": 2,
       "version_minor": 0
      },
      "text/plain": [
       "WebGuiWidget(layout=Layout(height='500px', width='100%'), value={'gui_settings': {}, 'ngsolve_version': '6.2.2…"
      ]
     },
     "metadata": {},
     "output_type": "display_data"
    }
   ],
   "source": [
    "A= -0.34012\n",
    "a = 0.34898 \n",
    "u_exact = IfPos(sqrt(x**2 + y**2)-a, A*log(sqrt(x**2+y**2)),sqrt(0.25-((x)**2+(y)**2)))\n",
    "\n",
    "# generate a triangular mesh of mesh-size 0.2\n",
    "geo = SplineGeometry()\n",
    "geo.AddCircle(c=(0,0), r=1, bc=\"outer\")\n",
    "n = 3\n",
    "mesh = Mesh(geo.GenerateMesh(maxh=0.5**n))\n",
    "phi = IfPos(0.5-sqrt(x**2+y**2), sqrt(0.25-((x)**2+(y)**2)), 0)\n",
    "\n",
    "#phi = CF(sqrt(0.25-(x-0.5)**2-(y-0.5)**2) if (x-0.5)**2+(y-0.5)**2 < 0.25 else 0)\n",
    "alpha = Parameter(2) # step size \n",
    "# psi initial guess\n",
    "psik = GridFunction\n",
    "# proximal galerkin iterations\n",
    "fesu = H1(mesh, order=4, dirichlet=\"outer\")\n",
    "fesphi = L2(mesh, order=2) # L_inf \n",
    "fes = fesu*fesphi\n",
    " #bilinear form (not linear)\n",
    "u, delta = fes.TrialFunction()\n",
    "v, vphi = fes.TestFunction()\n",
    "\n",
    "# initial guesses\n",
    "gfu_u = GridFunction(fesu)\n",
    "gfu_u.Set(1)\n",
    "\n",
    "psih = GridFunction(fesphi)\n",
    "psih.Set(1)\n",
    "\n",
    "uk = GridFunction(fesu)\n",
    "psik = GridFunction(fesphi)\n",
    "eps = 1e-6\n",
    "\n",
    "\n",
    "max_iter_newton = 6\n",
    "max_iter_PG = 2\n",
    "\n",
    "\n",
    "wh = GridFunction(fesu)\n",
    "for k in range(1,max_iter_PG):\n",
    "    alpha.Set(2**k)\n",
    "    print(\"Iteration of proximal galerkin: \", k)\n",
    "    # assing uk, psik\n",
    "    uk.vec.data = gfu_u.vec\n",
    "    psik.vec.data = psih.vec\n",
    "    print(\"Starting newton iteration\")\n",
    "    for i in range(max_iter_newton):\n",
    "        wh.vec.data = gfu_u.vec\n",
    "        # bilinear form\n",
    "        a = BilinearForm(fes)\n",
    "        a += alpha * grad(u) * grad(v) * dx + delta * v * dx\n",
    "        a += u*vphi*dx - (delta * exp(psih) * vphi * dx + eps * (grad(delta) * grad(vphi) * dx))\n",
    "        # linear form rhs\n",
    "        l = LinearForm(fes)\n",
    "        # f = 0\n",
    "        l += (alpha * 0 + psik - psih)*v*dx\n",
    "        l += (phi + exp(psih))*vphi*dx\n",
    "        a.Assemble()\n",
    "        l.Assemble()\n",
    "        # solve the system\n",
    "        gfu = GridFunction(fes)\n",
    "        gfu.vec.data = a.mat.Inverse(freedofs=fes.FreeDofs()) * l.vec\n",
    "        gfu_u.vec.data = gfu.components[0].vec\n",
    "        psih.vec.data = psih.vec + gfu.components[1].vec\n",
    "    print(\"Exited newton iteration\")\n",
    "    Draw(gfu_u,mesh)\n",
    "    Draw(u_exact,mesh)\n",
    "\n",
    "\n",
    "\n",
    "\n",
    "\n",
    "    \n",
    "\n"
   ]
  },
  {
   "cell_type": "code",
   "execution_count": 11,
   "metadata": {},
   "outputs": [
    {
     "data": {
      "application/vnd.jupyter.widget-view+json": {
       "model_id": "cc8bbcb4f02a431992e6f3f7ae62df28",
       "version_major": 2,
       "version_minor": 0
      },
      "text/plain": [
       "WebGuiWidget(layout=Layout(height='500px', width='100%'), value={'gui_settings': {}, 'ngsolve_version': '6.2.2…"
      ]
     },
     "metadata": {},
     "output_type": "display_data"
    },
    {
     "data": {
      "text/plain": [
       "BaseWebGuiScene"
      ]
     },
     "execution_count": 11,
     "metadata": {},
     "output_type": "execute_result"
    }
   ],
   "source": [
    "geo = SplineGeometry()\n",
    "geo.AddCircle(c=(0,0), r=2)\n",
    "n = 3\n",
    "mesh = Mesh(geo.GenerateMesh(maxh=0.5**n))\n",
    "phi = IfPos(0.5-sqrt(x**2+y**2), sqrt(0.25-((x)**2+(y)**2)), 0)\n",
    "Draw(phi, mesh, \"tilde_u\")"
   ]
  },
  {
   "cell_type": "code",
   "execution_count": 12,
   "metadata": {},
   "outputs": [
    {
     "data": {
      "application/vnd.jupyter.widget-view+json": {
       "model_id": "506b76b30b1242b8a929f247c4f31b82",
       "version_major": 2,
       "version_minor": 0
      },
      "text/plain": [
       "WebGuiWidget(layout=Layout(height='500px', width='100%'), value={'gui_settings': {}, 'ngsolve_version': '6.2.2…"
      ]
     },
     "metadata": {},
     "output_type": "display_data"
    },
    {
     "data": {
      "text/plain": [
       "BaseWebGuiScene"
      ]
     },
     "execution_count": 12,
     "metadata": {},
     "output_type": "execute_result"
    }
   ],
   "source": [
    "# solve the simple laplacian example\n",
    "fes = H1(mesh, order=2, dirichlet=\"bottom|right\")\n",
    "u, v = fes.TnT()\n",
    "a = BilinearForm(fes)\n",
    "a += grad(u)*grad(v)*dx\n",
    "l = LinearForm(fes)\n",
    "l += 0*v*dx\n",
    "a.Assemble()\n",
    "l.Assemble()\n",
    "gfu = GridFunction(fes)\n",
    "gfu.vec.data = a.mat.Inverse(fes.FreeDofs()) * l.vec\n",
    "Draw(gfu, mesh, \"u\")\n"
   ]
  }
 ],
 "metadata": {
  "kernelspec": {
   "display_name": "Python 3",
   "language": "python",
   "name": "python3"
  },
  "language_info": {
   "codemirror_mode": {
    "name": "ipython",
    "version": 3
   },
   "file_extension": ".py",
   "mimetype": "text/x-python",
   "name": "python",
   "nbconvert_exporter": "python",
   "pygments_lexer": "ipython3",
   "version": "3.10.0"
  }
 },
 "nbformat": 4,
 "nbformat_minor": 2
}
