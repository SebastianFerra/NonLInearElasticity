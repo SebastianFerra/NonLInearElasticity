{
 "cells": [
  {
   "cell_type": "code",
   "execution_count": 5,
   "metadata": {},
   "outputs": [],
   "source": [
    "from ngsolve import *\n",
    "from netgen.geom2d import SplineGeometry\n",
    "\n",
    "from netgen.occ import *\n",
    "import netgen.meshing as ngm\n",
    "import numpy as np\n",
    "from ngsolve.webgui import *\n",
    "from netgen.geom2d import unit_square\n",
    "\n",
    "def innerL2(gfu,mesh):\n",
    "    return Integrate(InnerProduct(gfu,gfu),mesh)\n",
    "def L2error(gfu,exact,mesh):\n",
    "    return sqrt(innerL2(gfu-exact,mesh))\n",
    "geo = SplineGeometry()\n",
    "geo.AddCircle(c=(0,0), r=2, bc=\"outer\")\n",
    "n = 3\n",
    "mesh = Mesh(geo.GenerateMesh(maxh=0.5**n))\n"
   ]
  },
  {
   "cell_type": "code",
   "execution_count": 6,
   "metadata": {},
   "outputs": [
    {
     "name": "stdout",
     "output_type": "stream",
     "text": [
      "Iteration of proximal galerkin:  1\n",
      "Starting newton iteration\n",
      "Exited newton iteration\n"
     ]
    },
    {
     "data": {
      "application/vnd.jupyter.widget-view+json": {
       "model_id": "3cbc79446c524fe58c5d3f1b0c197dfb",
       "version_major": 2,
       "version_minor": 0
      },
      "text/plain": [
       "WebGuiWidget(layout=Layout(height='500px', width='100%'), value={'gui_settings': {}, 'ngsolve_version': '6.2.2…"
      ]
     },
     "metadata": {},
     "output_type": "display_data"
    },
    {
     "name": "stdout",
     "output_type": "stream",
     "text": [
      "Iteration of proximal galerkin:  2\n",
      "Starting newton iteration\n"
     ]
    },
    {
     "ename": "KeyboardInterrupt",
     "evalue": "",
     "output_type": "error",
     "traceback": [
      "\u001b[1;31m---------------------------------------------------------------------------\u001b[0m",
      "\u001b[1;31mKeyboardInterrupt\u001b[0m                         Traceback (most recent call last)",
      "Cell \u001b[1;32mIn[6], line 54\u001b[0m\n\u001b[0;32m     52\u001b[0m l \u001b[38;5;241m+\u001b[39m\u001b[38;5;241m=\u001b[39m (alpha \u001b[38;5;241m*\u001b[39m \u001b[38;5;241m0\u001b[39m \u001b[38;5;241m+\u001b[39m psik\u001b[38;5;241m-\u001b[39mpsi)\u001b[38;5;241m*\u001b[39mv\u001b[38;5;241m*\u001b[39mdx\n\u001b[0;32m     53\u001b[0m l \u001b[38;5;241m+\u001b[39m\u001b[38;5;241m=\u001b[39m (phi \u001b[38;5;241m+\u001b[39m exp(psi))\u001b[38;5;241m*\u001b[39mpsi\u001b[38;5;241m*\u001b[39mdx\n\u001b[1;32m---> 54\u001b[0m \u001b[43ma\u001b[49m\u001b[38;5;241;43m.\u001b[39;49m\u001b[43mAssemble\u001b[49m\u001b[43m(\u001b[49m\u001b[43m)\u001b[49m\n\u001b[0;32m     55\u001b[0m l\u001b[38;5;241m.\u001b[39mAssemble()\n\u001b[0;32m     56\u001b[0m \u001b[38;5;66;03m# solve the system\u001b[39;00m\n",
      "\u001b[1;31mKeyboardInterrupt\u001b[0m: "
     ]
    }
   ],
   "source": [
    "A= -0.34012\n",
    "a = 0.34898 \n",
    "u_exact = IfPos(sqrt(x**2 + y**2)-a, A*log(sqrt(x**2+y**2)),sqrt(0.25-((x)**2+(y)**2)))\n",
    "\n",
    "# generate a triangular mesh of mesh-size 0.2\n",
    "geo = SplineGeometry()\n",
    "geo.AddCircle(c=(0,0), r=2)\n",
    "n = 4\n",
    "mesh = Mesh(geo.GenerateMesh(maxh=0.5**n))\n",
    "phi = IfPos(0.5-sqrt(x**2+y**2), sqrt(0.25-((x)**2+(y)**2)), 0)\n",
    "\n",
    "max_iter = 13\n",
    "#phi = CF(sqrt(0.25-(x-0.5)**2-(y-0.5)**2) if (x-0.5)**2+(y-0.5)**2 < 0.25 else 0)\n",
    "alpha = Parameter(2) # step size \n",
    "# psi initial guess\n",
    "psik = GridFunction\n",
    "# proximal galerkin iterations\n",
    "fesu = H1(mesh, order=12, dirichlet=\"outer\")\n",
    "fesphi = L2(mesh, order=11) # L_inf \n",
    "fes = fesu*fesphi\n",
    " #bilinear form (not linear)\n",
    "u, delta = fes.TrialFunction()\n",
    "v, psi = fes.TestFunction()\n",
    "\n",
    "# initial guesses\n",
    "gfu_u = GridFunction(fesu)\n",
    "gfu_u.Set(1)\n",
    "\n",
    "psi = GridFunction(fesphi)\n",
    "psi.Set(1)\n",
    "\n",
    "uk = GridFunction(fesu)\n",
    "psik = GridFunction(fesphi)\n",
    "eps = 1e-6\n",
    "max_iter_newton = 2\n",
    "wh = GridFunction(fesu)\n",
    "for k in range(1,max_iter):\n",
    "    alpha.Set(2**k)\n",
    "    print(\"Iteration of proximal galerkin: \", k)\n",
    "    # assing uk, psik\n",
    "    uk.vec.data = gfu_u.vec\n",
    "    psik.vec.data = psi.vec\n",
    "    print(\"Starting newton iteration\")\n",
    "    for i in range(max_iter_newton):\n",
    "        wh.vec.data = gfu_u.vec\n",
    "        # bilinear form\n",
    "        a = BilinearForm(fes)\n",
    "        a += alpha * grad(u) * grad(v)*dx + delta * v * dx\n",
    "        a += u*psi*dx - (delta * exp(wh) * psi * dx + eps * (grad(delta) * grad(psi) * dx))\n",
    "        # linear form rhs\n",
    "        l = LinearForm(fes)\n",
    "        # f = 0\n",
    "        l += (alpha * 0 + psik-psi)*v*dx\n",
    "        l += (phi + exp(psi))*psi*dx\n",
    "        a.Assemble()\n",
    "        l.Assemble()\n",
    "        # solve the system\n",
    "        gfu = GridFunction(fes)\n",
    "        gfu.vec.data = a.mat.Inverse(freedofs=fes.FreeDofs()) * l.vec\n",
    "        gfu_u.vec.data = gfu.components[0].vec\n",
    "        psi.vec.data = psi.vec + gfu.components[1].vec\n",
    "    print(\"Exited newton iteration\")\n",
    "    Draw(gfu_u,mesh)\n",
    "\n",
    "\n",
    "\n",
    "\n",
    "\n",
    "    \n",
    "\n"
   ]
  },
  {
   "cell_type": "code",
   "execution_count": null,
   "metadata": {},
   "outputs": [
    {
     "data": {
      "application/vnd.jupyter.widget-view+json": {
       "model_id": "bba3e33356674f2684549463c7909819",
       "version_major": 2,
       "version_minor": 0
      },
      "text/plain": [
       "WebGuiWidget(layout=Layout(height='500px', width='100%'), value={'gui_settings': {}, 'ngsolve_version': '6.2.2…"
      ]
     },
     "metadata": {},
     "output_type": "display_data"
    },
    {
     "data": {
      "text/plain": [
       "BaseWebGuiScene"
      ]
     },
     "execution_count": 36,
     "metadata": {},
     "output_type": "execute_result"
    }
   ],
   "source": [
    "geo = SplineGeometry()\n",
    "geo.AddCircle(c=(0,0), r=2)\n",
    "n = 3\n",
    "mesh = Mesh(geo.GenerateMesh(maxh=0.5**n))\n",
    "phi = IfPos(0.5-sqrt(x**2+y**2), sqrt(0.25-((x)**2+(y)**2)), 0)\n",
    "Draw(phi, mesh, \"tilde_u\")"
   ]
  },
  {
   "cell_type": "code",
   "execution_count": null,
   "metadata": {},
   "outputs": [
    {
     "data": {
      "application/vnd.jupyter.widget-view+json": {
       "model_id": "64b9ca71a2654f82bde8e05e204c968e",
       "version_major": 2,
       "version_minor": 0
      },
      "text/plain": [
       "WebGuiWidget(layout=Layout(height='500px', width='100%'), value={'gui_settings': {}, 'ngsolve_version': '6.2.2…"
      ]
     },
     "metadata": {},
     "output_type": "display_data"
    },
    {
     "data": {
      "text/plain": [
       "BaseWebGuiScene"
      ]
     },
     "execution_count": 37,
     "metadata": {},
     "output_type": "execute_result"
    }
   ],
   "source": [
    "# solve the simple laplacian example\n",
    "fes = H1(mesh, order=2, dirichlet=\"bottom|right\")\n",
    "u, v = fes.TnT()\n",
    "a = BilinearForm(fes)\n",
    "a += grad(u)*grad(v)*dx\n",
    "l = LinearForm(fes)\n",
    "l += 0*v*dx\n",
    "a.Assemble()\n",
    "l.Assemble()\n",
    "gfu = GridFunction(fes)\n",
    "gfu.vec.data = a.mat.Inverse(fes.FreeDofs()) * l.vec\n",
    "Draw(gfu, mesh, \"u\")\n"
   ]
  }
 ],
 "metadata": {
  "kernelspec": {
   "display_name": "Python 3",
   "language": "python",
   "name": "python3"
  },
  "language_info": {
   "codemirror_mode": {
    "name": "ipython",
    "version": 3
   },
   "file_extension": ".py",
   "mimetype": "text/x-python",
   "name": "python",
   "nbconvert_exporter": "python",
   "pygments_lexer": "ipython3",
   "version": "3.10.0"
  }
 },
 "nbformat": 4,
 "nbformat_minor": 2
}
