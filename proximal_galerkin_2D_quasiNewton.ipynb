{
 "cells": [
  {
   "cell_type": "code",
   "execution_count": 38,
   "metadata": {},
   "outputs": [],
   "source": [
    "from ngsolve import *\n",
    "from netgen.geom2d import SplineGeometry\n",
    "\n",
    "from netgen.occ import *\n",
    "import netgen.meshing as ngm\n",
    "import numpy as np\n",
    "from ngsolve.webgui import *\n",
    "from netgen.geom2d import unit_square\n",
    "\n",
    "def innerL2(gfu,mesh):\n",
    "    return Integrate(InnerProduct(gfu,gfu),mesh)\n",
    "def L2error(gfu,exact,mesh):\n",
    "    return sqrt(innerL2(gfu-exact,mesh))"
   ]
  },
  {
   "cell_type": "code",
   "execution_count": null,
   "metadata": {},
   "outputs": [
    {
     "name": "stdout",
     "output_type": "stream",
     "text": [
      "Iteration of proximal galerkin:  0\n",
      "Initializing Newton\n"
     ]
    },
    {
     "ename": "KeyboardInterrupt",
     "evalue": "",
     "output_type": "error",
     "traceback": [
      "\u001b[1;31m---------------------------------------------------------------------------\u001b[0m",
      "\u001b[1;31mKeyboardInterrupt\u001b[0m                         Traceback (most recent call last)",
      "Cell \u001b[1;32mIn[39], line 55\u001b[0m\n\u001b[0;32m     53\u001b[0m a\u001b[38;5;241m.\u001b[39mApply(gfu\u001b[38;5;241m.\u001b[39mvec, res)\n\u001b[0;32m     54\u001b[0m a\u001b[38;5;241m.\u001b[39mAssembleLinearization(gfu\u001b[38;5;241m.\u001b[39mvec)\n\u001b[1;32m---> 55\u001b[0m inv \u001b[38;5;241m=\u001b[39m \u001b[43ma\u001b[49m\u001b[38;5;241;43m.\u001b[39;49m\u001b[43mmat\u001b[49m\u001b[38;5;241;43m.\u001b[39;49m\u001b[43mInverse\u001b[49m\u001b[43m(\u001b[49m\u001b[43mfreedofs\u001b[49m\u001b[43m \u001b[49m\u001b[38;5;241;43m=\u001b[39;49m\u001b[43m \u001b[49m\u001b[43mfes\u001b[49m\u001b[38;5;241;43m.\u001b[39;49m\u001b[43mFreeDofs\u001b[49m\u001b[43m(\u001b[49m\u001b[43m)\u001b[49m\u001b[43m)\u001b[49m        \n\u001b[0;32m     56\u001b[0m w\u001b[38;5;241m.\u001b[39mdata \u001b[38;5;241m=\u001b[39m  inv \u001b[38;5;241m*\u001b[39m res\n\u001b[0;32m     57\u001b[0m gfu\u001b[38;5;241m.\u001b[39mvec\u001b[38;5;241m.\u001b[39mdata \u001b[38;5;241m-\u001b[39m\u001b[38;5;241m=\u001b[39m w\n",
      "\u001b[1;31mKeyboardInterrupt\u001b[0m: "
     ]
    }
   ],
   "source": [
    "A= -0.34012\n",
    "a = 0.34898 \n",
    "u_exact = IfPos(sqrt(x**2 + y**2)-a, A*log(sqrt(x**2+y**2)),sqrt(0.25-((x)**2+(y)**2)))\n",
    "\n",
    "# generate a triangular mesh of mesh-size 0.2\n",
    "geo = SplineGeometry()\n",
    "geo.AddCircle(c=(0,0), r=2)\n",
    "n = 4\n",
    "mesh = Mesh(geo.GenerateMesh(maxh=0.5**n))\n",
    "phi = IfPos(0.5-sqrt(x**2+y**2), sqrt(0.25-((x)**2+(y)**2)), 0)\n",
    "max_iter = 13\n",
    "#phi = CF(sqrt(0.25-(x-0.5)**2-(y-0.5)**2) if (x-0.5)**2+(y-0.5)**2 < 0.25 else 0)\n",
    "alpha = Parameter(2) # step size \n",
    "# psi initial guess\n",
    "psik = GridFunction\n",
    "# proximal galerkin iterations\n",
    "fesu = H1(mesh, order=12, dirichlet=\"bottom|right|top|left\")\n",
    "fesphi = L2(mesh, order=11) # L_inf \n",
    "fes = fesu*fesphi\n",
    " #bilinear form (not linear)\n",
    "u, varphi = fes.TrialFunction()\n",
    "v, psi = fes.TestFunction()\n",
    "\n",
    "\n",
    "a = BilinearForm(fes)\n",
    "a += alpha * grad(u) * grad(v)*dx + varphi*v*dx\n",
    "a += u*psi*dx - exp(varphi)*psi*dx\n",
    "\n",
    "psik = GridFunction(fesphi)\n",
    "psik.Set(1)\n",
    "eps = 1e-6\n",
    "for k in range(1,max_iter):\n",
    "    alpha.Set(2**k)\n",
    "    print(\"Iteration of proximal galerkin: \", k)\n",
    "\n",
    "    # linear form rhs\n",
    "    l = LinearForm(fes)\n",
    "    # f = 0\n",
    "    l += (0+psik)*v*dx\n",
    "    l += phi*psi*dx\n",
    "\n",
    "    a.Assemble()\n",
    "    l.Assemble()\n",
    "    # No lifting given g = 0 on \\partial\\Omegagfu\n",
    "    gfu = GridFunction(fes)\n",
    "    res = gfu.vec.CreateVector()\n",
    "    w = gfu.vec.CreateVector()\n",
    "    history = GridFunction(fes, multidim = 0)\n",
    "    # here we may need to add another loop\n",
    "    maxiter = 10\n",
    "    print(\"Initializing Newton\")\n",
    "    for iter in range(maxiter):\n",
    "        # Prints before the iteration: number of it, residual, energy\n",
    "        a.Apply(gfu.vec, res)\n",
    "        a.AssembleLinearization(gfu.vec)\n",
    "        inv = a.mat.Inverse(freedofs = fes.FreeDofs())        \n",
    "        w.data =  inv * res\n",
    "        gfu.vec.data -= w\n",
    "        history.AddMultiDimComponent(gfu.vec)\n",
    "        if abs(InnerProduct(w,res)) < 1e-6:\n",
    "            print(\"Converged\")\n",
    "            break\n",
    "    \n",
    "    print(\"Exiting newton with:\", InnerProduct(w,res))\n",
    "    # update psik\n",
    "    psik.vec.data = gfu.components[1].vec\n",
    "    print(\"Error L2 with exact solution at PG iteration:\", k)\n",
    "    print(L2error(exp(psik)+phi,u_exact,mesh))\n",
    "    Draw(exp(psik)+ phi , mesh, \"psi\")\n",
    "    Draw(u_exact, mesh, \"u\")\n",
    "\n",
    "\n",
    "tilde_u = phi + exp(gfu.components[1])  # tilde_u > \\phi\n",
    "\n",
    "\n",
    "\n",
    "    \n",
    "\n"
   ]
  },
  {
   "cell_type": "code",
   "execution_count": null,
   "metadata": {},
   "outputs": [
    {
     "data": {
      "application/vnd.jupyter.widget-view+json": {
       "model_id": "bba3e33356674f2684549463c7909819",
       "version_major": 2,
       "version_minor": 0
      },
      "text/plain": [
       "WebGuiWidget(layout=Layout(height='500px', width='100%'), value={'gui_settings': {}, 'ngsolve_version': '6.2.2…"
      ]
     },
     "metadata": {},
     "output_type": "display_data"
    },
    {
     "data": {
      "text/plain": [
       "BaseWebGuiScene"
      ]
     },
     "execution_count": 36,
     "metadata": {},
     "output_type": "execute_result"
    }
   ],
   "source": [
    "geo = SplineGeometry()\n",
    "geo.AddCircle(c=(0,0), r=2)\n",
    "n = 3\n",
    "mesh = Mesh(geo.GenerateMesh(maxh=0.5**n))\n",
    "phi = IfPos(0.5-sqrt(x**2+y**2), sqrt(0.25-((x)**2+(y)**2)), 0)\n",
    "Draw(phi, mesh, \"tilde_u\")"
   ]
  },
  {
   "cell_type": "code",
   "execution_count": null,
   "metadata": {},
   "outputs": [
    {
     "data": {
      "application/vnd.jupyter.widget-view+json": {
       "model_id": "64b9ca71a2654f82bde8e05e204c968e",
       "version_major": 2,
       "version_minor": 0
      },
      "text/plain": [
       "WebGuiWidget(layout=Layout(height='500px', width='100%'), value={'gui_settings': {}, 'ngsolve_version': '6.2.2…"
      ]
     },
     "metadata": {},
     "output_type": "display_data"
    },
    {
     "data": {
      "text/plain": [
       "BaseWebGuiScene"
      ]
     },
     "execution_count": 37,
     "metadata": {},
     "output_type": "execute_result"
    }
   ],
   "source": [
    "# solve the simple laplacian example\n",
    "fes = H1(mesh, order=2, dirichlet=\"bottom|right\")\n",
    "u, v = fes.TnT()\n",
    "a = BilinearForm(fes)\n",
    "a += grad(u)*grad(v)*dx\n",
    "l = LinearForm(fes)\n",
    "l += 0*v*dx\n",
    "a.Assemble()\n",
    "l.Assemble()\n",
    "gfu = GridFunction(fes)\n",
    "gfu.vec.data = a.mat.Inverse(fes.FreeDofs()) * l.vec\n",
    "Draw(gfu, mesh, \"u\")\n"
   ]
  }
 ],
 "metadata": {
  "kernelspec": {
   "display_name": "Python 3",
   "language": "python",
   "name": "python3"
  },
  "language_info": {
   "codemirror_mode": {
    "name": "ipython",
    "version": 3
   },
   "file_extension": ".py",
   "mimetype": "text/x-python",
   "name": "python",
   "nbconvert_exporter": "python",
   "pygments_lexer": "ipython3",
   "version": "3.10.0"
  }
 },
 "nbformat": 4,
 "nbformat_minor": 2
}
