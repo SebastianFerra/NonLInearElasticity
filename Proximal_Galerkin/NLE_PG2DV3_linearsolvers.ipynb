{
 "cells": [
  {
   "cell_type": "code",
   "execution_count": 21,
   "metadata": {},
   "outputs": [],
   "source": [
    "# NGSolve Libraries\n",
    "from ngsPETSc import NonLinearSolver\n",
    "from netgen.geom2d import unit_square\n",
    "from ngsolve.solvers import Newton\n",
    "from ngsolve import *\n",
    "from ngsolve.krylovspace import GMResSolver\n",
    "from ngsolve.webgui import Draw # para jupyter\n",
    "#import netgen.gui\n",
    "from netgen.occ import *\n",
    "from netgen.csg import *\n",
    "from scipy.optimize import minimize_scalar\n",
    "## get problem parameters and geometry\n",
    "from netgen.geom2d import SplineGeometry\n",
    "\n",
    "import sys\n",
    "from IPython.display import clear_output\n",
    "sys.path.insert(0,\"../\")\n",
    "sys.path.insert(0,\"../../\")\n",
    "import problems\n",
    "import numpy as np\n",
    "import params\n",
    "import pickle\n",
    "from time import time"
   ]
  },
  {
   "cell_type": "code",
   "execution_count": 22,
   "metadata": {},
   "outputs": [],
   "source": [
    "\n",
    "\n",
    "problem = problems.problem2\n",
    "\n",
    "phi0 = problem[0]['phi0']\n",
    "chi = problem[0]['chi']\n",
    "G_target = problem[0]['G']\n",
    "geom = problem[1]\n",
    "dim = problem[0]['dim']\n",
    "BC = problem[2]\n",
    "name = problem[-1]\n",
    "h = 0.4\n",
    "ord = 3\n",
    "N = params.N\n",
    "KBTV = params.KBTV\n",
    "form = \"Functional\" # EDP //functional\n",
    "\n",
    "\n",
    "phi = lambda J: phi0/J\n",
    "\n",
    "G = Parameter(G_target)\n",
    "\n",
    "## Generate mesh and geometry ### add parallel stuff\n",
    "# def mesher(geom, h):\n",
    "#     if \".stp\" in geom:\n",
    "#         geo = OCCGeometry(geom)\n",
    "#     else:\n",
    "#         geo = pickle.load(open(geom, \"rb\"))\n",
    "\n",
    "#     mesh = Mesh(geo.GenerateMesh(maxh=h))\n",
    "#     return mesh\n",
    "# mesh = mesher(geom, h)  \n",
    "w,l= 3,15\n",
    "n = 5\n",
    "rect = SplineGeometry()\n",
    "pnts = [(0,0), (l,0), (l,w), (0,w)]\n",
    "p1,p2,p3,p4 = [rect.AppendPoint(*pnt,hpref=1) for pnt in pnts]\n",
    "curves = [[[\"line\",p1,p2],\"bottom\"],\n",
    "        [[\"line\",p2,p3],\"right\"],\n",
    "        [[\"line\",p3,p4],\"top\"],\n",
    "        [[\"line\",p4,p1],\"left\"]]\n",
    "rect.Append(curves[0][0], bc = curves[0][1], leftdomain=1, rightdomain=0, maxh=0.1)\n",
    "rect.Append(curves[1][0], bc = curves[1][1], leftdomain=1, rightdomain=0, maxh=0.1) #0.03\n",
    "rect.Append(curves[2][0], bc = curves[2][1], leftdomain=1, rightdomain=0, maxh=0.1) #0.05\n",
    "rect.Append(curves[3][0], bc = curves[3][1], leftdomain=1, rightdomain=0, maxh=0.1) #0.03\n",
    "\n",
    "\n",
    "mesh = Mesh(rect.GenerateMesh(maxh=0.3)) #0.8\n",
    "def Gel_energy_functional(F):\n",
    "    \n",
    "    g = 9.81\n",
    "    J = Det(F)\n",
    "    rho = 1.23e-6\n",
    "    H = (J - phi0)*log(1-phi0/J)  + phi0 * chi*(1-phi0/J)\n",
    "    # calculate C\n",
    "    # min (G/2) * (3 lam**2) + KBTV * H(lam**3):  lam > 1\n",
    "    Hf = lambda lam: (lam-phi0)*np.log(1-phi0/lam) + phi0*chi*(1-phi0/lam)\n",
    "\n",
    "    fun = lambda lam: (G.Get()/2)*(3*lam**2) + KBTV*Hf(lam)\n",
    "    res = minimize_scalar(fun, bounds=(1, 10), method='bounded')\n",
    "    C = res.fun\n",
    "    return 0.5*(G)* Trace(F.trans*F ) + H*KBTV #+ rho*g*u[1] - C\n",
    "\n",
    "\n",
    "## Generate spaces and forms\n",
    "\"\"\"\n",
    "To bond the gel go to geometries and describe the bonding\n",
    "face there, not here.\n",
    "\"\"\"\n",
    "if BC[\"dir_cond\"] == \"faces\":\n",
    "    fesu = VectorH1(mesh, order=ord, dirichlet = BC[\"DIR_FACES\"])\n",
    "elif BC[\"dir_cond\"] == \"components\":\n",
    "    fesu = VectorH1(mesh, order=ord, dirichletx = BC[\"x\"], dirichlety = BC[\"y\"], dirichletz = BC[\"z\"])\n",
    "\n",
    "fesphi = L2(mesh, order = ord-3)\n",
    "\n",
    "fes = FESpace([fesu, fesphi])\n",
    "u, delta = fes.TrialFunction()\n",
    "v, vphi= fes.TestFunction()\n",
    "BF = BilinearForm(fes, condense=True)\n",
    "\n",
    "\n",
    "\n",
    "\n"
   ]
  },
  {
   "cell_type": "markdown",
   "metadata": {},
   "source": [
    "## static condensation"
   ]
  },
  {
   "cell_type": "code",
   "execution_count": 23,
   "metadata": {},
   "outputs": [
    {
     "data": {
      "application/vnd.jupyter.widget-view+json": {
       "model_id": "6bc1e596c4bf4cd7893e665bd36d0e6c",
       "version_major": 2,
       "version_minor": 0
      },
      "text/plain": [
       "WebGuiWidget(layout=Layout(height='500px', width='100%'), value={'gui_settings': {}, 'ngsolve_version': '6.2.2…"
      ]
     },
     "metadata": {},
     "output_type": "display_data"
    },
    {
     "data": {
      "text/plain": [
       "BaseWebGuiScene"
      ]
     },
     "execution_count": 23,
     "metadata": {},
     "output_type": "execute_result"
    }
   ],
   "source": [
    "\n",
    "## Assemble forms\n",
    "alpha = Parameter(1)\n",
    "\n",
    "psih = GridFunction(fesphi)\n",
    "psih.Set(0)\n",
    "\n",
    "uk = GridFunction(fesu)\n",
    "uk.Set((0,0))\n",
    "\n",
    "psik = GridFunction(fesphi)\n",
    "eps = 1e-6\n",
    "# define phi as the 0 function \n",
    "\n",
    "gfu = GridFunction(fes)\n",
    "gfu.vec[:] = 0\n",
    "obs = CF(-y)    \n",
    "\n",
    "def Assemble_BF(BF,G_funs,form):\n",
    "    u, v, alpha, delta, psik,psih = G_funs\n",
    "    F = Id(2)+ Grad(u)\n",
    "    if form == \"Functional\":\n",
    "        BF += Variation(alpha * Gel_energy_functional(F).Compile()*dx) # add the \"bilinear\" form of specific problem\n",
    "        BF+= delta*v[1]*dx\n",
    "        BF+= u[1]* vphi*dx\n",
    "        BF+= -delta*exp(psih)*vphi*dx\n",
    "        if ord==3:\n",
    "            BF += -1e-6* delta * vphi*dx\n",
    "        else: \n",
    "            BF += -1e-6* grad(delta) * grad(vphi)*dx\n",
    "        # the right hand sideBF\n",
    "        # BF += -alpha * force[2] * v[2] * dx # force is 0 \n",
    "        BF += -(psik-psih)*v[1]*dx\n",
    "        BF += -(obs+exp(psih))*vphi*dx\n",
    "        return BF\n",
    "    \n",
    "\n",
    "Draw(mesh)"
   ]
  },
  {
   "cell_type": "code",
   "execution_count": 24,
   "metadata": {},
   "outputs": [
    {
     "name": "stdout",
     "output_type": "stream",
     "text": [
      "[Errno 2] No such file or directory: 'Proximal_Galerkin'\n",
      "/Users/sferra/Desktop/NonLInearElasticity/Proximal_Galerkin\n"
     ]
    },
    {
     "name": "stderr",
     "output_type": "stream",
     "text": [
      "/Users/sferra/Library/Python/3.13/lib/python/site-packages/IPython/core/magics/osm.py:393: UserWarning: This is now an optional IPython functionality, using bookmarks requires you to install the `pickleshare` library.\n",
      "  bkms = self.shell.db.get('bookmarks', {})\n"
     ]
    }
   ],
   "source": [
    "cd Proximal_Galerkin"
   ]
  },
  {
   "cell_type": "code",
   "execution_count": 25,
   "metadata": {},
   "outputs": [
    {
     "name": "stdout",
     "output_type": "stream",
     "text": [
      "Softening step 91 load 0.7000581573308846\n",
      "PG it: 1\n",
      "Solving nonlinear subproblem\n",
      "QN: 0\n",
      "Newton iteration  0\n",
      "err =  0.7513656406254635\n",
      "Newton iteration  1\n",
      "err =  0.6773890507143038\n",
      "Newton iteration  2\n",
      "err =  0.7270547401286797\n",
      "Newton iteration  3\n",
      "\n",
      "UMFPACK V5.7.4 (Feb 1, 2016): WARNING: matrix is singular\n",
      "\n"
     ]
    },
    {
     "ename": "NgException",
     "evalue": "UmfpackInverse: Numeric factorization failed.",
     "output_type": "error",
     "traceback": [
      "\u001b[0;31m---------------------------------------------------------------------------\u001b[0m",
      "\u001b[0;31mNgException\u001b[0m                               Traceback (most recent call last)",
      "Cell \u001b[0;32mIn[25], line 45\u001b[0m\n\u001b[1;32m     43\u001b[0m \u001b[38;5;28mprint\u001b[39m(\u001b[38;5;124m\"\u001b[39m\u001b[38;5;124mQN:\u001b[39m\u001b[38;5;124m\"\u001b[39m, it)\n\u001b[1;32m     44\u001b[0m \u001b[38;5;28;01mwith\u001b[39;00m TaskManager():\n\u001b[0;32m---> 45\u001b[0m     \u001b[43mNewton\u001b[49m\u001b[43m(\u001b[49m\u001b[43mBF\u001b[49m\u001b[43m,\u001b[49m\u001b[43mgfu\u001b[49m\u001b[43m,\u001b[49m\u001b[43mmaxerr\u001b[49m\u001b[38;5;241;43m=\u001b[39;49m\u001b[43mtol_newton\u001b[49m\u001b[43m,\u001b[49m\u001b[43mmaxit\u001b[49m\u001b[38;5;241;43m=\u001b[39;49m\u001b[43mmax_iter_newton\u001b[49m\u001b[43m,\u001b[49m\u001b[43mdampfactor\u001b[49m\u001b[38;5;241;43m=\u001b[39;49m\u001b[38;5;241;43m0.1\u001b[39;49m\u001b[43m)\u001b[49m\n\u001b[1;32m     47\u001b[0m psih\u001b[38;5;241m.\u001b[39mvec\u001b[38;5;241m.\u001b[39mdata \u001b[38;5;241m=\u001b[39m psih\u001b[38;5;241m.\u001b[39mvec \u001b[38;5;241m+\u001b[39m gfu\u001b[38;5;241m.\u001b[39mcomponents[\u001b[38;5;241m1\u001b[39m]\u001b[38;5;241m.\u001b[39mvec\n\u001b[1;32m     48\u001b[0m wh_dif \u001b[38;5;241m=\u001b[39m Integrate((gfu\u001b[38;5;241m.\u001b[39mcomponents[\u001b[38;5;241m0\u001b[39m]\u001b[38;5;241m-\u001b[39mwh)\u001b[38;5;241m*\u001b[39m(gfu\u001b[38;5;241m.\u001b[39mcomponents[\u001b[38;5;241m0\u001b[39m]\u001b[38;5;241m-\u001b[39mwh),mesh)\n",
      "File \u001b[0;32m/Library/Frameworks/Python.framework/Versions/3.13/lib/python3.13/site-packages/ngsolve/nonlinearsolvers.py:147\u001b[0m, in \u001b[0;36mNewton\u001b[0;34m(a, u, freedofs, maxit, maxerr, inverse, dirichletvalues, dampfactor, printing, callback)\u001b[0m\n\u001b[1;32m    145\u001b[0m \u001b[38;5;28;01mif\u001b[39;00m dirichletvalues \u001b[38;5;129;01mis\u001b[39;00m \u001b[38;5;129;01mnot\u001b[39;00m \u001b[38;5;28;01mNone\u001b[39;00m:\n\u001b[1;32m    146\u001b[0m     solver\u001b[38;5;241m.\u001b[39mSetDirichlet(dirichletvalues)\n\u001b[0;32m--> 147\u001b[0m \u001b[38;5;28;01mreturn\u001b[39;00m \u001b[43msolver\u001b[49m\u001b[38;5;241;43m.\u001b[39;49m\u001b[43mSolve\u001b[49m\u001b[43m(\u001b[49m\u001b[43mmaxit\u001b[49m\u001b[38;5;241;43m=\u001b[39;49m\u001b[43mmaxit\u001b[49m\u001b[43m,\u001b[49m\u001b[43m \u001b[49m\u001b[43mmaxerr\u001b[49m\u001b[38;5;241;43m=\u001b[39;49m\u001b[43mmaxerr\u001b[49m\u001b[43m,\u001b[49m\n\u001b[1;32m    148\u001b[0m \u001b[43m                    \u001b[49m\u001b[43mdampfactor\u001b[49m\u001b[38;5;241;43m=\u001b[39;49m\u001b[43mdampfactor\u001b[49m\u001b[43m,\u001b[49m\n\u001b[1;32m    149\u001b[0m \u001b[43m                    \u001b[49m\u001b[43mprinting\u001b[49m\u001b[38;5;241;43m=\u001b[39;49m\u001b[43mprinting\u001b[49m\u001b[43m,\u001b[49m\n\u001b[1;32m    150\u001b[0m \u001b[43m                    \u001b[49m\u001b[43mcallback\u001b[49m\u001b[38;5;241;43m=\u001b[39;49m\u001b[43mcallback\u001b[49m\u001b[43m,\u001b[49m\n\u001b[1;32m    151\u001b[0m \u001b[43m                    \u001b[49m\u001b[43mlinesearch\u001b[49m\u001b[38;5;241;43m=\u001b[39;49m\u001b[38;5;28;43;01mFalse\u001b[39;49;00m\u001b[43m,\u001b[49m\n\u001b[1;32m    152\u001b[0m \u001b[43m                    \u001b[49m\u001b[43mprintenergy\u001b[49m\u001b[38;5;241;43m=\u001b[39;49m\u001b[38;5;28;43;01mFalse\u001b[39;49;00m\u001b[43m)\u001b[49m\n",
      "File \u001b[0;32m/Library/Frameworks/Python.framework/Versions/3.13/lib/python3.13/site-packages/netgen/__init__.py:111\u001b[0m, in \u001b[0;36mTimeFunction.<locals>.retfunc\u001b[0;34m(*args, **kwargs)\u001b[0m\n\u001b[1;32m    109\u001b[0m \u001b[38;5;28;01mdef\u001b[39;00m\u001b[38;5;250m \u001b[39m\u001b[38;5;21mretfunc\u001b[39m(\u001b[38;5;241m*\u001b[39margs,\u001b[38;5;241m*\u001b[39m\u001b[38;5;241m*\u001b[39mkwargs):\n\u001b[1;32m    110\u001b[0m     \u001b[38;5;28;01mwith\u001b[39;00m timer:\n\u001b[0;32m--> 111\u001b[0m         ret \u001b[38;5;241m=\u001b[39m \u001b[43mfunc\u001b[49m\u001b[43m(\u001b[49m\u001b[38;5;241;43m*\u001b[39;49m\u001b[43margs\u001b[49m\u001b[43m,\u001b[49m\u001b[43m \u001b[49m\u001b[38;5;241;43m*\u001b[39;49m\u001b[38;5;241;43m*\u001b[39;49m\u001b[43mkwargs\u001b[49m\u001b[43m)\u001b[49m\n\u001b[1;32m    112\u001b[0m     \u001b[38;5;28;01mreturn\u001b[39;00m ret\n",
      "File \u001b[0;32m/Library/Frameworks/Python.framework/Versions/3.13/lib/python3.13/site-packages/ngsolve/nonlinearsolvers.py:42\u001b[0m, in \u001b[0;36mNewtonSolver.Solve\u001b[0;34m(self, maxit, maxerr, dampfactor, printing, callback, linesearch, printenergy, print_wrong_direction)\u001b[0m\n\u001b[1;32m     39\u001b[0m a\u001b[38;5;241m.\u001b[39mAssembleLinearization(u\u001b[38;5;241m.\u001b[39mvec)\n\u001b[1;32m     40\u001b[0m a\u001b[38;5;241m.\u001b[39mApply(u\u001b[38;5;241m.\u001b[39mvec, r)\n\u001b[0;32m---> 42\u001b[0m \u001b[38;5;28;43mself\u001b[39;49m\u001b[38;5;241;43m.\u001b[39;49m\u001b[43m_UpdateInverse\u001b[49m\u001b[43m(\u001b[49m\u001b[43m)\u001b[49m\n\u001b[1;32m     43\u001b[0m \u001b[38;5;28;01mif\u001b[39;00m \u001b[38;5;28mself\u001b[39m\u001b[38;5;241m.\u001b[39mrhs \u001b[38;5;129;01mis\u001b[39;00m \u001b[38;5;129;01mnot\u001b[39;00m \u001b[38;5;28;01mNone\u001b[39;00m:\n\u001b[1;32m     44\u001b[0m     r\u001b[38;5;241m.\u001b[39mdata \u001b[38;5;241m-\u001b[39m\u001b[38;5;241m=\u001b[39m \u001b[38;5;28mself\u001b[39m\u001b[38;5;241m.\u001b[39mrhs\u001b[38;5;241m.\u001b[39mvec\n",
      "File \u001b[0;32m/Library/Frameworks/Python.framework/Versions/3.13/lib/python3.13/site-packages/ngsolve/nonlinearsolvers.py:103\u001b[0m, in \u001b[0;36mNewtonSolver._UpdateInverse\u001b[0;34m(self)\u001b[0m\n\u001b[1;32m    101\u001b[0m     \u001b[38;5;28mself\u001b[39m\u001b[38;5;241m.\u001b[39minv\u001b[38;5;241m.\u001b[39mUpdate()\n\u001b[1;32m    102\u001b[0m \u001b[38;5;28;01melse\u001b[39;00m:\n\u001b[0;32m--> 103\u001b[0m     \u001b[38;5;28mself\u001b[39m\u001b[38;5;241m.\u001b[39minv \u001b[38;5;241m=\u001b[39m \u001b[38;5;28;43mself\u001b[39;49m\u001b[38;5;241;43m.\u001b[39;49m\u001b[43ma\u001b[49m\u001b[38;5;241;43m.\u001b[39;49m\u001b[43mmat\u001b[49m\u001b[38;5;241;43m.\u001b[39;49m\u001b[43mInverse\u001b[49m\u001b[43m(\u001b[49m\u001b[38;5;28;43mself\u001b[39;49m\u001b[38;5;241;43m.\u001b[39;49m\u001b[43mfreedofs\u001b[49m\u001b[43m,\u001b[49m\n\u001b[1;32m    104\u001b[0m \u001b[43m                                  \u001b[49m\u001b[43minverse\u001b[49m\u001b[38;5;241;43m=\u001b[39;49m\u001b[38;5;28;43mself\u001b[39;49m\u001b[38;5;241;43m.\u001b[39;49m\u001b[43minverse\u001b[49m\u001b[43m)\u001b[49m\n",
      "\u001b[0;31mNgException\u001b[0m: UmfpackInverse: Numeric factorization failed."
     ]
    }
   ],
   "source": [
    "max_PG_it = 100\n",
    "max_iter_newton = 100\n",
    "max_iter_qnewton = 100\n",
    "newton_damp = 0.1\n",
    "softening_n = 100 # 80\n",
    "\n",
    "tol_newton = 1e-6\n",
    "tol_QN = 1e-6\n",
    "tol_delta = 1e-6\n",
    "\n",
    "c = Preconditioner(BF, \"bddc\") \n",
    "\n",
    "gammas = np.flip(np.linspace(G_target, G_target*20 ,softening_n))\n",
    "cut = 70\n",
    "first_bit = gammas[:cut]\n",
    "second_bit = np.flip(np.linspace(G_target,gammas[cut], 100))\n",
    "gammas = np.concatenate((first_bit,second_bit))\n",
    "\n",
    "for num, load in enumerate(gammas):\n",
    "    print(\"Softening step\", num, \"load\", load)\n",
    "    G.Set(load) #incremental softening\n",
    "    if num == softening_n-1:\n",
    "        max_PG_it =60\n",
    "        tol_newton = 1e-7\n",
    "        tol_delta = 1e-7\n",
    "    for k in range(1,max_PG_it):\n",
    "        print(\"PG it:\",k)\n",
    "        alpha.Set(1)\n",
    "        psik.vec.data = psih.vec\n",
    "        if k != 1:\n",
    "            uk.vec.data = gfu.components[0].vec \n",
    "\n",
    "        G_funs = u,v,alpha,delta,psik, psih\n",
    "\n",
    "        with TaskManager():\n",
    "            BF = Assemble_BF(BF,G_funs,form)\n",
    "            res = gfu.vec.CreateVector()\n",
    "            w = gfu.vec.CreateVector()\n",
    "        print(\"Solving nonlinear subproblem\")\n",
    "        for it in range(max_iter_qnewton):\n",
    "            wh =  GridFunction(fesu)\n",
    "            wh.Set(gfu.components[0])\n",
    "            print(\"QN:\", it)\n",
    "            with TaskManager():\n",
    "                Newton(BF,gfu,maxerr=tol_newton,maxit=max_iter_newton,dampfactor=0.1)\n",
    "\n",
    "            psih.vec.data = psih.vec + gfu.components[1].vec\n",
    "            wh_dif = Integrate((gfu.components[0]-wh)*(gfu.components[0]-wh),mesh)\n",
    "            if wh_dif < tol_QN:\n",
    "                print(\"Tol achieved\",wh_dif)\n",
    "                break\n",
    "        dif = Integrate((uk-gfu.components[0])*(uk-gfu.components[0]),mesh)\n",
    "        print(\"U_k difference\", dif)\n",
    "        if dif < tol_delta:\n",
    "            print(\"Tol PG achieved\", dif)\n",
    "            break\n",
    "    clear_output()\n",
    "\n",
    "\n",
    "\n"
   ]
  },
  {
   "cell_type": "code",
   "execution_count": null,
   "metadata": {},
   "outputs": [],
   "source": [
    "cd /Users/sferra/Desktop/NonLInearElasticity/Proximal_Galerkin"
   ]
  },
  {
   "cell_type": "code",
   "execution_count": null,
   "metadata": {},
   "outputs": [],
   "source": [
    "ls"
   ]
  },
  {
   "cell_type": "code",
   "execution_count": 26,
   "metadata": {},
   "outputs": [
    {
     "data": {
      "application/vnd.jupyter.widget-view+json": {
       "model_id": "5f9a2626f3254d13abecc43e7fce1dc0",
       "version_major": 2,
       "version_minor": 0
      },
      "text/plain": [
       "WebGuiWidget(layout=Layout(height='500px', width='100%'), value={'gui_settings': {}, 'ngsolve_version': '6.2.2…"
      ]
     },
     "metadata": {},
     "output_type": "display_data"
    },
    {
     "data": {
      "text/plain": [
       "BaseWebGuiScene"
      ]
     },
     "execution_count": 26,
     "metadata": {},
     "output_type": "execute_result"
    }
   ],
   "source": [
    "Draw(gfu.components[0], mesh, \"u\")"
   ]
  },
  {
   "cell_type": "code",
   "execution_count": null,
   "metadata": {},
   "outputs": [],
   "source": [
    "gfu_tilde = GridFunction(fesu)\n",
    "gfu_tilde.vec.data = gfu.components[0].vec\n",
    "gfu_tilde.components[1].Set(exp(psih)+obs)\n",
    "u, v = fesu.TnT()\n",
    "i = BilinearForm(fesu)\n",
    "i += InnerProduct(u,v)*dx\n",
    "i.Assemble()\n",
    "L = LinearForm(fesu)\n",
    "L += gfu_tilde*v*dx\n",
    "L.Assemble()\n",
    "gfu_t = GridFunction(fesu)\n",
    "gfu_t.vec[:] = 0\n",
    "gfu_t.vec.data += i.mat.Inverse(freedofs=fesu.FreeDofs())*L.vec\n",
    "Draw(gfu_t, mesh, \"gfu_t\")"
   ]
  },
  {
   "cell_type": "code",
   "execution_count": null,
   "metadata": {},
   "outputs": [],
   "source": [
    "Draw(gfu_t-gfu.components[0], mesh, \"gfu_t-gfu\")"
   ]
  },
  {
   "cell_type": "markdown",
   "metadata": {},
   "source": [
    "Check proximal point and projected optimization with constraints"
   ]
  },
  {
   "cell_type": "code",
   "execution_count": 127,
   "metadata": {},
   "outputs": [],
   "source": [
    "import pandas as pd\n",
    "\n",
    "df = pd.DataFrame()\n",
    "columns = [\"x\", \"y\", \"uh_y\", \"satisfy_constraint\", \"sum\"]\n",
    "data = []"
   ]
  },
  {
   "cell_type": "code",
   "execution_count": 128,
   "metadata": {},
   "outputs": [],
   "source": [
    "uh = gfu.components[0]\n",
    "for i,p in enumerate(mesh.vertices):\n",
    "    temp = [0,0,0,0,0]\n",
    "    if p.point[0] == 0:\n",
    "        temp[0] = p.point[0]\n",
    "        temp[1] = p.point[1]\n",
    "        temp[2] = uh(mesh(*p.point))[1]\n",
    "        temp[3] = (uh(mesh(*p.point))[1]+p.point[1]>0)\n",
    "        temp[4] = uh(mesh(*p.point))[1]+p.point[1]\n",
    "        data.append(temp)\n",
    "df = pd.DataFrame(data, columns=columns)\n"
   ]
  },
  {
   "cell_type": "code",
   "execution_count": null,
   "metadata": {},
   "outputs": [],
   "source": [
    "pd.set_option('display.max_rows', 500)\n",
    "df"
   ]
  }
 ],
 "metadata": {
  "kernelspec": {
   "display_name": "Python 3",
   "language": "python",
   "name": "python3"
  },
  "language_info": {
   "codemirror_mode": {
    "name": "ipython",
    "version": 3
   },
   "file_extension": ".py",
   "mimetype": "text/x-python",
   "name": "python",
   "nbconvert_exporter": "python",
   "pygments_lexer": "ipython3",
   "version": "3.13.1"
  }
 },
 "nbformat": 4,
 "nbformat_minor": 2
}
