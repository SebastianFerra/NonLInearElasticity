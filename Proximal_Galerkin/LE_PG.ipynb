{
 "cells": [
  {
   "cell_type": "code",
   "execution_count": 60,
   "metadata": {},
   "outputs": [],
   "source": [
    "# NGSolve Libraries\n",
    "from netgen.geom2d import unit_square\n",
    "from ngsolve import *\n",
    "from ngsolve.webgui import Draw # para jupyter\n",
    "#import netgen.gui\n",
    "from netgen.occ import *\n",
    "from netgen.csg import *\n"
   ]
  },
  {
   "cell_type": "code",
   "execution_count": 61,
   "metadata": {},
   "outputs": [],
   "source": [
    "E, nu = 50, 0.1\n",
    "mu  = E / 2 / (1+nu)\n",
    "lam = E * nu / ((1+nu)*(1-2*nu))\n",
    "\n",
    "def Stress(strain):\n",
    "    return 2*mu*strain + lam*Trace(strain)*Id(3)\n"
   ]
  },
  {
   "cell_type": "code",
   "execution_count": 62,
   "metadata": {},
   "outputs": [
    {
     "data": {
      "application/vnd.jupyter.widget-view+json": {
       "model_id": "1080d7dc389a47d895e9a371694a4f78",
       "version_major": 2,
       "version_minor": 0
      },
      "text/plain": [
       "WebGuiWidget(layout=Layout(height='500px', width='100%'), value={'gui_settings': {}, 'ngsolve_version': '6.2.2…"
      ]
     },
     "metadata": {},
     "output_type": "display_data"
    },
    {
     "data": {
      "text/plain": [
       "BaseWebGuiScene"
      ]
     },
     "execution_count": 62,
     "metadata": {},
     "output_type": "execute_result"
    }
   ],
   "source": [
    "L = 1\n",
    "w = 0.2\n",
    "left = Plane(Pnt(0,0,0), Vec(-1,0,0)).bc(\"left\")\n",
    "right = Plane(Pnt(L,0,0), Vec(1,0,0)).bc(\"right\")\n",
    "bottom = Plane(Pnt(0,0,0), Vec(0,-1,0)).bc(\"bottom\")\n",
    "top = Plane(Pnt(0,w,0), Vec(0,1,0)).bc(\"top\")\n",
    "front = Plane(Pnt(0,0,0), Vec(0,0,-1)).bc(\"front\")\n",
    "back = Plane(Pnt(0,0,w), Vec(0,0,1)).bc(\"back\")\n",
    "cube = left * right * bottom * top * front * back\n",
    "\n",
    "geo = CSGeometry()\n",
    "geo.Add(cube)\n",
    "mesh = Mesh(geo.GenerateMesh(maxh=0.1))\n",
    "Draw(mesh)\n"
   ]
  },
  {
   "cell_type": "code",
   "execution_count": null,
   "metadata": {},
   "outputs": [],
   "source": []
  },
  {
   "cell_type": "code",
   "execution_count": 63,
   "metadata": {},
   "outputs": [
    {
     "name": "stdout",
     "output_type": "stream",
     "text": [
      "Iteration of proximal galerkin:  1\n",
      "PG TOL\n",
      "Iteration of proximal galerkin:  2\n",
      "PG TOL\n",
      "Iteration of proximal galerkin:  3\n",
      "PG TOL\n",
      "Iteration of proximal galerkin:  4\n",
      "PG TOL\n",
      "Iteration of proximal galerkin:  5\n",
      "PG TOL\n",
      "Iteration of proximal galerkin:  6\n",
      "PG TOL\n",
      "Iteration of proximal galerkin:  7\n",
      "PG TOL\n",
      "Iteration of proximal galerkin:  8\n",
      "PG TOL\n",
      "Iteration of proximal galerkin:  9\n",
      "PG TOL\n",
      "Iteration of proximal galerkin:  10\n",
      "PG TOL\n"
     ]
    },
    {
     "data": {
      "application/vnd.jupyter.widget-view+json": {
       "model_id": "d10c7d1ca60e4293b5c384fe3f4bc119",
       "version_major": 2,
       "version_minor": 0
      },
      "text/plain": [
       "WebGuiWidget(layout=Layout(height='500px', width='100%'), value={'gui_settings': {}, 'ngsolve_version': '6.2.2…"
      ]
     },
     "metadata": {},
     "output_type": "display_data"
    },
    {
     "name": "stdout",
     "output_type": "stream",
     "text": [
      "Iteration of proximal galerkin:  11\n",
      "PG TOL\n",
      "Iteration of proximal galerkin:  12\n",
      "PG TOL\n",
      "Iteration of proximal galerkin:  13\n",
      "PG TOL\n",
      "Iteration of proximal galerkin:  14\n",
      "PG TOL\n",
      "Iteration of proximal galerkin:  15\n",
      "PG TOL\n",
      "Iteration of proximal galerkin:  16\n",
      "PG TOL\n",
      "Iteration of proximal galerkin:  17\n",
      "PG TOL\n",
      "Iteration of proximal galerkin:  18\n",
      "PG TOL\n",
      "Iteration of proximal galerkin:  19\n",
      "PG TOL\n",
      "Iteration of proximal galerkin:  20\n",
      "PG TOL\n"
     ]
    },
    {
     "data": {
      "application/vnd.jupyter.widget-view+json": {
       "model_id": "003dbf2996964e4e9a9a26e902330a7e",
       "version_major": 2,
       "version_minor": 0
      },
      "text/plain": [
       "WebGuiWidget(layout=Layout(height='500px', width='100%'), value={'gui_settings': {}, 'ngsolve_version': '6.2.2…"
      ]
     },
     "metadata": {},
     "output_type": "display_data"
    },
    {
     "name": "stdout",
     "output_type": "stream",
     "text": [
      "Iteration of proximal galerkin:  21\n",
      "PG TOL\n",
      "Iteration of proximal galerkin:  22\n",
      "PG TOL\n",
      "Iteration of proximal galerkin:  23\n",
      "PG TOL\n",
      "Iteration of proximal galerkin:  24\n",
      "PG TOL\n",
      "Iteration of proximal galerkin:  25\n",
      "PG TOL\n",
      "Iteration of proximal galerkin:  26\n",
      "PG TOL\n",
      "Iteration of proximal galerkin:  27\n",
      "PG TOL\n",
      "Iteration of proximal galerkin:  28\n",
      "PG TOL\n",
      "Iteration of proximal galerkin:  29\n",
      "PG TOL\n",
      "Iteration of proximal galerkin:  30\n",
      "PG TOL\n"
     ]
    },
    {
     "data": {
      "application/vnd.jupyter.widget-view+json": {
       "model_id": "d9b26370030540b69a14c6a0deef11d3",
       "version_major": 2,
       "version_minor": 0
      },
      "text/plain": [
       "WebGuiWidget(layout=Layout(height='500px', width='100%'), value={'gui_settings': {}, 'ngsolve_version': '6.2.2…"
      ]
     },
     "metadata": {},
     "output_type": "display_data"
    },
    {
     "name": "stdout",
     "output_type": "stream",
     "text": [
      "Iteration of proximal galerkin:  31\n",
      "PG TOL\n",
      "Iteration of proximal galerkin:  32\n",
      "PG TOL\n",
      "Iteration of proximal galerkin:  33\n",
      "PG TOL\n",
      "Iteration of proximal galerkin:  34\n",
      "PG TOL\n",
      "Iteration of proximal galerkin:  35\n",
      "PG TOL\n",
      "Iteration of proximal galerkin:  36\n",
      "PG TOL\n",
      "Iteration of proximal galerkin:  37\n",
      "PG TOL\n",
      "Iteration of proximal galerkin:  38\n",
      "PG TOL\n",
      "Iteration of proximal galerkin:  39\n",
      "PG TOL\n",
      "Iteration of proximal galerkin:  40\n",
      "PG TOL\n"
     ]
    },
    {
     "data": {
      "application/vnd.jupyter.widget-view+json": {
       "model_id": "e6dfa11dddda44fba1c1a501fa006782",
       "version_major": 2,
       "version_minor": 0
      },
      "text/plain": [
       "WebGuiWidget(layout=Layout(height='500px', width='100%'), value={'gui_settings': {}, 'ngsolve_version': '6.2.2…"
      ]
     },
     "metadata": {},
     "output_type": "display_data"
    },
    {
     "name": "stdout",
     "output_type": "stream",
     "text": [
      "Iteration of proximal galerkin:  41\n",
      "PG TOL\n",
      "Iteration of proximal galerkin:  42\n",
      "PG TOL\n",
      "Iteration of proximal galerkin:  43\n",
      "PG TOL\n",
      "Iteration of proximal galerkin:  44\n",
      "PG TOL\n",
      "Iteration of proximal galerkin:  45\n",
      "PG TOL\n",
      "Iteration of proximal galerkin:  46\n",
      "PG TOL\n",
      "Iteration of proximal galerkin:  47\n",
      "PG TOL\n",
      "Iteration of proximal galerkin:  48\n",
      "PG TOL\n",
      "Iteration of proximal galerkin:  49\n",
      "PG TOL\n",
      "Iteration of proximal galerkin:  50\n",
      "PG TOL\n"
     ]
    },
    {
     "data": {
      "application/vnd.jupyter.widget-view+json": {
       "model_id": "829998847268452a9f40555111543646",
       "version_major": 2,
       "version_minor": 0
      },
      "text/plain": [
       "WebGuiWidget(layout=Layout(height='500px', width='100%'), value={'gui_settings': {}, 'ngsolve_version': '6.2.2…"
      ]
     },
     "metadata": {},
     "output_type": "display_data"
    },
    {
     "name": "stdout",
     "output_type": "stream",
     "text": [
      "Iteration of proximal galerkin:  51\n",
      "PG TOL\n",
      "Iteration of proximal galerkin:  52\n",
      "PG TOL\n",
      "Iteration of proximal galerkin:  53\n",
      "PG TOL\n",
      "Iteration of proximal galerkin:  54\n",
      "PG TOL\n",
      "Iteration of proximal galerkin:  55\n",
      "PG TOL\n",
      "Iteration of proximal galerkin:  56\n",
      "PG TOL\n",
      "Iteration of proximal galerkin:  57\n",
      "PG TOL\n",
      "Iteration of proximal galerkin:  58\n",
      "PG TOL\n",
      "Iteration of proximal galerkin:  59\n",
      "PG TOL\n",
      "Iteration of proximal galerkin:  60\n",
      "PG TOL\n"
     ]
    },
    {
     "data": {
      "application/vnd.jupyter.widget-view+json": {
       "model_id": "b6565ced94844b6185723cd8dea6495e",
       "version_major": 2,
       "version_minor": 0
      },
      "text/plain": [
       "WebGuiWidget(layout=Layout(height='500px', width='100%'), value={'gui_settings': {}, 'ngsolve_version': '6.2.2…"
      ]
     },
     "metadata": {},
     "output_type": "display_data"
    },
    {
     "name": "stdout",
     "output_type": "stream",
     "text": [
      "Iteration of proximal galerkin:  61\n",
      "PG TOL\n",
      "Iteration of proximal galerkin:  62\n",
      "PG TOL\n",
      "Iteration of proximal galerkin:  63\n",
      "PG TOL\n",
      "Iteration of proximal galerkin:  64\n",
      "PG TOL\n",
      "Iteration of proximal galerkin:  65\n",
      "PG TOL\n",
      "Iteration of proximal galerkin:  66\n",
      "PG TOL\n",
      "Iteration of proximal galerkin:  67\n",
      "PG TOL\n",
      "Iteration of proximal galerkin:  68\n",
      "PG TOL\n",
      "Iteration of proximal galerkin:  69\n",
      "PG TOL\n",
      "Iteration of proximal galerkin:  70\n",
      "PG TOL\n"
     ]
    },
    {
     "data": {
      "application/vnd.jupyter.widget-view+json": {
       "model_id": "2424c1382d8e42e5a340598543eb3e22",
       "version_major": 2,
       "version_minor": 0
      },
      "text/plain": [
       "WebGuiWidget(layout=Layout(height='500px', width='100%'), value={'gui_settings': {}, 'ngsolve_version': '6.2.2…"
      ]
     },
     "metadata": {},
     "output_type": "display_data"
    },
    {
     "name": "stdout",
     "output_type": "stream",
     "text": [
      "Iteration of proximal galerkin:  71\n",
      "PG TOL\n",
      "Iteration of proximal galerkin:  72\n",
      "PG TOL\n",
      "Iteration of proximal galerkin:  73\n",
      "PG TOL\n",
      "Iteration of proximal galerkin:  74\n",
      "PG TOL\n",
      "Iteration of proximal galerkin:  75\n",
      "PG TOL\n",
      "Iteration of proximal galerkin:  76\n",
      "PG TOL\n",
      "Iteration of proximal galerkin:  77\n",
      "PG TOL\n",
      "Iteration of proximal galerkin:  78\n",
      "PG TOL\n",
      "Iteration of proximal galerkin:  79\n",
      "PG TOL\n",
      "Iteration of proximal galerkin:  80\n",
      "PG TOL\n"
     ]
    },
    {
     "data": {
      "application/vnd.jupyter.widget-view+json": {
       "model_id": "9fc790a0ceee4d08a0869e07dc42801e",
       "version_major": 2,
       "version_minor": 0
      },
      "text/plain": [
       "WebGuiWidget(layout=Layout(height='500px', width='100%'), value={'gui_settings': {}, 'ngsolve_version': '6.2.2…"
      ]
     },
     "metadata": {},
     "output_type": "display_data"
    },
    {
     "name": "stdout",
     "output_type": "stream",
     "text": [
      "Iteration of proximal galerkin:  81\n",
      "PG TOL\n",
      "Iteration of proximal galerkin:  82\n",
      "PG TOL\n",
      "Iteration of proximal galerkin:  83\n",
      "PG TOL\n",
      "Iteration of proximal galerkin:  84\n",
      "PG TOL\n",
      "Iteration of proximal galerkin:  85\n",
      "PG TOL\n",
      "Iteration of proximal galerkin:  86\n",
      "PG TOL\n",
      "Iteration of proximal galerkin:  87\n",
      "PG TOL\n",
      "Iteration of proximal galerkin:  88\n",
      "PG TOL\n",
      "Iteration of proximal galerkin:  89\n",
      "PG TOL\n",
      "Iteration of proximal galerkin:  90\n",
      "PG TOL\n"
     ]
    },
    {
     "data": {
      "application/vnd.jupyter.widget-view+json": {
       "model_id": "291e059686c942a2b18116a609ac4c7d",
       "version_major": 2,
       "version_minor": 0
      },
      "text/plain": [
       "WebGuiWidget(layout=Layout(height='500px', width='100%'), value={'gui_settings': {}, 'ngsolve_version': '6.2.2…"
      ]
     },
     "metadata": {},
     "output_type": "display_data"
    },
    {
     "name": "stdout",
     "output_type": "stream",
     "text": [
      "Iteration of proximal galerkin:  91\n",
      "PG TOL\n",
      "Iteration of proximal galerkin:  92\n",
      "PG TOL\n",
      "Iteration of proximal galerkin:  93\n",
      "PG TOL\n",
      "Iteration of proximal galerkin:  94\n",
      "PG TOL\n",
      "Iteration of proximal galerkin:  95\n",
      "PG TOL\n",
      "Iteration of proximal galerkin:  96\n",
      "PG TOL\n",
      "Iteration of proximal galerkin:  97\n",
      "PG TOL\n",
      "Iteration of proximal galerkin:  98\n",
      "PG TOL\n",
      "Iteration of proximal galerkin:  99\n",
      "PG TOL\n"
     ]
    }
   ],
   "source": [
    "# H1-conforming finite element space\n",
    "fesu = VectorH1(mesh, order=2, dirichlet='left')\n",
    "fesphi = L2(mesh, order=0)\n",
    "\n",
    "fes = FESpace([fesu,fesphi])\n",
    "# define trial- and test-functions\n",
    "u, delta = fes.TrialFunction()\n",
    "v, vphi = fes.TestFunction()\n",
    "gfu_u = GridFunction(fesu)\n",
    "gfu_u.Set((0,0,1))\n",
    "\n",
    "psih = GridFunction(fesphi)\n",
    "psih.Set(1)\n",
    "\n",
    "uk = GridFunction(fesu)\n",
    "psik = GridFunction(fesphi)\n",
    "eps = 1e-6\n",
    "# define phi as the 0 function \n",
    "phi = CF(-0.1)    \n",
    "\n",
    "max_PG_it = 100\n",
    "max_iter_newton = 50\n",
    "\n",
    "alpha = Parameter(1)\n",
    "for k in range(1,max_PG_it):\n",
    "\n",
    "    alpha.Set(2**k)\n",
    "    print(\"Iteration of proximal galerkin: \", k)\n",
    "    # assing uk, psik\n",
    "    uk.vec.data = gfu_u.vec\n",
    "    psik.vec.data = psih.vec\n",
    "    for i in range(max_iter_newton):\n",
    "                    # the bilinear-form \n",
    "        a = BilinearForm(fes)\n",
    "        rho = 0.1\n",
    "        grav = 9.81\n",
    "        force = CoefficientFunction((0,0,-rho*grav))\n",
    "        with TaskManager():\n",
    "\n",
    "            # the stress tensor equation\n",
    "            a += alpha * InnerProduct(Stress(Sym(Grad(u))), Sym(Grad(v))).Compile()*dx\n",
    "            # proximal galerkin term\n",
    "            a += delta * v[2] * dx\n",
    "            a += u[2]*vphi*dx - (delta * exp(psih) * vphi * dx + eps * (grad(delta) * grad(vphi) * dx))\n",
    "            # the right hand side\n",
    "\n",
    "            lf = LinearForm(fes)\n",
    "            lf += alpha * force[2] * v[2] * dx \n",
    "            lf += (psik - psih)*v[2]*dx\n",
    "            lf += (phi + exp(psih))*vphi*dx\n",
    "        \n",
    "            a.Assemble()\n",
    "            lf.Assemble()\n",
    "        \n",
    "        # the solution field \n",
    "        gfu = GridFunction(fes)\n",
    "        # r.data = lf.vec - a.mat * gfu.vec\n",
    "        gfu.vec.data = a.mat.Inverse(freedofs=fes.FreeDofs()) * lf.vec\n",
    "        if Integrate((gfu.components[0]-gfu_u)**2, mesh) < 1e-8:\n",
    "            print(\"PG TOL\")\n",
    "            break\n",
    "        gfu_u.vec.data = gfu.components[0].vec\n",
    "        psih.vec.data = psih.vec + gfu.components[1].vec\n",
    "    if k%10 == 0:\n",
    "        Draw(gfu.components[0], mesh, \"displacement\")\n"
   ]
  },
  {
   "cell_type": "code",
   "execution_count": 64,
   "metadata": {},
   "outputs": [
    {
     "data": {
      "application/vnd.jupyter.widget-view+json": {
       "model_id": "dc3a68d9f69841dda84fcfec7a9c8693",
       "version_major": 2,
       "version_minor": 0
      },
      "text/plain": [
       "WebGuiWidget(layout=Layout(height='500px', width='100%'), value={'gui_settings': {}, 'ngsolve_version': '6.2.2…"
      ]
     },
     "metadata": {},
     "output_type": "display_data"
    },
    {
     "data": {
      "text/plain": [
       "BaseWebGuiScene"
      ]
     },
     "execution_count": 64,
     "metadata": {},
     "output_type": "execute_result"
    }
   ],
   "source": [
    "import pickle\n",
    "fil = open(\"gfu.pkl\", \"rb\")\n",
    "gfu2 = pickle.load(fil)\n",
    "Draw(gfu2.components[0]-gfu.components[0], mesh, \"displacement\")\n"
   ]
  },
  {
   "cell_type": "code",
   "execution_count": 65,
   "metadata": {},
   "outputs": [
    {
     "data": {
      "application/vnd.jupyter.widget-view+json": {
       "model_id": "9758441912924fddbb4d9c942fbc695c",
       "version_major": 2,
       "version_minor": 0
      },
      "text/plain": [
       "WebGuiWidget(layout=Layout(height='500px', width='100%'), value={'gui_settings': {}, 'ngsolve_version': '6.2.2…"
      ]
     },
     "metadata": {},
     "output_type": "display_data"
    },
    {
     "data": {
      "text/plain": [
       "BaseWebGuiScene"
      ]
     },
     "execution_count": 65,
     "metadata": {},
     "output_type": "execute_result"
    }
   ],
   "source": [
    "Draw(gfu2.components[0], mesh, \"displacement\")"
   ]
  },
  {
   "cell_type": "code",
   "execution_count": 70,
   "metadata": {},
   "outputs": [
    {
     "data": {
      "text/plain": [
       "150.3564144079736"
      ]
     },
     "execution_count": 70,
     "metadata": {},
     "output_type": "execute_result"
    }
   ],
   "source": [
    "import numpy as np\n",
    "9*(317.8)/19.0228"
   ]
  }
 ],
 "metadata": {
  "kernelspec": {
   "display_name": "Python 3",
   "language": "python",
   "name": "python3"
  },
  "language_info": {
   "codemirror_mode": {
    "name": "ipython",
    "version": 3
   },
   "file_extension": ".py",
   "mimetype": "text/x-python",
   "name": "python",
   "nbconvert_exporter": "python",
   "pygments_lexer": "ipython3",
   "version": "3.10.0"
  },
  "orig_nbformat": 4
 },
 "nbformat": 4,
 "nbformat_minor": 2
}
