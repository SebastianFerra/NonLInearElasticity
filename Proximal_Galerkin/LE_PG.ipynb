{
 "cells": [
  {
   "cell_type": "code",
   "execution_count": 1,
   "metadata": {},
   "outputs": [],
   "source": [
    "# NGSolve Libraries\n",
    "from netgen.geom2d import unit_square\n",
    "from ngsolve import *\n",
    "from ngsolve.webgui import Draw # para jupyter\n",
    "#import netgen.gui\n",
    "from netgen.occ import *\n",
    "from netgen.csg import *\n"
   ]
  },
  {
   "cell_type": "code",
   "execution_count": 2,
   "metadata": {},
   "outputs": [],
   "source": [
    "E, nu = 210, 0.2\n",
    "mu  = E / 2 / (1+nu)\n",
    "lam = E * nu / ((1+nu)*(1-2*nu))\n",
    "\n",
    "def Stress(strain):\n",
    "    return 2*mu*strain + lam*Trace(strain)*Id(3)\n"
   ]
  },
  {
   "cell_type": "code",
   "execution_count": 3,
   "metadata": {},
   "outputs": [
    {
     "data": {
      "application/vnd.jupyter.widget-view+json": {
       "model_id": "9038afa8fda343e1baf9a9d4020ec268",
       "version_major": 2,
       "version_minor": 0
      },
      "text/plain": [
       "WebGuiWidget(layout=Layout(height='500px', width='100%'), value={'gui_settings': {}, 'ngsolve_version': '6.2.2…"
      ]
     },
     "metadata": {},
     "output_type": "display_data"
    },
    {
     "data": {
      "text/plain": [
       "BaseWebGuiScene"
      ]
     },
     "execution_count": 3,
     "metadata": {},
     "output_type": "execute_result"
    }
   ],
   "source": [
    "L = 1\n",
    "w = 0.2\n",
    "left = Plane(Pnt(0,0,0), Vec(-1,0,0)).bc(\"left\")\n",
    "right = Plane(Pnt(L,0,0), Vec(1,0,0)).bc(\"right\")\n",
    "bottom = Plane(Pnt(0,0,0), Vec(0,-1,0)).bc(\"bottom\")\n",
    "top = Plane(Pnt(0,w,0), Vec(0,1,0)).bc(\"top\")\n",
    "front = Plane(Pnt(0,0,0), Vec(0,0,-1)).bc(\"front\")\n",
    "back = Plane(Pnt(0,0,w), Vec(0,0,1)).bc(\"back\")\n",
    "cube = left * right * bottom * top * front * back\n",
    "\n",
    "geo = CSGeometry()\n",
    "geo.Add(cube)\n",
    "mesh = Mesh(geo.GenerateMesh(maxh=0.1))\n",
    "Draw(mesh)\n"
   ]
  },
  {
   "cell_type": "code",
   "execution_count": null,
   "metadata": {},
   "outputs": [],
   "source": []
  },
  {
   "cell_type": "code",
   "execution_count": 4,
   "metadata": {},
   "outputs": [
    {
     "name": "stdout",
     "output_type": "stream",
     "text": [
      "Iteration of proximal galerkin:  1\n",
      "Starting newton iteration\n",
      "Iteration of proximal galerkin:  2\n",
      "Starting newton iteration\n",
      "Iteration of proximal galerkin:  3\n",
      "Starting newton iteration\n",
      "Iteration of proximal galerkin:  4\n",
      "Starting newton iteration\n",
      "Iteration of proximal galerkin:  5\n",
      "Starting newton iteration\n",
      "Iteration of proximal galerkin:  6\n",
      "Starting newton iteration\n",
      "Iteration of proximal galerkin:  7\n",
      "Starting newton iteration\n",
      "Iteration of proximal galerkin:  8\n",
      "Starting newton iteration\n",
      "Iteration of proximal galerkin:  9\n",
      "Starting newton iteration\n",
      "Iteration of proximal galerkin:  10\n",
      "Starting newton iteration\n",
      "Iteration of proximal galerkin:  11\n",
      "Starting newton iteration\n",
      "Iteration of proximal galerkin:  12\n",
      "Starting newton iteration\n",
      "Iteration of proximal galerkin:  13\n",
      "Starting newton iteration\n",
      "Iteration of proximal galerkin:  14\n",
      "Starting newton iteration\n",
      "Iteration of proximal galerkin:  15\n",
      "Starting newton iteration\n",
      "Iteration of proximal galerkin:  16\n",
      "Starting newton iteration\n",
      "Iteration of proximal galerkin:  17\n",
      "Starting newton iteration\n",
      "Iteration of proximal galerkin:  18\n",
      "Starting newton iteration\n",
      "Iteration of proximal galerkin:  19\n",
      "Starting newton iteration\n",
      "Iteration of proximal galerkin:  20\n",
      "Starting newton iteration\n",
      "Iteration of proximal galerkin:  21\n",
      "Starting newton iteration\n",
      "Iteration of proximal galerkin:  22\n",
      "Starting newton iteration\n",
      "Iteration of proximal galerkin:  23\n",
      "Starting newton iteration\n",
      "Iteration of proximal galerkin:  24\n",
      "Starting newton iteration\n",
      "Iteration of proximal galerkin:  25\n",
      "Starting newton iteration\n",
      "Iteration of proximal galerkin:  26\n",
      "Starting newton iteration\n",
      "Iteration of proximal galerkin:  27\n",
      "Starting newton iteration\n",
      "Iteration of proximal galerkin:  28\n",
      "Starting newton iteration\n",
      "Iteration of proximal galerkin:  29\n",
      "Starting newton iteration\n",
      "Iteration of proximal galerkin:  30\n",
      "Starting newton iteration\n",
      "Iteration of proximal galerkin:  31\n",
      "Starting newton iteration\n",
      "Iteration of proximal galerkin:  32\n",
      "Starting newton iteration\n",
      "Iteration of proximal galerkin:  33\n",
      "Starting newton iteration\n",
      "Iteration of proximal galerkin:  34\n",
      "Starting newton iteration\n",
      "Iteration of proximal galerkin:  35\n",
      "Starting newton iteration\n",
      "Iteration of proximal galerkin:  36\n",
      "Starting newton iteration\n",
      "Iteration of proximal galerkin:  37\n",
      "Starting newton iteration\n",
      "Iteration of proximal galerkin:  38\n",
      "Starting newton iteration\n",
      "Iteration of proximal galerkin:  39\n",
      "Starting newton iteration\n",
      "Iteration of proximal galerkin:  40\n",
      "Starting newton iteration\n",
      "Iteration of proximal galerkin:  41\n",
      "Starting newton iteration\n",
      "Iteration of proximal galerkin:  42\n",
      "Starting newton iteration\n",
      "Iteration of proximal galerkin:  43\n",
      "Starting newton iteration\n",
      "Iteration of proximal galerkin:  44\n",
      "Starting newton iteration\n",
      "Iteration of proximal galerkin:  45\n",
      "Starting newton iteration\n",
      "Iteration of proximal galerkin:  46\n",
      "Starting newton iteration\n",
      "Iteration of proximal galerkin:  47\n",
      "Starting newton iteration\n",
      "Iteration of proximal galerkin:  48\n",
      "Starting newton iteration\n",
      "Iteration of proximal galerkin:  49\n",
      "Starting newton iteration\n"
     ]
    }
   ],
   "source": [
    "# H1-conforming finite element space\n",
    "fesu = VectorH1(mesh, order=2, dirichlet='left')\n",
    "fesphi = L2(mesh, order=0)\n",
    "\n",
    "fes = FESpace([fesu,fesphi])\n",
    "# define trial- and test-functions\n",
    "u, delta = fes.TrialFunction()\n",
    "v, vphi = fes.TestFunction()\n",
    "gfu_u = GridFunction(fesu)\n",
    "gfu_u.Set((0,0,1))\n",
    "\n",
    "psih = GridFunction(fesphi)\n",
    "psih.Set(1)\n",
    "\n",
    "uk = GridFunction(fesu)\n",
    "psik = GridFunction(fesphi)\n",
    "eps = 1e-6\n",
    "# define phi as the 0 function \n",
    "phi = CF(-0.1)    \n",
    "\n",
    "max_PG_it = 50\n",
    "max_iter_newton = 10\n",
    "\n",
    "alpha = Parameter(1)\n",
    "for k in range(1,max_PG_it):\n",
    "\n",
    "    alpha.Set(2**k)\n",
    "    print(\"Iteration of proximal galerkin: \", k)\n",
    "    # assing uk, psik\n",
    "    uk.vec.data = gfu_u.vec\n",
    "    psik.vec.data = psih.vec\n",
    "    print(\"Starting newton iteration\")\n",
    "    for i in range(max_iter_newton):\n",
    "        with TaskManager():\n",
    "            # the bilinear-form \n",
    "            a = BilinearForm(fes)\n",
    "            # the stress tensor equation\n",
    "            a += alpha * InnerProduct(Stress(Sym(Grad(u))), Sym(Grad(v))).Compile()*dx\n",
    "            # proximal galerkin term\n",
    "            a += delta * v[2] * dx\n",
    "            a += u[2]*vphi*dx - (delta * exp(psih) * vphi * dx + eps * (grad(delta) * grad(vphi) * dx))\n",
    "            # the right hand side\n",
    "            rho = 0.1\n",
    "            grav = 9.81\n",
    "            force = CoefficientFunction((0,0,-rho*grav))\n",
    "            lf = LinearForm(fes)\n",
    "            lf += alpha * force[2] * v[2] * dx \n",
    "            lf += (psik - psih)*v[2]*dx\n",
    "            lf += (phi + exp(psih))*vphi*dx\n",
    "\n",
    "            a.Assemble()\n",
    "            lf.Assemble()\n",
    "            # the solution field \n",
    "            gfu = GridFunction(fes)\n",
    "            # r.data = lf.vec - a.mat * gfu.vec\n",
    "            gfu.vec.data = a.mat.Inverse(freedofs=fes.FreeDofs()) * lf.vec\n",
    "            gfu_u.vec.data = gfu.components[0].vec\n",
    "            psih.vec.data = psih.vec + gfu.components[1].vec\n"
   ]
  },
  {
   "cell_type": "code",
   "execution_count": 5,
   "metadata": {},
   "outputs": [
    {
     "data": {
      "application/vnd.jupyter.widget-view+json": {
       "model_id": "1d0e7bee73b24797833a344e05e30f2e",
       "version_major": 2,
       "version_minor": 0
      },
      "text/plain": [
       "WebGuiWidget(layout=Layout(height='500px', width='100%'), value={'gui_settings': {}, 'ngsolve_version': '6.2.2…"
      ]
     },
     "metadata": {},
     "output_type": "display_data"
    },
    {
     "data": {
      "text/plain": [
       "BaseWebGuiScene"
      ]
     },
     "execution_count": 5,
     "metadata": {},
     "output_type": "execute_result"
    }
   ],
   "source": [
    "Draw(gfu.components[0], mesh, 'displacement')\n"
   ]
  }
 ],
 "metadata": {
  "kernelspec": {
   "display_name": "Python 3",
   "language": "python",
   "name": "python3"
  },
  "language_info": {
   "codemirror_mode": {
    "name": "ipython",
    "version": 3
   },
   "file_extension": ".py",
   "mimetype": "text/x-python",
   "name": "python",
   "nbconvert_exporter": "python",
   "pygments_lexer": "ipython3",
   "version": "3.10.12"
  },
  "orig_nbformat": 4
 },
 "nbformat": 4,
 "nbformat_minor": 2
}
