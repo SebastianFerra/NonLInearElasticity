{
 "cells": [
  {
   "cell_type": "code",
   "execution_count": 1,
   "metadata": {},
   "outputs": [],
   "source": [
    "# NGSolve Libraries\n",
    "from netgen.geom2d import unit_square\n",
    "from ngsolve import *\n",
    "from ngsolve.webgui import Draw # para jupyter 1    \n",
    "#import netgen.gui\n",
    "from netgen.occ import *\n",
    "from netgen.csg import *\n"
   ]
  },
  {
   "cell_type": "code",
   "execution_count": 2,
   "metadata": {},
   "outputs": [],
   "source": [
    "E, nu = 50, 0.1\n",
    "mu  = E / 2 / (1+nu)\n",
    "lam = E * nu / ((1+nu)*(1-2*nu))\n",
    "\n",
    "def Stress(strain):\n",
    "    return 2*mu*strain + lam*Trace(strain)*Id(3)\n"
   ]
  },
  {
   "cell_type": "code",
   "execution_count": 3,
   "metadata": {},
   "outputs": [
    {
     "data": {
      "application/vnd.jupyter.widget-view+json": {
       "model_id": "43a45997e3df4eb18f85d08be9f64e9c",
       "version_major": 2,
       "version_minor": 0
      },
      "text/plain": [
       "WebGuiWidget(layout=Layout(height='500px', width='100%'), value={'gui_settings': {}, 'ngsolve_version': '6.2.2…"
      ]
     },
     "metadata": {},
     "output_type": "display_data"
    },
    {
     "data": {
      "text/plain": [
       "BaseWebGuiScene"
      ]
     },
     "execution_count": 3,
     "metadata": {},
     "output_type": "execute_result"
    }
   ],
   "source": [
    "L = 1\n",
    "w = 0.2\n",
    "left = Plane(Pnt(0,0,0), Vec(-1,0,0)).bc(\"left\")\n",
    "right = Plane(Pnt(L,0,0), Vec(1,0,0)).bc(\"right\")\n",
    "bottom = Plane(Pnt(0,0,0), Vec(0,-1,0)).bc(\"bottom\")\n",
    "top = Plane(Pnt(0,w,0), Vec(0,1,0)).bc(\"top\")\n",
    "front = Plane(Pnt(0,0,0), Vec(0,0,-1)).bc(\"front\")\n",
    "back = Plane(Pnt(0,0,w), Vec(0,0,1)).bc(\"back\")\n",
    "cube = left * right * bottom * top * front * back\n",
    "\n",
    "geo = CSGeometry()\n",
    "geo.Add(cube)\n",
    "mesh = Mesh(geo.GenerateMesh(maxh=0.1))\n",
    "Draw(mesh)\n"
   ]
  },
  {
   "cell_type": "code",
   "execution_count": 4,
   "metadata": {},
   "outputs": [
    {
     "name": "stdout",
     "output_type": "stream",
     "text": [
      "\u001b[2KCG iteration 1, residual = 0.16090515907119327     \n",
      "\u001b[2KCG iteration 2, residual = 0.044774883645356964     \n",
      "\u001b[2KCG iteration 3, residual = 0.018416697736701636     \n",
      "\u001b[2KCG iteration 4, residual = 0.007491920762706081     \n",
      "\u001b[2KCG iteration 5, residual = 0.003000954961793781     \n",
      "\u001b[2KCG iteration 6, residual = 0.0008683684730177719     \n",
      "\u001b[2KCG iteration 7, residual = 0.00043069456591761384     \n",
      "\u001b[2KCG iteration 8, residual = 0.00018050729698157838     \n",
      "\u001b[2KCG iteration 9, residual = 7.275622282891673e-05     \n",
      "\u001b[2KCG iteration 10, residual = 2.8489180078394604e-05     \n",
      "\u001b[2KCG iteration 11, residual = 9.860412607602313e-06     \n",
      "\u001b[2KCG iteration 12, residual = 4.228078367987132e-06     \n",
      "\u001b[2KCG iteration 13, residual = 1.8381375679198749e-06     \n",
      "\u001b[2KCG iteration 14, residual = 7.285589439859848e-07     \n",
      "\u001b[2KCG iteration 15, residual = 2.486973201740011e-07     \n",
      "\u001b[2KCG iteration 16, residual = 1.0083278232218271e-07     \n",
      "\u001b[2KCG iteration 17, residual = 3.940230121584218e-08     \n",
      "\u001b[2KCG iteration 18, residual = 1.5572137581635948e-08     \n",
      "\u001b[2KCG iteration 19, residual = 4.809138701191275e-09     \n",
      "\u001b[2KCG iteration 20, residual = 1.98271777055176e-09     \n",
      "\u001b[2KCG iteration 21, residual = 7.290454760148356e-10     \n"
     ]
    }
   ],
   "source": [
    "fes = VectorH1(mesh, order=3, dirichlet=\"left\")\n",
    "u,v = fes.TnT()\n",
    "gfu = GridFunction(fes)\n",
    "\n",
    "with TaskManager():\n",
    "    a = BilinearForm(InnerProduct(Stress(Sym(Grad(u))), Sym(Grad(v))).Compile()*dx)\n",
    "    pre = Preconditioner(a, \"bddc\")\n",
    "    a.Assemble()\n",
    "\n",
    "rho = 0.1\n",
    "grav = 9.81\n",
    "force = CoefficientFunction((0,0,-rho*grav))\n",
    "f = LinearForm(force[2]*v[2]*dx).Assemble()\n",
    "from ngsolve.krylovspace import CGSolver\n",
    "inv = CGSolver(a.mat, pre, printrates=True, tol=1e-8)\n",
    "gfu.vec.data = inv * f.vec"
   ]
  },
  {
   "cell_type": "code",
   "execution_count": 5,
   "metadata": {},
   "outputs": [
    {
     "data": {
      "application/vnd.jupyter.widget-view+json": {
       "model_id": "937e97ddbd8740479aa06cee85e0ed99",
       "version_major": 2,
       "version_minor": 0
      },
      "text/plain": [
       "WebGuiWidget(layout=Layout(height='500px', width='100%'), value={'gui_settings': {}, 'ngsolve_version': '6.2.2…"
      ]
     },
     "metadata": {},
     "output_type": "display_data"
    },
    {
     "data": {
      "text/plain": [
       "BaseWebGuiScene"
      ]
     },
     "execution_count": 5,
     "metadata": {},
     "output_type": "execute_result"
    }
   ],
   "source": [
    "Draw(gfu, mesh, \"Displacement\", deformation=True)"
   ]
  },
  {
   "cell_type": "code",
   "execution_count": 6,
   "metadata": {},
   "outputs": [
    {
     "name": "stdout",
     "output_type": "stream",
     "text": [
      "Iteration of proximal galerkin:  1\n",
      "Newton tol\n",
      "Iteration of proximal galerkin:  2\n",
      "Newton tol\n",
      "Iteration of proximal galerkin:  3\n",
      "Newton tol\n",
      "Iteration of proximal galerkin:  4\n",
      "Newton tol\n",
      "Iteration of proximal galerkin:  5\n",
      "Newton tol\n",
      "PG tol\n"
     ]
    },
    {
     "data": {
      "application/vnd.jupyter.widget-view+json": {
       "model_id": "4cf0bb1cd1a14d85b696c156b7761ece",
       "version_major": 2,
       "version_minor": 0
      },
      "text/plain": [
       "WebGuiWidget(layout=Layout(height='500px', width='100%'), value={'gui_settings': {}, 'ngsolve_version': '6.2.2…"
      ]
     },
     "metadata": {},
     "output_type": "display_data"
    }
   ],
   "source": [
    "ord_u = 3 \n",
    "ord_phi = ord_u - 3\n",
    "\n",
    "# H1-conforming finite element space\n",
    "fesu = VectorH1(mesh, order=ord_u, dirichlet='left')\n",
    "fesphi = L2(mesh, order=ord_phi)\n",
    "\n",
    "fes = FESpace([fesu,fesphi])\n",
    "# define trial- and test-functions\n",
    "u, delta = fes.TrialFunction()\n",
    "v, vphi = fes.TestFunction()\n",
    "gfu_u = GridFunction(fesu)\n",
    "gfu_u.Set((0,0,1))\n",
    "\n",
    "psih = GridFunction(fesphi)\n",
    "psih.Set(1)\n",
    "\n",
    "uk = GridFunction(fesu)\n",
    "psik = GridFunction(fesphi)\n",
    "eps = 1e-6\n",
    "# define phi as the 0 function \n",
    "phi = CF(-0.1)    \n",
    "\n",
    "max_PG_it = 100\n",
    "max_iter_newton = 50\n",
    "\n",
    "alpha = Parameter(1)\n",
    "for k in range(1,max_PG_it):\n",
    "\n",
    "    alpha.Set(2**k)\n",
    "    print(\"Iteration of proximal galerkin: \", k)\n",
    "    # assing uk, psik\n",
    "    uk.vec.data = gfu_u.vec\n",
    "    psik.vec.data = psih.vec\n",
    "    for i in range(max_iter_newton):\n",
    "                    # the bilinear-form \n",
    "        a = BilinearForm(fes)\n",
    "        rho = 0.1\n",
    "        grav = 9.81\n",
    "        force = CoefficientFunction((0,0,-rho*grav))\n",
    "        with TaskManager():\n",
    "\n",
    "            # the stress tensor equation\n",
    "            a += alpha * InnerProduct(Stress(Sym(Grad(u))), Sym(Grad(v))).Compile()*dx\n",
    "            # proximal galerkin term\n",
    "            a += delta * v[2] * dx\n",
    "            a += u[2] * vphi * dx  \n",
    "\n",
    "            if ord_phi == 0:\n",
    "                a += -delta * exp(psih) * vphi * dx - eps * (delta * vphi * dx)\n",
    "            else:\n",
    "                a+= -delta * exp(psih) * vphi * dx - eps * (grad(delta) * grad(vphi) * dx)\n",
    "    \n",
    "            # the right hand side\n",
    "            lf = LinearForm(fes)\n",
    "            lf += alpha * force[2] * v[2] * dx \n",
    "            lf += (psik - psih) *v [2] * dx\n",
    "            lf += (phi + exp(psih)) * vphi * dx\n",
    "        \n",
    "            a.Assemble()\n",
    "            lf.Assemble()\n",
    "\n",
    "        gfu = GridFunction(fes)\n",
    "        gfu.vec.data = a.mat.Inverse(freedofs=fes.FreeDofs()) * lf.vec\n",
    "\n",
    "        if Integrate((gfu.components[0]-gfu_u)**2, mesh) < 1e-8:\n",
    "            print(\"Newton tol\")\n",
    "            break\n",
    "        gfu_u.vec.data = gfu.components[0].vec\n",
    "        psih.vec.data = psih.vec + gfu.components[1].vec\n",
    "    if Integrate((uk-gfu_u)**2, mesh) < 1e-8:\n",
    "        print(\"PG tol\")\n",
    "        Draw(gfu.components[0], mesh, \"displacement\")\n",
    "        break\n",
    "    if k%10 == 0:\n",
    "        Draw(gfu.components[0], mesh, \"displacement\")\n"
   ]
  },
  {
   "cell_type": "code",
   "execution_count": 7,
   "metadata": {},
   "outputs": [
    {
     "data": {
      "application/vnd.jupyter.widget-view+json": {
       "model_id": "edd9af1eb799444da125a3350334a2c0",
       "version_major": 2,
       "version_minor": 0
      },
      "text/plain": [
       "WebGuiWidget(layout=Layout(height='500px', width='100%'), value={'gui_settings': {}, 'ngsolve_version': '6.2.2…"
      ]
     },
     "metadata": {},
     "output_type": "display_data"
    },
    {
     "data": {
      "text/plain": [
       "BaseWebGuiScene"
      ]
     },
     "execution_count": 7,
     "metadata": {},
     "output_type": "execute_result"
    }
   ],
   "source": [
    "import pickle\n",
    "fil = open(\"gfu.pkl\", \"rb\")\n",
    "gfu2 = pickle.load(fil)\n",
    "Draw(gfu2-gfu.components[0], mesh, \"displacement\")\n"
   ]
  },
  {
   "cell_type": "code",
   "execution_count": 8,
   "metadata": {},
   "outputs": [
    {
     "data": {
      "application/vnd.jupyter.widget-view+json": {
       "model_id": "4897a9bedc0a456697c5092d4d6da413",
       "version_major": 2,
       "version_minor": 0
      },
      "text/plain": [
       "WebGuiWidget(layout=Layout(height='500px', width='100%'), value={'gui_settings': {}, 'ngsolve_version': '6.2.2…"
      ]
     },
     "metadata": {},
     "output_type": "display_data"
    },
    {
     "data": {
      "text/plain": [
       "BaseWebGuiScene"
      ]
     },
     "execution_count": 8,
     "metadata": {},
     "output_type": "execute_result"
    }
   ],
   "source": [
    "Draw(gfu2.components[0], mesh, \"displacement\")"
   ]
  },
  {
   "cell_type": "code",
   "execution_count": 9,
   "metadata": {},
   "outputs": [
    {
     "data": {
      "text/plain": [
       "150.3564144079736"
      ]
     },
     "execution_count": 9,
     "metadata": {},
     "output_type": "execute_result"
    }
   ],
   "source": [
    "import numpy as np\n",
    "9*(317.8)/19.0228"
   ]
  }
 ],
 "metadata": {
  "kernelspec": {
   "display_name": "Python 3",
   "language": "python",
   "name": "python3"
  },
  "language_info": {
   "codemirror_mode": {
    "name": "ipython",
    "version": 3
   },
   "file_extension": ".py",
   "mimetype": "text/x-python",
   "name": "python",
   "nbconvert_exporter": "python",
   "pygments_lexer": "ipython3",
   "version": "3.13.1"
  },
  "orig_nbformat": 4
 },
 "nbformat": 4,
 "nbformat_minor": 2
}
