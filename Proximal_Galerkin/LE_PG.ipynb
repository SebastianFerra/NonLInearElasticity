{
 "cells": [
  {
   "cell_type": "code",
   "execution_count": 58,
   "metadata": {},
   "outputs": [],
   "source": [
    "# NGSolve Libraries\n",
    "from netgen.geom2d import unit_square\n",
    "from ngsolve import *\n",
    "from ngsolve.webgui import Draw # para jupyter\n",
    "#import netgen.gui\n",
    "from netgen.occ import *\n",
    "from netgen.csg import *\n"
   ]
  },
  {
   "cell_type": "code",
   "execution_count": 59,
   "metadata": {},
   "outputs": [],
   "source": [
    "E, nu = 50, 0.1\n",
    "mu  = E / 2 / (1+nu)\n",
    "lam = E * nu / ((1+nu)*(1-2*nu))\n",
    "\n",
    "def Stress(strain):\n",
    "    return 2*mu*strain + lam*Trace(strain)*Id(3)\n"
   ]
  },
  {
   "cell_type": "code",
   "execution_count": 60,
   "metadata": {},
   "outputs": [
    {
     "data": {
      "application/vnd.jupyter.widget-view+json": {
       "model_id": "d03f43a86c264ffdabc21157ba6c8115",
       "version_major": 2,
       "version_minor": 0
      },
      "text/plain": [
       "WebGuiWidget(layout=Layout(height='500px', width='100%'), value={'gui_settings': {}, 'ngsolve_version': '6.2.2…"
      ]
     },
     "metadata": {},
     "output_type": "display_data"
    },
    {
     "data": {
      "text/plain": [
       "BaseWebGuiScene"
      ]
     },
     "execution_count": 60,
     "metadata": {},
     "output_type": "execute_result"
    }
   ],
   "source": [
    "L = 1\n",
    "w = 0.2\n",
    "left = Plane(Pnt(0,0,0), Vec(-1,0,0)).bc(\"left\")\n",
    "right = Plane(Pnt(L,0,0), Vec(1,0,0)).bc(\"right\")\n",
    "bottom = Plane(Pnt(0,0,0), Vec(0,-1,0)).bc(\"bottom\")\n",
    "top = Plane(Pnt(0,w,0), Vec(0,1,0)).bc(\"top\")\n",
    "front = Plane(Pnt(0,0,0), Vec(0,0,-1)).bc(\"front\")\n",
    "back = Plane(Pnt(0,0,w), Vec(0,0,1)).bc(\"back\")\n",
    "cube = left * right * bottom * top * front * back\n",
    "\n",
    "geo = CSGeometry()\n",
    "geo.Add(cube)\n",
    "mesh = Mesh(geo.GenerateMesh(maxh=0.1))\n",
    "Draw(mesh)\n"
   ]
  },
  {
   "cell_type": "code",
   "execution_count": null,
   "metadata": {},
   "outputs": [],
   "source": []
  },
  {
   "cell_type": "code",
   "execution_count": 61,
   "metadata": {},
   "outputs": [
    {
     "name": "stdout",
     "output_type": "stream",
     "text": [
      "Iteration of proximal galerkin:  1\n",
      "newton tol\n",
      "Iteration of proximal galerkin:  2\n",
      "newton tol\n",
      "Iteration of proximal galerkin:  3\n",
      "newton tol\n",
      "Iteration of proximal galerkin:  4\n",
      "newton tol\n",
      "Iteration of proximal galerkin:  5\n",
      "newton tol\n",
      "PG tol\n"
     ]
    },
    {
     "data": {
      "application/vnd.jupyter.widget-view+json": {
       "model_id": "b320e57e892b4ff4ab4ae22a3c0d86ef",
       "version_major": 2,
       "version_minor": 0
      },
      "text/plain": [
       "WebGuiWidget(layout=Layout(height='500px', width='100%'), value={'gui_settings': {}, 'ngsolve_version': '6.2.2…"
      ]
     },
     "metadata": {},
     "output_type": "display_data"
    }
   ],
   "source": [
    "ord_u = 2   \n",
    "ord_phi = ord_u - 2\n",
    "\n",
    "# H1-conforming finite element space\n",
    "fesu = VectorH1(mesh, order=ord_u, dirichlet='left')\n",
    "fesphi = L2(mesh, order=ord_phi)\n",
    "\n",
    "fes = FESpace([fesu,fesphi])\n",
    "# define trial- and test-functions\n",
    "u, delta = fes.TrialFunction()\n",
    "v, vphi = fes.TestFunction()\n",
    "gfu_u = GridFunction(fesu)\n",
    "gfu_u.Set((0,0,1))\n",
    "\n",
    "psih = GridFunction(fesphi)\n",
    "psih.Set(1)\n",
    "\n",
    "uk = GridFunction(fesu)\n",
    "psik = GridFunction(fesphi)\n",
    "eps = 1e-6\n",
    "# define phi as the 0 function \n",
    "phi = CF(-0.1)    \n",
    "\n",
    "max_PG_it = 100\n",
    "max_iter_newton = 50\n",
    "\n",
    "alpha = Parameter(1)\n",
    "for k in range(1,max_PG_it):\n",
    "\n",
    "    alpha.Set(2**k)\n",
    "    print(\"Iteration of proximal galerkin: \", k)\n",
    "    # assing uk, psik\n",
    "    uk.vec.data = gfu_u.vec\n",
    "    psik.vec.data = psih.vec\n",
    "    for i in range(max_iter_newton):\n",
    "                    # the bilinear-form \n",
    "        a = BilinearForm(fes)\n",
    "        rho = 0.1\n",
    "        grav = 9.81\n",
    "        force = CoefficientFunction((0,0,-rho*grav))\n",
    "        with TaskManager():\n",
    "\n",
    "            # the stress tensor equation\n",
    "            a += alpha * InnerProduct(Stress(Sym(Grad(u))), Sym(Grad(v))).Compile()*dx\n",
    "            # proximal galerkin term\n",
    "            a += delta * v[2] * dx\n",
    "            a += u[2]*vphi*dx  \n",
    "            if ord_phi == 0:\n",
    "                a += -delta * exp(psih) * vphi * dx - eps * (delta * vphi * dx)\n",
    "            else:\n",
    "                a+= -delta * exp(psih) * vphi * dx - eps * (grad(delta) * grad(vphi) * dx)\n",
    "            ##REVISAR c_\\varepsilon \n",
    "            # the right hand side\n",
    "\n",
    "            lf = LinearForm(fes)\n",
    "            lf += alpha * force[2] * v[2] * dx \n",
    "            lf += (psik - psih)*v[2]*dx\n",
    "            lf += (phi + exp(psih))*vphi*dx\n",
    "        \n",
    "            a.Assemble()\n",
    "            lf.Assemble()\n",
    "        \n",
    "        # the solution field \n",
    "        gfu = GridFunction(fes)\n",
    "        # r.data = lf.vec - a.mat * gfu.vec\n",
    "        gfu.vec.data = a.mat.Inverse(freedofs=fes.FreeDofs()) * lf.vec\n",
    "        if Integrate((gfu.components[0]-gfu_u)**2, mesh) < 1e-8:\n",
    "            print(\"newton tol\")\n",
    "            break\n",
    "        gfu_u.vec.data = gfu.components[0].vec\n",
    "        psih.vec.data = psih.vec + gfu.components[1].vec\n",
    "    if Integrate((uk-gfu_u)**2, mesh) < 1e-8:\n",
    "        print(\"PG tol\")\n",
    "        Draw(gfu.components[0], mesh, \"displacement\")\n",
    "        break\n",
    "    if k%10 == 0:\n",
    "        Draw(gfu.components[0], mesh, \"displacement\")\n"
   ]
  },
  {
   "cell_type": "code",
   "execution_count": 63,
   "metadata": {},
   "outputs": [
    {
     "data": {
      "application/vnd.jupyter.widget-view+json": {
       "model_id": "705bc5386f3140fdaa14ecaeee87dbfa",
       "version_major": 2,
       "version_minor": 0
      },
      "text/plain": [
       "WebGuiWidget(layout=Layout(height='500px', width='100%'), value={'gui_settings': {}, 'ngsolve_version': '6.2.2…"
      ]
     },
     "metadata": {},
     "output_type": "display_data"
    },
    {
     "data": {
      "text/plain": [
       "BaseWebGuiScene"
      ]
     },
     "execution_count": 63,
     "metadata": {},
     "output_type": "execute_result"
    }
   ],
   "source": [
    "import pickle\n",
    "fil = open(\"gfu.pkl\", \"rb\")\n",
    "gfu2 = pickle.load(fil)\n",
    "Draw(gfu2-gfu.components[0], mesh, \"displacement\")\n"
   ]
  },
  {
   "cell_type": "code",
   "execution_count": 46,
   "metadata": {},
   "outputs": [
    {
     "data": {
      "application/vnd.jupyter.widget-view+json": {
       "model_id": "7a8b05f8e7e244ecae5a72634e7e315f",
       "version_major": 2,
       "version_minor": 0
      },
      "text/plain": [
       "WebGuiWidget(layout=Layout(height='500px', width='100%'), value={'gui_settings': {}, 'ngsolve_version': '6.2.2…"
      ]
     },
     "metadata": {},
     "output_type": "display_data"
    },
    {
     "data": {
      "text/plain": [
       "BaseWebGuiScene"
      ]
     },
     "execution_count": 46,
     "metadata": {},
     "output_type": "execute_result"
    }
   ],
   "source": [
    "Draw(gfu2.components[0], mesh, \"displacement\")"
   ]
  },
  {
   "cell_type": "code",
   "execution_count": 47,
   "metadata": {},
   "outputs": [
    {
     "data": {
      "text/plain": [
       "150.3564144079736"
      ]
     },
     "execution_count": 47,
     "metadata": {},
     "output_type": "execute_result"
    }
   ],
   "source": [
    "import numpy as np\n",
    "9*(317.8)/19.0228"
   ]
  }
 ],
 "metadata": {
  "kernelspec": {
   "display_name": "Python 3",
   "language": "python",
   "name": "python3"
  },
  "language_info": {
   "codemirror_mode": {
    "name": "ipython",
    "version": 3
   },
   "file_extension": ".py",
   "mimetype": "text/x-python",
   "name": "python",
   "nbconvert_exporter": "python",
   "pygments_lexer": "ipython3",
   "version": "3.13.1"
  },
  "orig_nbformat": 4
 },
 "nbformat": 4,
 "nbformat_minor": 2
}
