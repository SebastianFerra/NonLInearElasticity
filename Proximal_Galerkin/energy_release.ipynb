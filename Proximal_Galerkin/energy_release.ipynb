{
 "cells": [
  {
   "cell_type": "code",
   "execution_count": 16,
   "metadata": {},
   "outputs": [],
   "source": [
    "# NGSolve Libraries\n",
    "from netgen.geom2d import unit_square\n",
    "from ngsolve.meshes import MakeStructured2DMesh, MakeStructured3DMesh\n",
    "from ngsolve import *\n",
    "from ngsolve.webgui import Draw # para jupyter\n",
    "#import netgen.gui\n",
    "from netgen.occ import *\n",
    "from netgen.csg import *\n",
    "from netgen.geom2d import SplineGeometry\n",
    "import sys\n",
    "sys.path.insert(0,\"../\")\n",
    "import problems\n",
    "import numpy as np\n",
    "import params\n",
    "import pickle\n",
    "from time import time\n",
    "import pandas as pd\n",
    "import scipy\n",
    "from scipy.optimize import minimize_scalar\n",
    "import matplotlib.pyplot as plt"
   ]
  },
  {
   "cell_type": "code",
   "execution_count": 17,
   "metadata": {},
   "outputs": [],
   "source": [
    "def gen_latex_table(df, caption, label):\n",
    "    \"\"\"Generates a LaTeX table from a pandas DataFrame.\"\"\"\n",
    "    latex_table = df.to_latex(index=False, caption=caption, label=label, float_format=\"%.4e\")\n",
    "    return latex_table"
   ]
  },
  {
   "cell_type": "code",
   "execution_count": 18,
   "metadata": {},
   "outputs": [],
   "source": [
    "def get_custom_frobenius_norm(A,theta):\n",
    "   return A[0,0]**2 + A[1,1]**2 + (1/theta**2) * A[0,1]**2 + theta**2 * A[1,0]**2\n"
   ]
  },
  {
   "cell_type": "code",
   "execution_count": 19,
   "metadata": {},
   "outputs": [],
   "source": [
    "## get problem parameters and geometry\n",
    "problem = problems.problem4\n",
    "phi0 = problem[0]['phi0']\n",
    "chi = problem[0]['chi']\n",
    "G_target = problem[0]['G']\n",
    "geom = \"../\"+problem[1]\n",
    "dim = problem[0]['dim']\n",
    "BC = problem[2]\n",
    "name = problem[-1]\n",
    "h = 0.05\n",
    "ord = 2\n",
    "N = params.N\n",
    "KBTV = params.KBTV\n",
    "form = \"Functional\" # EDP //functional\n",
    "\n",
    "rho = 1.23e-6\n",
    "gel_measures = [[15.0,90,1.62],[23.5,90,3.0]]\n",
    "\n",
    "G = Parameter(G_target)\n",
    "\n",
    "def reference_energy(lambda1,lambda2,lambda3):\n",
    "    G=G_target\n",
    "    nu = KBTV\n",
    "    J= lambda1*lambda2*lambda3\n",
    "    return 0.5*G*(lambda1**2 + lambda2**2 + lambda3**2) + nu*((J-phi0)*np.log(1-phi0/J) + phi0*chi*(1-phi0/J))\n",
    "\n",
    "def dH( J):\n",
    "        return phi0/J + np.log(1-phi0/J) + chi * (phi0/J)**2\n",
    "def aux_isotropic(s):\n",
    "    return s*dH(s*s*s) + G_target/KBTV\n",
    "\n",
    "l_iso = (scipy.optimize.fsolve(aux_isotropic, 1.7))[0]\n",
    "\n",
    "reference_energy_val = reference_energy(l_iso,l_iso,l_iso)\n",
    "def H_scalar(J):\n",
    "        return (J - phi0) * np.log(1-phi0/J) + phi0*chi*(1-phi0/J)\n",
    "def lambda_uni(lamb):\n",
    "        return G_target*0.5*(2+lamb**2)+KBTV*H_scalar(lamb)\n",
    "    \n",
    "l_uni = minimize_scalar(lambda_uni,bounds=(0,2),method='bounded').x\n",
    "def auxFunctionUniaxial(s):\n",
    "    gamma = G_target/(KBTV)\n",
    "    return dH(s) +gamma*s\n",
    "\n",
    "def run_experiment(delta,measures,n_delta,h = 0.05):\n",
    "    delta = np.round(delta,2)\n",
    "    w,l,d = measures\n",
    "    theta = w/l\n",
    "\n",
    "    mapping_first_mesh = lambda x,y: ((x*(0.5 - delta/2)) +delta/2, y-0.5)\n",
    "    mesh = MakeStructured2DMesh(\n",
    "        nx=(19-n_delta)*2, ny=2*int(1/h), mapping=mapping_first_mesh, quads=False)\n",
    "    Draw(mesh)\n",
    "\n",
    "    def Gel_energy_functional(u,beta):\n",
    "            Grad_custom = CF((Grad(u)[0,0], (1/theta)*Grad(u)[0,1],\n",
    "                            theta*Grad(u)[1,0], Grad(u)[1,1]),dims=(2,2))\n",
    "            F = Id(2) + Grad_custom\n",
    "            J = Det(F) * beta\n",
    "            phi = phi0/J\n",
    "            H = (J - phi0)*log(1-phi)  + phi0 * chi*(1-phi)\n",
    "            return 0.5*(G)* (get_custom_frobenius_norm(F,theta) + beta**2) + H * KBTV \n",
    "    def energy_functional(F):\n",
    "        J = Det(F)\n",
    "        C = F.trans* F\n",
    "    \n",
    "        G = G_target\n",
    "      \n",
    "        H = lambda J: (J - phi0) * log(1-phi0/J) + phi0*chi*(1-phi0/J)\n",
    "        \n",
    "        return 0.5*G*(Trace(C)) + KBTV * H(J) -  reference_energy_val\n",
    "\n",
    "\n",
    "    ## Generate spaces and forms\n",
    "    \"\"\"\n",
    "    To bond the gel go to geometries and describe the bonding\n",
    "    face there, not here.\n",
    "    \"\"\"\n",
    "    fesu = VectorH1(mesh, order = ord, dirichlet = \"left\")\n",
    "    fesbeta = H1(mesh, order = ord)\n",
    "    fes = FESpace([fesu, fesbeta])\n",
    "    u, beta = fes.TrialFunction()\n",
    "    BF = BilinearForm(fes)\n",
    "    gfu = GridFunction(fes)\n",
    "    gfu.components[0].Set((0,0))\n",
    "    gfu.components[1].Set(1)\n",
    "    BF += Variation(Gel_energy_functional(u,beta).Compile()*dx)\n",
    "    ##### solve with newton\n",
    "    max_iter_newton = 150\n",
    "    newton_damp = 0.3\n",
    "    softening_n = 150\n",
    "\n",
    "    tol_newton = 1e-8\n",
    "    gammas = np.flip(np.linspace(G_target, G_target*20 ,softening_n))\n",
    "\n",
    "    for num in range(len(gammas)):\n",
    "        G.Set(gammas[num])\n",
    "        res = gfu.vec.CreateVector()\n",
    "        w_vec = gfu.vec.CreateVector()\n",
    "        for iter in range(max_iter_newton):\n",
    "            with TaskManager():\n",
    "                BF.Apply(gfu.vec,res)\n",
    "                BF.AssembleLinearization(gfu.vec)\n",
    "                inv = BF.mat.Inverse(freedofs= fes.FreeDofs())\n",
    "                w_vec.data = newton_damp * inv * res\n",
    "            gfu.vec.data += -w_vec\n",
    "            if abs(InnerProduct(w_vec,res)) < tol_newton:\n",
    "                break \n",
    "\n",
    "    gfu2 = GridFunction(fesu)\n",
    "    gfu2.components[0].Set(gfu.components[0].components[1])\n",
    "    gfu2.components[1].Set(gfu.components[0].components[0])\n",
    "\n",
    "    \n",
    "    def H_scalar(J):\n",
    "        return (J - phi0) * np.log(1-phi0/J) + phi0*chi*(1-phi0/J)\n",
    "\n",
    "    def lambda_uni(lamb):\n",
    "        return G_target*0.5*(2+lamb**2)+KBTV*H_scalar(lamb)\n",
    "    \n",
    "    l_uni = minimize_scalar(lambda_uni,bounds=(0,4),method='bounded').x\n",
    "    h = 1.0\n",
    "    mapping_unit_cube = lambda x,y,z: ((1/2)*x,y-0.5 , z)\n",
    "    mapping_phisical_gel = lambda x ,y ,z: (x*l/2, -w/2 + y*w, z*d)\n",
    "\n",
    "    mesh_unit_cube = MakeStructured3DMesh(nx=200, ny=int(w/h), nz=int(d/h),mapping=mapping_unit_cube, hexes = False)\n",
    "    mesh_phisical_gel = MakeStructured3DMesh(\n",
    "        nx=200, ny=int(w/h), nz=int(d/h),\n",
    "        mapping=mapping_phisical_gel, hexes= False)\n",
    "    \n",
    "    \n",
    "    mesh_center = MakeStructured3DMesh(\n",
    "        nx=200, ny=int(w/h), nz=int(d/h),\n",
    "        mapping=lambda x,y,z: (-l*delta/2 + x*l*delta, -w/2 + y*w, z*d), hexes= False)\n",
    "    \n",
    "    mesh_wing_cube = MakeStructured3DMesh(\n",
    "        nx=200, ny=int(w/h), nz=int(d/h),\n",
    "        mapping=lambda x,y,z: (delta/2 + x*(1-delta)/2, -1/2 + y, z), hexes= False)\n",
    "    \n",
    "    aux_z = IfPos(-delta/2+x, z,0)\n",
    "    \n",
    "    # create the gridfunctions for the different meshes\n",
    "    fes_unit_cube = VectorH1(mesh_wing_cube, order=ord)\n",
    "    gfu_unit_cube = GridFunction(fes_unit_cube)\n",
    "    gfu_unit_cube.components[0].Set(gfu.components[0].components[0])\n",
    "    gfu_unit_cube.components[1].Set(gfu.components[0].components[1])\n",
    "    gfu_unit_cube.components[2].Set(z * gfu.components[1]- aux_z)\n",
    "    \n",
    "    fes_center = VectorH1(mesh_center, order=ord)   \n",
    "    gfu_center = GridFunction(fes_center)\n",
    "    gfu_center.components[2].Set((l_uni-1) * z)\n",
    "\n",
    "    fesu_3d = VectorH1(mesh_unit_cube, order=ord)\n",
    "    gfu3d = GridFunction(fesu_3d)\n",
    "    gfu3d.components[0].Set(gfu.components[0].components[0])\n",
    "    gfu3d.components[1].Set(gfu.components[0].components[1])\n",
    "    gfu3d.components[2].Set(z*gfu.components[1]-aux_z)\n",
    "    \n",
    "    phisical_gel_fes = VectorH1(mesh_phisical_gel, order=ord)\n",
    "    phisical_gel_gfu = GridFunction(phisical_gel_fes)\n",
    "    phisical_gel_gfu.components[0].vec.data = l*gfu3d.components[0].vec\n",
    "    phisical_gel_gfu.components[1].vec.data = w*gfu3d.components[1].vec\n",
    "    phisical_gel_gfu.components[2].vec.data = d*gfu3d.components[2].vec\n",
    "\n",
    "    gfu_aux = GridFunction(phisical_gel_fes)\n",
    "    gfu_aux.components[2].Set(IfPos(delta*l/2-x, (l_uni-1)*z,0))\n",
    "    gfu_final = gfu_aux + phisical_gel_gfu\n",
    "\n",
    "    with TaskManager():\n",
    "         # calculate (a)\n",
    "        a_measure = gfu_final(mesh_phisical_gel(l/2,w/2,0))[1] - gfu_final(mesh_phisical_gel(l/2,-w/2,0))[1] + w \n",
    "        # calculate (b)\n",
    "        b_measure = w # direct since uniaxial deformation in this section.\n",
    "        # calculate (c)\n",
    "        c_measure = 2 * (gfu_final(mesh_phisical_gel(l/2,0,0))[0]+(1-delta)*l/2) + l*delta\n",
    "        # calculate (d)\n",
    "        d_measure = gfu_final(mesh_phisical_gel(l/2,0,d))[2]\n",
    "        # calculate (e)\n",
    "        e_measure = gfu_final(mesh_phisical_gel(0,0,d))[2] \n",
    "\n",
    "        F_center = Id(3) + Grad(gfu_center)\n",
    "        F_center_wing = Id(3) + Grad(gfu_final)\n",
    "        energy_center = GridFunction(H1(mesh_phisical_gel, order=1))\n",
    "        energy_density_center_wing = GridFunction(H1(mesh_phisical_gel, order=1))\n",
    "        energy_center.Set(energy_functional(F_center))\n",
    "        energy_density_center_wing.Set(energy_functional(F_center_wing))\n",
    "        total_energy = 2 * Integrate(energy_density_center_wing,mesh_phisical_gel,order=5) \n",
    "    # calculate average energy\n",
    "    avg_energy = total_energy/(l*w*d)\n",
    "   \n",
    "    \n",
    "    # generate plot and save it \n",
    "    # show the linear regression \n",
    "    return {\n",
    "        'delta': delta,\n",
    "        'a': a_measure,\n",
    "        'b': b_measure,\n",
    "        'c': c_measure,\n",
    "        'd': d_measure,\n",
    "        'e': e_measure,\n",
    "        'total_energy': total_energy,\n",
    "        'avg_energy': avg_energy*1000\n",
    "        }, gfu_final, mesh_phisical_gel\n"
   ]
  },
  {
   "cell_type": "code",
   "execution_count": 20,
   "metadata": {},
   "outputs": [
    {
     "name": "stdout",
     "output_type": "stream",
     "text": [
      "Running experiments for measures: [15.0, 90, 1.62]\n"
     ]
    },
    {
     "data": {
      "application/vnd.jupyter.widget-view+json": {
       "model_id": "77d3808f3e2a449eb437a198794db643",
       "version_major": 2,
       "version_minor": 0
      },
      "text/plain": [
       "WebGuiWidget(layout=Layout(height='500px', width='100%'), value={'gui_settings': {}, 'ngsolve_version': '6.2.2…"
      ]
     },
     "metadata": {},
     "output_type": "display_data"
    },
    {
     "name": "stdout",
     "output_type": "stream",
     "text": [
      "Delta: 0.05, Measures: [15.0, 90, 1.62], Results: {'delta': np.float64(0.05), 'a': 22.311889254721127, 'b': 15.0, 'c': np.float64(131.75805499277155), 'd': 0.7895966429883953, 'e': 1.6078224840519415, 'total_energy': 33.79866989956402, 'avg_energy': 15.45435294904619}\n"
     ]
    },
    {
     "data": {
      "application/vnd.jupyter.widget-view+json": {
       "model_id": "480faad1ae344915ba1ca367b92c0096",
       "version_major": 2,
       "version_minor": 0
      },
      "text/plain": [
       "WebGuiWidget(layout=Layout(height='500px', width='100%'), value={'gui_settings': {}, 'ngsolve_version': '6.2.2…"
      ]
     },
     "metadata": {},
     "output_type": "display_data"
    },
    {
     "name": "stdout",
     "output_type": "stream",
     "text": [
      "Delta: 0.1, Measures: [15.0, 90, 1.62], Results: {'delta': np.float64(0.1), 'a': 22.312049546678058, 'b': 15.0, 'c': np.float64(129.56566574036907), 'd': 0.7896345477642035, 'e': 1.6078224840519415, 'total_energy': 50.24957936767984, 'avg_energy': 22.976488051065314}\n"
     ]
    },
    {
     "data": {
      "application/vnd.jupyter.widget-view+json": {
       "model_id": "c107f0b934694a72bb5382c1ead4c5ce",
       "version_major": 2,
       "version_minor": 0
      },
      "text/plain": [
       "WebGuiWidget(layout=Layout(height='500px', width='100%'), value={'gui_settings': {}, 'ngsolve_version': '6.2.2…"
      ]
     },
     "metadata": {},
     "output_type": "display_data"
    },
    {
     "name": "stdout",
     "output_type": "stream",
     "text": [
      "Delta: 0.15000000000000002, Measures: [15.0, 90, 1.62], Results: {'delta': np.float64(0.15), 'a': 22.310990810911292, 'b': 15.0, 'c': np.float64(127.36457265218107), 'd': 0.7894514772186583, 'e': 1.6078224840519415, 'total_energy': 66.60206213445547, 'avg_energy': 30.453617802677396}\n"
     ]
    },
    {
     "data": {
      "application/vnd.jupyter.widget-view+json": {
       "model_id": "b5628ca8efa945ae8401c2f579ba266c",
       "version_major": 2,
       "version_minor": 0
      },
      "text/plain": [
       "WebGuiWidget(layout=Layout(height='500px', width='100%'), value={'gui_settings': {}, 'ngsolve_version': '6.2.2…"
      ]
     },
     "metadata": {},
     "output_type": "display_data"
    },
    {
     "name": "stdout",
     "output_type": "stream",
     "text": [
      "Delta: 0.2, Measures: [15.0, 90, 1.62], Results: {'delta': np.float64(0.2), 'a': 22.292811646022585, 'b': 15.0, 'c': np.float64(125.11742540779136), 'd': 0.7890874447862616, 'e': 1.6078224840519415, 'total_energy': 90.24235765805805, 'avg_energy': 41.26308077643258}\n"
     ]
    },
    {
     "data": {
      "application/vnd.jupyter.widget-view+json": {
       "model_id": "9ff75c85f424422fb87adbb61d13f404",
       "version_major": 2,
       "version_minor": 0
      },
      "text/plain": [
       "WebGuiWidget(layout=Layout(height='500px', width='100%'), value={'gui_settings': {}, 'ngsolve_version': '6.2.2…"
      ]
     },
     "metadata": {},
     "output_type": "display_data"
    },
    {
     "name": "stdout",
     "output_type": "stream",
     "text": [
      "Delta: 0.25, Measures: [15.0, 90, 1.62], Results: {'delta': np.float64(0.25), 'a': 22.309927263841942, 'b': 15.0, 'c': np.float64(122.97591404326667), 'd': 0.7894510543075074, 'e': 1.6078224840519415, 'total_energy': 99.86810870641337, 'avg_energy': 45.66443013553423}\n"
     ]
    },
    {
     "data": {
      "application/vnd.jupyter.widget-view+json": {
       "model_id": "d45da0dc29034e359c55551168710f49",
       "version_major": 2,
       "version_minor": 0
      },
      "text/plain": [
       "WebGuiWidget(layout=Layout(height='500px', width='100%'), value={'gui_settings': {}, 'ngsolve_version': '6.2.2…"
      ]
     },
     "metadata": {},
     "output_type": "display_data"
    },
    {
     "name": "stdout",
     "output_type": "stream",
     "text": [
      "Delta: 0.30000000000000004, Measures: [15.0, 90, 1.62], Results: {'delta': np.float64(0.3), 'a': 22.312480913078296, 'b': 15.0, 'c': np.float64(120.79233883094064), 'd': 0.7896429805725746, 'e': 1.6078224840519415, 'total_energy': 116.6179224392651, 'avg_energy': 53.32323842673301}\n"
     ]
    },
    {
     "data": {
      "application/vnd.jupyter.widget-view+json": {
       "model_id": "1b369282b33644d68e527346b5668027",
       "version_major": 2,
       "version_minor": 0
      },
      "text/plain": [
       "WebGuiWidget(layout=Layout(height='500px', width='100%'), value={'gui_settings': {}, 'ngsolve_version': '6.2.2…"
      ]
     },
     "metadata": {},
     "output_type": "display_data"
    },
    {
     "name": "stdout",
     "output_type": "stream",
     "text": [
      "Delta: 0.35000000000000003, Measures: [15.0, 90, 1.62], Results: {'delta': np.float64(0.35), 'a': 22.309689471511177, 'b': 15.0, 'c': np.float64(118.58958795052467), 'd': 0.7894510489572346, 'e': 1.6078224840519415, 'total_energy': 133.09851977521345, 'avg_energy': 60.85894822826403}\n"
     ]
    },
    {
     "data": {
      "application/vnd.jupyter.widget-view+json": {
       "model_id": "ea371dc583bc42aa9053ecef98fab514",
       "version_major": 2,
       "version_minor": 0
      },
      "text/plain": [
       "WebGuiWidget(layout=Layout(height='500px', width='100%'), value={'gui_settings': {}, 'ngsolve_version': '6.2.2…"
      ]
     },
     "metadata": {},
     "output_type": "display_data"
    },
    {
     "name": "stdout",
     "output_type": "stream",
     "text": [
      "Delta: 0.4, Measures: [15.0, 90, 1.62], Results: {'delta': np.float64(0.4), 'a': 22.30968661448453, 'b': 15.0, 'c': np.float64(116.3966766899375), 'd': 0.7894510396367852, 'e': 1.6078224840519415, 'total_energy': 149.72546287011673, 'avg_energy': 68.46157424330899}\n"
     ]
    },
    {
     "data": {
      "application/vnd.jupyter.widget-view+json": {
       "model_id": "741b9396929d4084b275e0bcef97cd57",
       "version_major": 2,
       "version_minor": 0
      },
      "text/plain": [
       "WebGuiWidget(layout=Layout(height='500px', width='100%'), value={'gui_settings': {}, 'ngsolve_version': '6.2.2…"
      ]
     },
     "metadata": {},
     "output_type": "display_data"
    },
    {
     "name": "stdout",
     "output_type": "stream",
     "text": [
      "Delta: 0.45, Measures: [15.0, 90, 1.62], Results: {'delta': np.float64(0.45), 'a': 22.31025200653837, 'b': 15.0, 'c': np.float64(114.20346612496186), 'd': 0.7893695489073586, 'e': 1.6078224840519415, 'total_energy': 166.38802693830328, 'avg_energy': 76.080487854734}\n"
     ]
    },
    {
     "data": {
      "application/vnd.jupyter.widget-view+json": {
       "model_id": "be9d85a04c354a238121a16d4ef8c0f2",
       "version_major": 2,
       "version_minor": 0
      },
      "text/plain": [
       "WebGuiWidget(layout=Layout(height='500px', width='100%'), value={'gui_settings': {}, 'ngsolve_version': '6.2.2…"
      ]
     },
     "metadata": {},
     "output_type": "display_data"
    },
    {
     "name": "stdout",
     "output_type": "stream",
     "text": [
      "Delta: 0.5, Measures: [15.0, 90, 1.62], Results: {'delta': np.float64(0.5), 'a': 22.30893505986826, 'b': 15.0, 'c': np.float64(112.00860540553408), 'd': 0.7893694530289036, 'e': 1.6078224840519415, 'total_energy': 182.97125029352435, 'avg_energy': 83.66312313375599}\n"
     ]
    },
    {
     "data": {
      "application/vnd.jupyter.widget-view+json": {
       "model_id": "ef1ddffa38f246fabddc9d36ec961a01",
       "version_major": 2,
       "version_minor": 0
      },
      "text/plain": [
       "WebGuiWidget(layout=Layout(height='500px', width='100%'), value={'gui_settings': {}, 'ngsolve_version': '6.2.2…"
      ]
     },
     "metadata": {},
     "output_type": "display_data"
    },
    {
     "name": "stdout",
     "output_type": "stream",
     "text": [
      "Delta: 0.55, Measures: [15.0, 90, 1.62], Results: {'delta': np.float64(0.55), 'a': 22.309019819591015, 'b': 15.0, 'c': np.float64(109.81604688060807), 'd': 0.7893694635268188, 'e': 1.6078224840519415, 'total_energy': 199.59512218631696, 'avg_energy': 91.26434484971055}\n"
     ]
    },
    {
     "data": {
      "application/vnd.jupyter.widget-view+json": {
       "model_id": "e582304ff4594daab9a476aab060e578",
       "version_major": 2,
       "version_minor": 0
      },
      "text/plain": [
       "WebGuiWidget(layout=Layout(height='500px', width='100%'), value={'gui_settings': {}, 'ngsolve_version': '6.2.2…"
      ]
     },
     "metadata": {},
     "output_type": "display_data"
    },
    {
     "name": "stdout",
     "output_type": "stream",
     "text": [
      "Delta: 0.6000000000000001, Measures: [15.0, 90, 1.62], Results: {'delta': np.float64(0.6), 'a': 22.308948761676064, 'b': 15.0, 'c': np.float64(107.6232717106234), 'd': 0.7893694630124908, 'e': 1.6078224840519415, 'total_energy': 216.21866737475688, 'avg_energy': 98.86541718095879}\n"
     ]
    },
    {
     "data": {
      "application/vnd.jupyter.widget-view+json": {
       "model_id": "14939c3fcbeb4f98828f4b08a64d8da1",
       "version_major": 2,
       "version_minor": 0
      },
      "text/plain": [
       "WebGuiWidget(layout=Layout(height='500px', width='100%'), value={'gui_settings': {}, 'ngsolve_version': '6.2.2…"
      ]
     },
     "metadata": {},
     "output_type": "display_data"
    },
    {
     "name": "stdout",
     "output_type": "stream",
     "text": [
      "Delta: 0.65, Measures: [15.0, 90, 1.62], Results: {'delta': np.float64(0.65), 'a': 22.30891962662394, 'b': 15.0, 'c': np.float64(105.43056250008576), 'd': 0.7893694490525008, 'e': 1.6078224840519415, 'total_energy': 232.84270355743627, 'avg_energy': 106.46671401803214}\n"
     ]
    },
    {
     "data": {
      "application/vnd.jupyter.widget-view+json": {
       "model_id": "e6d27123b7394541afa936f8db12c91e",
       "version_major": 2,
       "version_minor": 0
      },
      "text/plain": [
       "WebGuiWidget(layout=Layout(height='500px', width='100%'), value={'gui_settings': {}, 'ngsolve_version': '6.2.2…"
      ]
     },
     "metadata": {},
     "output_type": "display_data"
    },
    {
     "name": "stdout",
     "output_type": "stream",
     "text": [
      "Delta: 0.7000000000000001, Measures: [15.0, 90, 1.62], Results: {'delta': np.float64(0.7), 'a': 22.310289929492733, 'b': 15.0, 'c': np.float64(103.23823207027078), 'd': 0.7892536655309369, 'e': 1.6078224840519415, 'total_energy': 249.45113346631024, 'avg_energy': 114.06087492743951}\n"
     ]
    },
    {
     "data": {
      "application/vnd.jupyter.widget-view+json": {
       "model_id": "128205786f3248b3a4311639c0a07926",
       "version_major": 2,
       "version_minor": 0
      },
      "text/plain": [
       "WebGuiWidget(layout=Layout(height='500px', width='100%'), value={'gui_settings': {}, 'ngsolve_version': '6.2.2…"
      ]
     },
     "metadata": {},
     "output_type": "display_data"
    },
    {
     "name": "stdout",
     "output_type": "stream",
     "text": [
      "Delta: 0.75, Measures: [15.0, 90, 1.62], Results: {'delta': np.float64(0.75), 'a': 22.308026593362136, 'b': 15.0, 'c': np.float64(101.04371789512032), 'd': 0.7892512214533666, 'e': 1.6078224840519415, 'total_energy': 266.08824528232856, 'avg_energy': 121.66815056347899}\n"
     ]
    },
    {
     "data": {
      "application/vnd.jupyter.widget-view+json": {
       "model_id": "7d084dad287d4e76b549e65755abb49d",
       "version_major": 2,
       "version_minor": 0
      },
      "text/plain": [
       "WebGuiWidget(layout=Layout(height='500px', width='100%'), value={'gui_settings': {}, 'ngsolve_version': '6.2.2…"
      ]
     },
     "metadata": {},
     "output_type": "display_data"
    },
    {
     "name": "stdout",
     "output_type": "stream",
     "text": [
      "Delta: 0.8, Measures: [15.0, 90, 1.62], Results: {'delta': np.float64(0.8), 'a': 22.3078306708106, 'b': 15.0, 'c': np.float64(98.85122406131202), 'd': 0.789251924810693, 'e': 1.6078224840519415, 'total_energy': 282.7115088333214, 'avg_energy': 129.26909411674504}\n"
     ]
    },
    {
     "data": {
      "application/vnd.jupyter.widget-view+json": {
       "model_id": "0eb7ba1b9d0249dd9c9a7b444a18383b",
       "version_major": 2,
       "version_minor": 0
      },
      "text/plain": [
       "WebGuiWidget(layout=Layout(height='500px', width='100%'), value={'gui_settings': {}, 'ngsolve_version': '6.2.2…"
      ]
     },
     "metadata": {},
     "output_type": "display_data"
    },
    {
     "name": "stdout",
     "output_type": "stream",
     "text": [
      "Delta: 0.8500000000000001, Measures: [15.0, 90, 1.62], Results: {'delta': np.float64(0.85), 'a': 22.307980416740065, 'b': 15.0, 'c': np.float64(96.65900882660756), 'd': 0.7892600867672747, 'e': 1.6078224840519415, 'total_energy': 299.3358904746584, 'avg_energy': 136.87054891388132}\n"
     ]
    },
    {
     "data": {
      "application/vnd.jupyter.widget-view+json": {
       "model_id": "a9e524214b0d4ef8a640647d9c1d3283",
       "version_major": 2,
       "version_minor": 0
      },
      "text/plain": [
       "WebGuiWidget(layout=Layout(height='500px', width='100%'), value={'gui_settings': {}, 'ngsolve_version': '6.2.2…"
      ]
     },
     "metadata": {},
     "output_type": "display_data"
    },
    {
     "name": "stdout",
     "output_type": "stream",
     "text": [
      "Delta: 0.9, Measures: [15.0, 90, 1.62], Results: {'delta': np.float64(0.9), 'a': 22.303477618951618, 'b': 15.0, 'c': np.float64(94.46486952100273), 'd': 0.789283445990418, 'e': 1.6078224840519415, 'total_energy': 315.9548751344654, 'avg_energy': 144.46953595540256}\n"
     ]
    },
    {
     "data": {
      "application/vnd.jupyter.widget-view+json": {
       "model_id": "989b8657b0a643b0bec72179c5adce71",
       "version_major": 2,
       "version_minor": 0
      },
      "text/plain": [
       "WebGuiWidget(layout=Layout(height='500px', width='100%'), value={'gui_settings': {}, 'ngsolve_version': '6.2.2…"
      ]
     },
     "metadata": {},
     "output_type": "display_data"
    },
    {
     "name": "stdout",
     "output_type": "stream",
     "text": [
      "Delta: 0.9500000000000001, Measures: [15.0, 90, 1.62], Results: {'delta': np.float64(0.95), 'a': 22.710482086197892, 'b': 15.0, 'c': np.float64(92.31976198332066), 'd': 0.7669754265412094, 'e': 1.6078224840519415, 'total_energy': 332.47098267201534, 'avg_energy': 152.02148270325347}\n",
      "Slope: 329.911127729368, Intercept: 18.25972614915951\n",
      "Running experiments for measures: [23.5, 90, 3.0]\n"
     ]
    },
    {
     "data": {
      "application/vnd.jupyter.widget-view+json": {
       "model_id": "a99351b4a67b495eb4fdecdcc08034c7",
       "version_major": 2,
       "version_minor": 0
      },
      "text/plain": [
       "WebGuiWidget(layout=Layout(height='500px', width='100%'), value={'gui_settings': {}, 'ngsolve_version': '6.2.2…"
      ]
     },
     "metadata": {},
     "output_type": "display_data"
    },
    {
     "name": "stdout",
     "output_type": "stream",
     "text": [
      "Delta: 0.05, Measures: [23.5, 90, 3.0], Results: {'delta': np.float64(0.05), 'a': 34.95290271313859, 'b': 23.5, 'c': np.float64(131.81160669341594), 'd': 1.4619471971648963, 'e': 2.9774490445406423, 'total_energy': 107.94130678719822, 'avg_energy': 17.012026286398456}\n"
     ]
    },
    {
     "data": {
      "application/vnd.jupyter.widget-view+json": {
       "model_id": "a5e8e5af34f54e4483baacfb387ce0f8",
       "version_major": 2,
       "version_minor": 0
      },
      "text/plain": [
       "WebGuiWidget(layout=Layout(height='500px', width='100%'), value={'gui_settings': {}, 'ngsolve_version': '6.2.2…"
      ]
     },
     "metadata": {},
     "output_type": "display_data"
    },
    {
     "name": "stdout",
     "output_type": "stream",
     "text": [
      "Delta: 0.1, Measures: [23.5, 90, 3.0], Results: {'delta': np.float64(0.1), 'a': 34.95182950809879, 'b': 23.5, 'c': np.float64(129.61668583067762), 'd': 1.4619468881141646, 'e': 2.9774490445406423, 'total_energy': 156.18899369844075, 'avg_energy': 24.616074656964656}\n"
     ]
    },
    {
     "data": {
      "application/vnd.jupyter.widget-view+json": {
       "model_id": "b103873015324a2dafc6f657f21f6bcf",
       "version_major": 2,
       "version_minor": 0
      },
      "text/plain": [
       "WebGuiWidget(layout=Layout(height='500px', width='100%'), value={'gui_settings': {}, 'ngsolve_version': '6.2.2…"
      ]
     },
     "metadata": {},
     "output_type": "display_data"
    },
    {
     "name": "stdout",
     "output_type": "stream",
     "text": [
      "Delta: 0.15, Measures: [23.5, 90, 3.0], Results: {'delta': np.float64(0.15), 'a': 34.951805235991515, 'b': 23.5, 'c': np.float64(127.42374677158793), 'd': 1.4619468860875573, 'e': 2.9774490445406423, 'total_energy': 204.42488071474705, 'avg_energy': 32.218263312016866}\n"
     ]
    },
    {
     "data": {
      "application/vnd.jupyter.widget-view+json": {
       "model_id": "c2290ad9951640719ab8bd1ca2fc44c0",
       "version_major": 2,
       "version_minor": 0
      },
      "text/plain": [
       "WebGuiWidget(layout=Layout(height='500px', width='100%'), value={'gui_settings': {}, 'ngsolve_version': '6.2.2…"
      ]
     },
     "metadata": {},
     "output_type": "display_data"
    },
    {
     "name": "stdout",
     "output_type": "stream",
     "text": [
      "Delta: 0.2, Measures: [23.5, 90, 3.0], Results: {'delta': np.float64(0.2), 'a': 34.95663022866549, 'b': 23.5, 'c': np.float64(125.24206570201056), 'd': 1.4623069497010903, 'e': 2.9774490445406423, 'total_energy': 252.69668357627614, 'avg_energy': 39.82611246277008}\n"
     ]
    },
    {
     "data": {
      "application/vnd.jupyter.widget-view+json": {
       "model_id": "fe073e0fe01145e08eba4ccdd66d8d85",
       "version_major": 2,
       "version_minor": 0
      },
      "text/plain": [
       "WebGuiWidget(layout=Layout(height='500px', width='100%'), value={'gui_settings': {}, 'ngsolve_version': '6.2.2…"
      ]
     },
     "metadata": {},
     "output_type": "display_data"
    },
    {
     "name": "stdout",
     "output_type": "stream",
     "text": [
      "Delta: 0.25, Measures: [23.5, 90, 3.0], Results: {'delta': np.float64(0.25), 'a': 34.95182065218178, 'b': 23.5, 'c': np.float64(123.03797735880906), 'd': 1.4619468891461178, 'e': 2.9774490445406423, 'total_energy': 300.8967598774822, 'avg_energy': 47.422657191092554}\n"
     ]
    },
    {
     "data": {
      "application/vnd.jupyter.widget-view+json": {
       "model_id": "e8918be571bd457e9296f17af64384b0",
       "version_major": 2,
       "version_minor": 0
      },
      "text/plain": [
       "WebGuiWidget(layout=Layout(height='500px', width='100%'), value={'gui_settings': {}, 'ngsolve_version': '6.2.2…"
      ]
     },
     "metadata": {},
     "output_type": "display_data"
    },
    {
     "name": "stdout",
     "output_type": "stream",
     "text": [
      "Delta: 0.3, Measures: [23.5, 90, 3.0], Results: {'delta': np.float64(0.3), 'a': 34.951809160332076, 'b': 23.5, 'c': np.float64(120.8450584197171), 'd': 1.4619464010218286, 'e': 2.9774490445406423, 'total_energy': 349.13286063618716, 'avg_energy': 55.02487953289002}\n"
     ]
    },
    {
     "data": {
      "application/vnd.jupyter.widget-view+json": {
       "model_id": "db15b386de314e77add4d2cbe5dbe92b",
       "version_major": 2,
       "version_minor": 0
      },
      "text/plain": [
       "WebGuiWidget(layout=Layout(height='500px', width='100%'), value={'gui_settings': {}, 'ngsolve_version': '6.2.2…"
      ]
     },
     "metadata": {},
     "output_type": "display_data"
    },
    {
     "name": "stdout",
     "output_type": "stream",
     "text": [
      "Delta: 0.35, Measures: [23.5, 90, 3.0], Results: {'delta': np.float64(0.35), 'a': 34.956504212283065, 'b': 23.5, 'c': np.float64(118.6612391461564), 'd': 1.4622831061473192, 'e': 2.9774490445406423, 'total_energy': 397.51538288169303, 'avg_energy': 62.65017854715414}\n"
     ]
    },
    {
     "data": {
      "application/vnd.jupyter.widget-view+json": {
       "model_id": "3d4ca2a4a1e249d4be27c058e54fd7a8",
       "version_major": 2,
       "version_minor": 0
      },
      "text/plain": [
       "WebGuiWidget(layout=Layout(height='500px', width='100%'), value={'gui_settings': {}, 'ngsolve_version': '6.2.2…"
      ]
     },
     "metadata": {},
     "output_type": "display_data"
    },
    {
     "name": "stdout",
     "output_type": "stream",
     "text": [
      "Delta: 0.4, Measures: [23.5, 90, 3.0], Results: {'delta': np.float64(0.4), 'a': 34.95178708598854, 'b': 23.5, 'c': np.float64(116.45923978137225), 'd': 1.4619463690881065, 'e': 2.9774490445406423, 'total_energy': 445.6046519467882, 'avg_energy': 70.22925956608167}\n"
     ]
    },
    {
     "data": {
      "application/vnd.jupyter.widget-view+json": {
       "model_id": "87ff5eb5fe2c4d3887c48a421f155391",
       "version_major": 2,
       "version_minor": 0
      },
      "text/plain": [
       "WebGuiWidget(layout=Layout(height='500px', width='100%'), value={'gui_settings': {}, 'ngsolve_version': '6.2.2…"
      ]
     },
     "metadata": {},
     "output_type": "display_data"
    },
    {
     "name": "stdout",
     "output_type": "stream",
     "text": [
      "Delta: 0.45, Measures: [23.5, 90, 3.0], Results: {'delta': np.float64(0.45), 'a': 34.950745776126325, 'b': 23.5, 'c': np.float64(114.26399727597342), 'd': 1.4617953286285759, 'e': 2.9774490445406423, 'total_energy': 493.8350184830801, 'avg_energy': 77.83057816912216}\n"
     ]
    },
    {
     "data": {
      "application/vnd.jupyter.widget-view+json": {
       "model_id": "cee0c710137e4991bb8a4600b49c0318",
       "version_major": 2,
       "version_minor": 0
      },
      "text/plain": [
       "WebGuiWidget(layout=Layout(height='500px', width='100%'), value={'gui_settings': {}, 'ngsolve_version': '6.2.2…"
      ]
     },
     "metadata": {},
     "output_type": "display_data"
    },
    {
     "name": "stdout",
     "output_type": "stream",
     "text": [
      "Delta: 0.5, Measures: [23.5, 90, 3.0], Results: {'delta': np.float64(0.5), 'a': 34.95060950041765, 'b': 23.5, 'c': np.float64(112.07117619171015), 'd': 1.4617949021282266, 'e': 2.9774490445406423, 'total_energy': 542.0710316812804, 'avg_energy': 85.43278671099769}\n"
     ]
    },
    {
     "data": {
      "application/vnd.jupyter.widget-view+json": {
       "model_id": "894db8c607714447afe709115f356dc6",
       "version_major": 2,
       "version_minor": 0
      },
      "text/plain": [
       "WebGuiWidget(layout=Layout(height='500px', width='100%'), value={'gui_settings': {}, 'ngsolve_version': '6.2.2…"
      ]
     },
     "metadata": {},
     "output_type": "display_data"
    },
    {
     "name": "stdout",
     "output_type": "stream",
     "text": [
      "Delta: 0.55, Measures: [23.5, 90, 3.0], Results: {'delta': np.float64(0.55), 'a': 34.951275665026714, 'b': 23.5, 'c': np.float64(109.87911187944427), 'd': 1.4617955288106683, 'e': 2.9774490445406423, 'total_energy': 590.3066679965493, 'avg_energy': 93.0349358544601}\n"
     ]
    },
    {
     "data": {
      "application/vnd.jupyter.widget-view+json": {
       "model_id": "06b208d412b84b829691d1de2ad4e5ca",
       "version_major": 2,
       "version_minor": 0
      },
      "text/plain": [
       "WebGuiWidget(layout=Layout(height='500px', width='100%'), value={'gui_settings': {}, 'ngsolve_version': '6.2.2…"
      ]
     },
     "metadata": {},
     "output_type": "display_data"
    },
    {
     "name": "stdout",
     "output_type": "stream",
     "text": [
      "Delta: 0.6, Measures: [23.5, 90, 3.0], Results: {'delta': np.float64(0.6), 'a': 34.95054666257701, 'b': 23.5, 'c': np.float64(107.68583549490812), 'd': 1.4618003064590568, 'e': 2.9774490445406423, 'total_energy': 638.5430976475892, 'avg_energy': 100.63721003114092}\n"
     ]
    },
    {
     "data": {
      "application/vnd.jupyter.widget-view+json": {
       "model_id": "68fd8e8720364df5a8e76b2ea899ca62",
       "version_major": 2,
       "version_minor": 0
      },
      "text/plain": [
       "WebGuiWidget(layout=Layout(height='500px', width='100%'), value={'gui_settings': {}, 'ngsolve_version': '6.2.2…"
      ]
     },
     "metadata": {},
     "output_type": "display_data"
    },
    {
     "name": "stdout",
     "output_type": "stream",
     "text": [
      "Delta: 0.65, Measures: [23.5, 90, 3.0], Results: {'delta': np.float64(0.65), 'a': 34.9500291145519, 'b': 23.5, 'c': np.float64(105.49308757421875), 'd': 1.4618394581850322, 'e': 2.9774490445406423, 'total_energy': 686.7791530703175, 'avg_energy': 108.23942522778843}\n"
     ]
    },
    {
     "data": {
      "application/vnd.jupyter.widget-view+json": {
       "model_id": "213c14b6f7994d1781f7dfa4e73968c6",
       "version_major": 2,
       "version_minor": 0
      },
      "text/plain": [
       "WebGuiWidget(layout=Layout(height='500px', width='100%'), value={'gui_settings': {}, 'ngsolve_version': '6.2.2…"
      ]
     },
     "metadata": {},
     "output_type": "display_data"
    },
    {
     "name": "stdout",
     "output_type": "stream",
     "text": [
      "Delta: 0.7, Measures: [23.5, 90, 3.0], Results: {'delta': np.float64(0.7), 'a': 34.94823483444597, 'b': 23.5, 'c': np.float64(103.30005949391477), 'd': 1.4619649175061653, 'e': 2.9774490445406423, 'total_energy': 735.0153282051049, 'avg_energy': 115.84165929158469}\n"
     ]
    },
    {
     "data": {
      "application/vnd.jupyter.widget-view+json": {
       "model_id": "e7ebd4069a724a979d64f3fd01b76764",
       "version_major": 2,
       "version_minor": 0
      },
      "text/plain": [
       "WebGuiWidget(layout=Layout(height='500px', width='100%'), value={'gui_settings': {}, 'ngsolve_version': '6.2.2…"
      ]
     },
     "metadata": {},
     "output_type": "display_data"
    },
    {
     "name": "stdout",
     "output_type": "stream",
     "text": [
      "Delta: 0.75, Measures: [23.5, 90, 3.0], Results: {'delta': np.float64(0.75), 'a': 34.94635467710498, 'b': 23.5, 'c': np.float64(101.10511886029525), 'd': 1.4616912883275281, 'e': 2.9774490445406423, 'total_energy': 783.2437740625587, 'avg_energy': 123.4426751871645}\n"
     ]
    },
    {
     "data": {
      "application/vnd.jupyter.widget-view+json": {
       "model_id": "6c5b5decfa9c46789b97623c50ca166b",
       "version_major": 2,
       "version_minor": 0
      },
      "text/plain": [
       "WebGuiWidget(layout=Layout(height='500px', width='100%'), value={'gui_settings': {}, 'ngsolve_version': '6.2.2…"
      ]
     },
     "metadata": {},
     "output_type": "display_data"
    },
    {
     "name": "stdout",
     "output_type": "stream",
     "text": [
      "Delta: 0.8, Measures: [23.5, 90, 3.0], Results: {'delta': np.float64(0.8), 'a': 34.98359112604317, 'b': 23.5, 'c': np.float64(98.91628242395146), 'd': 1.4585525101140815, 'e': 2.9774490445406423, 'total_energy': 831.4749102755653, 'avg_energy': 131.04411509465174}\n"
     ]
    },
    {
     "data": {
      "application/vnd.jupyter.widget-view+json": {
       "model_id": "306d9fec68264309b7e7626616772b0d",
       "version_major": 2,
       "version_minor": 0
      },
      "text/plain": [
       "WebGuiWidget(layout=Layout(height='500px', width='100%'), value={'gui_settings': {}, 'ngsolve_version': '6.2.2…"
      ]
     },
     "metadata": {},
     "output_type": "display_data"
    },
    {
     "name": "stdout",
     "output_type": "stream",
     "text": [
      "Delta: 0.85, Measures: [23.5, 90, 3.0], Results: {'delta': np.float64(0.85), 'a': 35.232873335600395, 'b': 23.5, 'c': np.float64(96.76490525334825), 'd': 1.440238399381869, 'e': 2.9774490445406423, 'total_energy': 879.5934791460352, 'avg_energy': 138.62781389220413}\n"
     ]
    },
    {
     "data": {
      "application/vnd.jupyter.widget-view+json": {
       "model_id": "4a0ccebbd4c049a98ac3a074f5dd2418",
       "version_major": 2,
       "version_minor": 0
      },
      "text/plain": [
       "WebGuiWidget(layout=Layout(height='500px', width='100%'), value={'gui_settings': {}, 'ngsolve_version': '6.2.2…"
      ]
     },
     "metadata": {},
     "output_type": "display_data"
    },
    {
     "name": "stdout",
     "output_type": "stream",
     "text": [
      "Delta: 0.9, Measures: [23.5, 90, 3.0], Results: {'delta': np.float64(0.9), 'a': 35.93954854288466, 'b': 23.5, 'c': np.float64(94.73951180876361), 'd': 1.393132214057073, 'e': 2.9774490445406423, 'total_energy': 927.8717442437338, 'avg_energy': 146.236681519895}\n"
     ]
    },
    {
     "data": {
      "application/vnd.jupyter.widget-view+json": {
       "model_id": "60157a8e832644deb22afa459437eb3c",
       "version_major": 2,
       "version_minor": 0
      },
      "text/plain": [
       "WebGuiWidget(layout=Layout(height='500px', width='100%'), value={'gui_settings': {}, 'ngsolve_version': '6.2.2…"
      ]
     },
     "metadata": {},
     "output_type": "display_data"
    },
    {
     "name": "stdout",
     "output_type": "stream",
     "text": [
      "Delta: 0.95, Measures: [23.5, 90, 3.0], Results: {'delta': np.float64(0.95), 'a': 35.033971254989645, 'b': 23.5, 'c': np.float64(92.75799619780086), 'd': 1.470788137456156, 'e': 2.9774490445406423, 'total_energy': 979.5761347142758, 'avg_energy': 154.38552162557536}\n",
      "Slope: 964.6969220433272, Intercept: 59.7352126053764\n"
     ]
    },
    {
     "data": {
      "image/png": "[encoded data removed]",
      "text/plain": [
       "<Figure size 1000x600 with 1 Axes>"
      ]
     },
     "metadata": {},
     "output_type": "display_data"
    },
    {
     "data": {
      "image/png": "[encoded data removed]",
      "text/plain": [
       "<Figure size 1000x600 with 1 Axes>"
      ]
     },
     "metadata": {},
     "output_type": "display_data"
    }
   ],
   "source": [
    "def run_all_experiments(deltas, measures):\n",
    "    for measure in measures:\n",
    "        print(f\"Running experiments for measures: {measure}\")\n",
    "        results = []\n",
    "        for n_delta, delta in enumerate(deltas):\n",
    "            res, gfu_final, mesh_phisical_gel = run_experiment(delta, measure,n_delta ,h=0.1)\n",
    "            results.append(res)\n",
    "            print(f\"Delta: {delta}, Measures: {measure}, Results: {res}\")\n",
    "        results = pd.DataFrame(results)\n",
    "        caption = f\"Results for measures {measure} with varying delta\"\n",
    "        label = f\"tab:results_{measure[0]}_{measure[1]}_{measure[2]}\"\n",
    "        latex_table = gen_latex_table(results, caption, label)\n",
    "        # save table\n",
    "        with open(f\"results_{measure[0]}_{measure[1]}_{measure[2]}.tex\", \"w\") as f:\n",
    "            f.write(latex_table)    \n",
    "        deltas = results['delta'].values\n",
    "        avg_energy = results['total_energy'].values\n",
    "        # get slope\n",
    "        slope, intercept = np.polyfit(deltas[:-5], avg_energy[:-5], 1)\n",
    "        #plot polyfit\n",
    "        plt.figure(figsize=(10, 6))\n",
    "        plt.plot(deltas, avg_energy, marker='o', label='Average Energy')\n",
    "        x = np.linspace(0,1,100)\n",
    "        plt.plot(x, slope * x + intercept, label='Linear Fit', linestyle='--')\n",
    "        plt.title('Average Energy vs Delta with Linear Fit')\n",
    "        plt.xlabel('Delta')\n",
    "        plt.ylabel('Average Energy')\n",
    "        plt.savefig(f\"average_energy_vs_delta_{measure[0]}_{measure[1]}_{measure[2]}.png\")\n",
    "        print(f\"Slope: {slope}, Intercept: {intercept}\")\n",
    "run_all_experiments(np.arange(0.05,1,0.05), gel_measures)\n",
    "        "
   ]
  },
  {
   "cell_type": "markdown",
   "metadata": {},
   "source": [
    "Latex resumen del experimento\n",
    "hacer para w, d = 23.5 /15, 3, 1.62\n",
    "subir foto a overleaf\n",
    "reportar resultados actuales."
   ]
  },
  {
   "cell_type": "markdown",
   "metadata": {},
   "source": [
    "cambiar a make structrured mesh\n",
    "mostrar algunas mallas en paraview\n",
    "comparar foto contra ecuación 24 y 25 del paper (último) y figuras de cortes transversales (fig 11)\n",
    "comparar abcde  modelo reducido y 3D (pedir las soluciones) actualizar github :) "
   ]
  },
  {
   "cell_type": "code",
   "execution_count": 21,
   "metadata": {},
   "outputs": [
    {
     "name": "stdout",
     "output_type": "stream",
     "text": [
      "[0.05 0.1  0.15 0.2  0.25 0.3  0.35 0.4  0.45 0.5  0.55 0.6  0.65 0.7\n",
      " 0.75 0.8  0.85 0.9  0.95]\n"
     ]
    }
   ],
   "source": [
    "import numpy as np\n",
    "x = np.arange(0.05,1,0.05)\n",
    "print(x)"
   ]
  }
 ],
 "metadata": {
  "kernelspec": {
   "display_name": "Python 3",
   "language": "python",
   "name": "python3"
  },
  "language_info": {
   "codemirror_mode": {
    "name": "ipython",
    "version": 3
   },
   "file_extension": ".py",
   "mimetype": "text/x-python",
   "name": "python",
   "nbconvert_exporter": "python",
   "pygments_lexer": "ipython3",
   "version": "3.13.1"
  }
 },
 "nbformat": 4,
 "nbformat_minor": 2
}
