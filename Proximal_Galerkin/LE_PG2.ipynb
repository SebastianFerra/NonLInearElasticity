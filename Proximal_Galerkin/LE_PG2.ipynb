{
 "cells": [
  {
   "cell_type": "code",
   "execution_count": 12,
   "metadata": {},
   "outputs": [],
   "source": [
    "# NGSolve Libraries\n",
    "from netgen.geom2d import unit_square\n",
    "from ngsolve import *\n",
    "from ngsolve.webgui import Draw # para jupyter\n",
    "#import netgen.gui\n",
    "from netgen.occ import *\n",
    "from netgen.csg import *\n"
   ]
  },
  {
   "cell_type": "code",
   "execution_count": 13,
   "metadata": {},
   "outputs": [],
   "source": [
    "E, nu = 50, 0.1\n",
    "mu  = E / 2 / (1+nu)\n",
    "lam = E * nu / ((1+nu)*(1-2*nu))\n",
    "\n",
    "def Stress(strain):\n",
    "    return 2*mu*strain + lam*Trace(strain)*Id(3)\n"
   ]
  },
  {
   "cell_type": "code",
   "execution_count": 14,
   "metadata": {},
   "outputs": [
    {
     "data": {
      "application/vnd.jupyter.widget-view+json": {
       "model_id": "46238c5c324443bab503468aa9d6cafa",
       "version_major": 2,
       "version_minor": 0
      },
      "text/plain": [
       "WebGuiWidget(layout=Layout(height='500px', width='100%'), value={'gui_settings': {}, 'ngsolve_version': '6.2.2…"
      ]
     },
     "metadata": {},
     "output_type": "display_data"
    },
    {
     "data": {
      "text/plain": [
       "BaseWebGuiScene"
      ]
     },
     "execution_count": 14,
     "metadata": {},
     "output_type": "execute_result"
    }
   ],
   "source": [
    "L = 1\n",
    "w = 0.2\n",
    "left = Plane(Pnt(0,0,0), Vec(-1,0,0)).bc(\"left\")\n",
    "right = Plane(Pnt(L,0,0), Vec(1,0,0)).bc(\"right\")\n",
    "bottom = Plane(Pnt(0,0,0), Vec(0,-1,0)).bc(\"bottom\")\n",
    "top = Plane(Pnt(0,w,0), Vec(0,1,0)).bc(\"top\")\n",
    "front = Plane(Pnt(0,0,0), Vec(0,0,-1)).bc(\"front\")\n",
    "back = Plane(Pnt(0,0,w), Vec(0,0,1)).bc(\"back\")\n",
    "cube = left * right * bottom * top * front * back\n",
    "\n",
    "geo = CSGeometry()\n",
    "geo.Add(cube)\n",
    "mesh = Mesh(geo.GenerateMesh(maxh=0.1))\n",
    "Draw(mesh)\n"
   ]
  },
  {
   "cell_type": "code",
   "execution_count": null,
   "metadata": {},
   "outputs": [],
   "source": []
  },
  {
   "cell_type": "code",
   "execution_count": null,
   "metadata": {},
   "outputs": [
    {
     "name": "stdout",
     "output_type": "stream",
     "text": [
      "Iteration of proximal galerkin:  1\n",
      "Newton iteration  0\n",
      "Newton iteration  1\n",
      "Newton iteration  2\n",
      "Newton iteration  3\n",
      "Newton iteration  4\n",
      "Newton iteration  5\n",
      "Newton iteration  6\n",
      "Newton iteration  7\n",
      "Newton iteration  8\n",
      "Newton iteration  9\n",
      "Newton iteration  10\n",
      "Newton iteration  11\n",
      "Newton iteration  12\n",
      "Newton iteration  13\n",
      "Newton iteration  14\n",
      "Newton iteration  15\n",
      "Newton iteration  16\n",
      "Newton iteration  17\n",
      "Newton iteration  18\n",
      "Newton iteration  19\n",
      "Newton iteration  20\n",
      "Newton iteration  21\n",
      "Newton iteration  22\n",
      "Newton iteration  23\n",
      "Newton iteration  24\n",
      "Newton iteration  25\n",
      "Newton iteration  26\n",
      "Newton iteration  27\n",
      "Newton iteration  28\n",
      "Newton iteration  29\n"
     ]
    },
    {
     "data": {
      "application/vnd.jupyter.widget-view+json": {
       "model_id": "072268bba556421ba6e692c6ae23156d",
       "version_major": 2,
       "version_minor": 0
      },
      "text/plain": [
       "WebGuiWidget(layout=Layout(height='500px', width='100%'), value={'gui_settings': {}, 'ngsolve_version': '6.2.2…"
      ]
     },
     "metadata": {},
     "output_type": "display_data"
    },
    {
     "name": "stdout",
     "output_type": "stream",
     "text": [
      "Iteration of proximal galerkin:  2\n",
      "Newton iteration  0\n",
      "Newton iteration  1\n",
      "Newton iteration  2\n",
      "Newton iteration  3\n",
      "Newton iteration  4\n",
      "Newton iteration  5\n",
      "Newton iteration  6\n",
      "Newton iteration  7\n",
      "Newton iteration  8\n",
      "Newton iteration  9\n",
      "Newton iteration  10\n",
      "Newton iteration  11\n",
      "Newton iteration  12\n",
      "Newton iteration  13\n",
      "Newton iteration  14\n",
      "Newton iteration  15\n",
      "Newton iteration  16\n",
      "Newton iteration  17\n",
      "Newton iteration  18\n",
      "Newton iteration  19\n",
      "Newton iteration  20\n",
      "Newton iteration  21\n",
      "Newton iteration  22\n",
      "Newton iteration  23\n",
      "Newton iteration  24\n",
      "Newton iteration  25\n",
      "Newton iteration  26\n",
      "Newton iteration  27\n",
      "Newton iteration  28\n",
      "Newton iteration  29\n"
     ]
    },
    {
     "data": {
      "application/vnd.jupyter.widget-view+json": {
       "model_id": "ba28bb502e5b4e6caac99d4c49cffc0f",
       "version_major": 2,
       "version_minor": 0
      },
      "text/plain": [
       "WebGuiWidget(layout=Layout(height='500px', width='100%'), value={'gui_settings': {}, 'ngsolve_version': '6.2.2…"
      ]
     },
     "metadata": {},
     "output_type": "display_data"
    },
    {
     "name": "stdout",
     "output_type": "stream",
     "text": [
      "Iteration of proximal galerkin:  3\n",
      "Newton iteration  0\n",
      "Newton iteration  1\n",
      "Newton iteration  2\n",
      "Newton iteration  3\n",
      "Newton iteration  4\n",
      "Newton iteration  5\n",
      "Newton iteration  6\n",
      "Newton iteration  7\n",
      "Newton iteration  8\n",
      "Newton iteration  9\n",
      "Newton iteration  10\n",
      "Newton iteration  11\n",
      "Newton iteration  12\n",
      "Newton iteration  13\n",
      "Newton iteration  14\n",
      "Newton iteration  15\n",
      "Newton iteration  16\n",
      "Newton iteration  17\n",
      "Newton iteration  18\n",
      "Newton iteration  19\n",
      "Newton iteration  20\n",
      "Newton iteration  21\n",
      "Newton iteration  22\n",
      "Newton iteration  23\n",
      "Newton iteration  24\n",
      "Newton iteration  25\n",
      "Newton iteration  26\n",
      "Newton iteration  27\n",
      "Newton iteration  28\n",
      "Newton iteration  29\n"
     ]
    },
    {
     "data": {
      "application/vnd.jupyter.widget-view+json": {
       "model_id": "5d3fd355f0fe4e8195e891499fb35ed8",
       "version_major": 2,
       "version_minor": 0
      },
      "text/plain": [
       "WebGuiWidget(layout=Layout(height='500px', width='100%'), value={'gui_settings': {}, 'ngsolve_version': '6.2.2…"
      ]
     },
     "metadata": {},
     "output_type": "display_data"
    },
    {
     "name": "stdout",
     "output_type": "stream",
     "text": [
      "Iteration of proximal galerkin:  4\n",
      "Newton iteration  0\n",
      "Newton iteration  1\n",
      "Newton iteration  2\n",
      "Newton iteration  3\n",
      "Newton iteration  4\n",
      "Newton iteration  5\n",
      "Newton iteration  6\n",
      "Newton iteration  7\n",
      "Newton iteration  8\n",
      "Newton iteration  9\n",
      "Newton iteration  10\n",
      "Newton iteration  11\n",
      "Newton iteration  12\n",
      "Newton iteration  13\n",
      "Newton iteration  14\n",
      "Newton iteration  15\n",
      "Newton iteration  16\n",
      "Newton iteration  17\n",
      "Newton iteration  18\n",
      "Newton iteration  19\n",
      "Newton iteration  20\n",
      "Newton iteration  21\n",
      "Newton iteration  22\n",
      "Newton iteration  23\n",
      "Newton iteration  24\n",
      "Newton iteration  25\n",
      "Newton iteration  26\n",
      "Newton iteration  27\n",
      "Newton iteration  28\n",
      "Newton iteration  29\n"
     ]
    },
    {
     "data": {
      "application/vnd.jupyter.widget-view+json": {
       "model_id": "772b470a62224223a16e43d770ab97c4",
       "version_major": 2,
       "version_minor": 0
      },
      "text/plain": [
       "WebGuiWidget(layout=Layout(height='500px', width='100%'), value={'gui_settings': {}, 'ngsolve_version': '6.2.2…"
      ]
     },
     "metadata": {},
     "output_type": "display_data"
    },
    {
     "name": "stdout",
     "output_type": "stream",
     "text": [
      "Tol PG\n"
     ]
    }
   ],
   "source": [
    "# H1-conforming finite element space\n",
    "fesu = VectorH1(mesh, order=2, dirichlet='left')\n",
    "fesphi = L2(mesh, order=0)\n",
    "\n",
    "fes = FESpace([fesu,fesphi])\n",
    "# define trial- and test-functions\n",
    "u, phi = fes.TrialFunction()\n",
    "v, vphi = fes.TestFunction()\n",
    "gfu_u = GridFunction(fesu)\n",
    "gfu_u.Set((0,0,1))\n",
    "\n",
    "psih = GridFunction(fesphi)\n",
    "psih.Set(1)\n",
    "\n",
    "uk = GridFunction(fesu)\n",
    "psik = GridFunction(fesphi)\n",
    "eps = 1e-6\n",
    "# define phi as the 0 function \n",
    "obs = CF(-0.1)    \n",
    "\n",
    "max_PG_it = 20\n",
    "max_iter_newton = 30\n",
    "rho = 0.1\n",
    "grav = 9.81\n",
    "force = CoefficientFunction((0,0,-rho*grav))\n",
    "alpha = Parameter(1)\n",
    "gfu = GridFunction(fes)\n",
    "for k in range(1,max_PG_it):\n",
    "\n",
    "    alpha.Set(2**k)\n",
    "    print(\"Iteration of proximal galerkin: \", k)\n",
    "    # assing uk, psik\n",
    "    uk.vec.data = gfu_u.vec\n",
    "    psik.vec.data = psih.vec\n",
    "    a = BilinearForm(fes)\n",
    "\n",
    "    with TaskManager():\n",
    "        # the stress tensor equation\n",
    "        a += alpha * InnerProduct(Stress(Sym(Grad(u))), Sym(Grad(v))).Compile()*dx\n",
    "        # proximal galerkin term\n",
    "        a+= InnerProduct(phi,v[2])*dx\n",
    "        a+= InnerProduct(u[2], vphi)*dx\n",
    "        a+= -InnerProduct(exp(phi),vphi)*dx\n",
    "        # the right hand side\n",
    "\n",
    "        a += -alpha * force[2] * v[2] * dx \n",
    "        a += -(psik)*v[2]*dx\n",
    "        a += -(obs)*vphi*dx\n",
    "    # solve non linear problem\n",
    "    \n",
    "    # the solution field \n",
    "    \n",
    "    res = gfu.vec.CreateVector()\n",
    "    w = gfu.vec.CreateVector()\n",
    "    for it in range(max_iter_newton):\n",
    "        a.Apply(gfu.vec, res)\n",
    "        a.AssembleLinearization(gfu.vec)\n",
    "        inv = a.mat.Inverse(freedofs=fes.FreeDofs())\n",
    "        w.data = 0.3*inv * res\n",
    "        gfu.vec.data -= w\n",
    "        if abs(InnerProduct(w,w)) < 1e-8:\n",
    "            print(\"Tol newton\")\n",
    "            break\n",
    "    Draw(gfu.components[0], mesh, \"u\")\n",
    "    # r.data = lf.vec - a.mat * gfu.vec\n",
    "    #gfu.vec.data = a.mat.Inverse(freedofs=fes.FreeDofs()) * lf.vec\n",
    "    if Integrate((gfu_u-gfu.components[0])**2, mesh) < eps:\n",
    "        print(\"Tol PG\")\n",
    "        break\n",
    "    gfu_u.vec.data = gfu.components[0].vec\n",
    "    psih.vec.data = psih.vec + gfu.components[1].vec\n",
    "\n"
   ]
  },
  {
   "cell_type": "code",
   "execution_count": 17,
   "metadata": {},
   "outputs": [],
   "source": [
    "import pickle\n",
    "with open('gfu.pkl', 'wb') as output:\n",
    "    pickle.dump(gfu_u, output)\n"
   ]
  }
 ],
 "metadata": {
  "kernelspec": {
   "display_name": "Python 3",
   "language": "python",
   "name": "python3"
  },
  "language_info": {
   "codemirror_mode": {
    "name": "ipython",
    "version": 3
   },
   "file_extension": ".py",
   "mimetype": "text/x-python",
   "name": "python",
   "nbconvert_exporter": "python",
   "pygments_lexer": "ipython3",
   "version": "3.13.1"
  },
  "orig_nbformat": 4
 },
 "nbformat": 4,
 "nbformat_minor": 2
}
