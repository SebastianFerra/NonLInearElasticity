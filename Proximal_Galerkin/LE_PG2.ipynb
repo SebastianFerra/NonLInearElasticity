{
 "cells": [
  {
   "cell_type": "code",
   "execution_count": 1,
   "metadata": {},
   "outputs": [],
   "source": [
    "# NGSolve Libraries\n",
    "from netgen.geom2d import unit_square\n",
    "from ngsolve import *\n",
    "from ngsolve.webgui import Draw # para jupyter\n",
    "#import netgen.gui\n",
    "from netgen.occ import *\n",
    "from netgen.csg import *\n"
   ]
  },
  {
   "cell_type": "code",
   "execution_count": 2,
   "metadata": {},
   "outputs": [],
   "source": [
    "E, nu = 50, 0.1\n",
    "mu  = E / 2 / (1+nu)\n",
    "lam = E * nu / ((1+nu)*(1-2*nu))\n",
    "\n",
    "def Stress(strain):\n",
    "    return 2*mu*strain + lam*Trace(strain)*Id(3)\n"
   ]
  },
  {
   "cell_type": "code",
   "execution_count": 3,
   "metadata": {},
   "outputs": [],
   "source": [
    "L = 1\n",
    "w = 0.2\n",
    "left = Plane(Pnt(0,0,0), Vec(-1,0,0)).bc(\"left\")\n",
    "right = Plane(Pnt(L,0,0), Vec(1,0,0)).bc(\"right\")\n",
    "bottom = Plane(Pnt(0,0,0), Vec(0,-1,0)).bc(\"bottom\")\n",
    "top = Plane(Pnt(0,w,0), Vec(0,1,0)).bc(\"top\")\n",
    "front = Plane(Pnt(0,0,0), Vec(0,0,-1)).bc(\"front\")\n",
    "back = Plane(Pnt(0,0,w), Vec(0,0,1)).bc(\"back\")\n",
    "cube = left * right * bottom * top * front * back\n",
    "\n",
    "geo = CSGeometry()\n",
    "geo.Add(cube)\n",
    "mesh = Mesh(geo.GenerateMesh(maxh=0.2))\n",
    "\n"
   ]
  },
  {
   "cell_type": "code",
   "execution_count": 4,
   "metadata": {},
   "outputs": [],
   "source": [
    "import scipy as sp\n",
    "import numpy as np\n",
    "def Solve_schur(A,B,C,L1,L2,res = False):\n",
    "        \"\"\"\n",
    "        All in ngsolve format and assembled\n",
    "        \"\"\"\n",
    "    \n",
    "        A_rows,A_cols,A_vals = A.mat.COO()\n",
    "        B_rows,B_cols,B_vals = B.mat.COO()\n",
    "        C_rows,C_cols,C_vals = C.mat.COO()\n",
    "\n",
    "        # get sparse matrix\n",
    "        A_mat_full = sp.sparse.csr_matrix((A_vals, (A_rows, A_cols)), shape=A.mat.shape)\n",
    "        fd = np.nonzero(A.space.FreeDofs())[0]\n",
    "\n",
    "        A_mat = A_mat_full[fd,:][:,fd]\n",
    "        A_inv = sp.sparse.linalg.inv(A_mat)\n",
    "        B_mat_full = sp.sparse.csr_matrix((B_vals, (B_rows, B_cols)), shape=B.mat.shape)\n",
    "        # only take the freedofs in the rows of B\n",
    "        B_mat = B_mat_full[fd,:]\n",
    "\n",
    "        C_mat = sp.sparse.csr_matrix((C_vals, (C_rows, C_cols)), shape=C.mat.shape)\n",
    "        C_inv = sp.sparse.linalg.inv(C_mat)\n",
    "        \n",
    "\n",
    "        # get vectors in numpy form\n",
    "        L1_vec_full = L1.vec.FV().NumPy()\n",
    "        L1_vec = L1_vec_full[fd]\n",
    "        if res:\n",
    "            res_n_vec = res.vec.FV().NumPy()[fd]\n",
    "        \n",
    "\n",
    "        L2_vec = L2.vec.FV().NumPy()\n",
    "\n",
    "        # schur complement for u_it\n",
    "        F = B_mat @ C_inv @ B_mat.T\n",
    "        # get schur complement inverse\n",
    "        # schur_u = A_inv - F\n",
    "        schur_u_inv = sp.sparse.linalg.inv(A_mat - F)\n",
    "\n",
    "        schur_delta_inv = sp.sparse.linalg.inv(C_mat - B_mat.T @ A_inv @ B_mat)\n",
    "        u_vec = np.zeros(len(L1_vec_full))\n",
    "        u_vec[fd] = schur_u_inv @ (L1_vec- B_mat @ C_inv @ L2_vec) # solve for u_it\n",
    "        delta_vec = schur_delta_inv @ (L2_vec - B_mat.T @ A_inv @ (L1_vec)) # solve for delta\n",
    "        \n",
    "        return u_vec, delta_vec"
   ]
  },
  {
   "cell_type": "code",
   "execution_count": 5,
   "metadata": {},
   "outputs": [
    {
     "name": "stdout",
     "output_type": "stream",
     "text": [
      "Iteration of proximal galerkin:  1\n",
      "Newton iteration:  1\n",
      "Attempting schur solve\n"
     ]
    },
    {
     "name": "stderr",
     "output_type": "stream",
     "text": [
      "/Library/Frameworks/Python.framework/Versions/3.13/lib/python3.13/site-packages/scipy/sparse/linalg/_dsolve/linsolve.py:597: SparseEfficiencyWarning: splu converted its input to CSC format\n",
      "  return splu(A).solve\n",
      "/Library/Frameworks/Python.framework/Versions/3.13/lib/python3.13/site-packages/scipy/sparse/linalg/_matfuncs.py:76: SparseEfficiencyWarning: spsolve is more efficient when sparse b is in the CSC matrix format\n",
      "  Ainv = spsolve(A, I)\n"
     ]
    },
    {
     "name": "stdout",
     "output_type": "stream",
     "text": [
      "7.465515620939359\n",
      "Schur solve finished\n",
      "Newton iteration:  2\n",
      "Attempting schur solve\n",
      "6.489196842829828\n",
      "Schur solve finished\n",
      "Newton iteration:  3\n",
      "Attempting schur solve\n",
      "3.7936468952984326\n",
      "Schur solve finished\n",
      "Newton iteration:  4\n",
      "Attempting schur solve\n",
      "1.6109141796298685\n",
      "Schur solve finished\n",
      "Newton iteration:  5\n",
      "Attempting schur solve\n",
      "0.4074321420559382\n",
      "Schur solve finished\n",
      "Newton iteration:  6\n",
      "Attempting schur solve\n",
      "0.029642770771786727\n",
      "Schur solve finished\n",
      "Newton iteration:  7\n",
      "Attempting schur solve\n",
      "0.000179297140775137\n",
      "Schur solve finished\n",
      "Newton iteration:  8\n",
      "Attempting schur solve\n",
      "9.374227274752312e-09\n",
      "Converged\n"
     ]
    },
    {
     "data": {
      "application/vnd.jupyter.widget-view+json": {
       "model_id": "38fd905afcb24e4a8009ccccce01c36b",
       "version_major": 2,
       "version_minor": 0
      },
      "text/plain": [
       "WebGuiWidget(layout=Layout(height='500px', width='100%'), value={'gui_settings': {}, 'ngsolve_version': '6.2.2…"
      ]
     },
     "metadata": {},
     "output_type": "display_data"
    },
    {
     "name": "stdout",
     "output_type": "stream",
     "text": [
      "Iteration of proximal galerkin:  2\n",
      "Newton iteration:  1\n",
      "Attempting schur solve\n",
      "11.456733350011277\n",
      "Schur solve finished\n",
      "Newton iteration:  2\n",
      "Attempting schur solve\n",
      "10.600645018967711\n",
      "Schur solve finished\n",
      "Newton iteration:  3\n",
      "Attempting schur solve\n",
      "7.404572576190119\n",
      "Schur solve finished\n",
      "Newton iteration:  4\n",
      "Attempting schur solve\n",
      "19.149636216328016\n",
      "Schur solve finished\n",
      "Newton iteration:  5\n",
      "Attempting schur solve\n",
      "4.044590613812635\n",
      "Schur solve finished\n",
      "Newton iteration:  6\n",
      "Attempting schur solve\n",
      "1.6441032526748969\n",
      "Schur solve finished\n",
      "Newton iteration:  7\n",
      "Attempting schur solve\n",
      "0.2896921187070122\n",
      "Schur solve finished\n",
      "Newton iteration:  8\n",
      "Attempting schur solve\n",
      "0.011491135835586187\n",
      "Schur solve finished\n",
      "Newton iteration:  9\n",
      "Attempting schur solve\n",
      "7.518867151557197e-05\n",
      "Schur solve finished\n",
      "Newton iteration:  10\n",
      "Attempting schur solve\n",
      "2.3593025981025345e-06\n",
      "Converged\n"
     ]
    },
    {
     "data": {
      "application/vnd.jupyter.widget-view+json": {
       "model_id": "c81b80e081624dcbb93c55314e7ee887",
       "version_major": 2,
       "version_minor": 0
      },
      "text/plain": [
       "WebGuiWidget(layout=Layout(height='500px', width='100%'), value={'gui_settings': {}, 'ngsolve_version': '6.2.2…"
      ]
     },
     "metadata": {},
     "output_type": "display_data"
    },
    {
     "name": "stdout",
     "output_type": "stream",
     "text": [
      "Iteration of proximal galerkin:  3\n",
      "Newton iteration:  1\n",
      "Attempting schur solve\n",
      "157.38615623544203\n",
      "Schur solve finished\n",
      "Newton iteration:  2\n",
      "Attempting schur solve\n",
      "5.49042918770978\n",
      "Schur solve finished\n",
      "Newton iteration:  3\n",
      "Attempting schur solve\n",
      "1.0582532153449447\n",
      "Schur solve finished\n",
      "Newton iteration:  4\n",
      "Attempting schur solve\n",
      "0.06101303454003092\n",
      "Schur solve finished\n",
      "Newton iteration:  5\n",
      "Attempting schur solve\n",
      "0.002857922775979933\n",
      "Schur solve finished\n",
      "Newton iteration:  6\n",
      "Attempting schur solve\n",
      "0.00021329790694678125\n",
      "Schur solve finished\n",
      "Newton iteration:  7\n",
      "Attempting schur solve\n",
      "1.6096714608343416e-05\n",
      "Schur solve finished\n",
      "Newton iteration:  8\n",
      "Attempting schur solve\n",
      "1.2148153606577031e-06\n",
      "Converged\n"
     ]
    },
    {
     "data": {
      "application/vnd.jupyter.widget-view+json": {
       "model_id": "346a515e1b3f4a62b2969b026daca3b9",
       "version_major": 2,
       "version_minor": 0
      },
      "text/plain": [
       "WebGuiWidget(layout=Layout(height='500px', width='100%'), value={'gui_settings': {}, 'ngsolve_version': '6.2.2…"
      ]
     },
     "metadata": {},
     "output_type": "display_data"
    },
    {
     "name": "stdout",
     "output_type": "stream",
     "text": [
      "Tol PG\n"
     ]
    }
   ],
   "source": [
    "# H1-conforming finite element space\n",
    "fesu = VectorH1(mesh, order=3, dirichlet='left')\n",
    "fesphi = L2(mesh, order=0)\n",
    "\n",
    "# define trial- and test-functions\n",
    "u, v= fesu.TnT()\n",
    "delta, vphi = fesphi.TnT()\n",
    "gfu_u = GridFunction(fesu)\n",
    "\n",
    "gfdelta = GridFunction(fesphi)\n",
    "\n",
    "psih = GridFunction(fesphi)\n",
    "psih.Set(1)\n",
    "\n",
    "uk = GridFunction(fesu)\n",
    "psik = GridFunction(fesphi)\n",
    "eps = 1e-6\n",
    "# define phi as the 0 function \n",
    "obs = CF(-0.1)    \n",
    "\n",
    "max_PG_it = 20\n",
    "max_iter_newton = 30\n",
    "rho = 0.1\n",
    "grav = 9.81\n",
    "force = CoefficientFunction((0,0,-rho*grav))\n",
    "alpha = Parameter(1)\n",
    "\n",
    "for k in range(1,max_PG_it):\n",
    "\n",
    "    alpha.Set(2**k)\n",
    "    print(\"Iteration of proximal galerkin: \", k)\n",
    "    # assing uk, psik\n",
    "    uk.vec.data = gfu_u.vec\n",
    "    psik.vec.data = psih.vec\n",
    "    for i in range(1,max_iter_newton):\n",
    "        print(\"Newton iteration: \", i)\n",
    "        a = BilinearForm(fesu)\n",
    "        b = BilinearForm(trialspace=fesphi, testspace=fesu)\n",
    "        c = BilinearForm(fesphi)\n",
    "        L1 = LinearForm(fesu)\n",
    "        L2 = LinearForm(fesphi)\n",
    "\n",
    "        a += alpha * InnerProduct(Stress(Sym(Grad(u))), Sym(Grad(v))).Compile()*dx\n",
    "        # proximal galerkin term\n",
    "        b += InnerProduct(delta,v[2])*dx\n",
    "        # the left hand side\n",
    "        c+= -delta*exp(psih)*vphi*dx\n",
    "        c+= -1e-6*delta*vphi*dx\n",
    "        # the right hand side\n",
    "        L1 += alpha*force*v*dx\n",
    "        L1 += (psik-psih)*v[2]*dx\n",
    "\n",
    "        L2 += (obs+exp(psih))*vphi*dx\n",
    "        a.Assemble()\n",
    "        b.Assemble()\n",
    "        c.Assemble()\n",
    "        L1.Assemble()\n",
    "        L2.Assemble()\n",
    "        print(\"Attempting schur solve\")\n",
    "        u_np , delta_np =Solve_schur(a,b,c,L1,L2)\n",
    "        print(sp.linalg.norm(delta_np))\n",
    "        if sp.linalg.norm(delta_np) < 1e-5:\n",
    "            print(\"Converged\")\n",
    "            break\n",
    "        print(\"Schur solve finished\")\n",
    "        # update the gridfunctions\n",
    "        gfu_u.vec.FV().NumPy()[:] = u_np\n",
    "        gfdelta.vec.FV().NumPy()[:] = delta_np\n",
    "\n",
    "        psih.vec.data = psih.vec + gfdelta.vec\n",
    "\n",
    "\n",
    "    Draw(gfu_u, mesh, \"u\")\n",
    "    # r.data = lf.vec - a.mat * gfu.vec\n",
    "    #gfu.vec.data = a.mat.Inverse(freedofs=fes.FreeDofs()) * lf.vec\n",
    "    if Integrate((gfu_u-uk)**2, mesh) < 1e-5:\n",
    "        print(\"Tol PG\")\n",
    "        break\n",
    "    \n",
    "\n"
   ]
  },
  {
   "cell_type": "code",
   "execution_count": 8,
   "metadata": {},
   "outputs": [
    {
     "data": {
      "application/vnd.jupyter.widget-view+json": {
       "model_id": "e2925a200a6040dcb7e3afc83f2579db",
       "version_major": 2,
       "version_minor": 0
      },
      "text/plain": [
       "WebGuiWidget(layout=Layout(height='500px', width='100%'), value={'gui_settings': {}, 'ngsolve_version': '6.2.2…"
      ]
     },
     "metadata": {},
     "output_type": "display_data"
    },
    {
     "data": {
      "text/plain": [
       "BaseWebGuiScene"
      ]
     },
     "execution_count": 8,
     "metadata": {},
     "output_type": "execute_result"
    }
   ],
   "source": [
    "gfu_tilde = GridFunction(fesu)\n",
    "gfu_tilde.vec.data = gfu_u.vec\n",
    "gfu_tilde.components[2].Set(obs + exp(psih))\n",
    "Draw(gfu_tilde, mesh, \"u\")  "
   ]
  },
  {
   "cell_type": "code",
   "execution_count": 7,
   "metadata": {},
   "outputs": [
    {
     "ename": "NameError",
     "evalue": "name 'gfu' is not defined",
     "output_type": "error",
     "traceback": [
      "\u001b[0;31m---------------------------------------------------------------------------\u001b[0m",
      "\u001b[0;31mNameError\u001b[0m                                 Traceback (most recent call last)",
      "Cell \u001b[0;32mIn[7], line 2\u001b[0m\n\u001b[1;32m      1\u001b[0m plot_psi \u001b[38;5;241m=\u001b[39m GridFunction(H1(mesh, order\u001b[38;5;241m=\u001b[39m\u001b[38;5;241m1\u001b[39m))\n\u001b[0;32m----> 2\u001b[0m plot_psi\u001b[38;5;241m.\u001b[39mSet(\u001b[43mgfu\u001b[49m\u001b[38;5;241m.\u001b[39mcomponents[\u001b[38;5;241m1\u001b[39m])\n\u001b[1;32m      3\u001b[0m Draw(plot_psi, mesh, \u001b[38;5;124m\"\u001b[39m\u001b[38;5;124mpsi\u001b[39m\u001b[38;5;124m\"\u001b[39m)\n",
      "\u001b[0;31mNameError\u001b[0m: name 'gfu' is not defined"
     ]
    }
   ],
   "source": [
    "plot_psi = GridFunction(H1(mesh, order=1))\n",
    "plot_psi.Set(gfu.components[1])\n",
    "Draw(plot_psi, mesh, \"psi\")"
   ]
  },
  {
   "cell_type": "code",
   "execution_count": null,
   "metadata": {},
   "outputs": [],
   "source": []
  },
  {
   "cell_type": "code",
   "execution_count": 7,
   "metadata": {},
   "outputs": [
    {
     "data": {
      "application/vnd.jupyter.widget-view+json": {
       "model_id": "c4e8e04a9d9b46a096c5d97f85158bfc",
       "version_major": 2,
       "version_minor": 0
      },
      "text/plain": [
       "WebGuiWidget(layout=Layout(height='500px', width='100%'), value={'gui_settings': {}, 'ngsolve_version': '6.2.2…"
      ]
     },
     "metadata": {},
     "output_type": "display_data"
    },
    {
     "data": {
      "application/vnd.jupyter.widget-view+json": {
       "model_id": "9ac30c5b7ec842b2b0fc347040eff88f",
       "version_major": 2,
       "version_minor": 0
      },
      "text/plain": [
       "WebGuiWidget(layout=Layout(height='500px', width='100%'), value={'gui_settings': {}, 'ngsolve_version': '6.2.2…"
      ]
     },
     "metadata": {},
     "output_type": "display_data"
    },
    {
     "data": {
      "text/plain": [
       "BaseWebGuiScene"
      ]
     },
     "execution_count": 7,
     "metadata": {},
     "output_type": "execute_result"
    }
   ],
   "source": [
    "gfu_u.vec.data = gfu.components[0].vec\n",
    "gfu_u.components[2].Set(obs + exp(gfu.components[1]))\n",
    "Draw(gfu_u, mesh, \"u\")\n",
    "Draw(gfu.components[1], mesh, \"phi\")"
   ]
  },
  {
   "cell_type": "code",
   "execution_count": 8,
   "metadata": {},
   "outputs": [
    {
     "data": {
      "application/vnd.jupyter.widget-view+json": {
       "model_id": "f80823f6c1df4c7eb02f56b94299b84c",
       "version_major": 2,
       "version_minor": 0
      },
      "text/plain": [
       "WebGuiWidget(layout=Layout(height='500px', width='100%'), value={'gui_settings': {}, 'ngsolve_version': '6.2.2…"
      ]
     },
     "metadata": {},
     "output_type": "display_data"
    },
    {
     "name": "stdout",
     "output_type": "stream",
     "text": [
      "-392.6541068460776\n"
     ]
    }
   ],
   "source": [
    "vec = gfu.components[1]\n",
    "Draw(vec)\n",
    "print(min(vec.vec.data))"
   ]
  },
  {
   "cell_type": "code",
   "execution_count": 9,
   "metadata": {},
   "outputs": [],
   "source": [
    "import pickle\n",
    "with open('gfu.pkl', 'wb') as output:\n",
    "    pickle.dump(gfu_u, output)\n"
   ]
  }
 ],
 "metadata": {
  "kernelspec": {
   "display_name": "Python 3",
   "language": "python",
   "name": "python3"
  },
  "language_info": {
   "codemirror_mode": {
    "name": "ipython",
    "version": 3
   },
   "file_extension": ".py",
   "mimetype": "text/x-python",
   "name": "python",
   "nbconvert_exporter": "python",
   "pygments_lexer": "ipython3",
   "version": "3.13.1"
  },
  "orig_nbformat": 4
 },
 "nbformat": 4,
 "nbformat_minor": 2
}
