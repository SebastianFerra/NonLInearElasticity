{
 "cells": [
  {
   "cell_type": "code",
   "execution_count": 54,
   "metadata": {},
   "outputs": [],
   "source": [
    "# NGSolve Libraries\n",
    "from netgen.geom2d import unit_square\n",
    "from ngsolve import *\n",
    "from ngsolve.webgui import Draw # para jupyter\n",
    "#import netgen.gui\n",
    "from netgen.occ import *\n",
    "from netgen.csg import *\n",
    "from netgen.geom2d import SplineGeometry\n",
    "import sys\n",
    "sys.path.insert(0,\"../\")\n",
    "import problems\n",
    "import numpy as np\n",
    "import params\n",
    "import pickle\n",
    "from time import time\n",
    "from scipy.optimize import minimize_scalar\n",
    "import scipy as sp"
   ]
  },
  {
   "cell_type": "code",
   "execution_count": 55,
   "metadata": {},
   "outputs": [],
   "source": [
    "## get problem parameters and geometry\n",
    "from ngsolve.meshes import MakeStructured2DMesh\n",
    "problem = problems.problem2\n",
    "\n",
    "phi0 = problem[0]['phi0']\n",
    "chi = problem[0]['chi']\n",
    "G_target = problem[0]['G']\n",
    "geom = \"../\"+problem[1]\n",
    "dim = problem[0]['dim']\n",
    "BC = problem[2]\n",
    "name = problem[-1]\n",
    "h = 1\n",
    "ord = 3\n",
    "ord_phi = ord - 2\n",
    "N = params.N\n",
    "KBTV = params.KBTV\n",
    "form = \"Functional\" # EDP //functional\n",
    "\n",
    "rho = 1.23e-6\n",
    "\n",
    "\n",
    "phi = lambda J: phi0/J\n",
    "\n",
    "G = Parameter(G_target)\n",
    "\n",
    "## Generate mesh and geometry ### add parallel stuff\n",
    "# def mesher(geom, h):\n",
    "#     if \".stp\" in geom:\n",
    "#         geo = OCCGeometry(geom)\n",
    "#     else:\n",
    "#         geo = pickle.load(open(geom, \"rb\"))\n",
    "\n",
    "#     mesh = Mesh(geo.GenerateMesh(maxh=h))\n",
    "#     return mesh\n",
    "# mesh = mesher(geom, h)\n",
    "l,w = 15,3\n",
    "mapper = lambda x,y: (x*l,y*w)\n",
    "mesh = MakeStructured2DMesh( mapping=mapper, nx=25, ny=5)\n",
    "\n",
    "\n",
    "\n",
    "\n",
    "\n",
    "def Gel_energy_functional(F,u,A= 1e6):\n",
    "    g = 9.81\n",
    "    J = Det(F)\n",
    "   \n",
    "    H = (J - phi0)*log(1-phi0/J)  + phi0 * chi*(1-phi0/J)\n",
    "    # calculate C\n",
    "    # min (G/2) * (3 lam**2) + KBTV * H(lam**3):  lam > 1\n",
    "    Hf = lambda lam: (lam-phi0)*np.log(1-phi0/lam) + phi0*chi*(1-phi0/lam)\n",
    "\n",
    "    fun = lambda lam: (G.Get()/2)*(3*lam**2) + KBTV*Hf(lam)\n",
    "    res = minimize_scalar(fun, bounds=(1, 10), method='bounded')\n",
    "    C = res.fun\n",
    "    return 0.5*(G)* Trace(F.trans*F ) + H*KBTV  - C + IfPos((y+ u[1]),then_obj=0,else_obj=A*(y+u[1])**2)\n"
   ]
  },
  {
   "cell_type": "code",
   "execution_count": 56,
   "metadata": {},
   "outputs": [
    {
     "name": "stdout",
     "output_type": "stream",
     "text": [
      "ParameterCF, val = 1.95\n",
      "\n",
      "ParameterCF, val = 1.88724\n",
      "\n",
      "ParameterCF, val = 1.82448\n",
      "\n",
      "ParameterCF, val = 1.76172\n",
      "\n",
      "ParameterCF, val = 1.69897\n",
      "\n",
      "ParameterCF, val = 1.63621\n",
      "\n",
      "ParameterCF, val = 1.57345\n",
      "\n",
      "ParameterCF, val = 1.51069\n",
      "\n",
      "ParameterCF, val = 1.44793\n",
      "\n",
      "ParameterCF, val = 1.38517\n",
      "\n",
      "ParameterCF, val = 1.32241\n",
      "\n",
      "ParameterCF, val = 1.25966\n",
      "\n",
      "ParameterCF, val = 1.1969\n",
      "\n",
      "ParameterCF, val = 1.13414\n",
      "\n",
      "ParameterCF, val = 1.07138\n",
      "\n",
      "ParameterCF, val = 1.00862\n",
      "\n",
      "ParameterCF, val = 0.945862\n",
      "\n",
      "ParameterCF, val = 0.883103\n",
      "\n",
      "ParameterCF, val = 0.820345\n",
      "\n",
      "ParameterCF, val = 0.757586\n",
      "\n",
      "ParameterCF, val = 0.694828\n",
      "\n",
      "ParameterCF, val = 0.632069\n",
      "\n",
      "ParameterCF, val = 0.56931\n",
      "\n",
      "ParameterCF, val = 0.506552\n",
      "\n",
      "ParameterCF, val = 0.443793\n",
      "\n",
      "ParameterCF, val = 0.381034\n",
      "\n",
      "ParameterCF, val = 0.318276\n",
      "\n",
      "ParameterCF, val = 0.255517\n",
      "\n",
      "ParameterCF, val = 0.192759\n",
      "\n",
      "ParameterCF, val = 0.13\n",
      "\n"
     ]
    },
    {
     "data": {
      "application/vnd.jupyter.widget-view+json": {
       "model_id": "d9955be32e7044c0a92261e541e73d4b",
       "version_major": 2,
       "version_minor": 0
      },
      "text/plain": [
       "WebGuiWidget(layout=Layout(height='500px', width='100%'), value={'gui_settings': {}, 'ngsolve_version': '6.2.2…"
      ]
     },
     "metadata": {},
     "output_type": "display_data"
    }
   ],
   "source": [
    "if BC[\"dir_cond\"] == \"faces\":\n",
    "    fesu = VectorH1(mesh, order=ord, dirichlet = BC[\"DIR_FACES\"])\n",
    "\n",
    "u,v = fesu.TnT()\n",
    "\n",
    "BF = BilinearForm(fesu)\n",
    "F = Id(2) + grad(u)\n",
    "BF += Variation( Gel_energy_functional(F,u).Compile() *dx)\n",
    "\n",
    "def Solver_Bonded(BF, gfu, tol=1e-8, maxiter=250, damp = 0.2,A = 1e6):\n",
    "    BF = BilinearForm(fesu)\n",
    "    F = Id(2) + grad(u)\n",
    "    BF += Variation( Gel_energy_functional(F,u,A).Compile() *dx)\n",
    "    res = gfu.vec.CreateVector()\n",
    "    du  = gfu.vec.CreateVector()\n",
    "    for loadstep in np.flip(np.linspace(G_target,G_target*15, 30)):\n",
    "        G.Set(loadstep)\n",
    "        print(G)\n",
    "        for it in range(maxiter):\n",
    "            #solve linearized problem:\n",
    "            BF.Apply (gfu.vec, res)\n",
    "            BF.AssembleLinearization (gfu.vec)\n",
    "            inv = BF.mat.Inverse(fesu.FreeDofs())\n",
    "            du.data = damp * inv * res\n",
    "            gfu.vec.data -= du\n",
    "    Draw(gfu, mesh, \"u\", redraw=True)\n",
    "    return gfu, None, 1\n",
    "\n",
    "gfu_penalization = GridFunction(fesu)\n",
    "gfu_penalization.vec[:] = 0\n",
    "gfu_penalization, _, _ = Solver_Bonded(BF, gfu_penalization, tol=1e-8, maxiter=250, damp = 0.2)\n"
   ]
  },
  {
   "cell_type": "markdown",
   "metadata": {},
   "source": [
    "# NO PENALIZATION\n"
   ]
  },
  {
   "cell_type": "code",
   "execution_count": 57,
   "metadata": {},
   "outputs": [
    {
     "name": "stdout",
     "output_type": "stream",
     "text": [
      "ParameterCF, val = 1.95\n",
      "\n",
      "ParameterCF, val = 1.88724\n",
      "\n",
      "ParameterCF, val = 1.82448\n",
      "\n",
      "ParameterCF, val = 1.76172\n",
      "\n",
      "ParameterCF, val = 1.69897\n",
      "\n",
      "ParameterCF, val = 1.63621\n",
      "\n",
      "ParameterCF, val = 1.57345\n",
      "\n",
      "ParameterCF, val = 1.51069\n",
      "\n",
      "ParameterCF, val = 1.44793\n",
      "\n",
      "ParameterCF, val = 1.38517\n",
      "\n",
      "ParameterCF, val = 1.32241\n",
      "\n",
      "ParameterCF, val = 1.25966\n",
      "\n",
      "ParameterCF, val = 1.1969\n",
      "\n",
      "ParameterCF, val = 1.13414\n",
      "\n",
      "ParameterCF, val = 1.07138\n",
      "\n",
      "ParameterCF, val = 1.00862\n",
      "\n",
      "ParameterCF, val = 0.945862\n",
      "\n",
      "ParameterCF, val = 0.883103\n",
      "\n",
      "ParameterCF, val = 0.820345\n",
      "\n",
      "ParameterCF, val = 0.757586\n",
      "\n",
      "ParameterCF, val = 0.694828\n",
      "\n",
      "ParameterCF, val = 0.632069\n",
      "\n",
      "ParameterCF, val = 0.56931\n",
      "\n",
      "ParameterCF, val = 0.506552\n",
      "\n",
      "ParameterCF, val = 0.443793\n",
      "\n",
      "ParameterCF, val = 0.381034\n",
      "\n",
      "ParameterCF, val = 0.318276\n",
      "\n",
      "ParameterCF, val = 0.255517\n",
      "\n",
      "ParameterCF, val = 0.192759\n",
      "\n",
      "ParameterCF, val = 0.13\n",
      "\n"
     ]
    },
    {
     "data": {
      "application/vnd.jupyter.widget-view+json": {
       "model_id": "3a0dd067340841cb99d79597af336852",
       "version_major": 2,
       "version_minor": 0
      },
      "text/plain": [
       "WebGuiWidget(layout=Layout(height='500px', width='100%'), value={'gui_settings': {}, 'ngsolve_version': '6.2.2…"
      ]
     },
     "metadata": {},
     "output_type": "display_data"
    }
   ],
   "source": [
    "gfu_penalization = GridFunction(fesu)\n",
    "gfu_penalization.vec[:] = 0\n",
    "gfu, _, _ = Solver_Bonded(BF, gfu, tol=1e-8, maxiter=250, damp = 0.2,A = 0)"
   ]
  },
  {
   "cell_type": "code",
   "execution_count": 58,
   "metadata": {},
   "outputs": [
    {
     "data": {
      "application/vnd.jupyter.widget-view+json": {
       "model_id": "8bd97e189ad1426d88a70e708b67684a",
       "version_major": 2,
       "version_minor": 0
      },
      "text/plain": [
       "WebGuiWidget(layout=Layout(height='500px', width='100%'), value={'gui_settings': {}, 'ngsolve_version': '6.2.2…"
      ]
     },
     "metadata": {},
     "output_type": "display_data"
    },
    {
     "data": {
      "text/plain": [
       "BaseWebGuiScene"
      ]
     },
     "execution_count": 58,
     "metadata": {},
     "output_type": "execute_result"
    }
   ],
   "source": [
    "Draw(gfu)"
   ]
  }
 ],
 "metadata": {
  "kernelspec": {
   "display_name": "Python 3",
   "language": "python",
   "name": "python3"
  },
  "language_info": {
   "codemirror_mode": {
    "name": "ipython",
    "version": 3
   },
   "file_extension": ".py",
   "mimetype": "text/x-python",
   "name": "python",
   "nbconvert_exporter": "python",
   "pygments_lexer": "ipython3",
   "version": "3.13.1"
  }
 },
 "nbformat": 4,
 "nbformat_minor": 2
}
