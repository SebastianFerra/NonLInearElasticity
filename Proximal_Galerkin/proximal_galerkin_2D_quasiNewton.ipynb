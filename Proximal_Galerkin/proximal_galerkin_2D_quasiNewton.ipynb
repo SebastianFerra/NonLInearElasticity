{
 "cells": [
  {
   "cell_type": "code",
   "execution_count": 25,
   "metadata": {},
   "outputs": [],
   "source": [
    "from ngsolve import *\n",
    "from netgen.geom2d import SplineGeometry\n",
    "\n",
    "from netgen.occ import *\n",
    "import netgen.meshing as ngm\n",
    "import numpy as np\n",
    "from ngsolve.webgui import *\n",
    "from netgen.geom2d import unit_square\n",
    "\n",
    "def innerL2(gfu,mesh):\n",
    "    return Integrate(InnerProduct(gfu,gfu),mesh)\n",
    "def L2error(gfu,exact,mesh):\n",
    "    return sqrt(innerL2(gfu-exact,mesh))\n",
    "\n",
    "draw = False\n"
   ]
  },
  {
   "cell_type": "code",
   "execution_count": 26,
   "metadata": {},
   "outputs": [
    {
     "name": "stdout",
     "output_type": "stream",
     "text": [
      " Generate Mesh from spline geometry\n",
      "Number of dofs:  5291\n",
      "Iteration of proximal galerkin:  1\n",
      "Starting quasi newton iteration\n",
      "error newton 0.247170827419863\n",
      "error newton 0.02957076379894463\n",
      "error newton 0.011336959497459397\n",
      "error newton 0.0010616729121061944\n",
      "error newton 2.0538414197977825e-05\n",
      "error newton 1.7339108300751414e-07\n",
      "error newton 2.9788818402339915e-09\n",
      "Iteration of proximal galerkin:  2\n",
      "Starting quasi newton iteration\n",
      "error newton 0.09551981142787719\n",
      "Iteration of proximal galerkin:  3\n",
      "Starting quasi newton iteration\n",
      "error newton 0.01673802037269673\n",
      "Iteration of proximal galerkin:  4\n",
      "Starting quasi newton iteration\n",
      "error newton 0.002861013512989573\n",
      "Iteration of proximal galerkin:  5\n",
      "Starting quasi newton iteration\n",
      "error newton 2.0650860755258235e-05\n",
      "Iteration of proximal galerkin:  6\n",
      "Starting quasi newton iteration\n",
      "error newton 2.2997063641623868e-07\n",
      "Iteration of proximal galerkin:  7\n",
      "Starting quasi newton iteration\n",
      "error newton 2.0981509404182362e-08\n",
      "Iteration of proximal galerkin:  8\n",
      "Starting quasi newton iteration\n",
      "error newton 2.8108171177170134e-10\n",
      "Iteration of proximal galerkin:  9\n",
      "Starting quasi newton iteration\n",
      "error newton 8.180734659453334e-11\n",
      "Iteration of proximal galerkin:  10\n",
      "Starting quasi newton iteration\n",
      "error newton 1.509281793937008e-11\n",
      "Iteration of proximal galerkin:  11\n",
      "Starting quasi newton iteration\n",
      "error newton 3.075568301914342e-12\n",
      "Iteration of proximal galerkin:  12\n",
      "Starting quasi newton iteration\n",
      "error newton 6.995696737053299e-13\n",
      "Exited with exit tolerance\n"
     ]
    }
   ],
   "source": [
    "from netgen.meshing import MeshingParameters\n",
    "\n",
    "# generate a triangular mesh of mesh-size 0.2\n",
    "\n",
    "w,l= 1,1\n",
    "n = 5\n",
    "rect = SplineGeometry()\n",
    "pnts = [(0,0), (l,0), (l,w), (0,w)]\n",
    "p1,p2,p3,p4 = [rect.AppendPoint(*pnt) for pnt in pnts]\n",
    "curves = [[[\"line\",p1,p2],\"bottom\"],\n",
    "        [[\"line\",p2,p3],\"right\"],\n",
    "        [[\"line\",p3,p4],\"top\"],\n",
    "        [[\"line\",p4,p1],\"left\"]]\n",
    "[rect.Append(c,bc=bc, leftdomain=1, rightdomain=0) for c,bc in curves]\n",
    "\n",
    "mesh = Mesh(rect.GenerateMesh(maxh=0.05))\n",
    "\n",
    "\n",
    "#phi = CF(sqrt(0.25-(x-0.5)**2-(y-0.5)**2) if (x-0.5)**2+(y-0.5)**2 < 0.25 else 0)\n",
    "alpha = Parameter(1) # step size \n",
    "# psi initial guess\n",
    "dim = 2\n",
    "p = 3\n",
    "# proximal galerkin iterations\n",
    "\n",
    "fesu = H1(mesh, order=p, dirichlet=\"left\") # L2\n",
    "\n",
    "fesphi = L2(mesh, order=p-3) # L_inf \n",
    "fes = fesu * fesphi\n",
    "print(\"Number of dofs: \", fes.ndof)\n",
    " #bilinear form (not linear)\n",
    "u, delta = fes.TrialFunction()\n",
    "v, vphi = fes.TestFunction()\n",
    "\n",
    "# initial guesses\n",
    "gfu_u = GridFunction(fesu)\n",
    "\n",
    "psih = GridFunction(fesphi)\n",
    "psih.Set(1)\n",
    "\n",
    "uk = GridFunction(fesu)\n",
    "psik = GridFunction(fesphi)\n",
    "\n",
    "eps = 1e-4\n",
    "\n",
    "max_iter_newton = 30\n",
    "max_iter_PG = 20\n",
    "\n",
    "tol_newton = 1e-4\n",
    "tol_exit = 1e-6\n",
    "wh = GridFunction(fesu)\n",
    "\n",
    "phi = CF(x)\n",
    "n = specialcf.normal(2)\n",
    "for k in range(1,max_iter_PG):\n",
    "    alpha.Set(2**k)\n",
    "    print(\"Iteration of proximal galerkin: \", k)\n",
    "    # assing uk, psik\n",
    "    uk.vec.data = gfu_u.vec\n",
    "    psik.vec.data = psih.vec\n",
    "    # psik.Set(-100,definedon=mesh.Boundaries(\"outer\"))\n",
    "    print(\"Starting quasi newton iteration\")\n",
    "    for i in range(max_iter_newton):\n",
    "        with TaskManager():\n",
    "            wh.vec.data = gfu_u.vec\n",
    "            \n",
    "            # bilinear form\n",
    "            a = BilinearForm(fes)\n",
    "            a += alpha * grad(u) * grad(v) * dx \n",
    "            a += delta * v * dx\n",
    "            a += u * vphi * dx - (delta * exp(psih) * vphi * dx + eps * (grad(delta) * grad(vphi) * dx))\n",
    "            # linear form rhs\n",
    "            l = LinearForm(fes)\n",
    "            # f = 0\n",
    "            l += (-alpha * CF(12*x**2) + psik - psih)*v*dx\n",
    "            l += CF(alpha * 4) * v * ds(definedon=\"right\")\n",
    "            l += (phi + exp(psih)) * vphi*dx  \n",
    "            a.Assemble()\n",
    "            l.Assemble()\n",
    "            # solve the system\n",
    "            \n",
    "            gfu = GridFunction(fes)\n",
    "\n",
    "            r = l.vec.CreateVector()\n",
    "            r.data = l.vec - a.mat * gfu.vec\n",
    "            gfu.vec.data += a.mat.Inverse(freedofs=fes.FreeDofs()) * r\n",
    "            gfu_u.vec.data = gfu.components[0].vec\n",
    "            psih.vec.data = psih.vec + gfu.components[1].vec\n",
    "            error_newton = Integrate((wh-gfu.components[0])**2, mesh)\n",
    "            print(\"error newton\",error_newton)\n",
    "            if error_newton < tol_newton**2:\n",
    "                break\n",
    "\n",
    "    tol_newton = np.sqrt(Integrate((uk-gfu.components[0])**2, mesh))\n",
    "        \n",
    "    if tol_newton < tol_exit:\n",
    "        print(\"Exited with exit tolerance\")\n",
    "        break\n",
    "\n",
    "\n",
    "\n",
    "\n",
    "\n",
    "\n",
    "\n",
    "\n",
    "        \n",
    "\n"
   ]
  },
  {
   "cell_type": "code",
   "execution_count": 28,
   "metadata": {},
   "outputs": [
    {
     "name": "stderr",
     "output_type": "stream",
     "text": [
      "/Library/Frameworks/Python.framework/Versions/3.13/lib/python3.13/site-packages/netgen/webgui.py:17: RuntimeWarning: overflow encountered in cast\n",
      "  values = np.array(data.flatten(), dtype=dtype)\n"
     ]
    },
    {
     "data": {
      "application/vnd.jupyter.widget-view+json": {
       "model_id": "72404e9ef451443ea7551e111deaf415",
       "version_major": 2,
       "version_minor": 0
      },
      "text/plain": [
       "WebGuiWidget(layout=Layout(height='500px', width='100%'), value={'gui_settings': {}, 'ngsolve_version': '6.2.2…"
      ]
     },
     "metadata": {},
     "output_type": "display_data"
    },
    {
     "data": {
      "text/plain": [
       "BaseWebGuiScene"
      ]
     },
     "execution_count": 28,
     "metadata": {},
     "output_type": "execute_result"
    }
   ],
   "source": [
    "Draw(phi+exp(psih)-gfu_u,mesh,min=0,max=1) \n"
   ]
  }
 ],
 "metadata": {
  "kernelspec": {
   "display_name": "Python 3",
   "language": "python",
   "name": "python3"
  },
  "language_info": {
   "codemirror_mode": {
    "name": "ipython",
    "version": 3
   },
   "file_extension": ".py",
   "mimetype": "text/x-python",
   "name": "python",
   "nbconvert_exporter": "python",
   "pygments_lexer": "ipython3",
   "version": "3.13.1"
  }
 },
 "nbformat": 4,
 "nbformat_minor": 2
}
