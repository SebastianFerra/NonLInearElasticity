{
 "cells": [
  {
   "cell_type": "code",
   "execution_count": 2,
   "metadata": {},
   "outputs": [],
   "source": [
    "# NGSolve Libraries\n",
    "from netgen.geom2d import unit_square\n",
    "from ngsolve import *\n",
    "from ngsolve.webgui import Draw # para jupyter\n",
    "#import netgen.gui\n",
    "from netgen.occ import *\n",
    "from netgen.csg import *\n",
    "from scipy.optimize import minimize_scalar\n",
    "## get problem parameters and geometry\n",
    "from netgen.geom2d import SplineGeometry\n",
    "import sys\n",
    "from IPython.display import clear_output\n",
    "sys.path.insert(0,\"../\")\n",
    "sys.path.insert(0,\"../../\")\n",
    "import problems\n",
    "import numpy as np\n",
    "import params\n",
    "import pickle\n",
    "from time import time"
   ]
  },
  {
   "cell_type": "code",
   "execution_count": 6,
   "metadata": {},
   "outputs": [],
   "source": [
    "\n",
    "\n",
    "problem = problems.problem2\n",
    "\n",
    "phi0 = problem[0]['phi0']\n",
    "chi = problem[0]['chi']\n",
    "G_target = problem[0]['G']\n",
    "geom = problem[1]\n",
    "dim = problem[0]['dim']\n",
    "BC = problem[2]\n",
    "name = problem[-1]\n",
    "ord = 4\n",
    "N = params.N\n",
    "KBTV = params.KBTV\n",
    "form = \"Functional\" # EDP //functional\n",
    "\n",
    "\n",
    "phi = lambda J: phi0/J\n",
    "\n",
    "G = Parameter(G_target)\n",
    "\n",
    "## Generate mesh and geometry ### add parallel stuff\n",
    "# def mesher(geom, h):\n",
    "#     if \".stp\" in geom:\n",
    "#         geo = OCCGeometry(geom)\n",
    "#     else:\n",
    "#         geo = pickle.load(open(geom, \"rb\"))\n",
    "\n",
    "#     mesh = Mesh(geo.GenerateMesh(maxh=h))\n",
    "#     return mesh\n",
    "# mesh = mesher(geom, h)  \n",
    "w,l= 3,15\n",
    "n = 5\n",
    "\n",
    "\n",
    "\n",
    "rect = SplineGeometry()\n",
    "pnts = [(0,0), (l,0), (l,w), (0,w)]\n",
    "p1 = rect.AppendPoint(*(0,0),hpref=1)\n",
    "p2 = rect.AppendPoint(*(l,0),hpref=1)\n",
    "p3 = rect.AppendPoint(*(l,w/4),hpref=1)\n",
    "p4 = rect.AppendPoint(*(l,w),hpref=1)\n",
    "p5 = rect.AppendPoint(*(0,w),hpref=1)\n",
    "p6 = rect.AppendPoint(*(0,w/4),hpref=1)\n",
    "\n",
    "\n",
    "curves = [[[\"line\",p1,p2],\"bottom\"],\n",
    "        [[\"line\",p2,p3],\"right_bot\"],\n",
    "        [[\"line\",p3,p4],\"right_top\"],\n",
    "        [[\"line\",p4,p5],\"top\"],\n",
    "        [[\"line\",p5,p6],\"left_top\"],\n",
    "        [[\"line\",p6,p1],\"left_bot\"]]\n",
    "\n",
    "wings_h = 0.03\n",
    "top_h = 1\n",
    "bot_h = 0.2\n",
    "h = 1\n",
    "\n",
    "rect.Append(curves[0][0], bc = curves[0][1], leftdomain=1, rightdomain=0, maxh=bot_h)\n",
    "rect.Append(curves[1][0], bc = curves[1][1], leftdomain=1, rightdomain=0, maxh=wings_h) #0.03\n",
    "rect.Append(curves[2][0], bc = curves[2][1], leftdomain=1, rightdomain=0, maxh=h) #0.03\n",
    "rect.Append(curves[3][0], bc = curves[3][1], leftdomain=1, rightdomain=0, maxh=top_h) #0.05\n",
    "rect.Append(curves[4][0], bc = curves[4][1], leftdomain=1, rightdomain=0,maxh=h) #0.03\n",
    "rect.Append(curves[5][0], bc = curves[5][1], leftdomain=1, rightdomain=0, maxh=wings_h) #0.03\n",
    "\n",
    "\n",
    "mesh = Mesh(rect.GenerateMesh(maxh=h)) #0.8\n",
    "def Gel_energy_functional(F):\n",
    "    \n",
    "    g = 9.81\n",
    "    J = Det(F)\n",
    "    rho = 1.23e-6\n",
    "    H = (J - phi0)*log(1-phi0/J)  + phi0 * chi*(1-phi0/J)\n",
    "    # calculate C\n",
    "    # min (G/2) * (3 lam**2) + KBTV * H(lam**3):  lam > 1\n",
    "    # Hf = lambda lam: (lam-phi0)*np.log(1-phi0/lam) + phi0*chi*(1-phi0/lam)\n",
    "\n",
    "    # fun = lambda lam: (G.Get()/2)*(3*lam**2) + KBTV*Hf(lam)\n",
    "    # res = minimize_scalar(fun, bounds=(1, 10), method='bounded')\n",
    "    # C = res.fun\n",
    "    return 0.5*(G)* Trace(F.trans*F ) + H*KBTV #+ rho*g*u[1] - C\n",
    "\n",
    "\n",
    "## Generate spaces and forms\n",
    "\"\"\"\n",
    "To bond the gel go to geometries and describe the bonding\n",
    "face there, not here.\n",
    "\"\"\"\n",
    "if BC[\"dir_cond\"] == \"faces\":\n",
    "    fesu = VectorH1(mesh, order=ord, dirichlet = BC[\"DIR_FACES\"])\n",
    "elif BC[\"dir_cond\"] == \"components\":\n",
    "    fesu = VectorH1(mesh, order=ord, dirichletx = BC[\"x\"], dirichlety = BC[\"y\"], dirichletz = BC[\"z\"])\n",
    "\n",
    "fesphi = L2(mesh, order = ord-3)\n",
    "\n",
    "fes = FESpace([fesu, fesphi])\n",
    "u, delta = fes.TrialFunction()\n",
    "v, vphi= fes.TestFunction()\n",
    "BF = BilinearForm(fes, condense=True)\n",
    "\n",
    "\n",
    "\n",
    "\n"
   ]
  },
  {
   "cell_type": "markdown",
   "metadata": {},
   "source": [
    "## static condensation"
   ]
  },
  {
   "cell_type": "code",
   "execution_count": 3,
   "metadata": {},
   "outputs": [
    {
     "data": {
      "application/vnd.jupyter.widget-view+json": {
       "model_id": "7df5e4e26567440aa32503e74fd937f1",
       "version_major": 2,
       "version_minor": 0
      },
      "text/plain": [
       "WebGuiWidget(layout=Layout(height='500px', width='100%'), value={'gui_settings': {}, 'ngsolve_version': '6.2.2…"
      ]
     },
     "metadata": {},
     "output_type": "display_data"
    },
    {
     "data": {
      "text/plain": [
       "BaseWebGuiScene"
      ]
     },
     "execution_count": 3,
     "metadata": {},
     "output_type": "execute_result"
    }
   ],
   "source": [
    "\n",
    "## Assemble forms\n",
    "alpha = Parameter(1)\n",
    "\n",
    "psih = GridFunction(fesphi)\n",
    "psih.Set(0)\n",
    "\n",
    "uk = GridFunction(fesu)\n",
    "uk.Set((0,0))\n",
    "\n",
    "psik = GridFunction(fesphi)\n",
    "eps = 1e-6\n",
    "# define phi as the 0 function \n",
    "\n",
    "gfu = GridFunction(fes)\n",
    "gfu.vec[:] = 0\n",
    "obs = CF(-y)    \n",
    "\n",
    "def Assemble_BF(BF,G_funs,form):\n",
    "    u, v, alpha, delta, psik,psih = G_funs\n",
    "    F = Id(2)+ Grad(u)\n",
    "    if form == \"Functional\":\n",
    "        BF += Variation(alpha * Gel_energy_functional(F).Compile()*dx) # add the \"bilinear\" form of specific problem\n",
    "        BF+= delta*v[1]*dx\n",
    "        BF+= u[1]* vphi*dx\n",
    "        BF+= -delta*exp(psih)*vphi*dx\n",
    "        if ord==3:\n",
    "            BF += -1e-6* delta * vphi*dx\n",
    "        else: \n",
    "            BF += -1e-6* Grad(delta) * Grad(vphi)*dx\n",
    "        # the right hand sideBF\n",
    "        # BF += -alpha * force[2] * v[2] * dx # force is 0 \n",
    "        BF += -(psik-psih)*v[1]*dx\n",
    "        BF += -(obs+exp(psih))*vphi*dx\n",
    "        return BF\n",
    "    \n",
    "\n",
    "Draw(mesh)"
   ]
  },
  {
   "cell_type": "code",
   "execution_count": 4,
   "metadata": {},
   "outputs": [],
   "source": [
    "def Update_BF(BF,gfu,res):\n",
    "    BF.AssembleLinearization(gfu.vec)\n",
    "    invS = BF.mat.Inverse(freedofs=fes.FreeDofs(coupling=True))\n",
    "    ext = IdentityMatrix() + BF.harmonic_extension\n",
    "    extT = IdentityMatrix() + BF.harmonic_extension_trans\n",
    "    invA =  ext @ invS @ extT + BF.inner_solve\n",
    "    return invA, BF\n",
    "\n",
    "def compute_damp(N_x, norm_N_0, t):\n",
    " \n",
    "    tau = t**2*norm_N_0/2\n",
    "    with TaskManager():\n",
    "        norm_N_x = N_x.Norm()\n",
    "    print(\"norm_N_x\")\n",
    "    print(np.sqrt(2*tau/norm_N_x))\n",
    "    t_n = min(1,np.sqrt(2*tau/norm_N_x))\n",
    "    return t_n"
   ]
  },
  {
   "cell_type": "code",
   "execution_count": 5,
   "metadata": {},
   "outputs": [
    {
     "name": "stdout",
     "output_type": "stream",
     "text": [
      "[Errno 2] No such file or directory: 'Proximal_Galerkin'\n",
      "/Users/sferra/Desktop/NonLInearElasticity/Proximal_Galerkin\n"
     ]
    },
    {
     "name": "stderr",
     "output_type": "stream",
     "text": [
      "/Users/sferra/Library/Python/3.13/lib/python/site-packages/IPython/core/magics/osm.py:393: UserWarning: This is now an optional IPython functionality, using bookmarks requires you to install the `pickleshare` library.\n",
      "  bkms = self.shell.db.get('bookmarks', {})\n"
     ]
    }
   ],
   "source": [
    "cd Proximal_Galerkin"
   ]
  },
  {
   "cell_type": "code",
   "execution_count": null,
   "metadata": {},
   "outputs": [
    {
     "name": "stdout",
     "output_type": "stream",
     "text": [
      "Updating\n",
      "Step 0.0078125\n",
      "Current load: 0.9765625\n",
      "PG it: 1\n",
      "Solving nonlinear subproblem\n",
      "QN: 0\n",
      "Tol achieved newton 8.690194939589753e-07\n",
      "QN: 1\n"
     ]
    }
   ],
   "source": [
    "max_PG_it = 100\n",
    "max_iter_newton = 100\n",
    "max_iter_qnewton = 100\n",
    "\n",
    "adapt_damp = False\n",
    "newton_damp = 0.1\n",
    "\n",
    "tol_newton = 1e-6\n",
    "tol_QN = 1e-6\n",
    "tol_delta = 1e-6\n",
    "\n",
    "reset = 4 # reset the inverse every reset iterations\n",
    "\n",
    "initial_G = G_target*25\n",
    "good_G = [initial_G]\n",
    "good_gfu = [gfu.vec.data]\n",
    "good_psih = [psih.vec.data]\n",
    "G.Set(initial_G)\n",
    "good_G.append(G.Get())\n",
    "step = 0.5\n",
    "not_Done = True\n",
    "\n",
    "\n",
    "clear = False\n",
    "\n",
    "\n",
    "while not_Done:\n",
    "    if G.Get() == G_target:\n",
    "        print(\"Target G achieved\")\n",
    "        not_Done = False\n",
    "    try:\n",
    "        print(\"Current load:\", G.Get())\n",
    "         #incremental softening\n",
    "        for k in range(1,max_PG_it):\n",
    "            print(\"PG it:\",k)\n",
    "            alpha.Set(1)\n",
    "            psik.vec.data = psih.vec\n",
    "            if k != 1:\n",
    "                uk.vec.data = gfu.components[0].vec \n",
    "\n",
    "            G_funs = u,v,alpha,delta,psik, psih\n",
    "\n",
    "            with TaskManager():\n",
    "                BF = Assemble_BF(BF,G_funs,form)\n",
    "                res = gfu.vec.CreateVector()\n",
    "                w = gfu.vec.CreateVector()\n",
    "            print(\"Solving nonlinear subproblem\")\n",
    "            for it in range(max_iter_qnewton):\n",
    "                wh =  GridFunction(fesu)\n",
    "                wh.Set(gfu.components[0])\n",
    "                print(\"QN:\", it)\n",
    "                with TaskManager():\n",
    "                    invA,BF = Update_BF(BF,gfu,res)\n",
    "                for iter in range(max_iter_newton):\n",
    "                    BF.Apply(gfu.vec,res)\n",
    "                    if iter%reset == 0 and iter != 0:\n",
    "                        with TaskManager():\n",
    "                            invA,BF = Update_BF(BF,gfu,res)\n",
    "\n",
    "                    with TaskManager():\n",
    "                        w.data = newton_damp * invA * res\n",
    "                        gfu.vec.data += -w\n",
    "                        delt = InnerProduct(w,res)\n",
    "            \n",
    "                    if abs(delt) < tol_newton:\n",
    "                        print(\"Tol achieved newton\",delt)\n",
    "                        break\n",
    "                \n",
    "                    # update psik\n",
    "                psih.vec.data = psih.vec + gfu.components[1].vec\n",
    "                wh_dif = Integrate((gfu.components[0]-wh)*(gfu.components[0]-wh),mesh)\n",
    "                if wh_dif < tol_QN:\n",
    "                    print(\"Tol achieved\",wh_dif)\n",
    "                    break\n",
    "            dif = Integrate((uk-gfu.components[0])*(uk-gfu.components[0]),mesh)\n",
    "            print(\"U_k difference\", dif)\n",
    "            if dif < tol_delta:\n",
    "                print(\"Tol PG achieved\", dif)\n",
    "                break\n",
    "        clear = True\n",
    "        good_G.append(G.Get())\n",
    "        good_gfu.append(gfu.vec.Copy())\n",
    "        good_psih.append(psih.vec.Copy())\n",
    "        clear_output()\n",
    "        \n",
    "        \n",
    "    except:\n",
    "        print(\"Exception occurred, reducing step size and reset window\")\n",
    "        gfu.vec.data = good_gfu[-1]\n",
    "        psih.vec.data = good_psih[-1]\n",
    "        load = good_G[-1]\n",
    "\n",
    "        if reset != 1:\n",
    "            reset -= 1\n",
    "        step = step/2\n",
    "        load =  load-step\n",
    "        G.Set(load)\n",
    "        print(\"load\", load, \"step\", step, \"reset\", reset)\n",
    "    \n",
    "    if clear:\n",
    "        print(\"Updating\")\n",
    "        print(\"Step\", step)\n",
    "        \n",
    "        load = G.Get() - step\n",
    "        if load < G_target:\n",
    "            load = G_target\n",
    "        G.Set(load)\n",
    "        clear = False\n",
    "\n",
    "\n",
    "\n"
   ]
  },
  {
   "cell_type": "code",
   "execution_count": 61,
   "metadata": {},
   "outputs": [],
   "source": [
    "pickle.dump([gfu,load,psih], open(\"temp_info.p\", \"wb\"))\n"
   ]
  },
  {
   "cell_type": "code",
   "execution_count": null,
   "metadata": {},
   "outputs": [],
   "source": [
    "cd /Users/sferra/Desktop/NonLInearElasticity/Proximal_Galerkin"
   ]
  },
  {
   "cell_type": "code",
   "execution_count": null,
   "metadata": {},
   "outputs": [],
   "source": [
    "ls"
   ]
  },
  {
   "cell_type": "code",
   "execution_count": 64,
   "metadata": {},
   "outputs": [],
   "source": [
    "# pickle.dump(gfu, open(\"gfu123.pkl\", \"wb+\"))\n",
    "# pickle.dump(psih, open(\"psi_h_mesh1.pkl\", \"wb+\"))\n",
    "# pickle.dump(mesh, open(\"mesh1.pkl\", \"wb+\"))"
   ]
  },
  {
   "cell_type": "code",
   "execution_count": null,
   "metadata": {},
   "outputs": [],
   "source": [
    "import"
   ]
  },
  {
   "cell_type": "code",
   "execution_count": 14,
   "metadata": {},
   "outputs": [],
   "source": [
    "gfu=pickle.load(open(\"gfu123.pkl\", \"rb\"))\n",
    "psih = pickle.load(open(\"psi_h_mesh1.pkl\", \"rb\"))\n",
    "mesh =pickle.load(open(\"mesh1.pkl\", \"rb\"))"
   ]
  },
  {
   "cell_type": "code",
   "execution_count": 15,
   "metadata": {},
   "outputs": [],
   "source": [
    "## Generate spaces and forms\n",
    "\"\"\"\n",
    "To bond the gel go to geometries and describe the bonding\n",
    "face there, not here.\n",
    "\"\"\"\n",
    "if BC[\"dir_cond\"] == \"faces\":\n",
    "    fesu = VectorH1(mesh, order=ord, dirichlet = BC[\"DIR_FACES\"])\n",
    "elif BC[\"dir_cond\"] == \"components\":\n",
    "    fesu = VectorH1(mesh, order=ord, dirichletx = BC[\"x\"], dirichlety = BC[\"y\"], dirichletz = BC[\"z\"])\n",
    "\n",
    "fesphi = L2(mesh, order = ord-3)\n",
    "\n",
    "fes = FESpace([fesu, fesphi])\n",
    "u, delta = fes.TrialFunction()\n",
    "v, vphi= fes.TestFunction()\n",
    "BF = BilinearForm(fes, condense=True)\n"
   ]
  },
  {
   "cell_type": "code",
   "execution_count": 16,
   "metadata": {},
   "outputs": [
    {
     "data": {
      "application/vnd.jupyter.widget-view+json": {
       "model_id": "beed61e1d86c4e019fd1d2d2b590a058",
       "version_major": 2,
       "version_minor": 0
      },
      "text/plain": [
       "WebGuiWidget(layout=Layout(height='500px', width='100%'), value={'gui_settings': {}, 'ngsolve_version': '6.2.2…"
      ]
     },
     "metadata": {},
     "output_type": "display_data"
    },
    {
     "data": {
      "text/plain": [
       "BaseWebGuiScene"
      ]
     },
     "execution_count": 16,
     "metadata": {},
     "output_type": "execute_result"
    }
   ],
   "source": [
    "Draw(gfu.components[0], mesh, \"u\")"
   ]
  },
  {
   "cell_type": "code",
   "execution_count": null,
   "metadata": {},
   "outputs": [],
   "source": [
    "import matplotlib.pyplot as plt\n",
    "plt.plot(good_G)\n"
   ]
  },
  {
   "cell_type": "code",
   "execution_count": 19,
   "metadata": {},
   "outputs": [
    {
     "data": {
      "application/vnd.jupyter.widget-view+json": {
       "model_id": "e906b7147ca642ae842ece5a144f176a",
       "version_major": 2,
       "version_minor": 0
      },
      "text/plain": [
       "WebGuiWidget(layout=Layout(height='500px', width='100%'), value={'gui_settings': {}, 'ngsolve_version': '6.2.2…"
      ]
     },
     "metadata": {},
     "output_type": "display_data"
    },
    {
     "data": {
      "application/vnd.jupyter.widget-view+json": {
       "model_id": "01f88d0284e0418abd284f0f5f3f68be",
       "version_major": 2,
       "version_minor": 0
      },
      "text/plain": [
       "WebGuiWidget(layout=Layout(height='500px', width='100%'), value={'gui_settings': {}, 'ngsolve_version': '6.2.2…"
      ]
     },
     "metadata": {},
     "output_type": "display_data"
    },
    {
     "data": {
      "text/plain": [
       "BaseWebGuiScene"
      ]
     },
     "execution_count": 19,
     "metadata": {},
     "output_type": "execute_result"
    }
   ],
   "source": [
    "obs = -y\n",
    "gfu_tilde = GridFunction(fesu)\n",
    "gfu_tilde.vec.data = gfu.components[0].vec\n",
    "gfu_tilde.components[1].Set(exp(psih)+obs)\n",
    "Draw(gfu_tilde, mesh)\n",
    "u, v = fesu.TnT()\n",
    "i = BilinearForm(fesu)\n",
    "i += InnerProduct(u,v)*dx\n",
    "i.Assemble()\n",
    "L = LinearForm(fesu)\n",
    "L += gfu_tilde*v*dx\n",
    "L.Assemble()\n",
    "gfu_t = GridFunction(fesu)\n",
    "gfu_t.vec[:] = 0\n",
    "gfu_t.vec.data += i.mat.Inverse(freedofs=fesu.FreeDofs())*L.vec\n",
    "Draw(gfu_t, mesh, \"gfu_t\")"
   ]
  },
  {
   "cell_type": "code",
   "execution_count": 9,
   "metadata": {},
   "outputs": [
    {
     "data": {
      "application/vnd.jupyter.widget-view+json": {
       "model_id": "1490512b8e46410c91c81419d75adc7c",
       "version_major": 2,
       "version_minor": 0
      },
      "text/plain": [
       "WebGuiWidget(layout=Layout(height='500px', width='100%'), value={'gui_settings': {}, 'ngsolve_version': '6.2.2…"
      ]
     },
     "metadata": {},
     "output_type": "display_data"
    },
    {
     "data": {
      "text/plain": [
       "BaseWebGuiScene"
      ]
     },
     "execution_count": 9,
     "metadata": {},
     "output_type": "execute_result"
    }
   ],
   "source": [
    "Draw(exp(psih) + -y, mesh, \"psi_h\",min=0, max=1.5)"
   ]
  },
  {
   "cell_type": "code",
   "execution_count": 20,
   "metadata": {},
   "outputs": [
    {
     "data": {
      "application/vnd.jupyter.widget-view+json": {
       "model_id": "75e38299331a42ccabb931087e80df27",
       "version_major": 2,
       "version_minor": 0
      },
      "text/plain": [
       "WebGuiWidget(layout=Layout(height='500px', width='100%'), value={'gui_settings': {}, 'ngsolve_version': '6.2.2…"
      ]
     },
     "metadata": {},
     "output_type": "display_data"
    },
    {
     "data": {
      "text/plain": [
       "BaseWebGuiScene"
      ]
     },
     "execution_count": 20,
     "metadata": {},
     "output_type": "execute_result"
    }
   ],
   "source": [
    "Draw(gfu_t-gfu.components[0], mesh, \"gfu_t-gfu\")"
   ]
  },
  {
   "cell_type": "markdown",
   "metadata": {},
   "source": [
    "Check proximal point and projected optimization with constraints"
   ]
  },
  {
   "cell_type": "code",
   "execution_count": 70,
   "metadata": {},
   "outputs": [],
   "source": [
    "import pandas as pd\n",
    "\n",
    "df = pd.DataFrame()\n",
    "columns = [\"x\", \"y\", \"uh_y\", \"satisfy_constraint\", \"sum\"]\n",
    "data = []"
   ]
  },
  {
   "cell_type": "code",
   "execution_count": 71,
   "metadata": {},
   "outputs": [],
   "source": [
    "uh = gfu.components[0]\n",
    "for i,p in enumerate(mesh.vertices):\n",
    "    temp = [0,0,0,0,0]\n",
    "    if p.point[0] == 0:\n",
    "        temp[0] = p.point[0]\n",
    "        temp[1] = p.point[1]\n",
    "        temp[2] = uh(mesh(*p.point))[1]\n",
    "        temp[3] = (uh(mesh(*p.point))[1]+p.point[1]>0)\n",
    "        temp[4] = uh(mesh(*p.point))[1]+p.point[1]\n",
    "        data.append(temp)\n",
    "df = pd.DataFrame(data, columns=columns)\n"
   ]
  },
  {
   "cell_type": "code",
   "execution_count": null,
   "metadata": {},
   "outputs": [],
   "source": [
    "pd.set_option('display.max_rows', 500)\n",
    "df"
   ]
  }
 ],
 "metadata": {
  "kernelspec": {
   "display_name": "Python 3",
   "language": "python",
   "name": "python3"
  },
  "language_info": {
   "codemirror_mode": {
    "name": "ipython",
    "version": 3
   },
   "file_extension": ".py",
   "mimetype": "text/x-python",
   "name": "python",
   "nbconvert_exporter": "python",
   "pygments_lexer": "ipython3",
   "version": "3.13.1"
  }
 },
 "nbformat": 4,
 "nbformat_minor": 2
}
