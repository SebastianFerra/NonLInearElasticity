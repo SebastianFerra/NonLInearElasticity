{
 "cells": [
  {
   "cell_type": "code",
   "execution_count": 41,
   "metadata": {},
   "outputs": [],
   "source": [
    "# NGSolve Libraries\n",
    "from netgen.geom2d import unit_square\n",
    "from ngsolve import *\n",
    "from ngsolve.webgui import Draw \n",
    "from netgen.occ import *\n",
    "from netgen.csg import *\n",
    "from scipy.optimize import minimize_scalar\n",
    "from netgen.geom2d import SplineGeometry\n",
    "\n",
    "import sys\n",
    "from IPython.display import clear_output\n",
    "sys.path.insert(0,\"../\")\n",
    "sys.path.insert(0,\"../../\")\n",
    "import problems\n",
    "import numpy as np\n",
    "import params\n",
    "import pickle\n",
    "from time import time"
   ]
  },
  {
   "cell_type": "code",
   "execution_count": 42,
   "metadata": {},
   "outputs": [],
   "source": [
    "\n",
    "\n",
    "problem = problems.problem2\n",
    "\n",
    "phi0 = problem[0]['phi0']\n",
    "chi = problem[0]['chi']\n",
    "G_target = problem[0]['G']\n",
    "geom = problem[1]\n",
    "dim = problem[0]['dim']\n",
    "BC = problem[2]\n",
    "name = problem[-1]\n",
    "h = 0.4\n",
    "\n",
    "ord = 1\n",
    "\n",
    "N = params.N\n",
    "KBTV = params.KBTV\n",
    "form = \"Functional\" \n",
    "\n",
    "\n",
    "phi = lambda J: phi0/J\n",
    "\n",
    "G = Parameter(G_target)\n",
    "\n",
    "## Generate mesh and geometry ### add parallel stuff\n",
    "# def mesher(geom, h):\n",
    "#     if \".stp\" in geom:\n",
    "#         geo = OCCGeometry(geom)\n",
    "#     else:\n",
    "#         geo = pickle.load(open(geom, \"rb\"))\n",
    "\n",
    "#     mesh = Mesh(geo.GenerateMesh(maxh=h))\n",
    "#     return mesh\n",
    "# mesh = mesher(geom, h)  \n",
    "w,l= 3,15\n",
    "n = 5\n",
    "rect = SplineGeometry()\n",
    "pnts = [(0,0), (l,0), (l,w), (0,w)]\n",
    "p1,p2,p3,p4 = [rect.AppendPoint(*pnt,hpref=1) for pnt in pnts]\n",
    "curves = [[[\"line\",p1,p2],\"bottom\"],\n",
    "        [[\"line\",p2,p3],\"right\"],\n",
    "        [[\"line\",p3,p4],\"top\"],\n",
    "        [[\"line\",p4,p1],\"left\"]]\n",
    "rect.Append(curves[0][0], bc = curves[0][1], leftdomain=1, rightdomain=0)\n",
    "rect.Append(curves[1][0], bc = curves[1][1], leftdomain=1, rightdomain=0)\n",
    "rect.Append(curves[2][0], bc = curves[2][1], leftdomain=1, rightdomain=0)\n",
    "rect.Append(curves[3][0], bc = curves[3][1], leftdomain=1, rightdomain=0)\n",
    "\n",
    "\n",
    "mesh = Mesh(rect.GenerateMesh(maxh=0.5))\n",
    "def Gel_energy_functional(F):\n",
    "    \n",
    "    g = 9.81\n",
    "    J = Det(F)\n",
    "    rho = 1.23e-6\n",
    "    H = (J - phi0)*log(1-phi0/J)  + phi0 * chi*(1-phi0/J)\n",
    "    # min (G/2) * (3 lam**2) + KBTV * H(lam**3):  lam > 1\n",
    "    Hf = lambda lam: (lam-phi0)*np.log(1-phi0/lam) + phi0*chi*(1-phi0/lam)\n",
    "\n",
    "    fun = lambda lam: (G.Get()/2)*(3*lam**2) + KBTV*Hf(lam)\n",
    "    res = minimize_scalar(fun, bounds=(1, 10), method='bounded')\n",
    "    C = res.fun\n",
    "    return 0.5 * (G) * Trace(F.trans*F ) + H*KBTV #+ rho*g*u[1] - C\n",
    "\n",
    "\"\"\"\n",
    "To bond the gel go to geometries and describe the bonding\n",
    "face there, not here.\n",
    "\"\"\"\n",
    "if BC[\"dir_cond\"] == \"faces\":\n",
    "    fes = VectorH1(mesh, order=ord, dirichlet = BC[\"DIR_FACES\"])\n",
    "elif BC[\"dir_cond\"] == \"components\":\n",
    "    fes = VectorH1(mesh, order=ord, dirichletx = BC[\"x\"], dirichlety = BC[\"y\"], dirichletz = BC[\"z\"])\n",
    "\n",
    "\n",
    "u = fes.TrialFunction()\n",
    "v = fes.TestFunction()\n",
    "BF = BilinearForm(fes)\n",
    "\n",
    "\n",
    "eps = 1e-6\n",
    "# define phi as the 0 function \n",
    "\n",
    "gfu = GridFunction(fes)\n",
    "gfu.vec[:] = 0\n",
    "\n",
    "obs = GridFunction(fes)\n",
    "\n",
    "obs.Set(CF((0,-y)))\n",
    "\n",
    "def Assemble_BF(BF,u,form):\n",
    "    F = Id(2)+ Grad(u)\n",
    "    if form == \"Functional\":\n",
    "        BF += Variation(Gel_energy_functional(F).Compile()*dx)\n",
    "        return BF\n",
    "\n",
    "\n",
    "\n"
   ]
  },
  {
   "cell_type": "code",
   "execution_count": null,
   "metadata": {},
   "outputs": [
    {
     "data": {
      "application/vnd.jupyter.widget-view+json": {
       "model_id": "6046ccd51fb34556bab37da411f0478c",
       "version_major": 2,
       "version_minor": 0
      },
      "text/plain": [
       "WebGuiWidget(layout=Layout(height='500px', width='100%'), value={'gui_settings': {}, 'ngsolve_version': '6.2.2…"
      ]
     },
     "metadata": {},
     "output_type": "display_data"
    },
    {
     "name": "stdout",
     "output_type": "stream",
     "text": [
      "Softening step 0 load 3.25\n"
     ]
    },
    {
     "data": {
      "application/vnd.jupyter.widget-view+json": {
       "model_id": "81cc444f698c4b258bc7b5fce802008d",
       "version_major": 2,
       "version_minor": 0
      },
      "text/plain": [
       "WebGuiWidget(layout=Layout(height='500px', width='100%'), value={'gui_settings': {}, 'ngsolve_version': '6.2.2…"
      ]
     },
     "metadata": {},
     "output_type": "display_data"
    },
    {
     "name": "stdout",
     "output_type": "stream",
     "text": [
      "Softening step 1 load 3.142413793103448\n"
     ]
    },
    {
     "data": {
      "application/vnd.jupyter.widget-view+json": {
       "model_id": "182e92a6f9114a439a4488362784cde0",
       "version_major": 2,
       "version_minor": 0
      },
      "text/plain": [
       "WebGuiWidget(layout=Layout(height='500px', width='100%'), value={'gui_settings': {}, 'ngsolve_version': '6.2.2…"
      ]
     },
     "metadata": {},
     "output_type": "display_data"
    },
    {
     "name": "stdout",
     "output_type": "stream",
     "text": [
      "Softening step 2 load 3.0348275862068963\n"
     ]
    },
    {
     "data": {
      "application/vnd.jupyter.widget-view+json": {
       "model_id": "4fe23d613875453d8fc8726e3c1a5b0c",
       "version_major": 2,
       "version_minor": 0
      },
      "text/plain": [
       "WebGuiWidget(layout=Layout(height='500px', width='100%'), value={'gui_settings': {}, 'ngsolve_version': '6.2.2…"
      ]
     },
     "metadata": {},
     "output_type": "display_data"
    },
    {
     "name": "stdout",
     "output_type": "stream",
     "text": [
      "Softening step 3 load 2.927241379310345\n"
     ]
    },
    {
     "data": {
      "application/vnd.jupyter.widget-view+json": {
       "model_id": "187be0335f0749b1ac4df2d7112dd29b",
       "version_major": 2,
       "version_minor": 0
      },
      "text/plain": [
       "WebGuiWidget(layout=Layout(height='500px', width='100%'), value={'gui_settings': {}, 'ngsolve_version': '6.2.2…"
      ]
     },
     "metadata": {},
     "output_type": "display_data"
    },
    {
     "name": "stdout",
     "output_type": "stream",
     "text": [
      "Softening step 4 load 2.819655172413793\n"
     ]
    },
    {
     "data": {
      "application/vnd.jupyter.widget-view+json": {
       "model_id": "4dad4bdc573a4e3abf13c8b4d60d2daf",
       "version_major": 2,
       "version_minor": 0
      },
      "text/plain": [
       "WebGuiWidget(layout=Layout(height='500px', width='100%'), value={'gui_settings': {}, 'ngsolve_version': '6.2.2…"
      ]
     },
     "metadata": {},
     "output_type": "display_data"
    },
    {
     "name": "stdout",
     "output_type": "stream",
     "text": [
      "Softening step 5 load 2.712068965517241\n"
     ]
    },
    {
     "data": {
      "application/vnd.jupyter.widget-view+json": {
       "model_id": "c1a7cda6afaf400dad83e1d7d9f91562",
       "version_major": 2,
       "version_minor": 0
      },
      "text/plain": [
       "WebGuiWidget(layout=Layout(height='500px', width='100%'), value={'gui_settings': {}, 'ngsolve_version': '6.2.2…"
      ]
     },
     "metadata": {},
     "output_type": "display_data"
    },
    {
     "name": "stdout",
     "output_type": "stream",
     "text": [
      "Softening step 6 load 2.60448275862069\n"
     ]
    },
    {
     "data": {
      "application/vnd.jupyter.widget-view+json": {
       "model_id": "5e348d5c2b034f579caba6bb7b6e0f0f",
       "version_major": 2,
       "version_minor": 0
      },
      "text/plain": [
       "WebGuiWidget(layout=Layout(height='500px', width='100%'), value={'gui_settings': {}, 'ngsolve_version': '6.2.2…"
      ]
     },
     "metadata": {},
     "output_type": "display_data"
    },
    {
     "name": "stdout",
     "output_type": "stream",
     "text": [
      "Softening step 7 load 2.496896551724138\n"
     ]
    },
    {
     "data": {
      "application/vnd.jupyter.widget-view+json": {
       "model_id": "c54ba2213c83403e9a8f35f8141ceb4d",
       "version_major": 2,
       "version_minor": 0
      },
      "text/plain": [
       "WebGuiWidget(layout=Layout(height='500px', width='100%'), value={'gui_settings': {}, 'ngsolve_version': '6.2.2…"
      ]
     },
     "metadata": {},
     "output_type": "display_data"
    },
    {
     "name": "stdout",
     "output_type": "stream",
     "text": [
      "Softening step 8 load 2.389310344827586\n"
     ]
    },
    {
     "data": {
      "application/vnd.jupyter.widget-view+json": {
       "model_id": "0c3f255bfdb44c38bb8cbce52ab4d3c3",
       "version_major": 2,
       "version_minor": 0
      },
      "text/plain": [
       "WebGuiWidget(layout=Layout(height='500px', width='100%'), value={'gui_settings': {}, 'ngsolve_version': '6.2.2…"
      ]
     },
     "metadata": {},
     "output_type": "display_data"
    },
    {
     "name": "stdout",
     "output_type": "stream",
     "text": [
      "Softening step 9 load 2.2817241379310342\n"
     ]
    },
    {
     "data": {
      "application/vnd.jupyter.widget-view+json": {
       "model_id": "907a698428684d7a86871e47d0d0bfe5",
       "version_major": 2,
       "version_minor": 0
      },
      "text/plain": [
       "WebGuiWidget(layout=Layout(height='500px', width='100%'), value={'gui_settings': {}, 'ngsolve_version': '6.2.2…"
      ]
     },
     "metadata": {},
     "output_type": "display_data"
    },
    {
     "name": "stdout",
     "output_type": "stream",
     "text": [
      "Softening step 10 load 2.174137931034483\n"
     ]
    },
    {
     "data": {
      "application/vnd.jupyter.widget-view+json": {
       "model_id": "c659b2b3efb4446d9ab31ebd2fdf3785",
       "version_major": 2,
       "version_minor": 0
      },
      "text/plain": [
       "WebGuiWidget(layout=Layout(height='500px', width='100%'), value={'gui_settings': {}, 'ngsolve_version': '6.2.2…"
      ]
     },
     "metadata": {},
     "output_type": "display_data"
    },
    {
     "name": "stdout",
     "output_type": "stream",
     "text": [
      "Softening step 11 load 2.066551724137931\n"
     ]
    },
    {
     "data": {
      "application/vnd.jupyter.widget-view+json": {
       "model_id": "0859dccdd70c4c878d7f8fc183e5ec4a",
       "version_major": 2,
       "version_minor": 0
      },
      "text/plain": [
       "WebGuiWidget(layout=Layout(height='500px', width='100%'), value={'gui_settings': {}, 'ngsolve_version': '6.2.2…"
      ]
     },
     "metadata": {},
     "output_type": "display_data"
    },
    {
     "name": "stdout",
     "output_type": "stream",
     "text": [
      "Softening step 12 load 1.9589655172413791\n"
     ]
    },
    {
     "data": {
      "application/vnd.jupyter.widget-view+json": {
       "model_id": "bae50d7670da4a5890135bf2d2418357",
       "version_major": 2,
       "version_minor": 0
      },
      "text/plain": [
       "WebGuiWidget(layout=Layout(height='500px', width='100%'), value={'gui_settings': {}, 'ngsolve_version': '6.2.2…"
      ]
     },
     "metadata": {},
     "output_type": "display_data"
    },
    {
     "name": "stdout",
     "output_type": "stream",
     "text": [
      "Softening step 13 load 1.8513793103448277\n"
     ]
    },
    {
     "data": {
      "application/vnd.jupyter.widget-view+json": {
       "model_id": "9eb340077328412085fe14f5ded7c022",
       "version_major": 2,
       "version_minor": 0
      },
      "text/plain": [
       "WebGuiWidget(layout=Layout(height='500px', width='100%'), value={'gui_settings': {}, 'ngsolve_version': '6.2.2…"
      ]
     },
     "metadata": {},
     "output_type": "display_data"
    },
    {
     "name": "stdout",
     "output_type": "stream",
     "text": [
      "Softening step 14 load 1.7437931034482759\n"
     ]
    },
    {
     "data": {
      "application/vnd.jupyter.widget-view+json": {
       "model_id": "2d72e1d35e954fc29aaa419b1fa73b54",
       "version_major": 2,
       "version_minor": 0
      },
      "text/plain": [
       "WebGuiWidget(layout=Layout(height='500px', width='100%'), value={'gui_settings': {}, 'ngsolve_version': '6.2.2…"
      ]
     },
     "metadata": {},
     "output_type": "display_data"
    },
    {
     "name": "stdout",
     "output_type": "stream",
     "text": [
      "Softening step 15 load 1.636206896551724\n"
     ]
    },
    {
     "data": {
      "application/vnd.jupyter.widget-view+json": {
       "model_id": "9f4a9ca2b7e5478b94b2b8734138bfc3",
       "version_major": 2,
       "version_minor": 0
      },
      "text/plain": [
       "WebGuiWidget(layout=Layout(height='500px', width='100%'), value={'gui_settings': {}, 'ngsolve_version': '6.2.2…"
      ]
     },
     "metadata": {},
     "output_type": "display_data"
    },
    {
     "name": "stdout",
     "output_type": "stream",
     "text": [
      "Softening step 16 load 1.5286206896551726\n"
     ]
    },
    {
     "data": {
      "application/vnd.jupyter.widget-view+json": {
       "model_id": "dcd92a14d76847699a8ef0fde798479f",
       "version_major": 2,
       "version_minor": 0
      },
      "text/plain": [
       "WebGuiWidget(layout=Layout(height='500px', width='100%'), value={'gui_settings': {}, 'ngsolve_version': '6.2.2…"
      ]
     },
     "metadata": {},
     "output_type": "display_data"
    },
    {
     "name": "stdout",
     "output_type": "stream",
     "text": [
      "Softening step 17 load 1.4210344827586208\n"
     ]
    },
    {
     "data": {
      "application/vnd.jupyter.widget-view+json": {
       "model_id": "6cddd97e6a8a4918a0b99c1948c7c1e8",
       "version_major": 2,
       "version_minor": 0
      },
      "text/plain": [
       "WebGuiWidget(layout=Layout(height='500px', width='100%'), value={'gui_settings': {}, 'ngsolve_version': '6.2.2…"
      ]
     },
     "metadata": {},
     "output_type": "display_data"
    },
    {
     "name": "stdout",
     "output_type": "stream",
     "text": [
      "Softening step 18 load 1.313448275862069\n"
     ]
    },
    {
     "data": {
      "application/vnd.jupyter.widget-view+json": {
       "model_id": "3bf4bc59c79f46eda3dde1c2694b66ea",
       "version_major": 2,
       "version_minor": 0
      },
      "text/plain": [
       "WebGuiWidget(layout=Layout(height='500px', width='100%'), value={'gui_settings': {}, 'ngsolve_version': '6.2.2…"
      ]
     },
     "metadata": {},
     "output_type": "display_data"
    },
    {
     "name": "stdout",
     "output_type": "stream",
     "text": [
      "Softening step 19 load 1.205862068965517\n"
     ]
    },
    {
     "data": {
      "application/vnd.jupyter.widget-view+json": {
       "model_id": "2914229518894372aaf0e17aa4542c0f",
       "version_major": 2,
       "version_minor": 0
      },
      "text/plain": [
       "WebGuiWidget(layout=Layout(height='500px', width='100%'), value={'gui_settings': {}, 'ngsolve_version': '6.2.2…"
      ]
     },
     "metadata": {},
     "output_type": "display_data"
    },
    {
     "name": "stdout",
     "output_type": "stream",
     "text": [
      "Softening step 20 load 1.0982758620689657\n"
     ]
    },
    {
     "data": {
      "application/vnd.jupyter.widget-view+json": {
       "model_id": "3b6724246c75482eb4f0d2ad59588421",
       "version_major": 2,
       "version_minor": 0
      },
      "text/plain": [
       "WebGuiWidget(layout=Layout(height='500px', width='100%'), value={'gui_settings': {}, 'ngsolve_version': '6.2.2…"
      ]
     },
     "metadata": {},
     "output_type": "display_data"
    },
    {
     "name": "stdout",
     "output_type": "stream",
     "text": [
      "Softening step 21 load 0.9906896551724138\n"
     ]
    },
    {
     "data": {
      "application/vnd.jupyter.widget-view+json": {
       "model_id": "c07fd901ca0a43bf839aa5198fb7e27f",
       "version_major": 2,
       "version_minor": 0
      },
      "text/plain": [
       "WebGuiWidget(layout=Layout(height='500px', width='100%'), value={'gui_settings': {}, 'ngsolve_version': '6.2.2…"
      ]
     },
     "metadata": {},
     "output_type": "display_data"
    },
    {
     "name": "stdout",
     "output_type": "stream",
     "text": [
      "Softening step 22 load 0.8831034482758621\n"
     ]
    },
    {
     "data": {
      "application/vnd.jupyter.widget-view+json": {
       "model_id": "dfa169ee8d6241e8b5e2ee87ae61fecd",
       "version_major": 2,
       "version_minor": 0
      },
      "text/plain": [
       "WebGuiWidget(layout=Layout(height='500px', width='100%'), value={'gui_settings': {}, 'ngsolve_version': '6.2.2…"
      ]
     },
     "metadata": {},
     "output_type": "display_data"
    },
    {
     "name": "stdout",
     "output_type": "stream",
     "text": [
      "Softening step 23 load 0.7755172413793103\n",
      "\n",
      "UMFPACK V5.7.4 (Feb 1, 2016): WARNING: matrix is singular\n",
      "\n"
     ]
    },
    {
     "ename": "NgException",
     "evalue": "UmfpackInverse: Numeric factorization failed.",
     "output_type": "error",
     "traceback": [
      "\u001b[0;31m---------------------------------------------------------------------------\u001b[0m",
      "\u001b[0;31mNgException\u001b[0m                               Traceback (most recent call last)",
      "Cell \u001b[0;32mIn[43], line 23\u001b[0m\n\u001b[1;32m     21\u001b[0m BF\u001b[38;5;241m.\u001b[39mApply(gfu\u001b[38;5;241m.\u001b[39mvec,res)\n\u001b[1;32m     22\u001b[0m BF\u001b[38;5;241m.\u001b[39mAssembleLinearization(gfu\u001b[38;5;241m.\u001b[39mvec)\n\u001b[0;32m---> 23\u001b[0m inv \u001b[38;5;241m=\u001b[39m \u001b[43mBF\u001b[49m\u001b[38;5;241;43m.\u001b[39;49m\u001b[43mmat\u001b[49m\u001b[38;5;241;43m.\u001b[39;49m\u001b[43mInverse\u001b[49m\u001b[43m(\u001b[49m\u001b[43mfreedofs\u001b[49m\u001b[38;5;241;43m=\u001b[39;49m\u001b[43m \u001b[49m\u001b[43mfes\u001b[49m\u001b[38;5;241;43m.\u001b[39;49m\u001b[43mFreeDofs\u001b[49m\u001b[43m(\u001b[49m\u001b[43m)\u001b[49m\u001b[43m)\u001b[49m\n\u001b[1;32m     24\u001b[0m w\u001b[38;5;241m.\u001b[39mdata \u001b[38;5;241m=\u001b[39m newton_damp \u001b[38;5;241m*\u001b[39m inv \u001b[38;5;241m*\u001b[39m res\n\u001b[1;32m     25\u001b[0m gfu\u001b[38;5;241m.\u001b[39mvec\u001b[38;5;241m.\u001b[39mdata \u001b[38;5;241m+\u001b[39m\u001b[38;5;241m=\u001b[39m \u001b[38;5;241m-\u001b[39mw\n",
      "\u001b[0;31mNgException\u001b[0m: UmfpackInverse: Numeric factorization failed."
     ]
    }
   ],
   "source": [
    "max_iter_newton = 100\n",
    "newton_damp = 0.3\n",
    "softening_n = 30\n",
    "\n",
    "tol_newton = 1e-6\n",
    "\n",
    "gammas = np.flip(np.linspace(G_target, G_target*25,softening_n))\n",
    "\n",
    "BF = Assemble_BF(BF,u,\"Functional\")\n",
    "for num, load in enumerate(gammas):\n",
    "    Draw(gfu.components[1], mesh, \"gfu\")\n",
    "    print(\"Softening step\", num, \"load\", load)\n",
    "    G.Set(load) #incremental softening\n",
    "    if num == softening_n-1:\n",
    "        tol_newton = 1e-8\n",
    "    res = gfu.vec.CreateVector()\n",
    "    w = gfu.vec.CreateVector()\n",
    "\n",
    "    for iter in range(max_iter_newton):\n",
    "        with TaskManager():\n",
    "            BF.Apply(gfu.vec,res)\n",
    "            BF.AssembleLinearization(gfu.vec)\n",
    "            inv = BF.mat.Inverse(freedofs= fes.FreeDofs())\n",
    "            w.data = newton_damp * inv * res\n",
    "            gfu.vec.data += -w\n",
    "            \n",
    "            gfu.components[1].Set(IfPos(gfu.components[1] + y , gfu.components[1], -y+0.0001))\n",
    "            delt = InnerProduct(w,res)\n",
    "\n",
    "        if abs(delt) < tol_newton:\n",
    "            print(\"Tol achieved newton\",delt )\n",
    "            break\n"
   ]
  },
  {
   "cell_type": "code",
   "execution_count": 45,
   "metadata": {},
   "outputs": [
    {
     "data": {
      "application/vnd.jupyter.widget-view+json": {
       "model_id": "da738f7807d84aa8a87d95caa7fd49d5",
       "version_major": 2,
       "version_minor": 0
      },
      "text/plain": [
       "WebGuiWidget(layout=Layout(height='500px', width='100%'), value={'gui_settings': {}, 'ngsolve_version': '6.2.2…"
      ]
     },
     "metadata": {},
     "output_type": "display_data"
    },
    {
     "data": {
      "text/plain": [
       "BaseWebGuiScene"
      ]
     },
     "execution_count": 45,
     "metadata": {},
     "output_type": "execute_result"
    }
   ],
   "source": [
    "Draw(gfu.components[1]*1000, mesh, \"gfu\")"
   ]
  },
  {
   "cell_type": "code",
   "execution_count": null,
   "metadata": {},
   "outputs": [],
   "source": [
    "Draw"
   ]
  }
 ],
 "metadata": {
  "kernelspec": {
   "display_name": "Python 3",
   "language": "python",
   "name": "python3"
  },
  "language_info": {
   "codemirror_mode": {
    "name": "ipython",
    "version": 3
   },
   "file_extension": ".py",
   "mimetype": "text/x-python",
   "name": "python",
   "nbconvert_exporter": "python",
   "pygments_lexer": "ipython3",
   "version": "3.13.1"
  }
 },
 "nbformat": 4,
 "nbformat_minor": 2
}
