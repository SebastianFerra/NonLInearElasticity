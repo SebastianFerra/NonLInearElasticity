{
 "cells": [
  {
   "cell_type": "code",
   "execution_count": 38,
   "metadata": {},
   "outputs": [
    {
     "name": "stdout",
     "output_type": "stream",
     "text": [
      "[2.94431898 3.98813703 0.        ] [ 7.27908158e-11 -2.42628140e-12  0.00000000e+00]\n",
      "207\n"
     ]
    }
   ],
   "source": [
    "import numpy as np\n",
    "import matplotlib.pyplot as plt\n",
    "\n",
    "F = lambda x,y,z: np.array([np.sin(x+y**2),x*np.cos(x*y)-2,z])\n",
    "F_grad = lambda x,y,z: np.array([[np.cos(x+y**2),2*y*np.cos(x*y),0],\n",
    "                                 [np.cos(x*y)-y**2*np.sin(x*y),-x*y*np.sin(x*y),0],\n",
    "                                 [0,0,1]])\n",
    "\n",
    "def newton(F,F_grad,x0,tol=1e-10,max_iter=1000):\n",
    "    x = x0\n",
    "    count = 0\n",
    "    for i in range(max_iter):\n",
    "        F_val = F(x[0],x[1],x[2])\n",
    "        F_grad_val = F_grad(x[0],x[1],x[2])\n",
    "        inv = np.linalg.inv(F_grad_val)\n",
    "        x = x - np.dot(inv,F_val)\n",
    "        count += 1\n",
    "        if np.linalg.norm([F(x[0],x[1],x[2])]) < tol:\n",
    "            return x,count\n",
    "    return x,count\n",
    "x,count = newton(F,F_grad,[1,1,1])\n",
    "print(x,F(x[0],x[1],x[2]))\n",
    "print(count)\n"
   ]
  },
  {
   "cell_type": "markdown",
   "metadata": {},
   "source": [
    "Remember matlab indexing starts at 0 and DOES include last index in slicing"
   ]
  },
  {
   "cell_type": "code",
   "execution_count": 75,
   "metadata": {},
   "outputs": [
    {
     "name": "stdout",
     "output_type": "stream",
     "text": [
      "0.19591408637720742\n",
      "5.575762074272461e-12 6\n"
     ]
    }
   ],
   "source": [
    "import numpy as np\n",
    "f = lambda x: x - (-4*x + np.cos(x) + 2)/(-4-np.sin(x))  # Function whose fixed point is to be computed.\n",
    "print(f(0.5)-0.5)\n",
    "x0 = 0.5  # Initial guess.\n",
    "\n",
    "k_max = 1000  # Maximum number of iterations.\n",
    "tol_res = 1e-10  # Tolerance on the residual.\n",
    "m = 3  # Parameter m.\n",
    "\n",
    "x = np.array([x0, f(x0)])  # Vector of iterates x.\n",
    "g = f(x) - x # Vector of residuals.\n",
    "\n",
    "G_k = np.array([g[1] - g[0]])  # Matrix of increments in residuals.\n",
    "X_k = np.array([x[1] - x[0]])  # Matrix of increments in x.\n",
    "\n",
    "k = 2\n",
    "while k < k_max and abs(g[-1]) > tol_res:\n",
    "    m_k = min(k, m)\n",
    "\n",
    "    # Solve the optimization problem by QR decomposition.\n",
    "\n",
    "    Q, R = np.linalg.qr(G_k.reshape(-1, 1))\n",
    "\n",
    "    # gamma_k = np.linalg.solve(R, np.dot(Q.T, g))\n",
    "    if Q.shape[1] == 1 and R.shape[1] ==1:\n",
    "        gamma_k = Q*g[k-1] / R[0,0]\n",
    "    elif R.shape[1] != 1 and Q.shape[1] != 1:\n",
    "        gamma_k = np.linalg.solve(R, np.dot(Q.T, g[k]))\n",
    "\n",
    "\n",
    "\n",
    "    # Compute new iterate and new residual.\n",
    "\n",
    "    if gamma_k.shape[0] == 1:\n",
    "        iter = x[k - 1] + g[-1] - (X_k + G_k) * gamma_k\n",
    "        x = np.append(x, iter[0])\n",
    "    else:\n",
    "        x = np.append(x,x[k - 1] + g[-1] - (X_k + G_k) @ gamma_k)\n",
    "    g = np.append(g, f(x[k]) - x[k])\n",
    "\n",
    "    # Update increment matrices with new elements.\n",
    "    X_k = np.append(X_k, x[k] - x[k - 1])\n",
    "    G_k = np.append(G_k, g[-1] - g[-2])\n",
    "\n",
    "    n = len(X_k)\n",
    "    if n > m_k:\n",
    "        X_k = X_k[-m_k:]\n",
    "        G_k = G_k[-m_k:]\n",
    "\n",
    "    k += 1\n",
    "print(g[-1], k)"
   ]
  },
  {
   "cell_type": "code",
   "execution_count": 77,
   "metadata": {},
   "outputs": [
    {
     "name": "stdout",
     "output_type": "stream",
     "text": [
      "Converged in 18 iterations\n",
      "7.051736972130129e-11 18\n"
     ]
    }
   ],
   "source": [
    "# normal newton method\n",
    "def newton_1D(f, df, x0, tol=1e-10, max_iter=1000):\n",
    "    x = x0\n",
    "    for i in range(max_iter):\n",
    "        x = x - f(x) / df(x)\n",
    "        if abs(f(x)) < tol:\n",
    "            print(\"Converged in\", i, \"iterations\")\n",
    "            return x, i\n",
    "    return x, i\n",
    "h = lambda x: -4*x  +np.sin(x)+2\n",
    "x, i = newton_1D(lambda x: -4*x  +np.sin(x)+2,lambda x: -4-np.sin(x), 0.5)\n",
    "print(h(x), i)"
   ]
  }
 ],
 "metadata": {
  "kernelspec": {
   "display_name": "Python 3",
   "language": "python",
   "name": "python3"
  },
  "language_info": {
   "codemirror_mode": {
    "name": "ipython",
    "version": 3
   },
   "file_extension": ".py",
   "mimetype": "text/x-python",
   "name": "python",
   "nbconvert_exporter": "python",
   "pygments_lexer": "ipython3",
   "version": "3.10.11"
  }
 },
 "nbformat": 4,
 "nbformat_minor": 2
}
