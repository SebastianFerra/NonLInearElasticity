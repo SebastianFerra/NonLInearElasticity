{
 "cells": [
  {
   "cell_type": "markdown",
   "id": "0",
   "metadata": {},
   "source": [
    "# 3D Solid Mechanics"
   ]
  },
  {
   "cell_type": "code",
   "execution_count": 2,
   "id": "1",
   "metadata": {},
   "outputs": [],
   "source": [
    "from netgen.occ import *\n",
    "from netgen.webgui import Draw as DrawGeo\n",
    "import ngsolve"
   ]
  },
  {
   "cell_type": "code",
   "execution_count": 3,
   "id": "2",
   "metadata": {},
   "outputs": [
    {
     "data": {
      "application/vnd.jupyter.widget-view+json": {
       "model_id": "794001ace6ba4a6b90369da95bb1bd55",
       "version_major": 2,
       "version_minor": 0
      },
      "text/plain": [
       "WebGuiWidget(layout=Layout(height='500px', width='100%'), value={'ngsolve_version': 'Netgen x.x', 'mesh_dim': …"
      ]
     },
     "metadata": {},
     "output_type": "display_data"
    }
   ],
   "source": [
    "box = Box((0,0,0), (3,0.6,1))\n",
    "box.faces.name=\"outer\"\n",
    "cyl = sum( [Cylinder((0.5+i,0,0.5), Y, 0.25,0.8) for i in range(3)] )\n",
    "cyl.faces.name=\"cyl\"\n",
    "geo = box-cyl\n",
    "\n",
    "DrawGeo(geo);"
   ]
  },
  {
   "cell_type": "markdown",
   "id": "3",
   "metadata": {},
   "source": [
    "find edges between box and cylinder, and build chamfers (requires OCC 7.4 or newer):"
   ]
  },
  {
   "cell_type": "code",
   "execution_count": 4,
   "id": "4",
   "metadata": {
    "tags": [
     "raises-exception"
    ]
   },
   "outputs": [],
   "source": [
    "cylboxedges = geo.faces[\"outer\"].edges * geo.faces[\"cyl\"].edges\n",
    "cylboxedges.name = \"cylbox\"\n",
    "geo = geo.MakeChamfer(cylboxedges, 0.03)"
   ]
  },
  {
   "cell_type": "markdown",
   "id": "5",
   "metadata": {},
   "source": [
    "name faces for boundary conditions:"
   ]
  },
  {
   "cell_type": "code",
   "execution_count": 5,
   "id": "6",
   "metadata": {},
   "outputs": [
    {
     "data": {
      "application/vnd.jupyter.widget-view+json": {
       "model_id": "9da012a0f26042eeb658309a197df68b",
       "version_major": 2,
       "version_minor": 0
      },
      "text/plain": [
       "WebGuiWidget(layout=Layout(height='500px', width='100%'), value={'ngsolve_version': 'Netgen x.x', 'mesh_dim': …"
      ]
     },
     "metadata": {},
     "output_type": "display_data"
    }
   ],
   "source": [
    "geo.faces.Min(X).name = \"fix\"\n",
    "geo.faces.Max(X).name = \"force\"\n",
    "\n",
    "DrawGeo(geo);"
   ]
  },
  {
   "cell_type": "code",
   "execution_count": 6,
   "id": "7",
   "metadata": {},
   "outputs": [
    {
     "data": {
      "application/vnd.jupyter.widget-view+json": {
       "model_id": "a3b6ec04590b4eb294151e52d9b5f2d9",
       "version_major": 2,
       "version_minor": 0
      },
      "text/plain": [
       "WebGuiWidget(layout=Layout(height='500px', width='100%'), value={'gui_settings': {}, 'ngsolve_version': '6.2.2…"
      ]
     },
     "metadata": {},
     "output_type": "display_data"
    }
   ],
   "source": [
    "from ngsolve import *\n",
    "from ngsolve.webgui import Draw\n",
    "import pyngcore as ngcore\n",
    "ngcore.SetNumThreads(8)\n",
    "with ngcore.TaskManager():\n",
    "    mesh = Mesh(OCCGeometry(geo).GenerateMesh(maxh=0.01)).Curve(3)\n",
    "Draw (mesh);"
   ]
  },
  {
   "cell_type": "markdown",
   "id": "8",
   "metadata": {},
   "source": [
    "## Linear elasticity\n",
    "\n",
    "Displacement: $u : \\Omega \\rightarrow R^3$\n",
    "\n",
    "Linear strain:\n",
    "$$\n",
    "\\varepsilon(u) := \\tfrac{1}{2} ( \\nabla u + (\\nabla u)^T )\n",
    "$$\n",
    "\n",
    "Stress by Hooke's law:\n",
    "$$\n",
    "\\sigma = 2 \\mu \\varepsilon + \\lambda \\operatorname{tr} \\varepsilon I\n",
    "$$\n",
    "\n",
    "Equilibrium of forces:\n",
    "$$\n",
    "\\operatorname{div} \\sigma = f\n",
    "$$\n",
    "\n",
    "Displacement boundary conditions:\n",
    "$$\n",
    "u = u_D \\qquad \\text{on} \\, \\Gamma_D\n",
    "$$\n",
    "\n",
    "Traction boundary conditions:\n",
    "$$\n",
    "\\sigma n = g \\qquad \\text{on} \\, \\Gamma_N\n",
    "$$\n",
    "\n",
    "\n",
    "Variational formulation:\n",
    "--- \n",
    "Find: $u \\in H^1(\\Omega)^3$ such that $u = u_D$ on $\\Gamma_D$\n",
    "$$\n",
    "\\int_\\Omega \\sigma(\\varepsilon(u)) : \\varepsilon(v) \\, dx = \\int_\\Omega f v dx + \\int_{\\Gamma_N} g v ds\n",
    "$$\n",
    "holds for all $v = 0$ on $\\Gamma_D$."
   ]
  },
  {
   "cell_type": "code",
   "execution_count": 7,
   "id": "9",
   "metadata": {},
   "outputs": [],
   "source": [
    "E, nu = 210, 0.2\n",
    "mu  = E / 2 / (1+nu)\n",
    "lam = E * nu / ((1+nu)*(1-2*nu))\n",
    "\n",
    "def Stress(strain):\n",
    "    return 2*mu*strain + lam*Trace(strain)*Id(3)    "
   ]
  },
  {
   "cell_type": "code",
   "execution_count": 8,
   "id": "10",
   "metadata": {},
   "outputs": [
    {
     "ename": "KeyboardInterrupt",
     "evalue": "",
     "output_type": "error",
     "traceback": [
      "\u001b[1;31m---------------------------------------------------------------------------\u001b[0m",
      "\u001b[1;31mKeyboardInterrupt\u001b[0m                         Traceback (most recent call last)",
      "\u001b[1;31mKeyboardInterrupt\u001b[0m: "
     ]
    }
   ],
   "source": [
    "fes = VectorH1(mesh, order=3, dirichlet=\"fix\")\n",
    "u,v = fes.TnT()\n",
    "gfu = GridFunction(fes)\n",
    "\n",
    "with TaskManager():\n",
    "    a = BilinearForm(InnerProduct(Stress(Sym(Grad(u))), Sym(Grad(v))).Compile()*dx)\n",
    "    pre = Preconditioner(a, \"bddc\")\n",
    "    a.Assemble()"
   ]
  },
  {
   "cell_type": "code",
   "execution_count": null,
   "id": "11",
   "metadata": {},
   "outputs": [],
   "source": [
    "force = CF( (1e-3,0,0) )\n",
    "f = LinearForm(force*v*ds(\"force\")).Assemble()"
   ]
  },
  {
   "cell_type": "code",
   "execution_count": null,
   "id": "12",
   "metadata": {},
   "outputs": [
    {
     "name": "stdout",
     "output_type": "stream",
     "text": [
      "CG iteration 1, residual = 0.0001798273150819818     \n",
      "CG iteration 2, residual = 7.527505823604729e-05     \n",
      "CG iteration 3, residual = 8.667360647588635e-05     \n",
      "CG iteration 4, residual = 6.611763953432876e-05     \n",
      "CG iteration 5, residual = 6.009530495082669e-05     \n",
      "CG iteration 6, residual = 4.240151181641356e-05     \n",
      "CG iteration 7, residual = 3.17465966410974e-05     \n",
      "CG iteration 8, residual = 2.700717685978023e-05     \n",
      "CG iteration 9, residual = 2.0093499070757786e-05     \n",
      "CG iteration 10, residual = 1.6202784652563635e-05     \n",
      "CG iteration 11, residual = 1.1164241035834833e-05     \n",
      "CG iteration 12, residual = 8.707361209402886e-06     \n",
      "CG iteration 13, residual = 6.263300218970041e-06     \n",
      "CG iteration 14, residual = 4.827662227890135e-06     \n",
      "CG iteration 15, residual = 3.504830182391952e-06     \n",
      "CG iteration 16, residual = 2.6744872507300332e-06     \n",
      "CG iteration 17, residual = 1.9959626253875047e-06     \n",
      "CG iteration 18, residual = 1.4173939615005607e-06     \n",
      "CG iteration 19, residual = 1.0735929420678175e-06     \n",
      "CG iteration 20, residual = 7.342807879319443e-07     \n",
      "CG iteration 21, residual = 6.364131835190758e-07     \n",
      "CG iteration 22, residual = 4.13030782969974e-07     \n",
      "CG iteration 23, residual = 3.667583721240627e-07     \n",
      "CG iteration 24, residual = 2.594249463556304e-07     \n",
      "CG iteration 25, residual = 1.8056292944233464e-07     \n",
      "CG iteration 26, residual = 1.364254168214756e-07     \n",
      "CG iteration 27, residual = 9.965383340124744e-08     \n",
      "CG iteration 28, residual = 7.638450216781556e-08     \n",
      "CG iteration 29, residual = 5.282418030033745e-08     \n",
      "CG iteration 30, residual = 4.01669659949861e-08     \n",
      "CG iteration 31, residual = 2.853050965149415e-08     \n",
      "CG iteration 32, residual = 2.1713860987719412e-08     \n",
      "CG iteration 33, residual = 1.695593122044322e-08     \n",
      "CG iteration 34, residual = 1.1309617391646553e-08     \n",
      "CG iteration 35, residual = 8.11458969320909e-09     \n",
      "CG iteration 36, residual = 5.851886243607673e-09     \n",
      "CG iteration 37, residual = 4.026669402251591e-09     \n",
      "CG iteration 38, residual = 3.06172270268517e-09     \n",
      "CG iteration 39, residual = 2.5244001221102993e-09     \n",
      "CG iteration 40, residual = 1.6420039079238823e-09     \n",
      "CG iteration 41, residual = 1.1586215716019532e-09     \n",
      "CG iteration 42, residual = 9.178331146477523e-10     \n",
      "CG iteration 43, residual = 6.433269510995764e-10     \n",
      "CG iteration 44, residual = 5.106814226719422e-10     \n",
      "CG iteration 45, residual = 4.310278250119425e-10     \n",
      "CG iteration 46, residual = 2.51898440132004e-10     \n",
      "CG iteration 47, residual = 1.921394605320831e-10     \n",
      "CG iteration 48, residual = 1.473291011288493e-10     \n",
      "CG iteration 49, residual = 1.225256990928082e-10     \n",
      "CG iteration 50, residual = 9.270434065400584e-11     \n",
      "CG iteration 51, residual = 6.567503349286272e-11     \n",
      "CG iteration 52, residual = 4.128528088330265e-11     \n",
      "CG iteration 53, residual = 3.0961863393449316e-11     \n",
      "CG iteration 54, residual = 2.025611542996479e-11     \n",
      "CG iteration 55, residual = 1.5070685337749716e-11     \n",
      "CG iteration 56, residual = 1.1829538931883156e-11     \n",
      "CG iteration 57, residual = 7.406498348436354e-12     \n",
      "CG iteration 58, residual = 5.294145171146899e-12     \n",
      "CG iteration 59, residual = 3.4550091787887798e-12     \n",
      "CG iteration 60, residual = 2.4104493366181537e-12     \n",
      "CG iteration 61, residual = 2.0482141759863897e-12     \n",
      "CG iteration 62, residual = 1.5923797819303694e-12     \n"
     ]
    }
   ],
   "source": [
    "from ngsolve.krylovspace import CGSolver\n",
    "inv = CGSolver(a.mat, pre, printrates=True, tol=1e-8)\n",
    "gfu.vec.data = inv * f.vec"
   ]
  },
  {
   "cell_type": "code",
   "execution_count": null,
   "id": "13",
   "metadata": {},
   "outputs": [],
   "source": [
    "with TaskManager():\n",
    "    fesstress = MatrixValued(H1(mesh,order=3), symmetric=True)\n",
    "    gfstress = GridFunction(fesstress)\n",
    "    gfstress.Interpolate (Stress(Sym(Grad(gfu))))"
   ]
  },
  {
   "cell_type": "code",
   "execution_count": null,
   "id": "14",
   "metadata": {},
   "outputs": [
    {
     "data": {
      "application/vnd.jupyter.widget-view+json": {
       "model_id": "ab9ec275394f4cc6ae3d57c702d9357a",
       "version_major": 2,
       "version_minor": 0
      },
      "text/plain": [
       "WebGuiWidget(layout=Layout(height='500px', width='100%'), value={'gui_settings': {}, 'ngsolve_version': '6.2.2…"
      ]
     },
     "metadata": {},
     "output_type": "display_data"
    }
   ],
   "source": [
    "Draw (5e4*gfu, mesh);"
   ]
  },
  {
   "cell_type": "code",
   "execution_count": null,
   "id": "15",
   "metadata": {},
   "outputs": [
    {
     "data": {
      "application/vnd.jupyter.widget-view+json": {
       "model_id": "5fa76482228349368496359037b6ba6e",
       "version_major": 2,
       "version_minor": 0
      },
      "text/plain": [
       "WebGuiWidget(layout=Layout(height='500px', width='100%'), value={'gui_settings': {}, 'ngsolve_version': '6.2.2…"
      ]
     },
     "metadata": {},
     "output_type": "display_data"
    }
   ],
   "source": [
    "Draw (Norm(gfstress), mesh, deformation=1e4*gfu, draw_vol=False, order=3);"
   ]
  },
  {
   "cell_type": "code",
   "execution_count": null,
   "id": "16",
   "metadata": {},
   "outputs": [],
   "source": []
  }
 ],
 "metadata": {
  "kernelspec": {
   "display_name": "Python 3 (ipykernel)",
   "language": "python",
   "name": "python3"
  },
  "language_info": {
   "codemirror_mode": {
    "name": "ipython",
    "version": 3
   },
   "file_extension": ".py",
   "mimetype": "text/x-python",
   "name": "python",
   "nbconvert_exporter": "python",
   "pygments_lexer": "ipython3",
   "version": "3.12.4"
  }
 },
 "nbformat": 4,
 "nbformat_minor": 5
}
