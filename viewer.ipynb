{
 "cells": [
  {
   "cell_type": "code",
   "execution_count": 1,
   "metadata": {},
   "outputs": [],
   "source": [
    "from ngsolve import *\n",
    "from netgen.csg import *\n",
    "from netgen.occ import *\n",
    "# from netgen.webgui import Draw\n",
    "import problems\n",
    "import pickle\n",
    "# import netgen.gui\n",
    "# %gui tk\n"
   ]
  },
  {
   "cell_type": "code",
   "execution_count": 2,
   "metadata": {},
   "outputs": [],
   "source": [
    "\n",
    "problem = problems.problem1\n",
    "n_problem = problem[-1]\n",
    "history = pickle.load(open(f'Sol_Problem{n_problem}/history.pkl', 'rb'))\n",
    "# mesh = Mesh(f'Sol_problem{n_problem}/mesh.vol')\n",
    "mesh = pickle.load(open(f'Sol_Problem{n_problem}/mesh.pkl', 'rb'))\n",
    "u = pickle.load(open(f'Sol_Problem{n_problem}/u.pkl', 'rb'))\n"
   ]
  },
  {
   "cell_type": "code",
   "execution_count": 10,
   "metadata": {},
   "outputs": [
    {
     "data": {
      "application/vnd.jupyter.widget-view+json": {
       "model_id": "83bd4b68e276431997fa193978fc316d",
       "version_major": 2,
       "version_minor": 0
      },
      "text/plain": [
       "WebGuiWidget(layout=Layout(height='500px', width='100%'), value={'gui_settings': {}, 'ngsolve_version': '6.2.2…"
      ]
     },
     "metadata": {},
     "output_type": "display_data"
    },
    {
     "data": {
      "text/plain": [
       "BaseWebGuiScene"
      ]
     },
     "execution_count": 10,
     "metadata": {},
     "output_type": "execute_result"
    }
   ],
   "source": [
    "from ngsolve.webgui import *\n",
    "Draw(history, interpolate_multidim=True, animate=True,\n",
    "     deformation=True, min = 0, max = max(u),autoscale= False)"
   ]
  }
 ],
 "metadata": {
  "kernelspec": {
   "display_name": "Python 3",
   "language": "python",
   "name": "python3"
  },
  "language_info": {
   "codemirror_mode": {
    "name": "ipython",
    "version": 3
   },
   "file_extension": ".py",
   "mimetype": "text/x-python",
   "name": "python",
   "nbconvert_exporter": "python",
   "pygments_lexer": "ipython3",
   "version": "3.10.11"
  }
 },
 "nbformat": 4,
 "nbformat_minor": 2
}
