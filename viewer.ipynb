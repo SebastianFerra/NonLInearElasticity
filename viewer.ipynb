{
 "cells": [
  {
   "cell_type": "code",
   "execution_count": 5,
   "metadata": {},
   "outputs": [],
   "source": [
    "from ngsolve import *\n",
    "from netgen.csg import *\n",
    "from netgen.occ import *\n",
    "# from netgen.webgui import Draw\n",
    "import problems\n",
    "import pickle\n",
    "# import netgen.gui\n",
    "# %gui tk\n"
   ]
  },
  {
   "cell_type": "code",
   "execution_count": 6,
   "metadata": {},
   "outputs": [
    {
     "name": "stdout",
     "output_type": "stream",
     "text": [
      "[{'chi': 0.45, 'phi0': 0.3, 'G': 0.15647831497059816, 'dim': 3}, 'geo.stp', {'dir_cond': 'components', 'x': 'front', 'y': 'bottom', 'z': 'left'}, 1, '3D_FreeSwell']\n"
     ]
    },
    {
     "ename": "MemoryError",
     "evalue": "std::bad_alloc",
     "output_type": "error",
     "traceback": [
      "\u001b[0;31m---------------------------------------------------------------------------\u001b[0m",
      "\u001b[0;31mMemoryError\u001b[0m                               Traceback (most recent call last)",
      "Cell \u001b[0;32mIn[6], line 8\u001b[0m\n\u001b[1;32m      4\u001b[0m \u001b[38;5;28mprint\u001b[39m(problem)\n\u001b[1;32m      5\u001b[0m \u001b[38;5;66;03m# history_edp = pickle.load(open(f'Sol_Problem{n_problem}/history_EDP.p', 'rb'))\u001b[39;00m\n\u001b[1;32m      6\u001b[0m \u001b[38;5;66;03m# history_functional = pickle.load(open(f'Sol_Problem{n_problem}/history_Functional.p', 'rb'))\u001b[39;00m\n\u001b[1;32m      7\u001b[0m \u001b[38;5;66;03m# mesh = Mesh(f'Sol_problem{n_problem}/mesh.vol')\u001b[39;00m\n\u001b[0;32m----> 8\u001b[0m mesh \u001b[38;5;241m=\u001b[39m \u001b[43mpickle\u001b[49m\u001b[38;5;241;43m.\u001b[39;49m\u001b[43mload\u001b[49m\u001b[43m(\u001b[49m\u001b[38;5;28;43mopen\u001b[39;49m\u001b[43m(\u001b[49m\u001b[38;5;124;43mf\u001b[39;49m\u001b[38;5;124;43m'\u001b[39;49m\u001b[38;5;124;43mSol_Problem\u001b[39;49m\u001b[38;5;132;43;01m{\u001b[39;49;00m\u001b[43mn_problem\u001b[49m\u001b[38;5;132;43;01m}\u001b[39;49;00m\u001b[38;5;124;43m/mesh.p\u001b[39;49m\u001b[38;5;124;43m'\u001b[39;49m\u001b[43m,\u001b[49m\u001b[43m \u001b[49m\u001b[38;5;124;43m'\u001b[39;49m\u001b[38;5;124;43mrb\u001b[39;49m\u001b[38;5;124;43m'\u001b[39;49m\u001b[43m)\u001b[49m\u001b[43m)\u001b[49m\n\u001b[1;32m      9\u001b[0m u_edp \u001b[38;5;241m=\u001b[39m pickle\u001b[38;5;241m.\u001b[39mload(\u001b[38;5;28mopen\u001b[39m(\u001b[38;5;124mf\u001b[39m\u001b[38;5;124m'\u001b[39m\u001b[38;5;124mSol_Problem\u001b[39m\u001b[38;5;132;01m{\u001b[39;00mn_problem\u001b[38;5;132;01m}\u001b[39;00m\u001b[38;5;124m/gfu.p\u001b[39m\u001b[38;5;124m'\u001b[39m, \u001b[38;5;124m'\u001b[39m\u001b[38;5;124mrb\u001b[39m\u001b[38;5;124m'\u001b[39m))\n\u001b[1;32m     10\u001b[0m \u001b[38;5;66;03m# u_functional = pickle.load(open(f'Sol_Problem{n_problem}/gfu_Functional.p', 'rb'))\u001b[39;00m\n",
      "\u001b[0;31mMemoryError\u001b[0m: std::bad_alloc"
     ]
    }
   ],
   "source": [
    "from ngsolve.webgui import *\n",
    "problem = problems.problem1\n",
    "n_problem = problem[-2]\n",
    "print(problem)\n",
    "# history_edp = pickle.load(open(f'Sol_Problem{n_problem}/history_EDP.p', 'rb'))\n",
    "# history_functional = pickle.load(open(f'Sol_Problem{n_problem}/history_Functional.p', 'rb'))\n",
    "# mesh = Mesh(f'Sol_problem{n_problem}/mesh.vol')\n",
    "mesh = pickle.load(open(f'Sol_Problem{n_problem}/mesh.p', 'rb'))\n",
    "u_edp = pickle.load(open(f'Sol_Problem{n_problem}/gfu.p', 'rb'))\n",
    "# u_functional = pickle.load(open(f'Sol_Problem{n_problem}/gfu_Functional.p', 'rb'))\n",
    "Draw(u_edp, mesh, 'u_edp')"
   ]
  },
  {
   "cell_type": "code",
   "execution_count": 3,
   "metadata": {},
   "outputs": [],
   "source": [
    "# u_fun= pickle.load(open(f'Sol_Problem{n_problem}/u_Functional.pkl', 'rb'))\n",
    "# Draw(u_fun- u_functional, mesh, 'u_functional')"
   ]
  },
  {
   "cell_type": "code",
   "execution_count": null,
   "metadata": {},
   "outputs": [],
   "source": []
  },
  {
   "cell_type": "code",
   "execution_count": 4,
   "metadata": {},
   "outputs": [],
   "source": [
    "#vtk = VTKOutput(ma=mesh, coefs=[u_edp, u_functional], names=[\"u_edp\", \"u_functional\"], filename=f'Sol_Problem{n_problem}/u.vtk', subdivision=3)|\n",
    "#vtk.Do()"
   ]
  },
  {
   "cell_type": "code",
   "execution_count": 5,
   "metadata": {},
   "outputs": [
    {
     "data": {
      "application/vnd.jupyter.widget-view+json": {
       "model_id": "8fa8438a93c247eb9f03c2445d90401f",
       "version_major": 2,
       "version_minor": 0
      },
      "text/plain": [
       "WebGuiWidget(layout=Layout(height='500px', width='100%'), value={'gui_settings': {}, 'ngsolve_version': '6.2.2…"
      ]
     },
     "metadata": {},
     "output_type": "display_data"
    },
    {
     "data": {
      "text/plain": [
       "BaseWebGuiScene"
      ]
     },
     "execution_count": 5,
     "metadata": {},
     "output_type": "execute_result"
    }
   ],
   "source": [
    "Draw(u_edp.components[0],mesh,\"u_edp-u_functional\")"
   ]
  },
  {
   "cell_type": "markdown",
   "metadata": {},
   "source": [
    "# Functional plot"
   ]
  },
  {
   "cell_type": "code",
   "execution_count": 6,
   "metadata": {},
   "outputs": [
    {
     "ename": "NameError",
     "evalue": "name 'history_functional' is not defined",
     "output_type": "error",
     "traceback": [
      "\u001b[1;31m---------------------------------------------------------------------------\u001b[0m",
      "\u001b[1;31mNameError\u001b[0m                                 Traceback (most recent call last)",
      "Cell \u001b[1;32mIn[6], line 1\u001b[0m\n\u001b[1;32m----> 1\u001b[0m Draw(\u001b[43mhistory_functional\u001b[49m, interpolate_multidim\u001b[38;5;241m=\u001b[39m\u001b[38;5;28;01mTrue\u001b[39;00m, animate\u001b[38;5;241m=\u001b[39m\u001b[38;5;28;01mTrue\u001b[39;00m,\n\u001b[0;32m      2\u001b[0m      deformation\u001b[38;5;241m=\u001b[39m\u001b[38;5;28;01mTrue\u001b[39;00m, \u001b[38;5;28mmin\u001b[39m \u001b[38;5;241m=\u001b[39m \u001b[38;5;241m0\u001b[39m, \u001b[38;5;28mmax\u001b[39m \u001b[38;5;241m=\u001b[39m \u001b[38;5;28mmax\u001b[39m(u_functional\u001b[38;5;241m.\u001b[39mvec\u001b[38;5;241m.\u001b[39mdata),autoscale\u001b[38;5;241m=\u001b[39m \u001b[38;5;28;01mFalse\u001b[39;00m)\n",
      "\u001b[1;31mNameError\u001b[0m: name 'history_functional' is not defined"
     ]
    }
   ],
   "source": [
    "\n",
    "Draw(history_functional, interpolate_multidim=True, animate=True,\n",
    "     deformation=True, min = 0, max = max(u_functional.vec.data),autoscale= False)"
   ]
  },
  {
   "cell_type": "markdown",
   "metadata": {},
   "source": [
    "# EDP plot"
   ]
  },
  {
   "cell_type": "code",
   "execution_count": null,
   "metadata": {},
   "outputs": [],
   "source": [
    "from ngsolve.webgui import *\n",
    "Draw(history_edp, interpolate_multidim=True, animate=True,\n",
    "     deformation=True, min = 0, max = max(u_edp.vec.data),autoscale= False)"
   ]
  }
 ],
 "metadata": {
  "kernelspec": {
   "display_name": "Python 3",
   "language": "python",
   "name": "python3"
  },
  "language_info": {
   "codemirror_mode": {
    "name": "ipython",
    "version": 3
   },
   "file_extension": ".py",
   "mimetype": "text/x-python",
   "name": "python",
   "nbconvert_exporter": "python",
   "pygments_lexer": "ipython3",
   "version": "3.10.12"
  }
 },
 "nbformat": 4,
 "nbformat_minor": 2
}
