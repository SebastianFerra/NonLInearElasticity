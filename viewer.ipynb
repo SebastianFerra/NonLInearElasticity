{
 "cells": [
  {
   "cell_type": "code",
   "execution_count": 1,
   "metadata": {},
   "outputs": [],
   "source": [
    "from ngsolve import *\n",
    "from netgen.csg import *\n",
    "from netgen.occ import *\n",
    "# from netgen.webgui import Draw\n",
    "import problems\n",
    "import pickle\n",
    "# import netgen.gui\n",
    "# %gui tk\n"
   ]
  },
  {
   "cell_type": "code",
   "execution_count": 2,
   "metadata": {},
   "outputs": [],
   "source": [
    "\n",
    "problem = problems.problem1\n",
    "n_problem = problem[-1]\n",
    "history_edp = pickle.load(open(f'Sol_Problem{n_problem}/history_EDP.p', 'rb'))\n",
    "history_functional = pickle.load(open(f'Sol_Problem{n_problem}/history_Functional.p', 'rb'))\n",
    "# mesh = Mesh(f'Sol_problem{n_problem}/mesh.vol')\n",
    "mesh = pickle.load(open(f'Sol_Problem{n_problem}/mesh.p', 'rb'))\n",
    "u_edp = pickle.load(open(f'Sol_Problem{n_problem}/gfu_EDP.p', 'rb'))\n",
    "u_functional = pickle.load(open(f'Sol_Problem{n_problem}/gfu_Functional.p', 'rb'))"
   ]
  },
  {
   "cell_type": "code",
   "execution_count": 3,
   "metadata": {},
   "outputs": [],
   "source": [
    "from ngsolve.webgui import *"
   ]
  },
  {
   "cell_type": "code",
   "execution_count": 4,
   "metadata": {},
   "outputs": [],
   "source": [
    "# vtk = VTKOutput(ma=mesh, coefs=[u_edp, u_functional], names=[\"u_edp\", \"u_functional\"], filename=f'Sol_Problem{n_problem}/u.vtk', subdivision=3)\n",
    "# vtk.Do()"
   ]
  },
  {
   "cell_type": "code",
   "execution_count": 10,
   "metadata": {},
   "outputs": [
    {
     "data": {
      "application/vnd.jupyter.widget-view+json": {
       "model_id": "afd41aaa03a14ec5b86c6ff565905abc",
       "version_major": 2,
       "version_minor": 0
      },
      "text/plain": [
       "WebGuiWidget(layout=Layout(height='500px', width='100%'), value={'gui_settings': {}, 'ngsolve_version': '6.2.2…"
      ]
     },
     "metadata": {},
     "output_type": "display_data"
    },
    {
     "data": {
      "text/plain": [
       "BaseWebGuiScene"
      ]
     },
     "execution_count": 10,
     "metadata": {},
     "output_type": "execute_result"
    }
   ],
   "source": [
    "Draw(u_edp-u_functional,mesh,\"u_edp-u_functional\")"
   ]
  },
  {
   "cell_type": "markdown",
   "metadata": {},
   "source": [
    "# Functional plot"
   ]
  },
  {
   "cell_type": "code",
   "execution_count": 6,
   "metadata": {},
   "outputs": [
    {
     "data": {
      "application/vnd.jupyter.widget-view+json": {
       "model_id": "d4ee8aceb8ac47bb850901522e7bf425",
       "version_major": 2,
       "version_minor": 0
      },
      "text/plain": [
       "WebGuiWidget(layout=Layout(height='500px', width='100%'), value={'gui_settings': {}, 'ngsolve_version': '6.2.2…"
      ]
     },
     "metadata": {},
     "output_type": "display_data"
    },
    {
     "data": {
      "text/plain": [
       "BaseWebGuiScene"
      ]
     },
     "execution_count": 6,
     "metadata": {},
     "output_type": "execute_result"
    }
   ],
   "source": [
    "\n",
    "Draw(history_functional, interpolate_multidim=True, animate=True,\n",
    "     deformation=True, min = 0, max = max(u_functional.vec.data),autoscale= False)"
   ]
  },
  {
   "cell_type": "markdown",
   "metadata": {},
   "source": [
    "# EDP plot"
   ]
  },
  {
   "cell_type": "code",
   "execution_count": 11,
   "metadata": {},
   "outputs": [
    {
     "data": {
      "application/vnd.jupyter.widget-view+json": {
       "model_id": "d3832d85df7c4763872a7320364611b2",
       "version_major": 2,
       "version_minor": 0
      },
      "text/plain": [
       "WebGuiWidget(layout=Layout(height='500px', width='100%'), value={'gui_settings': {}, 'ngsolve_version': '6.2.2…"
      ]
     },
     "metadata": {},
     "output_type": "display_data"
    },
    {
     "data": {
      "text/plain": [
       "BaseWebGuiScene"
      ]
     },
     "execution_count": 11,
     "metadata": {},
     "output_type": "execute_result"
    }
   ],
   "source": [
    "from ngsolve.webgui import *\n",
    "Draw(history_edp, interpolate_multidim=True, animate=True,\n",
    "     deformation=True, min = 0, max = max(u_edp.vec.data),autoscale= False)"
   ]
  }
 ],
 "metadata": {
  "kernelspec": {
   "display_name": "Python 3",
   "language": "python",
   "name": "python3"
  },
  "language_info": {
   "codemirror_mode": {
    "name": "ipython",
    "version": 3
   },
   "file_extension": ".py",
   "mimetype": "text/x-python",
   "name": "python",
   "nbconvert_exporter": "python",
   "pygments_lexer": "ipython3",
   "version": "3.10.11"
  }
 },
 "nbformat": 4,
 "nbformat_minor": 2
}
