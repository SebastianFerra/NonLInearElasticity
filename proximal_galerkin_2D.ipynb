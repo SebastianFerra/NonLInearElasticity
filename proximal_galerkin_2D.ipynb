{
 "cells": [
  {
   "cell_type": "code",
   "execution_count": null,
   "metadata": {},
   "outputs": [
    {
     "ename": "",
     "evalue": "",
     "output_type": "error",
     "traceback": [
      "\u001b[1;31mThe Kernel crashed while executing code in the current cell or a previous cell. \n",
      "\u001b[1;31mPlease review the code in the cell(s) to identify a possible cause of the failure. \n",
      "\u001b[1;31mClick <a href='https://aka.ms/vscodeJupyterKernelCrash'>here</a> for more info. \n",
      "\u001b[1;31mView Jupyter <a href='command:jupyter.viewOutput'>log</a> for further details."
     ]
    }
   ],
   "source": [
    "from ngsolve import *\n",
    "from netgen.geom2d import SplineGeometry\n",
    "\n",
    "from netgen.occ import *\n",
    "import netgen.meshing as ngm\n",
    "import numpy as np\n",
    "from ngsolve.webgui import *\n",
    "from netgen.geom2d import unit_square\n",
    "import params\n",
    "\n",
    "def innerL2(gfu,mesh):\n",
    "    return Integrate(InnerProduct(gfu,gfu),mesh)\n",
    "def L2error(gfu,exact,mesh):\n",
    "    return sqrt(innerL2(gfu-exact,mesh))"
   ]
  },
  {
   "cell_type": "code",
   "execution_count": null,
   "metadata": {},
   "outputs": [],
   "source": [
    "geom = SplineGeometry()\n",
    "w = 3\n",
    "l = 3\n",
    "geo = SplineGeometry()\n",
    "\n",
    "pnts =[(0,0),\n",
    "       #(0,0,0.05), # define a local mesh refinement for one point\n",
    "       (w,0),\n",
    "       (w,l),\n",
    "       (0,l)]\n",
    "\n",
    "p1,p2,p3,p4 = [geo.AppendPoint(*pnt) for pnt in pnts]\n",
    "\n",
    "curves = [[[\"line\",p1,p2],\"bottom\"],\n",
    "          [[\"line\",p2,p3],\"right\"],\n",
    "          [[\"line\",p3,p4],\"top\"],\n",
    "          [[\"line\",p4,p1],\"left\"]]\n",
    "\n",
    "[geo.Append(c,bc=bc) for c,bc in curves]\n",
    "\n",
    "mesh = Mesh(geom.GenerateMesh(maxh=0.1))\n",
    "print(\"Number of vertices:\", mesh.nv)\n",
    "phi0 = 0.5\n",
    "chi = 0.2\n",
    "N = params.N\n",
    "KBTV = params.KBTV\n",
    "gamma = 0.0011455\n",
    "\n",
    "def Gel_energy_EDP(F): ## |F|^2 + H => gamma F:Gradv + H'*J'\n",
    "    # ddet(A(t))/dt = det(A(t))*trace(A^-1(t)*Grad (v))\n",
    "    \n",
    "    J = Det(F)\n",
    "    phi = phi0/J\n",
    "    dv = Grad(v)\n",
    "    invF = Inv(F)\n",
    "    H_prime = log(1-phi) + phi + chi*phi**2\n",
    "    edp = gamma * InnerProduct(F,dv) + InnerProduct(H_prime * J * invF,dv)\n",
    "    return edp  # mean zero condition\n",
    "\n",
    "def Solver_freeswell(BF, gfu, tol=1e-8, maxiter=250, damp = 0.5):\n",
    "    \"\"\"\n",
    "    Solves the problem\n",
    "    \"\"\"\n",
    "    res = gfu.vec.CreateVector()\n",
    "    w = gfu.vec.CreateVector()\n",
    "    history = GridFunction(fes, multidim = 0)\n",
    "    # here we may need to add another loop\n",
    "   \n",
    "    for iter in range(maxiter):\n",
    "        # Prints before the iteration: number of it, residual, energy\n",
    "        print(\"Energy: \", BF.Energy(gfu.vec), \"Residual: \", sqrt(abs(InnerProduct(res,res))), \"Iteration: \", iter)\n",
    "        BF.Apply(gfu.vec, res)\n",
    "        BF.AssembleLinearization(gfu.vec)\n",
    "        inv = BF.mat.Inverse(freedofs = fes.FreeDofs())        \n",
    "        w.data = damp * inv * res\n",
    "        gfu.vec.data -= w\n",
    "        history.AddMultiDimComponent(gfu.vec)\n",
    "        if sqrt(abs(InnerProduct(w,res))) < tol:\n",
    "            print(\"Converged\")\n",
    "            break\n",
    "    return gfu, history\n",
    "\n",
    "\n",
    "fes= VectorH1(mesh, order=2,dirichletx = \"left\", dirichlety = \"bottom\")\n",
    "u,v = fes.TnT()\n",
    "F = Id(2) + Grad(u)\n",
    "BF = BilinearForm(fes, symmetric=False)\n",
    "BF += Gel_energy_EDP(F).Compile() * dx\n",
    "BF.Assemble()\n",
    "print(\"Number of dofs:\", fes.ndof)\n",
    "gfu = GridFunction(fes)\n",
    "gfu, history = Solver_freeswell(BF, gfu, tol=1e-6, maxiter=20, damp = 0.5)"
   ]
  },
  {
   "cell_type": "code",
   "execution_count": null,
   "metadata": {},
   "outputs": [],
   "source": [
    "Draw(gfu.components[0], mesh, \"u\")"
   ]
  }
 ],
 "metadata": {
  "kernelspec": {
   "display_name": "Python 3",
   "language": "python",
   "name": "python3"
  },
  "language_info": {
   "codemirror_mode": {
    "name": "ipython",
    "version": 3
   },
   "file_extension": ".py",
   "mimetype": "text/x-python",
   "name": "python",
   "nbconvert_exporter": "python",
   "pygments_lexer": "ipython3",
   "version": "3.10.0"
  }
 },
 "nbformat": 4,
 "nbformat_minor": 2
}
