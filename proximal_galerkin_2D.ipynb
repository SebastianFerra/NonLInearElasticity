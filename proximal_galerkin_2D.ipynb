{
 "cells": [
  {
   "cell_type": "code",
   "execution_count": 5,
   "metadata": {},
   "outputs": [
    {
     "name": "stdout",
     "output_type": "stream",
     "text": [
      "Iteration of proximal galerkin:  0\n",
      "Initializing Newton\n"
     ]
    },
    {
     "ename": "NgException",
     "evalue": "PardisoInverse: Setup and Factorization failed.",
     "output_type": "error",
     "traceback": [
      "\u001b[1;31m---------------------------------------------------------------------------\u001b[0m",
      "\u001b[1;31mNgException\u001b[0m                               Traceback (most recent call last)",
      "Cell \u001b[1;32mIn[5], line 51\u001b[0m\n\u001b[0;32m     49\u001b[0m a\u001b[38;5;241m.\u001b[39mApply(gfu\u001b[38;5;241m.\u001b[39mvec, res)\n\u001b[0;32m     50\u001b[0m a\u001b[38;5;241m.\u001b[39mAssembleLinearization(gfu\u001b[38;5;241m.\u001b[39mvec)\n\u001b[1;32m---> 51\u001b[0m inv \u001b[38;5;241m=\u001b[39m \u001b[43ma\u001b[49m\u001b[38;5;241;43m.\u001b[39;49m\u001b[43mmat\u001b[49m\u001b[38;5;241;43m.\u001b[39;49m\u001b[43mInverse\u001b[49m\u001b[43m(\u001b[49m\u001b[43mfreedofs\u001b[49m\u001b[43m \u001b[49m\u001b[38;5;241;43m=\u001b[39;49m\u001b[43m \u001b[49m\u001b[43mfes\u001b[49m\u001b[38;5;241;43m.\u001b[39;49m\u001b[43mFreeDofs\u001b[49m\u001b[43m(\u001b[49m\u001b[43m)\u001b[49m\u001b[43m)\u001b[49m        \n\u001b[0;32m     52\u001b[0m w\u001b[38;5;241m.\u001b[39mdata \u001b[38;5;241m=\u001b[39m \u001b[38;5;241m0.5\u001b[39m \u001b[38;5;241m*\u001b[39m inv \u001b[38;5;241m*\u001b[39m res\n\u001b[0;32m     53\u001b[0m gfu\u001b[38;5;241m.\u001b[39mvec\u001b[38;5;241m.\u001b[39mdata \u001b[38;5;241m-\u001b[39m\u001b[38;5;241m=\u001b[39m w\n",
      "\u001b[1;31mNgException\u001b[0m: PardisoInverse: Setup and Factorization failed."
     ]
    }
   ],
   "source": [
    "from ngsolve import *\n",
    "from netgen.geom2d import SplineGeometry\n",
    "\n",
    "from netgen.occ import *\n",
    "import netgen.meshing as ngm\n",
    "import numpy as np\n",
    "from ngsolve.webgui import *\n",
    "from netgen.geom2d import unit_square\n",
    "\n",
    "\n",
    "\n",
    "# generate a triangular mesh of mesh-size 0.2\n",
    "mesh = Mesh(unit_square.GenerateMesh(maxh=0.01))\n",
    "max_iter = 20\n",
    "#phi = CF(sqrt(0.25-(x-0.5)**2-(y-0.5)**2) if (x-0.5)**2+(y-0.5)**2 < 0.25 else 0)\n",
    "phi = IfPos(0.04-(x-0.5)**2-(y-0.5)**2, sqrt(0.04-(x-0.5)**2-(y-0.5)**2), 0)\n",
    "alpha = 0.5\n",
    "# psi initial guess\n",
    "psik = CF(0)\n",
    "for k in range(max_iter):\n",
    "    print(\"Iteration of proximal galerkin: \", k)\n",
    "    fesu = H1(mesh, order=12, dirichlet=\"bottom|right|top|left\")\n",
    "    fesphi = L2(mesh, order=10)\n",
    "    fes = fesu*fesphi\n",
    "    u, varphi = fes.TrialFunction()\n",
    "    v, psi = fes.TestFunction()\n",
    "    a = BilinearForm(fes)\n",
    "    a += alpha*grad(u)*grad(v)*dx + varphi*v*dx\n",
    "    a += u*psi*dx - exp(varphi)*psi*dx\n",
    "\n",
    "    l = LinearForm(fes)\n",
    "    l += (0+psik)*v*dx\n",
    "    l += phi*psi*dx\n",
    "\n",
    "    a.Assemble()\n",
    "    l.Assemble()\n",
    "    # No lifting given g = 0 on \\partial\\Omegagfu = GridFunction(fes)\n",
    "    gfu = GridFunction(fes)\n",
    "    res = gfu.vec.CreateVector()\n",
    "    w = gfu.vec.CreateVector()\n",
    "    history = GridFunction(fes, multidim = 0)\n",
    "    # here we may need to add another loop\n",
    "    maxiter = 15\n",
    "    print(\"Initializing Newton\")\n",
    "    for iter in range(maxiter):\n",
    "        \n",
    "        # Prints before the iteration: number of it, residual, energy\n",
    "        \n",
    "        a.Apply(gfu.vec, res)\n",
    "        a.AssembleLinearization(gfu.vec)\n",
    "        inv = a.mat.Inverse(freedofs = fes.FreeDofs())        \n",
    "        w.data = 0.5 * inv * res\n",
    "        gfu.vec.data -= w\n",
    "        history.AddMultiDimComponent(gfu.vec)\n",
    "        if sqrt(abs(InnerProduct(w,res))) < 1e-6:\n",
    "            print(\"Converged\")\n",
    "            break\n",
    "    \n",
    "    print(\"Exiting newton with:\", InnerProduct(w,res))\n",
    "    psik = gfu.components[1]\n",
    "    Draw(exp(gfu.components[1])+ phi , mesh, \"psi\")\n",
    "    #Draw(gfu.components[0], mesh, \"u\")\n",
    "tilde_u = phi + exp(gfu.components[1])  \n",
    "\n",
    "\n",
    "    \n",
    "\n"
   ]
  },
  {
   "cell_type": "code",
   "execution_count": null,
   "metadata": {},
   "outputs": [
    {
     "data": {
      "application/vnd.jupyter.widget-view+json": {
       "model_id": "1cbd55f9d199470cbe0dbab9334b0a37",
       "version_major": 2,
       "version_minor": 0
      },
      "text/plain": [
       "WebGuiWidget(layout=Layout(height='500px', width='100%'), value={'gui_settings': {}, 'ngsolve_version': '6.2.2…"
      ]
     },
     "metadata": {},
     "output_type": "display_data"
    },
    {
     "data": {
      "text/plain": [
       "BaseWebGuiScene"
      ]
     },
     "execution_count": 3,
     "metadata": {},
     "output_type": "execute_result"
    }
   ],
   "source": [
    "phi = IfPos(0.04-(x-0.5)**2-(y-0.5)**2, sqrt(0.04-(x-0.5)**2-(y-0.5)**2), 0)\n",
    "Draw(phi, mesh, \"tilde_u\")"
   ]
  },
  {
   "cell_type": "code",
   "execution_count": null,
   "metadata": {},
   "outputs": [
    {
     "data": {
      "application/vnd.jupyter.widget-view+json": {
       "model_id": "9ab13ba49cea4c20a21807b5480f0843",
       "version_major": 2,
       "version_minor": 0
      },
      "text/plain": [
       "WebGuiWidget(layout=Layout(height='500px', width='100%'), value={'gui_settings': {}, 'ngsolve_version': '6.2.2…"
      ]
     },
     "metadata": {},
     "output_type": "display_data"
    },
    {
     "data": {
      "text/plain": [
       "BaseWebGuiScene"
      ]
     },
     "execution_count": 4,
     "metadata": {},
     "output_type": "execute_result"
    }
   ],
   "source": [
    "# solve the simple laplacian example\n",
    "fes = H1(mesh, order=2, dirichlet=\"bottom|right\")\n",
    "u, v = fes.TnT()\n",
    "a = BilinearForm(fes)\n",
    "a += grad(u)*grad(v)*dx\n",
    "l = LinearForm(fes)\n",
    "l += 0*v*dx\n",
    "a.Assemble()\n",
    "l.Assemble()\n",
    "gfu = GridFunction(fes)\n",
    "gfu.vec.data = a.mat.Inverse(fes.FreeDofs()) * l.vec\n",
    "Draw(gfu, mesh, \"u\")\n"
   ]
  }
 ],
 "metadata": {
  "kernelspec": {
   "display_name": "Python 3",
   "language": "python",
   "name": "python3"
  },
  "language_info": {
   "codemirror_mode": {
    "name": "ipython",
    "version": 3
   },
   "file_extension": ".py",
   "mimetype": "text/x-python",
   "name": "python",
   "nbconvert_exporter": "python",
   "pygments_lexer": "ipython3",
   "version": "3.10.0"
  }
 },
 "nbformat": 4,
 "nbformat_minor": 2
}
