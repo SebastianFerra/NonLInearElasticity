{
 "cells": [
  {
   "cell_type": "code",
   "execution_count": 8,
   "metadata": {},
   "outputs": [
    {
     "name": "stdout",
     "output_type": "stream",
     "text": [
      "Non symmetric parameter 0.015329421867205406\n",
      "Lambda parameter 0.031396484632696064\n",
      "Mu parameter 0.001145522071527073\n"
     ]
    }
   ],
   "source": [
    "import problems\n",
    "import params\n",
    "import numpy as np\n",
    "problem = problems.problem1\n",
    "\n",
    "phi0 = problem[0]['phi0']\n",
    "chi = problem[0]['chi']\n",
    "G = problem[0]['G']\n",
    "geom = problem[1]\n",
    "BC = problem[2]\n",
    "N = 1000\n",
    "N = params.N\n",
    "KBTV = params.KBTV\n",
    "gamma = G / KBTV\n",
    "\n",
    "h_p = lambda phi,chi, N: (-phi/N) + np.log(1-phi) + phi + chi*phi**2\n",
    "\n",
    "h_pp = lambda phi,chi, N: phi*(1/N + 1/(1-phi) -1- 2*chi*phi)\n",
    "\n",
    "c = -h_p(phi0,chi,N) - gamma\n",
    "print(\"Non symmetric parameter\",c)\n",
    "lam = h_pp(phi0,chi,N) + h_p(phi0,chi,N)\n",
    "print(\"Lambda parameter\",lam)\n",
    "print(\"Mu parameter\",gamma)"
   ]
  },
  {
   "cell_type": "code",
   "execution_count": 12,
   "metadata": {},
   "outputs": [
    {
     "name": "stdout",
     "output_type": "stream",
     "text": [
      "0.3\n",
      "0.45\n",
      "1000\n",
      "0.001145522071527073\n",
      "True\n",
      "-0.015329421867205406\n"
     ]
    }
   ],
   "source": [
    "print(phi0)\n",
    "print(chi)\n",
    "print(N)\n",
    "print(gamma)\n",
    "# chech if gamma is bigger than h_p\n",
    "print(gamma > h_p(phi0,chi,N))\n",
    "print(h_p(phi0,chi,N)+gamma )"
   ]
  }
 ],
 "metadata": {
  "kernelspec": {
   "display_name": "Python 3",
   "language": "python",
   "name": "python3"
  },
  "language_info": {
   "codemirror_mode": {
    "name": "ipython",
    "version": 3
   },
   "file_extension": ".py",
   "mimetype": "text/x-python",
   "name": "python",
   "nbconvert_exporter": "python",
   "pygments_lexer": "ipython3",
   "version": "3.10.0"
  }
 },
 "nbformat": 4,
 "nbformat_minor": 2
}
