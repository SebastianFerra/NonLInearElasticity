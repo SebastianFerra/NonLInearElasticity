{
 "cells": [
  {
   "cell_type": "code",
   "execution_count": 10,
   "metadata": {},
   "outputs": [],
   "source": [
    "from ngsolve import *\n",
    "from netgen.geom2d import SplineGeometry\n",
    "from netgen.csg import unit_cube\n",
    "from ngsolve.webgui import Draw\n",
    "from netgen.occ import *\n"
   ]
  },
  {
   "cell_type": "code",
   "execution_count": 11,
   "metadata": {},
   "outputs": [
    {
     "data": {
      "application/vnd.jupyter.widget-view+json": {
       "model_id": "2a0b4b5f966942c8b9cff37d65d85c21",
       "version_major": 2,
       "version_minor": 0
      },
      "text/plain": [
       "WebGuiWidget(layout=Layout(height='500px', width='100%'), value={'gui_settings': {}, 'ngsolve_version': '6.2.2…"
      ]
     },
     "metadata": {},
     "output_type": "display_data"
    }
   ],
   "source": [
    "box = Box((0,0,0), (3,0.6,1))\n",
    "box.faces.name=\"outer\"\n",
    "cyl = sum( [Cylinder((0.5+i,0,0.5), Y, 0.25,0.8) for i in range(3)] )\n",
    "cyl.faces.name=\"cyl\"\n",
    "geo = box-cyl\n",
    "cylboxedges = geo.faces[\"outer\"].edges * geo.faces[\"cyl\"].edges\n",
    "cylboxedges.name = \"cylbox\"\n",
    "geo = geo.MakeChamfer(cylboxedges, 0.03)\n",
    "geo.faces.Min(X).name = \"fix\"\n",
    "geo.faces.Max(X).name = \"force\"\n",
    "mesh = Mesh(OCCGeometry(geo).GenerateMesh(maxh=2)).Curve(3)\n",
    "Draw (mesh);"
   ]
  },
  {
   "cell_type": "code",
   "execution_count": 30,
   "metadata": {},
   "outputs": [
    {
     "name": "stdout",
     "output_type": "stream",
     "text": [
      "Inverting...\n"
     ]
    },
    {
     "data": {
      "application/vnd.jupyter.widget-view+json": {
       "model_id": "907110e9c7c14a05b1c4ebf0c4f901c3",
       "version_major": 2,
       "version_minor": 0
      },
      "text/plain": [
       "WebGuiWidget(layout=Layout(height='500px', width='100%'), value={'gui_settings': {}, 'ngsolve_version': '6.2.2…"
      ]
     },
     "metadata": {},
     "output_type": "display_data"
    },
    {
     "data": {
      "text/plain": [
       "BaseWebGuiScene"
      ]
     },
     "execution_count": 30,
     "metadata": {},
     "output_type": "execute_result"
    },
    {
     "ename": "",
     "evalue": "",
     "output_type": "error",
     "traceback": [
      "\u001b[1;31mEl kernel se bloqueó al ejecutar código en la celda actual o en una celda anterior. \n",
      "\u001b[1;31mRevise el código de las celdas para identificar una posible causa del error. \n",
      "\u001b[1;31mHaga clic <a href='https://aka.ms/vscodeJupyterKernelCrash'>aquí</a> para obtener más información. \n",
      "\u001b[1;31mVea Jupyter <a href='command:jupyter.viewOutput'>log</a> para obtener más detalles."
     ]
    }
   ],
   "source": [
    "matL2 = MatrixValued(L2(mesh,order=2, dirichlet=\"fix\"), dim=3, symmetric=True)\n",
    "\n",
    "H1fes = VectorH1(mesh, order=2, dirichlet=\"fix\")\n",
    "\n",
    "X = FESpace([matL2, H1fes,matL2])\n",
    "eps, u, sigma = X.TrialFunction()\n",
    "eta,v,tau = X.TestFunction()\n",
    "\n",
    "\n",
    "\n",
    "E, nu = 210, 0.2\n",
    "mu  = E / 2 / (1+nu)\n",
    "lam = E * nu / ((1+nu)*(1-2*nu))\n",
    "force = CF( (1e-3,0,0) )\n",
    "def Stress(strain):\n",
    "    return 2*mu*strain + lam*Trace(strain)*Id(3)\n",
    "\n",
    "# tensor_1 = CoefficientFunction( ((1,1,1),(1,1,1),(1,1,1)) )\n",
    "\n",
    "bf = BilinearForm(X)\n",
    "bf += (InnerProduct(eps, Stress(eta))).Compile() * dx - (InnerProduct(eta, sigma)).Compile() * dx\n",
    "\n",
    "bf+= InnerProduct(Grad(v), sigma).Compile() * dx \n",
    "bf+= (InnerProduct(Grad(u), tau)).Compile() * dx - (InnerProduct(tau, eps)).Compile() * dx\n",
    "### add number space for the lagrange multiplier\n",
    "# bf += InnerProduct(tau,tensor_1).Compile() * dx\n",
    "# bf += InnerProduct(sigma, tensor_1).Compile() * dx\n",
    "\n",
    "####\n",
    "bf.Assemble()\n",
    "l = LinearForm(X)\n",
    "l += InnerProduct(force, v) *ds(\"force\")\n",
    "l.Assemble()\n",
    "sol = GridFunction(X)\n",
    "print(\"Inverting...\")\n",
    "sol.vec.data = bf.mat.Inverse(X.FreeDofs()) * l.vec\n",
    "e,gfu,s = sol.components\n",
    "Draw (5e4*gfu, mesh, \"u\", deformation=True)\n"
   ]
  },
  {
   "cell_type": "code",
   "execution_count": 23,
   "metadata": {},
   "outputs": [
    {
     "data": {
      "application/vnd.jupyter.widget-view+json": {
       "model_id": "3dc06054d2304787a00a99068e93c991",
       "version_major": 2,
       "version_minor": 0
      },
      "text/plain": [
       "WebGuiWidget(layout=Layout(height='500px', width='100%'), value={'gui_settings': {}, 'ngsolve_version': '6.2.2…"
      ]
     },
     "metadata": {},
     "output_type": "display_data"
    },
    {
     "data": {
      "text/plain": [
       "BaseWebGuiScene"
      ]
     },
     "execution_count": 23,
     "metadata": {},
     "output_type": "execute_result"
    }
   ],
   "source": [
    "Draw (gfu.components[0], mesh, \"u\", deformation=True)"
   ]
  }
 ],
 "metadata": {
  "kernelspec": {
   "display_name": "Python 3",
   "language": "python",
   "name": "python3"
  },
  "language_info": {
   "codemirror_mode": {
    "name": "ipython",
    "version": 3
   },
   "file_extension": ".py",
   "mimetype": "text/x-python",
   "name": "python",
   "nbconvert_exporter": "python",
   "pygments_lexer": "ipython3",
   "version": "3.10.11"
  }
 },
 "nbformat": 4,
 "nbformat_minor": 2
}
