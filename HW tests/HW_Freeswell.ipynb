{
 "cells": [
  {
   "cell_type": "code",
   "execution_count": 1,
   "metadata": {},
   "outputs": [],
   "source": [
    "import os\n",
    "os.chdir(\"../\")"
   ]
  },
  {
   "cell_type": "code",
   "execution_count": 2,
   "metadata": {},
   "outputs": [],
   "source": [
    "from ngsolve import *\n",
    "from netgen.geom2d import SplineGeometry\n",
    "\n",
    "from netgen.occ import *\n",
    "import netgen.meshing as ngm\n",
    "import problems\n",
    "import numpy as np\n",
    "import params\n",
    "import pickle\n",
    "from time import time\n"
   ]
  },
  {
   "cell_type": "code",
   "execution_count": 3,
   "metadata": {},
   "outputs": [],
   "source": [
    "## get problem parameters and geometry\n",
    "problem = problems.problem1\n",
    "\n",
    "phi0 = problem[0]['phi0']\n",
    "chi = problem[0]['chi']\n",
    "G = problem[0]['G']\n",
    "geom = problem[1]\n",
    "BC = problem[2]\n",
    "h = 0.4\n",
    "ord = 1\n",
    "N = params.N\n",
    "KBTV = params.KBTV\n",
    "form = \"HW\" # EDP //Functional// HW\n",
    "\n",
    "## Generate mesh and geometry ### add parallel stuff\n",
    "def mesher(geom, h):\n",
    "    geo = OCCGeometry(geom)\n",
    "    mesh = Mesh(geo.GenerateMesh(maxh=h))\n",
    "    return mesh\n",
    "\n",
    "mesh = mesher(geom, h)\n",
    "\n",
    "def F(u):\n",
    "    return Id(3) + Grad(u)\n",
    "def Norm(vec):\n",
    "    return InnerProduct(vec, vec)**0.5\n",
    "\n",
    "def Gel_energy_functional(F):\n",
    "    gamma = G/KBTV\n",
    "    J = Det(F)\n",
    "    phi = phi0/J\n",
    "    H = (J - phi0)*log(1-phi)  + phi0 * chi*(1-phi) + phi0/1000*log(phi)\n",
    "    return 0.5*gamma* Trace(F.trans*F ) + H\n",
    "\n",
    "def Gel_energy_EDP(F): ## |F|^2 + H => gamma F:Gradv + H'*J'\n",
    "    # ddet(A(t))/dt = det(A(t))*trace(A^-1(t)*Grad (v))\n",
    "    gamma = G/KBTV\n",
    "    J = Det(F)\n",
    "    phi = phi0/J\n",
    "    dv = Grad(v)\n",
    "    invF = Inv(F)\n",
    "    H_prime = -phi/N + log(1-phi) + phi + chi*phi**2\n",
    "    edp = gamma * InnerProduct(F,dv) + H_prime * J * Trace(invF*dv)\n",
    "    return edp\n",
    "\n",
    "def HW_energy(F,v,P,q):\n",
    "    # -P = \\dfrac{\\partial\\phi_{FH}}{\\partial F} \n",
    "    gamma = G/KBTV\n",
    "    J = Det(F)\n",
    "    phi = phi0/J\n",
    "    H_prime = -phi/N + log(1-phi) + phi + chi*phi**2\n",
    "    int1 = gamma*InnerProduct(F,Grad(v)) - P*J*Trace(Inv(F)*Grad(v))\n",
    "    int2 = InnerProduct(-P-H_prime,q)\n",
    "    return int1 + int2\n",
    "\n",
    "\n",
    "# P = gamma*F + Hprime*  J*F^-T\n"
   ]
  },
  {
   "cell_type": "code",
   "execution_count": 4,
   "metadata": {},
   "outputs": [],
   "source": [
    "## Generate spaces and forms\n",
    "uSpace = VectorH1(mesh, order=ord+1, dirichletx = BC[\"x\"], dirichlety = BC[\"y\"], dirichletz = BC[\"z\"])\n",
    "PSpace = L2(mesh, order=ord)\n",
    "# trabajo futuro probar los ordenes de los espacios para estabilidad\n",
    "fes = FESpace([uSpace, PSpace])\n",
    "u,P = fes.TrialFunction()\n",
    "v,q = fes.TestFunction()\n",
    "BF = BilinearForm(fes)\n",
    "F = Id(3) + Grad(u)\n",
    "\n",
    "## Assemble forms\n",
    "def Assemble_Bilinear_Form(BF, F,v=None,P=None,q=None, form=\"Functional\"):\n",
    "    if form == \"Functional\":\n",
    "        BF += Variation(Gel_energy_functional(F).Compile()*dx)\n",
    "        return BF\n",
    "    elif form == \"EDP\":\n",
    "        BF += Gel_energy_EDP(F).Compile() * dx\n",
    "        return BF\n",
    "    elif form == \"HW\":\n",
    "        BF += HW_energy(F,v,P,q)* dx\n",
    "        return BF\n",
    "\n",
    "\n",
    "BF = Assemble_Bilinear_Form(BF, F,v,P,q, form=form)"
   ]
  },
  {
   "cell_type": "code",
   "execution_count": 5,
   "metadata": {},
   "outputs": [],
   "source": [
    "def Solver_freeswell(BF, gfu, tol=1e-8, maxiter=250, damp = 0.5):\n",
    "    \"\"\"\n",
    "    Solves the problem\n",
    "    \"\"\"\n",
    "    res = gfu.vec.CreateVector()\n",
    "    w = gfu.vec.CreateVector()\n",
    "    history = GridFunction(fes, multidim = 0)\n",
    "    # here we may need to add another loop\n",
    "   \n",
    "    for iter in range(maxiter):\n",
    "        # Prints before the iteration: number of it, residual, energy\n",
    "        print(\"Energy: \", BF.Energy(gfu.vec), \"Residual: \", sqrt(abs(InnerProduct(res,res))), \"Iteration: \", iter)\n",
    "        BF.Apply(gfu.vec, res)\n",
    "        BF.AssembleLinearization(gfu.vec)\n",
    "        inv = BF.mat.Inverse(freedofs = fes.FreeDofs())        \n",
    "        w.data = damp * inv * res\n",
    "        gfu.vec.data -= w\n",
    "        history.AddMultiDimComponent(gfu.vec)\n",
    "        if sqrt(abs(InnerProduct(w,res))) < tol:\n",
    "            print(\"Converged\")\n",
    "            break\n",
    "    return gfu, history\n"
   ]
  },
  {
   "cell_type": "code",
   "execution_count": 6,
   "metadata": {},
   "outputs": [
    {
     "name": "stdout",
     "output_type": "stream",
     "text": [
      "Energy:  0.0 Residual:  0.0 Iteration:  0\n",
      "Energy:  0.03424339776665179 Residual:  0.05296457365140931 Iteration:  1\n",
      "Energy:  0.031072394826292985 Residual:  0.03141262233868086 Iteration:  2\n",
      "Energy:  0.02156622513975539 Residual:  0.018843189657851853 Iteration:  3\n",
      "Energy:  0.013839957653867708 Residual:  0.011344294506399424 Iteration:  4\n",
      "Energy:  0.008874064871069808 Residual:  0.0068104200888261645 Iteration:  5\n",
      "Energy:  0.0058836463010303736 Residual:  0.004052685156820588 Iteration:  6\n",
      "Energy:  0.003991810821579845 Residual:  0.0023757981074506826 Iteration:  7\n",
      "Energy:  0.0026582385961011826 Residual:  0.0013633958470276994 Iteration:  8\n",
      "Energy:  0.001671396422823438 Residual:  0.0007617190164218682 Iteration:  9\n",
      "Energy:  0.00097898785423858 Residual:  0.0004132320874110554 Iteration:  10\n",
      "Energy:  0.0005393965211133441 Residual:  0.00021811325638259813 Iteration:  11\n",
      "Energy:  0.0002848643397740349 Residual:  0.00011267817449665703 Iteration:  12\n",
      "Energy:  0.00014665465467507215 Residual:  5.737885565448944e-05 Iteration:  13\n",
      "Energy:  7.444467371231995e-05 Residual:  2.8970195704174405e-05 Iteration:  14\n",
      "Energy:  3.75099623671363e-05 Residual:  1.4558221200798121e-05 Iteration:  15\n",
      "Energy:  1.8827962549810783e-05 Residual:  7.297781583970516e-06 Iteration:  16\n",
      "Energy:  9.432363523551612e-06 Residual:  3.6536089071163106e-06 Iteration:  17\n",
      "Energy:  4.720794599073176e-06 Residual:  1.8279903825780542e-06 Iteration:  18\n",
      "Energy:  2.361552678466005e-06 Residual:  9.142924802190441e-07 Iteration:  19\n",
      "Energy:  1.1810654558086513e-06 Residual:  4.5722066357914923e-07 Iteration:  20\n",
      "Energy:  5.906050410701835e-07 Residual:  2.2862895034556777e-07 Iteration:  21\n",
      "Energy:  2.9532060308113055e-07 Residual:  1.1431913139277326e-07 Iteration:  22\n",
      "Energy:  1.4766482270923539e-07 Residual:  5.7160729951853123e-08 Iteration:  23\n",
      "Energy:  7.383354171157831e-08 Residual:  2.8580656065206316e-08 Iteration:  24\n",
      "Energy:  3.691705345314788e-08 Residual:  1.4290400837705486e-08 Iteration:  25\n",
      "Energy:  1.845859737634502e-08 Residual:  7.145218608594348e-09 Iteration:  26\n",
      "Energy:  9.229316352046733e-09 Residual:  3.5726138414302394e-09 Iteration:  27\n",
      "Energy:  4.614662596251281e-09 Residual:  1.7863080498886849e-09 Iteration:  28\n",
      "Energy:  2.307332400166263e-09 Residual:  8.931543097297247e-10 Iteration:  29\n",
      "Energy:  1.1536664721050704e-09 Residual:  4.465772402388473e-10 Iteration:  30\n",
      "Converged\n"
     ]
    }
   ],
   "source": [
    "gfu = GridFunction(fes)\n",
    "gfu.vec[:] = 0\n",
    "gfu, history = Solver_freeswell(BF, gfu)"
   ]
  },
  {
   "cell_type": "code",
   "execution_count": 7,
   "metadata": {},
   "outputs": [
    {
     "data": {
      "application/vnd.jupyter.widget-view+json": {
       "model_id": "de3c1c7709f54dc98ce71622d86c6ac3",
       "version_major": 2,
       "version_minor": 0
      },
      "text/plain": [
       "WebGuiWidget(layout=Layout(height='500px', width='100%'), value={'gui_settings': {}, 'ngsolve_version': '6.2.2…"
      ]
     },
     "metadata": {},
     "output_type": "display_data"
    },
    {
     "data": {
      "text/plain": [
       "BaseWebGuiScene"
      ]
     },
     "execution_count": 7,
     "metadata": {},
     "output_type": "execute_result"
    }
   ],
   "source": [
    "from ngsolve.webgui import Draw\n",
    "Draw(gfu.components[0], mesh, \"u\")"
   ]
  },
  {
   "cell_type": "code",
   "execution_count": 8,
   "metadata": {},
   "outputs": [
    {
     "data": {
      "text/plain": [
       "'freeswell_HW_0.4'"
      ]
     },
     "execution_count": 8,
     "metadata": {},
     "output_type": "execute_result"
    }
   ],
   "source": [
    "vtk = VTKOutput(mesh, coefs=[gfu.components[0], gfu.components[1]], names=[\"u\", \"P\"], filename=f\"freeswell_HW_{h}\")\n",
    "vtk.Do()\n"
   ]
  }
 ],
 "metadata": {
  "kernelspec": {
   "display_name": "Python 3",
   "language": "python",
   "name": "python3"
  },
  "language_info": {
   "codemirror_mode": {
    "name": "ipython",
    "version": 3
   },
   "file_extension": ".py",
   "mimetype": "text/x-python",
   "name": "python",
   "nbconvert_exporter": "python",
   "pygments_lexer": "ipython3",
   "version": "3.10.0"
  }
 },
 "nbformat": 4,
 "nbformat_minor": 2
}
