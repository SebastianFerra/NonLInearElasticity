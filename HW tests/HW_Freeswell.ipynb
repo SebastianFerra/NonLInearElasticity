{
 "cells": [
  {
   "cell_type": "code",
   "execution_count": 1,
   "metadata": {},
   "outputs": [],
   "source": [
    "import os\n",
    "os.chdir(\"../\")"
   ]
  },
  {
   "cell_type": "code",
   "execution_count": 2,
   "metadata": {},
   "outputs": [],
   "source": [
    "from ngsolve import *\n",
    "from netgen.geom2d import SplineGeometry\n",
    "\n",
    "from netgen.occ import *\n",
    "import netgen.meshing as ngm\n",
    "import problems\n",
    "import numpy as np\n",
    "import params\n",
    "import pickle\n",
    "from time import time\n"
   ]
  },
  {
   "cell_type": "code",
   "execution_count": 3,
   "metadata": {},
   "outputs": [],
   "source": [
    "## get problem parameters and geometry\n",
    "problem = problems.problem1\n",
    "\n",
    "phi0 = problem[0]['phi0']\n",
    "chi = problem[0]['chi']\n",
    "G = problem[0]['G']\n",
    "geom = problem[1]\n",
    "BC = problem[2]\n",
    "h = 1\n",
    "ord = 1\n",
    "N = params.N\n",
    "KBTV = params.KBTV\n",
    "form = \"HW\" # EDP //Functional// HW\n",
    "\n",
    "## Generate mesh and geometry ### add parallel stuff\n",
    "def mesher(geom, h):\n",
    "    geo = OCCGeometry(geom)\n",
    "    mesh = Mesh(geo.GenerateMesh(maxh=h))\n",
    "    return mesh\n",
    "\n",
    "mesh = mesher(geom, h)\n",
    "\n",
    "def F(u):\n",
    "    return Id(3) + Grad(u)\n",
    "def Norm(vec):\n",
    "    return InnerProduct(vec, vec)**0.5\n",
    "\n",
    "def Gel_energy_functional(F):\n",
    "    gamma = G/KBTV\n",
    "    J = Det(F)\n",
    "    phi = phi0/J\n",
    "    H = (J - phi0)*log(1-phi)  + phi0 * chi*(1-phi) + phi0/1000*log(phi)\n",
    "    return 0.5*gamma* Trace(F.trans*F ) + H\n",
    "\n",
    "def Gel_energy_EDP(F): ## |F|^2 + H => gamma F:Gradv + H'*J'\n",
    "    # ddet(A(t))/dt = det(A(t))*trace(A^-1(t)*Grad (v))\n",
    "    gamma = G/KBTV\n",
    "    J = Det(F)\n",
    "    phi = phi0/J\n",
    "    dv = Grad(v)\n",
    "    invF = Inv(F)\n",
    "    H_prime = -phi/N + log(1-phi) + phi + chi*phi**2\n",
    "    edp = gamma * InnerProduct(F,dv) + H_prime * J * Trace(invF*dv)\n",
    "    return edp\n",
    "\n",
    "def HW_energy(F,v,P,q):\n",
    "    # -P = \\dfrac{\\partial\\phi_{FH}}{\\partial F} \n",
    "    gamma = G/KBTV\n",
    "    J = Det(F)\n",
    "    phi = phi0/J\n",
    "    H_prime = -phi/N + log(1-phi) + phi + chi*phi**2\n",
    "    int1 = gamma*InnerProduct(F,Grad(v)) - P*J*Trace(Inv(F)*Grad(v))\n",
    "    int2 = InnerProduct(-P-H_prime,q)\n",
    "    return int1 + int2\n",
    "\n",
    "\n",
    "# P = gamma*F + Hprime*  J*F^-T\n"
   ]
  },
  {
   "cell_type": "code",
   "execution_count": 4,
   "metadata": {},
   "outputs": [],
   "source": [
    "## Generate spaces and forms\n",
    "uSpace = VectorH1(mesh, order=ord+1, dirichletx = BC[\"x\"], dirichlety = BC[\"y\"], dirichletz = BC[\"z\"])\n",
    "PSpace = L2(mesh, order=ord)\n",
    "# trabajo futuro probar los ordenes de los espacios para estabilidad\n",
    "fes = FESpace([uSpace, PSpace])\n",
    "u,P = fes.TrialFunction()\n",
    "v,q = fes.TestFunction()\n",
    "BF = BilinearForm(fes)\n",
    "F = Id(3) + Grad(u)\n",
    "\n",
    "## Assemble forms\n",
    "def Assemble_Bilinear_Form(BF, F,v=None,P=None,q=None, form=\"Functional\"):\n",
    "    if form == \"Functional\":\n",
    "        BF += Variation(Gel_energy_functional(F).Compile()*dx)\n",
    "        return BF\n",
    "    elif form == \"EDP\":\n",
    "        BF += Gel_energy_EDP(F).Compile() * dx\n",
    "        return BF\n",
    "    elif form == \"HW\":\n",
    "        BF += HW_energy(F,v,P,q)* dx\n",
    "        return BF\n",
    "\n",
    "\n",
    "BF = Assemble_Bilinear_Form(BF, F,v,P,q, form=form)"
   ]
  },
  {
   "cell_type": "code",
   "execution_count": 5,
   "metadata": {},
   "outputs": [],
   "source": [
    "def Solver_freeswell(BF, gfu, tol=1e-8, maxiter=250, damp = 0.5):\n",
    "    \"\"\"\n",
    "    Solves the problem\n",
    "    \"\"\"\n",
    "    res = gfu.vec.CreateVector()\n",
    "    w = gfu.vec.CreateVector()\n",
    "    history = GridFunction(fes, multidim = 0)\n",
    "    # here we may need to add another loop\n",
    "   \n",
    "    for iter in range(maxiter):\n",
    "        # Prints before the iteration: number of it, residual, energy\n",
    "        print(\"Energy: \", BF.Energy(gfu.vec), \"Residual: \", sqrt(abs(InnerProduct(res,res))), \"Iteration: \", iter)\n",
    "        BF.Apply(gfu.vec, res)\n",
    "        BF.AssembleLinearization(gfu.vec)\n",
    "        inv = BF.mat.Inverse(freedofs = fes.FreeDofs())        \n",
    "        w.data = damp * inv * res\n",
    "        gfu.vec.data -= w\n",
    "        history.AddMultiDimComponent(gfu.vec)\n",
    "        if sqrt(abs(InnerProduct(w,res))) < tol:\n",
    "            print(\"Converged\")\n",
    "            break\n",
    "    return gfu, history\n"
   ]
  },
  {
   "cell_type": "code",
   "execution_count": 6,
   "metadata": {},
   "outputs": [
    {
     "name": "stdout",
     "output_type": "stream",
     "text": [
      "Energy:  0.0 Residual:  0.0 Iteration:  0\n",
      "Energy:  0.034243397924077275 Residual:  0.2244203631845779 Iteration:  1\n",
      "Energy:  0.031074069343988008 Residual:  0.1347726064702276 Iteration:  2\n",
      "Energy:  0.0215673497702496 Residual:  0.08139555749170758 Iteration:  3\n",
      "Energy:  0.013840626903388028 Residual:  0.04917481204152756 Iteration:  4\n",
      "Energy:  0.008874437945020795 Residual:  0.029571863367735225 Iteration:  5\n",
      "Energy:  0.005883846137843278 Residual:  0.017610276843547393 Iteration:  6\n",
      "Energy:  0.003991915029814559 Residual:  0.010325443909862793 Iteration:  7\n",
      "Energy:  0.0026582918785456513 Residual:  0.005924324867759634 Iteration:  8\n",
      "Energy:  0.001671423283554544 Residual:  0.003308467855411554 Iteration:  9\n",
      "Energy:  0.0009790012854655116 Residual:  0.001793917609767743 Iteration:  10\n",
      "Energy:  0.0005394032182136104 Residual:  0.0009464344513791797 Iteration:  11\n",
      "Energy:  0.0002848676793525313 Residual:  0.0004887699588622897 Iteration:  12\n",
      "Energy:  0.000146656321445901 Residual:  0.00024884435144143 Iteration:  13\n",
      "Energy:  7.444550622548381e-05 Residual:  0.00012562540834361763 Iteration:  14\n",
      "Energy:  3.751037838931416e-05 Residual:  6.312594355196666e-05 Iteration:  15\n",
      "Energy:  1.882817050011649e-05 Residual:  3.164293540517464e-05 Iteration:  16\n",
      "Energy:  9.43246748323852e-06 Residual:  1.584167207068528e-05 Iteration:  17\n",
      "Energy:  4.7208465750130204e-06 Residual:  7.925914247937562e-06 Iteration:  18\n",
      "Energy:  2.361578665459766e-06 Residual:  3.964230095110332e-06 Iteration:  19\n",
      "Energy:  1.181078449061279e-06 Residual:  1.982433719360066e-06 Iteration:  20\n",
      "Energy:  5.906115376331444e-07 Residual:  9.912965813593899e-07 Iteration:  21\n",
      "Energy:  2.9532385134549205e-07 Residual:  4.956682278256294e-07 Iteration:  22\n",
      "Energy:  1.4766644683729945e-07 Residual:  2.4783909904409483e-07 Iteration:  23\n",
      "Energy:  7.383435377942061e-08 Residual:  1.2392079590286712e-07 Iteration:  24\n",
      "Energy:  3.6917459490226204e-08 Residual:  6.196070956461575e-08 Iteration:  25\n",
      "Energy:  1.8458800392327783e-08 Residual:  3.098043269552734e-08 Iteration:  26\n",
      "Energy:  9.22941785930866e-09 Residual:  1.5490235813374148e-08 Iteration:  27\n",
      "Energy:  4.614713342671954e-09 Residual:  7.745122766428993e-09 Iteration:  28\n",
      "Energy:  2.307357783599431e-09 Residual:  3.8725626344430105e-09 Iteration:  29\n",
      "Energy:  1.1536791635693636e-09 Residual:  1.936281600210455e-09 Iteration:  30\n",
      "Converged\n"
     ]
    }
   ],
   "source": [
    "gfu = GridFunction(fes)\n",
    "gfu.vec[:] = 0\n",
    "gfu, history = Solver_freeswell(BF, gfu)"
   ]
  },
  {
   "cell_type": "code",
   "execution_count": 7,
   "metadata": {},
   "outputs": [
    {
     "data": {
      "application/vnd.jupyter.widget-view+json": {
       "model_id": "faedbf9b8f3a43dd9c6630a552241648",
       "version_major": 2,
       "version_minor": 0
      },
      "text/plain": [
       "WebGuiWidget(layout=Layout(height='500px', width='100%'), value={'gui_settings': {}, 'ngsolve_version': '6.2.2…"
      ]
     },
     "metadata": {},
     "output_type": "display_data"
    },
    {
     "data": {
      "text/plain": [
       "BaseWebGuiScene"
      ]
     },
     "execution_count": 7,
     "metadata": {},
     "output_type": "execute_result"
    }
   ],
   "source": [
    "from ngsolve.webgui import Draw\n",
    "Draw(gfu.components[0], mesh, \"u\")"
   ]
  },
  {
   "cell_type": "code",
   "execution_count": 8,
   "metadata": {},
   "outputs": [
    {
     "data": {
      "text/plain": [
       "'freeswell_HW_1'"
      ]
     },
     "execution_count": 8,
     "metadata": {},
     "output_type": "execute_result"
    }
   ],
   "source": [
    "vtk = VTKOutput(mesh, coefs=[gfu.components[0], gfu.components[1]], names=[\"u\", \"P\"], filename=f\"freeswell_HW_{h}\")\n",
    "vtk.Do()\n"
   ]
  }
 ],
 "metadata": {
  "kernelspec": {
   "display_name": "Python 3",
   "language": "python",
   "name": "python3"
  },
  "language_info": {
   "codemirror_mode": {
    "name": "ipython",
    "version": 3
   },
   "file_extension": ".py",
   "mimetype": "text/x-python",
   "name": "python",
   "nbconvert_exporter": "python",
   "pygments_lexer": "ipython3",
   "version": "3.10.0"
  }
 },
 "nbformat": 4,
 "nbformat_minor": 2
}
