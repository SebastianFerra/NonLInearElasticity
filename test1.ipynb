{
 "cells": [
  {
   "cell_type": "code",
   "execution_count": 19,
   "metadata": {},
   "outputs": [],
   "source": [
    "def innerL2(gfu,mesh):\n",
    "    return Integrate(InnerProduct(gfu,gfu),mesh)\n",
    "def L2error(gfu,exact,mesh):\n",
    "    return sqrt(innerL2(gfu-exact,mesh))"
   ]
  },
  {
   "cell_type": "code",
   "execution_count": null,
   "metadata": {},
   "outputs": [
    {
     "name": "stdout",
     "output_type": "stream",
     "text": [
      "Number of dofs: 202\n"
     ]
    }
   ],
   "source": [
    "from ngsolve import *\n",
    "from netgen.geom2d import SplineGeometry\n",
    "import pickle\n",
    "from netgen.occ import *\n",
    "import netgen.meshing as ngm\n",
    "import numpy as np\n",
    "from ngsolve.webgui import *\n",
    "from netgen.geom2d import unit_square\n",
    "import params\n",
    "geom = SplineGeometry()\n",
    "w = 5\n",
    "l = 1  \n",
    "geo = SplineGeometry()\n",
    "\n",
    "pnts =[(0,0),\n",
    "       (w,0),\n",
    "       (w,l),\n",
    "       (0,l)]\n",
    "\n",
    "p1,p2,p3,p4 = [geo.AppendPoint(*pnt) for pnt in pnts]\n",
    "\n",
    "curves = [[[\"line\",p1,p2],\"bottom\"],\n",
    "          [[\"line\",p2,p3],\"right\"],\n",
    "          [[\"line\",p3,p4],\"top\"],\n",
    "          [[\"line\",p4,p1],\"left\"]]\n",
    "\n",
    "[geo.Append(c,bc=bc) for c,bc in curves]\n",
    "n = 1\n",
    "mesh = Mesh(geo.GenerateMesh(maxh=2**(-n)))\n",
    "\n",
    "phi0 = 0.5\n",
    "chi = 0.2\n",
    "N = params.N\n",
    "KBTV = params.KBTV\n",
    "gamma = 0.0011455\n",
    "\n",
    "def Gel_energy_EDP(F): ## |F|^2 + H => gamma F:Gradv + H'*J'\n",
    "    # ddet(A(t))/dt = det(A(t))*trace(A^-1(t)*Grad (v))\n",
    "    \n",
    "    J = Det(F)\n",
    "    phi = phi0/J\n",
    "    dv = Grad(v)\n",
    "    invF = Inv(F)\n",
    "    H_prime = log(1-phi) + phi + chi*phi**2\n",
    "    edp = gamma * InnerProduct(F,dv) + InnerProduct(H_prime * J * invF,dv)\n",
    "    return edp  # mean zero condition\n",
    "\n",
    "def Solver_freeswell(BF, gfu, tol=1e-8, maxiter=250, damp = 0.5):\n",
    "    \"\"\"\n",
    "    Solves the problem\n",
    "    \"\"\"\n",
    "    res = gfu.vec.CreateVector()\n",
    "    w = gfu.vec.CreateVector()\n",
    "    history = GridFunction(fes, multidim = 0)\n",
    "    # here we may need to add another loop\n",
    "   \n",
    "    for iter in range(maxiter):\n",
    "        # Prints before the iteration: number of it, residual, energy\n",
    "        print(\"Energy: \", BF.Energy(gfu.vec), \"Residual: \", sqrt(abs(InnerProduct(res,res))), \"Iteration: \", iter)\n",
    "        BF.Apply(gfu.vec, res)\n",
    "        BF.AssembleLinearization(gfu.vec)\n",
    "        inv = BF.mat.Inverse(freedofs = fes.FreeDofs())        \n",
    "        w.data = damp * inv * res\n",
    "        gfu.vec.data -= w\n",
    "        history.AddMultiDimComponent(gfu.vec)\n",
    "        if sqrt(abs(InnerProduct(w,res))) < tol:\n",
    "            print(\"Converged\")\n",
    "            break\n",
    "    return gfu, history\n",
    "\n",
    "\n",
    "fes= VectorH1(mesh, order=2,dirichletx = \"left\", dirichlety = \"bottom\")\n",
    "u,v = fes.TnT()\n",
    "F = Id(2) + Grad(u)\n",
    "BF = BilinearForm(fes, symmetric=False)\n",
    "BF += Gel_energy_EDP(F).Compile() * dx\n",
    "BF.Assemble()\n",
    "print(\"Number of dofs:\", fes.ndof)\n",
    "gfu = GridFunction(fes)\n",
    "gfu, history = Solver_freeswell(BF, gfu, tol=1e-6, maxiter=20, damp = 0.5)\n",
    "pickle.dump(gfu, open(f\"gfu_n_{n}.p\", \"wb\"))"
   ]
  },
  {
   "cell_type": "code",
   "execution_count": 23,
   "metadata": {},
   "outputs": [
    {
     "ename": "TypeError",
     "evalue": "InnerProduct(): incompatible function arguments. The following argument types are supported:\n    1. (self: ngsolve.la.DynamicVectorExpression, arg0: ngsolve.la.BaseVector) -> float\n\nInvoked with: <ngsolve.la.DynamicVectorExpression object at 0x000001CBFFCE6F70>, <ngsolve.la.DynamicVectorExpression object at 0x000001CBFFCE6F70>",
     "output_type": "error",
     "traceback": [
      "\u001b[1;31m---------------------------------------------------------------------------\u001b[0m",
      "\u001b[1;31mTypeError\u001b[0m                                 Traceback (most recent call last)",
      "Cell \u001b[1;32mIn[23], line 6\u001b[0m\n\u001b[0;32m      4\u001b[0m \u001b[38;5;28;01mfor\u001b[39;00m n \u001b[38;5;129;01min\u001b[39;00m ns:\n\u001b[0;32m      5\u001b[0m     g \u001b[38;5;241m=\u001b[39m pickle\u001b[38;5;241m.\u001b[39mload(\u001b[38;5;28mopen\u001b[39m(\u001b[38;5;124mf\u001b[39m\u001b[38;5;124m\"\u001b[39m\u001b[38;5;124mgfu_n_\u001b[39m\u001b[38;5;132;01m{\u001b[39;00mn\u001b[38;5;132;01m}\u001b[39;00m\u001b[38;5;124m.p\u001b[39m\u001b[38;5;124m\"\u001b[39m, \u001b[38;5;124m\"\u001b[39m\u001b[38;5;124mrb\u001b[39m\u001b[38;5;124m\"\u001b[39m))\n\u001b[1;32m----> 6\u001b[0m     errors\u001b[38;5;241m.\u001b[39mappend(\u001b[43mL2error\u001b[49m\u001b[43m(\u001b[49m\u001b[43mg\u001b[49m\u001b[43m,\u001b[49m\u001b[43mu\u001b[49m\u001b[43m,\u001b[49m\u001b[43mmesh\u001b[49m\u001b[43m)\u001b[49m)\n",
      "Cell \u001b[1;32mIn[19], line 4\u001b[0m, in \u001b[0;36mL2error\u001b[1;34m(gfu, exact, mesh)\u001b[0m\n\u001b[0;32m      3\u001b[0m \u001b[38;5;28;01mdef\u001b[39;00m \u001b[38;5;21mL2error\u001b[39m(gfu,exact,mesh):\n\u001b[1;32m----> 4\u001b[0m     \u001b[38;5;28;01mreturn\u001b[39;00m sqrt(\u001b[43minnerL2\u001b[49m\u001b[43m(\u001b[49m\u001b[43mgfu\u001b[49m\u001b[38;5;241;43m-\u001b[39;49m\u001b[43mexact\u001b[49m\u001b[43m,\u001b[49m\u001b[43mmesh\u001b[49m\u001b[43m)\u001b[49m)\n",
      "Cell \u001b[1;32mIn[19], line 2\u001b[0m, in \u001b[0;36minnerL2\u001b[1;34m(gfu, mesh)\u001b[0m\n\u001b[0;32m      1\u001b[0m \u001b[38;5;28;01mdef\u001b[39;00m \u001b[38;5;21minnerL2\u001b[39m(gfu,mesh):\n\u001b[1;32m----> 2\u001b[0m     \u001b[38;5;28;01mreturn\u001b[39;00m Integrate(\u001b[43mInnerProduct\u001b[49m\u001b[43m(\u001b[49m\u001b[43mgfu\u001b[49m\u001b[43m,\u001b[49m\u001b[43mgfu\u001b[49m\u001b[43m)\u001b[49m,mesh)\n",
      "\u001b[1;31mTypeError\u001b[0m: InnerProduct(): incompatible function arguments. The following argument types are supported:\n    1. (self: ngsolve.la.DynamicVectorExpression, arg0: ngsolve.la.BaseVector) -> float\n\nInvoked with: <ngsolve.la.DynamicVectorExpression object at 0x000001CBFFCE6F70>, <ngsolve.la.DynamicVectorExpression object at 0x000001CBFFCE6F70>"
     ]
    }
   ],
   "source": [
    "ns = [1,2,3,4,5,6]\n",
    "u = pickle.load(open(f\"gfu_n_{7}.p\", \"rb\"))\n",
    "errors = []\n",
    "for n in ns:\n",
    "    g = pickle.load(open(f\"gfu_n_{n}.p\", \"rb\"))\n",
    "    errors.append(L2error(g,u,mesh))"
   ]
  },
  {
   "cell_type": "code",
   "execution_count": 21,
   "metadata": {},
   "outputs": [
    {
     "data": {
      "text/plain": [
       "<ngsolve.comp.GridFunction at 0x1cbfc5ce250>"
      ]
     },
     "execution_count": 21,
     "metadata": {},
     "output_type": "execute_result"
    }
   ],
   "source": [
    "gfu"
   ]
  }
 ],
 "metadata": {
  "kernelspec": {
   "display_name": "Python 3",
   "language": "python",
   "name": "python3"
  },
  "language_info": {
   "codemirror_mode": {
    "name": "ipython",
    "version": 3
   },
   "file_extension": ".py",
   "mimetype": "text/x-python",
   "name": "python",
   "nbconvert_exporter": "python",
   "pygments_lexer": "ipython3",
   "version": "3.10.0"
  }
 },
 "nbformat": 4,
 "nbformat_minor": 2
}
