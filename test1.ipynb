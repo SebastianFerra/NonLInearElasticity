{
 "cells": [
  {
   "cell_type": "code",
   "execution_count": 1,
   "metadata": {},
   "outputs": [],
   "source": [
    "def innerL2(gfu,mesh):\n",
    "    return Integrate(InnerProduct(gfu,gfu),mesh)\n",
    "def L2error(gfu,exact,mesh):\n",
    "    return sqrt(innerL2(gfu-exact,mesh))"
   ]
  },
  {
   "cell_type": "code",
   "execution_count": 2,
   "metadata": {},
   "outputs": [
    {
     "name": "stdout",
     "output_type": "stream",
     "text": [
      "Number of dofs: 760970\n",
      "Energy:  0.0 Residual:  0.0 Iteration:  0\n",
      "Energy:  -0.04869646049729223 Residual:  0.04360144694877884 Iteration:  1\n",
      "Energy:  -0.06810157970928528 Residual:  0.027713801685856475 Iteration:  2\n",
      "Energy:  -0.07079857513584503 Residual:  0.0175402033950956 Iteration:  3\n",
      "Energy:  -0.06464455742941844 Residual:  0.011049662017835022 Iteration:  4\n",
      "Energy:  -0.054343732039441005 Residual:  0.006917349711077955 Iteration:  5\n",
      "Energy:  -0.04264345248712801 Residual:  0.004289411994967885 Iteration:  6\n",
      "Energy:  -0.03120013746818388 Residual:  0.0026204587762081633 Iteration:  7\n",
      "Energy:  -0.021131694930458966 Residual:  0.0015651434518419007 Iteration:  8\n",
      "Energy:  -0.013192485887079164 Residual:  0.000906224972040265 Iteration:  9\n",
      "Energy:  -0.007639136923084111 Residual:  0.0005057281976249725 Iteration:  10\n",
      "Energy:  -0.004171649673731358 Residual:  0.00027220984912232896 Iteration:  11\n",
      "Energy:  -0.0021909656069839436 Residual:  0.00014232325707115614 Iteration:  12\n",
      "Energy:  -0.00112447753144409 Residual:  7.296581586663963e-05 Iteration:  13\n",
      "Energy:  -0.0005698727917474628 Residual:  3.697261225972836e-05 Iteration:  14\n",
      "Energy:  -0.0002868964483976998 Residual:  1.8614164692677876e-05 Iteration:  15\n",
      "Energy:  -0.00014394490861941955 Residual:  9.339769091315409e-06 Iteration:  16\n",
      "Energy:  -7.209747415223303e-05 Residual:  4.678149385618027e-06 Iteration:  17\n",
      "Energy:  -3.608009907430487e-05 Residual:  2.3411527344515774e-06 Iteration:  18\n",
      "Energy:  -1.8047903475980023e-05 Residual:  1.1710973685301932e-06 Iteration:  19\n"
     ]
    }
   ],
   "source": [
    "from ngsolve import *\n",
    "from netgen.geom2d import SplineGeometry\n",
    "import pickle\n",
    "from netgen.occ import *\n",
    "import netgen.meshing as ngm\n",
    "import numpy as np\n",
    "from ngsolve.webgui import *\n",
    "from netgen.geom2d import unit_square\n",
    "import params\n",
    "geom = SplineGeometry()\n",
    "w = 5\n",
    "l = 1  \n",
    "geo = SplineGeometry()\n",
    "\n",
    "pnts =[(0,0),\n",
    "       (w,0),\n",
    "       (w,l),\n",
    "       (0,l)]\n",
    "\n",
    "p1,p2,p3,p4 = [geo.AppendPoint(*pnt) for pnt in pnts]\n",
    "\n",
    "curves = [[[\"line\",p1,p2],\"bottom\"],\n",
    "          [[\"line\",p2,p3],\"right\"],\n",
    "          [[\"line\",p3,p4],\"top\"],\n",
    "          [[\"line\",p4,p1],\"left\"]]\n",
    "\n",
    "[geo.Append(c,bc=bc) for c,bc in curves]\n",
    "n = 7\n",
    "mesh = Mesh(geo.GenerateMesh(maxh=2**(-n)))\n",
    "\n",
    "phi0 = 0.5\n",
    "chi = 0.2\n",
    "N = params.N\n",
    "KBTV = params.KBTV\n",
    "gamma = 0.0011455\n",
    "\n",
    "def Gel_energy_EDP(F): ## |F|^2 + H => gamma F:Gradv + H'*J'\n",
    "    # ddet(A(t))/dt = det(A(t))*trace(A^-1(t)*Grad (v))\n",
    "    \n",
    "    J = Det(F)\n",
    "    phi = phi0/J\n",
    "    dv = Grad(v)\n",
    "    invF = Inv(F)\n",
    "    H_prime = log(1-phi) + phi + chi*phi**2\n",
    "    edp = gamma * InnerProduct(F,dv) + InnerProduct(H_prime * J * invF,dv)\n",
    "    return edp  # mean zero condition\n",
    "\n",
    "def Solver_freeswell(BF, gfu, tol=1e-8, maxiter=250, damp = 0.5):\n",
    "    \"\"\"\n",
    "    Solves the problem\n",
    "    \"\"\"\n",
    "    res = gfu.vec.CreateVector()\n",
    "    w = gfu.vec.CreateVector()\n",
    "    history = GridFunction(fes, multidim = 0)\n",
    "    # here we may need to add another loop\n",
    "   \n",
    "    for iter in range(maxiter):\n",
    "        # Prints before the iteration: number of it, residual, energy\n",
    "        print(\"Energy: \", BF.Energy(gfu.vec), \"Residual: \", sqrt(abs(InnerProduct(res,res))), \"Iteration: \", iter)\n",
    "        BF.Apply(gfu.vec, res)\n",
    "        BF.AssembleLinearization(gfu.vec)\n",
    "        inv = BF.mat.Inverse(freedofs = fes.FreeDofs())        \n",
    "        w.data = damp * inv * res\n",
    "        gfu.vec.data -= w\n",
    "        history.AddMultiDimComponent(gfu.vec)\n",
    "        if sqrt(abs(InnerProduct(w,res))) < tol:\n",
    "            print(\"Converged\")\n",
    "            break\n",
    "    return gfu, history\n",
    "\n",
    "\n",
    "fes= VectorH1(mesh, order=2,dirichletx = \"left\", dirichlety = \"bottom\")\n",
    "u,v = fes.TnT()\n",
    "F = Id(2) + Grad(u)\n",
    "BF = BilinearForm(fes, symmetric=False)\n",
    "BF += Gel_energy_EDP(F).Compile() * dx\n",
    "BF.Assemble()\n",
    "print(\"Number of dofs:\", fes.ndof)\n",
    "gfu = GridFunction(fes)\n",
    "gfu, history = Solver_freeswell(BF, gfu, tol=1e-6, maxiter=20, damp = 0.5)\n",
    "pickle.dump(gfu, open(f\"gfu_n_{n}.p\", \"wb\"))"
   ]
  },
  {
   "cell_type": "code",
   "execution_count": 3,
   "metadata": {},
   "outputs": [],
   "source": [
    "ns = [1,2,3,4,5,6]\n",
    "u = pickle.load(open(f\"gfu_n_{7}.p\", \"rb\"))\n",
    "errors = []\n",
    "for n in ns:\n",
    "    g = pickle.load(open(f\"gfu_n_{n}.p\", \"rb\"))\n",
    "    errors.append(L2error(g,u,mesh))"
   ]
  },
  {
   "cell_type": "code",
   "execution_count": 5,
   "metadata": {},
   "outputs": [
    {
     "data": {
      "application/vnd.jupyter.widget-view+json": {
       "model_id": "0af626fe4c374b268b5b0f2557aa8b42",
       "version_major": 2,
       "version_minor": 0
      },
      "text/plain": [
       "WebGuiWidget(layout=Layout(height='500px', width='100%'), value={'gui_settings': {}, 'ngsolve_version': '6.2.2…"
      ]
     },
     "metadata": {},
     "output_type": "display_data"
    },
    {
     "data": {
      "text/plain": [
       "BaseWebGuiScene"
      ]
     },
     "execution_count": 5,
     "metadata": {},
     "output_type": "execute_result"
    }
   ],
   "source": [
    "Draw(gfu)"
   ]
  }
 ],
 "metadata": {
  "kernelspec": {
   "display_name": "Python 3",
   "language": "python",
   "name": "python3"
  },
  "language_info": {
   "codemirror_mode": {
    "name": "ipython",
    "version": 3
   },
   "file_extension": ".py",
   "mimetype": "text/x-python",
   "name": "python",
   "nbconvert_exporter": "python",
   "pygments_lexer": "ipython3",
   "version": "3.10.0"
  }
 },
 "nbformat": 4,
 "nbformat_minor": 2
}
