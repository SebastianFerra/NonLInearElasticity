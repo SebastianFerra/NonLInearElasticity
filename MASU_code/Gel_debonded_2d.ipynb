{
 "cells": [
  {
   "cell_type": "markdown",
   "id": "5f0e82f2-3c20-44cb-b064-111414167e0a",
   "metadata": {},
   "source": [
    "# Gel debonded, two dimensional model"
   ]
  },
  {
   "cell_type": "code",
   "execution_count": 52,
   "id": "ed823261-c4bc-4778-a70f-3e097876f445",
   "metadata": {},
   "outputs": [],
   "source": [
    "from ngsolve import *\n",
    "from netgen.geom2d import SplineGeometry\n",
    "import netgen.geom2d as geom2d\n",
    "# from netgen.occ import *\n",
    "import netgen.meshing as ngm\n",
    "from ngsolve.webgui import Draw"
   ]
  },
  {
   "cell_type": "code",
   "execution_count": 53,
   "id": "2242d337-1a7f-4ae3-ab82-41a07f675e93",
   "metadata": {},
   "outputs": [],
   "source": [
    "import problems\n",
    "import numpy as np\n",
    "import params\n",
    "import pickle\n",
    "from time import time"
   ]
  },
  {
   "cell_type": "code",
   "execution_count": 77,
   "id": "a022cb5d-867b-4d76-a6bb-05d4e44b5acb",
   "metadata": {},
   "outputs": [
    {
     "name": "stdout",
     "output_type": "stream",
     "text": [
      "phi0: 0.3\n",
      "chi: 0.45\n",
      "G: 0.15647831497059816\n",
      "geom: geo_2D_bonded.pkl\n",
      "BC: {'dir_cond': 'faces', 'DIR_FACES': 'bottom'}\n",
      "N: 1000\n"
     ]
    }
   ],
   "source": [
    "## get problem parameters and geometry\n",
    "problem = problems.problem2\n",
    "\n",
    "phi0 = problem[0]['phi0']\n",
    "chi = problem[0]['chi']\n",
    "G = problem[0]['G']\n",
    "geom = problem[1]\n",
    "dim = problem[0]['dim']\n",
    "BC = problem[2]\n",
    "name = problem[-1]\n",
    "h = 1\n",
    "ord = 2\n",
    "N = params.N\n",
    "KBTV = params.KBTV\n",
    "form = \"Functional\" # EDP //functional\n",
    "\n",
    "print(\"phi0:\", phi0)\n",
    "print(\"chi:\", chi)\n",
    "print(\"G:\", G)\n",
    "print(\"geom:\",geom)\n",
    "print(\"BC:\", BC)\n",
    "print(\"N:\", N)"
   ]
  },
  {
   "cell_type": "code",
   "execution_count": 55,
   "id": "31b4cf0c-5fc8-4ccc-a78c-f59ca62e7574",
   "metadata": {},
   "outputs": [
    {
     "name": "stdout",
     "output_type": "stream",
     "text": [
      "ParameterCF, val = 0.00365064\n",
      "\n"
     ]
    }
   ],
   "source": [
    "phi = lambda J: phi0/J\n",
    "dH = lambda J: (1-1/1000) * phi(J) + np.log(1-phi(J)) + chi * phi(J)**2\n",
    "\n",
    "gammafun = lambda lamb: -dH(lamb)/lamb # bonded\n",
    "# gammafun = lambda lamb: -dH(lamb**3)*lamb\n",
    "\n",
    "lambda_target = 1.49\n",
    "gamma_target = gammafun(lambda_target)\n",
    "\n",
    "\n",
    "gamma = Parameter(gamma_target)\n",
    "print(gamma)\n",
    "## Generate mesh and geometry ### add parallel stuff\n",
    "def mesher(geom, h):\n",
    "    if \".stp\" in geom:\n",
    "        geo = OCCGeometry(geom)\n",
    "    else:\n",
    "        geo = pickle.load(open(geom, \"rb\"))\n",
    "\n",
    "    mesh = Mesh(geo.GenerateMesh(maxh=h))\n",
    "    Draw(mesh)\n",
    "    return mesh\n"
   ]
  },
  {
   "cell_type": "code",
   "execution_count": 56,
   "id": "6e8542e7-a260-4a24-b785-47fe7a6201d3",
   "metadata": {},
   "outputs": [
    {
     "data": {
      "application/vnd.jupyter.widget-view+json": {
       "model_id": "e50fcc52e7d044eb809b69c286dfc5e8",
       "version_major": 2,
       "version_minor": 0
      },
      "text/plain": [
       "WebGuiWidget(layout=Layout(height='50vh', width='100%'), value={'gui_settings': {}, 'ngsolve_version': '6.2.24…"
      ]
     },
     "metadata": {},
     "output_type": "display_data"
    },
    {
     "name": "stdout",
     "output_type": "stream",
     "text": [
      "('bottom', 'right', 'top', 'left')\n"
     ]
    }
   ],
   "source": [
    "mesh_old = mesher(geom, h)  \n",
    "print(mesh_old.GetBoundaries())"
   ]
  },
  {
   "cell_type": "code",
   "execution_count": 71,
   "id": "ff4f4f35-e603-4ad4-bf43-57b911f4384d",
   "metadata": {},
   "outputs": [
    {
     "data": {
      "application/vnd.jupyter.widget-view+json": {
       "model_id": "34efd1e5e7ad44349417419da5222915",
       "version_major": 2,
       "version_minor": 0
      },
      "text/plain": [
       "WebGuiWidget(layout=Layout(height='50vh', width='100%'), value={'gui_settings': {}, 'ngsolve_version': '6.2.24…"
      ]
     },
     "metadata": {},
     "output_type": "display_data"
    },
    {
     "data": {
      "text/plain": [
       "BaseWebGuiScene"
      ]
     },
     "execution_count": 71,
     "metadata": {},
     "output_type": "execute_result"
    }
   ],
   "source": [
    "L = 90      # measured in mm\n",
    "d = 3\n",
    "geo = geom2d.SplineGeometry()\n",
    "p1,p2,p3,p4 = [ geo.AddPoint (x,y) for x,y in [(-0.5*L,0), (0.5*L,0), (0.5*L, d), (-0.5*L,d)] ]\n",
    "geo.Append([\"line\",p1,p2],bc=\"bottom\")\n",
    "geo.Append([\"line\",p2,p3])\n",
    "geo.Append([\"line\",p3,p4])\n",
    "geo.Append([\"line\",p4,p1])\n",
    "mesh = Mesh(geo.GenerateMesh(maxh=h))\n",
    "Draw(mesh)"
   ]
  },
  {
   "cell_type": "code",
   "execution_count": 62,
   "id": "0a03b73a-a6b8-4145-95ef-d23647da4d36",
   "metadata": {},
   "outputs": [],
   "source": [
    "def F(u):\n",
    "    return Id(dim) + Grad(u)\n",
    "def Norm(vec):\n",
    "    return InnerProduct(vec, vec)**0.5\n",
    "\n",
    "def Gel_energy_functional(F):\n",
    "    J = Det(F)\n",
    "    phi = phi0/J\n",
    "    H = (J - phi0)*log(1-phi)  + phi0 * chi*(1-phi) + phi0/1000*log(phi)\n",
    "    return 0.5*gamma* Trace(F.trans*F ) + H\n",
    "\n",
    "def Gel_energy_EDP(F): ## |F|^2 + H => gamma F:Gradv + H'*J'\n",
    "    # ddet(A(t))/dt = det(A(t))*trace(A^-1(t)*Grad (v))\n",
    "    J = Det(F)\n",
    "    phi = phi0/J\n",
    "    dv = Grad(v)\n",
    "    invF = Inv(F)\n",
    "    H_prime = -phi/N + log(1-phi) + phi + chi*phi**2\n",
    "    edp = gamma * InnerProduct(F,dv) + H_prime * J * Trace(invF*dv)\n",
    "    return edp"
   ]
  },
  {
   "cell_type": "code",
   "execution_count": 63,
   "id": "4e7a7856-121a-49a9-874d-5bf6ece87790",
   "metadata": {},
   "outputs": [],
   "source": [
    "## Generate spaces and forms\n",
    "if BC[\"dir_cond\"] == \"faces\":\n",
    "    fes = VectorH1(mesh, order=ord, dirichlet = BC[\"DIR_FACES\"])\n",
    "elif BC[\"dir_cond\"] == \"components\":\n",
    "    fes = VectorH1(mesh, order=ord, dirichletx = BC[\"x\"], dirichlety = BC[\"y\"], dirichletz = BC[\"z\"])\n",
    "\n",
    "\n",
    "u = fes.TrialFunction()\n",
    "v = fes.TestFunction()\n",
    "BF = BilinearForm(fes)\n",
    "F = Id(dim) + Grad(u)"
   ]
  },
  {
   "cell_type": "code",
   "execution_count": 64,
   "id": "ba355b41-cd95-4437-96a3-494b147bdbb0",
   "metadata": {},
   "outputs": [],
   "source": [
    "## Assemble forms\n",
    "def Assemble_Bilinear_Form(BF, F, form):\n",
    "    if form == \"Functional\":\n",
    "        BF += Variation(Gel_energy_functional(F).Compile()*dx)\n",
    "        return BF\n",
    "    elif form == \"EDP\":\n",
    "        BF += Gel_energy_EDP(F).Compile() * dx\n",
    "        return BF\n",
    "BF = Assemble_Bilinear_Form(BF, F, form)"
   ]
  },
  {
   "cell_type": "code",
   "execution_count": 72,
   "id": "8f0adac8-08c4-4201-85ff-d4e69e8a99d2",
   "metadata": {},
   "outputs": [],
   "source": [
    "# def Solver_freeswell(BF, gfu, tol=1e-8, maxiter=250, damp = 0.5):\n",
    "#     \"\"\"\n",
    "#     Solves the problem\n",
    "#     \"\"\"\n",
    "#     res = gfu.vec.CreateVector()\n",
    "#     w = gfu.vec.CreateVector()\n",
    "#     history = GridFunction(fes, multidim = 0)\n",
    "#     # here we may need to add another loop\n",
    "#     conv = 1\n",
    "#     for iter in range(maxiter):\n",
    "#         # Prints before the iteration: number of it, residual, energy\n",
    "#         print(\"Energy: \", BF.Energy(gfu.vec), \"Residual: \", sqrt(abs(InnerProduct(res,res))), \"Iteration: \", iter)\n",
    "#         # Check if energy is not a number\n",
    "#         if np.isnan(BF.Energy(gfu.vec)):\n",
    "#             print(\"Nan\")\n",
    "#             conv = 0\n",
    "#             break\n",
    "\n",
    "#         BF.Apply(gfu.vec, res)\n",
    "#         BF.AssembleLinearization(gfu.vec)\n",
    "#         inv = BF.mat.Inverse(freedofs = fes.FreeDofs())        \n",
    "#         w.data = damp * inv * res\n",
    "#         gfu.vec.data -= w\n",
    "#         history.AddMultiDimComponent(gfu.vec)\n",
    "#         if sqrt(abs(InnerProduct(w,res))) < tol:\n",
    "#             print(\"Converged\")\n",
    "#             break\n",
    "#     return gfu, history, conv"
   ]
  },
  {
   "cell_type": "code",
   "execution_count": 73,
   "id": "cf6b7f3f-763a-4435-b277-32693b449f20",
   "metadata": {},
   "outputs": [],
   "source": [
    "def Solver_Bonded(BF, gfu, tol=1e-8, maxiter=250, damp = 0.2):\n",
    "    res = gfu.vec.CreateVector()\n",
    "    du  = gfu.vec.CreateVector()\n",
    "    for loadstep in np.linspace(0.000114552,gamma_target,50):\n",
    "        gamma.Set(loadstep)\n",
    "        print(gamma)\n",
    "        for it in range(maxiter):\n",
    "            print (\"Newton iteration {:3}\".format(it),end=\", \")\n",
    "            print (\"energy = {:16}\".format(BF.Energy(gfu.vec)),\"Residual: \", sqrt(abs(InnerProduct(res,res))))\n",
    "            if np.isnan(BF.Energy(gfu.vec)):\n",
    "                print(\"Nan\")\n",
    "                conv = 0\n",
    "                return gfu, None, conv\n",
    "            #solve linearized problem:\n",
    "            BF.Apply (gfu.vec, res)\n",
    "            BF.AssembleLinearization (gfu.vec)\n",
    "            inv = BF.mat.Inverse(fes.FreeDofs())\n",
    "            du.data = damp * inv * res\n",
    "\n",
    "            #update iteration\n",
    "            gfu.vec.data -= du\n",
    "    return gfu, None, 1"
   ]
  },
  {
   "cell_type": "code",
   "execution_count": 74,
   "id": "56a29196-7848-4658-b26d-273e36a4013c",
   "metadata": {},
   "outputs": [],
   "source": [
    "# def petsc_solver(fes, BL, gfu):\n",
    "#     solver = NonLinearSolver(fes = fes,a = BF,solverParameters={\"snes_type\": \"qn\",\n",
    "#                                             \"snes_max_it\": 2000,\n",
    "#                                             \"snes_monitor\": \"\",\n",
    "#                                             \"snes_rtol\": 1e-6,\n",
    "#                                             \"snes_linesearch_type\": \"basic\",\n",
    "#                                             \"snes_linesearch_damping\": 0.3,\n",
    "#                                             \"snes_linesearch_max_it\": 100})\n",
    "#     gfu_petsc =solver.solve(gfu)\n",
    "#     return gfu_petsc"
   ]
  },
  {
   "cell_type": "code",
   "execution_count": 76,
   "id": "367742ae-09fe-444e-aff9-f731e9beae99",
   "metadata": {},
   "outputs": [
    {
     "name": "stdout",
     "output_type": "stream",
     "text": [
      "Solving bonded problem\n",
      "ParameterCF, val = 0.000114552\n",
      "\n",
      "Newton iteration   0, energy = -41.963157161570805 Residual:  nan\n",
      "Newton iteration   1, energy =              nan Residual:  0.2227007335395819\n",
      "Nan\n"
     ]
    },
    {
     "data": {
      "application/vnd.jupyter.widget-view+json": {
       "model_id": "14c036d623ff4121860ceda95d18c54c",
       "version_major": 2,
       "version_minor": 0
      },
      "text/plain": [
       "WebGuiWidget(layout=Layout(height='50vh', width='100%'), value={'gui_settings': {}, 'ngsolve_version': '6.2.24…"
      ]
     },
     "metadata": {},
     "output_type": "display_data"
    },
    {
     "data": {
      "text/plain": [
       "BaseWebGuiScene"
      ]
     },
     "execution_count": 76,
     "metadata": {},
     "output_type": "execute_result"
    }
   ],
   "source": [
    "gfu = GridFunction(fes)\n",
    "gfu.vec[:] = 0\n",
    "t1 =  time()\n",
    "\n",
    "## Solve the problem\n",
    "print(\"Solving bonded problem\")\n",
    "gfu, history, conv = Solver_Bonded(BF, gfu)\n",
    "\n",
    "\n",
    "## Plot solution\n",
    "\"\"\"\n",
    "The following files can be visualized on the viewer.ipynb file\n",
    "\"\"\"\n",
    "Draw(gfu)\n",
    "# pickle.dump(gfu, open(f\"Sol_Problem{problem[-2]}/gfu.p\", \"wb\"))\n",
    "# pickle.dump(mesh, open(f\"Sol_Problem{problem[-2]}/mesh.p\", \"wb\"))\n",
    "# vtk = VTKOutput(ma=mesh, coefs=[gfu], names=[\"u\"], filename=f\"{name}_{h}\", subdivision=0)"
   ]
  },
  {
   "cell_type": "code",
   "execution_count": null,
   "id": "e66cc70c-28cf-48a9-ae1f-1750e4f99b3c",
   "metadata": {},
   "outputs": [],
   "source": []
  },
  {
   "cell_type": "code",
   "execution_count": null,
   "id": "0a4e95f8-81fa-43d6-928a-758efdde48fe",
   "metadata": {},
   "outputs": [],
   "source": []
  }
 ],
 "metadata": {
  "kernelspec": {
   "display_name": "Python 3 (ipykernel)",
   "language": "python",
   "name": "python3"
  },
  "language_info": {
   "codemirror_mode": {
    "name": "ipython",
    "version": 3
   },
   "file_extension": ".py",
   "mimetype": "text/x-python",
   "name": "python",
   "nbconvert_exporter": "python",
   "pygments_lexer": "ipython3",
   "version": "3.10.11"
  }
 },
 "nbformat": 4,
 "nbformat_minor": 5
}
